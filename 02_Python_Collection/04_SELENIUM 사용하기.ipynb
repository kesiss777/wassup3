{
 "cells": [
  {
   "cell_type": "markdown",
   "id": "c09bc57e-2025-4c8a-bb30-d8d77ba260f8",
   "metadata": {},
   "source": [
    "# Selenium 사용하기\n",
    "크롬 115이상 버전부터 부터 드라이버 설치 불필요\n",
    "셀레니움4 부터 문법 변경\n",
    "https://www.selenium.dev/documentation/\n",
    "셀레니움으로는 스크래핑하면 너무 느리므로, 동적 웹페이지 접속 및 이벤트 발생 역할 만 하고, 파싱은 BS4를 쓰는게 좋다."
   ]
  },
  {
   "cell_type": "code",
   "execution_count": 1,
   "id": "ef4dabbb-1c61-416f-a202-7930fd0e3cdc",
   "metadata": {
    "scrolled": true
   },
   "outputs": [
    {
     "name": "stdout",
     "output_type": "stream",
     "text": [
      "Collecting selenium\n",
      "  Downloading selenium-4.22.0-py3-none-any.whl.metadata (7.0 kB)\n",
      "Requirement already satisfied: urllib3<3,>=1.26 in c:\\users\\samsung\\anaconda3\\lib\\site-packages (from urllib3[socks]<3,>=1.26->selenium) (2.0.7)\n",
      "Collecting trio~=0.17 (from selenium)\n",
      "  Downloading trio-0.25.1-py3-none-any.whl.metadata (8.7 kB)\n",
      "Collecting trio-websocket~=0.9 (from selenium)\n",
      "  Downloading trio_websocket-0.11.1-py3-none-any.whl.metadata (4.7 kB)\n",
      "Requirement already satisfied: certifi>=2021.10.8 in c:\\users\\samsung\\anaconda3\\lib\\site-packages (from selenium) (2024.2.2)\n",
      "Requirement already satisfied: typing_extensions>=4.9.0 in c:\\users\\samsung\\anaconda3\\lib\\site-packages (from selenium) (4.9.0)\n",
      "Requirement already satisfied: websocket-client>=1.8.0 in c:\\users\\samsung\\anaconda3\\lib\\site-packages (from selenium) (1.8.0)\n",
      "Collecting attrs>=23.2.0 (from trio~=0.17->selenium)\n",
      "  Downloading attrs-23.2.0-py3-none-any.whl.metadata (9.5 kB)\n",
      "Requirement already satisfied: sortedcontainers in c:\\users\\samsung\\anaconda3\\lib\\site-packages (from trio~=0.17->selenium) (2.4.0)\n",
      "Requirement already satisfied: idna in c:\\users\\samsung\\anaconda3\\lib\\site-packages (from trio~=0.17->selenium) (3.4)\n",
      "Collecting outcome (from trio~=0.17->selenium)\n",
      "  Downloading outcome-1.3.0.post0-py2.py3-none-any.whl.metadata (2.6 kB)\n",
      "Requirement already satisfied: sniffio>=1.3.0 in c:\\users\\samsung\\anaconda3\\lib\\site-packages (from trio~=0.17->selenium) (1.3.0)\n",
      "Requirement already satisfied: cffi>=1.14 in c:\\users\\samsung\\anaconda3\\lib\\site-packages (from trio~=0.17->selenium) (1.16.0)\n",
      "Collecting wsproto>=0.14 (from trio-websocket~=0.9->selenium)\n",
      "  Downloading wsproto-1.2.0-py3-none-any.whl.metadata (5.6 kB)\n",
      "Requirement already satisfied: pysocks!=1.5.7,<2.0,>=1.5.6 in c:\\users\\samsung\\anaconda3\\lib\\site-packages (from urllib3[socks]<3,>=1.26->selenium) (1.7.1)\n",
      "Requirement already satisfied: pycparser in c:\\users\\samsung\\anaconda3\\lib\\site-packages (from cffi>=1.14->trio~=0.17->selenium) (2.21)\n",
      "Collecting h11<1,>=0.9.0 (from wsproto>=0.14->trio-websocket~=0.9->selenium)\n",
      "  Downloading h11-0.14.0-py3-none-any.whl.metadata (8.2 kB)\n",
      "Downloading selenium-4.22.0-py3-none-any.whl (9.4 MB)\n",
      "   ---------------------------------------- 0.0/9.4 MB ? eta -:--:--\n",
      "    --------------------------------------- 0.2/9.4 MB 4.8 MB/s eta 0:00:02\n",
      "   -- ------------------------------------- 0.5/9.4 MB 6.4 MB/s eta 0:00:02\n",
      "   --- ------------------------------------ 0.8/9.4 MB 5.8 MB/s eta 0:00:02\n",
      "   ---- ----------------------------------- 1.2/9.4 MB 6.8 MB/s eta 0:00:02\n",
      "   ------ --------------------------------- 1.4/9.4 MB 6.5 MB/s eta 0:00:02\n",
      "   ------- -------------------------------- 1.8/9.4 MB 6.6 MB/s eta 0:00:02\n",
      "   --------- ------------------------------ 2.2/9.4 MB 6.9 MB/s eta 0:00:02\n",
      "   ---------- ----------------------------- 2.5/9.4 MB 7.1 MB/s eta 0:00:01\n",
      "   ------------ --------------------------- 2.9/9.4 MB 7.1 MB/s eta 0:00:01\n",
      "   ------------- -------------------------- 3.2/9.4 MB 7.0 MB/s eta 0:00:01\n",
      "   -------------- ------------------------- 3.5/9.4 MB 7.0 MB/s eta 0:00:01\n",
      "   ---------------- ----------------------- 3.8/9.4 MB 6.9 MB/s eta 0:00:01\n",
      "   ----------------- ---------------------- 4.2/9.4 MB 7.1 MB/s eta 0:00:01\n",
      "   ------------------- -------------------- 4.6/9.4 MB 7.2 MB/s eta 0:00:01\n",
      "   -------------------- ------------------- 4.9/9.4 MB 7.1 MB/s eta 0:00:01\n",
      "   ---------------------- ----------------- 5.3/9.4 MB 7.3 MB/s eta 0:00:01\n",
      "   ----------------------- ---------------- 5.6/9.4 MB 7.2 MB/s eta 0:00:01\n",
      "   ------------------------- -------------- 5.9/9.4 MB 7.3 MB/s eta 0:00:01\n",
      "   -------------------------- ------------- 6.2/9.4 MB 7.3 MB/s eta 0:00:01\n",
      "   ---------------------------- ----------- 6.6/9.4 MB 7.3 MB/s eta 0:00:01\n",
      "   ----------------------------- ---------- 6.9/9.4 MB 7.3 MB/s eta 0:00:01\n",
      "   ------------------------------ --------- 7.3/9.4 MB 7.3 MB/s eta 0:00:01\n",
      "   ------------------------------- -------- 7.5/9.4 MB 7.2 MB/s eta 0:00:01\n",
      "   --------------------------------- ------ 7.9/9.4 MB 7.2 MB/s eta 0:00:01\n",
      "   ---------------------------------- ----- 8.2/9.4 MB 7.2 MB/s eta 0:00:01\n",
      "   ------------------------------------ --- 8.6/9.4 MB 7.2 MB/s eta 0:00:01\n",
      "   ------------------------------------- -- 8.9/9.4 MB 7.2 MB/s eta 0:00:01\n",
      "   ---------------------------------------  9.3/9.4 MB 7.3 MB/s eta 0:00:01\n",
      "   ---------------------------------------  9.4/9.4 MB 7.3 MB/s eta 0:00:01\n",
      "   ---------------------------------------- 9.4/9.4 MB 7.1 MB/s eta 0:00:00\n",
      "Downloading trio-0.25.1-py3-none-any.whl (467 kB)\n",
      "   ---------------------------------------- 0.0/467.7 kB ? eta -:--:--\n",
      "   ---------------------------- ----------- 337.9/467.7 kB 7.1 MB/s eta 0:00:01\n",
      "   ---------------------------------------- 467.7/467.7 kB 5.9 MB/s eta 0:00:00\n",
      "Downloading trio_websocket-0.11.1-py3-none-any.whl (17 kB)\n",
      "Downloading attrs-23.2.0-py3-none-any.whl (60 kB)\n",
      "   ---------------------------------------- 0.0/60.8 kB ? eta -:--:--\n",
      "   ---------------------------------------- 60.8/60.8 kB 3.4 MB/s eta 0:00:00\n",
      "Downloading wsproto-1.2.0-py3-none-any.whl (24 kB)\n",
      "Downloading outcome-1.3.0.post0-py2.py3-none-any.whl (10 kB)\n",
      "Downloading h11-0.14.0-py3-none-any.whl (58 kB)\n",
      "   ---------------------------------------- 0.0/58.3 kB ? eta -:--:--\n",
      "   ---------------------------------------- 58.3/58.3 kB 3.0 MB/s eta 0:00:00\n",
      "Installing collected packages: h11, attrs, wsproto, outcome, trio, trio-websocket, selenium\n",
      "  Attempting uninstall: attrs\n",
      "    Found existing installation: attrs 23.1.0\n",
      "    Uninstalling attrs-23.1.0:\n",
      "      Successfully uninstalled attrs-23.1.0\n",
      "Successfully installed attrs-23.2.0 h11-0.14.0 outcome-1.3.0.post0 selenium-4.22.0 trio-0.25.1 trio-websocket-0.11.1 wsproto-1.2.0\n"
     ]
    }
   ],
   "source": [
    "# 셀레니움 라이브러리 설치\n",
    "!pip install selenium"
   ]
  },
  {
   "cell_type": "code",
   "execution_count": 23,
   "id": "342995e1-2d76-4fef-aecf-9530fa22f2e2",
   "metadata": {},
   "outputs": [
    {
     "data": {
      "text/plain": [
       "<selenium.webdriver.chrome.options.Options at 0x26899f94290>"
      ]
     },
     "execution_count": 23,
     "metadata": {},
     "output_type": "execute_result"
    }
   ],
   "source": [
    "from selenium import webdriver\n",
    "from selenium.webdriver.common.by import By\n",
    "from selenium.webdriver.chrome.options import Options\n",
    "import time\n",
    "\n",
    "options = Options()\n",
    "# options.add_argument(\"--start-maximized\")\n",
    "# options.add_argument(\"--headless=new\") \n",
    "options"
   ]
  },
  {
   "cell_type": "code",
   "execution_count": 24,
   "id": "a8695fda-7780-4e30-8e8e-c8e5eda95927",
   "metadata": {},
   "outputs": [],
   "source": [
    "options.add_experimental_option(\"detach\", True) # 특정함수안에서  드라이버 생성시 함수종료될 때 브라우저 같이 종료"
   ]
  },
  {
   "cell_type": "markdown",
   "id": "55478dbb-aa4c-4a2e-8e10-ba52d9bfc30b",
   "metadata": {},
   "source": [
    "# 브라우저 실행 및 페이지 접속"
   ]
  },
  {
   "cell_type": "code",
   "execution_count": 25,
   "id": "ffd67e4b-109c-41ca-bded-852cba0c2a2b",
   "metadata": {},
   "outputs": [],
   "source": [
    "url = 'https://naver.com'\n",
    "driver = webdriver.Chrome(options=options) # 객체 생성"
   ]
  },
  {
   "cell_type": "code",
   "execution_count": 26,
   "id": "3564afa8-a071-4281-8442-b732067d2898",
   "metadata": {},
   "outputs": [],
   "source": [
    "driver.get(url)\n",
    "time.sleep(2)"
   ]
  },
  {
   "cell_type": "markdown",
   "id": "6f91619b-d751-428b-8f68-35e0e791cfcf",
   "metadata": {},
   "source": [
    "# 상호작용"
   ]
  },
  {
   "cell_type": "code",
   "execution_count": 27,
   "id": "b17fb322-0755-40b7-83d9-d0196c0988a9",
   "metadata": {},
   "outputs": [],
   "source": [
    "driver.back()"
   ]
  },
  {
   "cell_type": "code",
   "execution_count": 28,
   "id": "5d55b04f-0e2a-498c-b082-908a15c0083e",
   "metadata": {},
   "outputs": [],
   "source": [
    "driver.forward()"
   ]
  },
  {
   "cell_type": "code",
   "execution_count": 29,
   "id": "75943cf5-0489-4326-9bda-122c6ba08e74",
   "metadata": {},
   "outputs": [],
   "source": [
    "driver.refresh()"
   ]
  },
  {
   "cell_type": "markdown",
   "id": "43fcd49d-8368-4922-9534-9761fddfaddb",
   "metadata": {},
   "source": [
    "# 페이지 정보 가져오기"
   ]
  },
  {
   "cell_type": "code",
   "execution_count": 30,
   "id": "91a7ab51-462b-4d06-b2b3-b66a3f131a3e",
   "metadata": {},
   "outputs": [
    {
     "name": "stdout",
     "output_type": "stream",
     "text": [
      "NAVER https://www.naver.com/ 967D9A851E20FAFD63547728159C8EAE\n"
     ]
    }
   ],
   "source": [
    "title = driver.title\n",
    "url = driver.current_url\n",
    "handle = driver.current_window_handle\n",
    "print(title, url, handle)"
   ]
  },
  {
   "cell_type": "markdown",
   "id": "681081bf-eaee-4aaa-a6cb-1a237ae182cb",
   "metadata": {},
   "source": [
    "# html 요소 찾기\r\n",
    "네이버 검색창을 핸들링해보자 driver.find_element().send_keys()\r\n",
    "\r\n",
    "<input id=\"query\" name=\"query\" type=\"search\" title=\"검색어를 입력해 주세요.\" placeholder=\"검색어를 입력해 주세요.\" maxlength=\"255\" autocomplete=\"off\" class=\"search_input\" data-atcmp-element=\"\">"
   ]
  },
  {
   "cell_type": "code",
   "execution_count": 31,
   "id": "389aa5c6-05d9-4b81-8459-ea3eaa072dd8",
   "metadata": {},
   "outputs": [
    {
     "data": {
      "text/plain": [
       "\u001b[1;31mSignature:\u001b[0m \u001b[0mdriver\u001b[0m\u001b[1;33m.\u001b[0m\u001b[0mfind_element\u001b[0m\u001b[1;33m(\u001b[0m\u001b[0mby\u001b[0m\u001b[1;33m=\u001b[0m\u001b[1;34m'id'\u001b[0m\u001b[1;33m,\u001b[0m \u001b[0mvalue\u001b[0m\u001b[1;33m:\u001b[0m \u001b[0mOptional\u001b[0m\u001b[1;33m[\u001b[0m\u001b[0mstr\u001b[0m\u001b[1;33m]\u001b[0m \u001b[1;33m=\u001b[0m \u001b[1;32mNone\u001b[0m\u001b[1;33m)\u001b[0m \u001b[1;33m->\u001b[0m \u001b[0mselenium\u001b[0m\u001b[1;33m.\u001b[0m\u001b[0mwebdriver\u001b[0m\u001b[1;33m.\u001b[0m\u001b[0mremote\u001b[0m\u001b[1;33m.\u001b[0m\u001b[0mwebelement\u001b[0m\u001b[1;33m.\u001b[0m\u001b[0mWebElement\u001b[0m\u001b[1;33m\u001b[0m\u001b[1;33m\u001b[0m\u001b[0m\n",
       "\u001b[1;31mDocstring:\u001b[0m\n",
       "Find an element given a By strategy and locator.\n",
       "\n",
       ":Usage:\n",
       "    ::\n",
       "\n",
       "        element = driver.find_element(By.ID, 'foo')\n",
       "\n",
       ":rtype: WebElement\n",
       "\u001b[1;31mFile:\u001b[0m      c:\\users\\samsung\\anaconda3\\lib\\site-packages\\selenium\\webdriver\\remote\\webdriver.py\n",
       "\u001b[1;31mType:\u001b[0m      method"
      ]
     },
     "metadata": {},
     "output_type": "display_data"
    }
   ],
   "source": [
    "driver.find_element?"
   ]
  },
  {
   "cell_type": "code",
   "execution_count": 32,
   "id": "9cafe08d-b999-44c4-84a1-9d2791245380",
   "metadata": {},
   "outputs": [
    {
     "data": {
      "text/plain": [
       "<selenium.webdriver.remote.webelement.WebElement (session=\"e80d2ab2e8d54857a6b7dc5a696feebb\", element=\"f.967D9A851E20FAFD63547728159C8EAE.d.CB33141F7B87061CD2B0E80D23D33016.e.2606\")>"
      ]
     },
     "execution_count": 32,
     "metadata": {},
     "output_type": "execute_result"
    }
   ],
   "source": [
    "driver.find_element(By.ID, \"query\")"
   ]
  },
  {
   "cell_type": "code",
   "execution_count": 33,
   "id": "fd86e4ed-3d32-4a81-aa49-490977562339",
   "metadata": {},
   "outputs": [],
   "source": [
    "# 키입력\n",
    "driver.find_element(By.ID, \"query\").send_keys('뉴진스')"
   ]
  },
  {
   "cell_type": "code",
   "execution_count": 35,
   "id": "9b1271d7-fff9-47bf-9890-83f18cf768d6",
   "metadata": {},
   "outputs": [],
   "source": [
    "driver.find_element(By.CLASS_NAME, \"search_input\").send_keys('블랙핑크')"
   ]
  },
  {
   "cell_type": "code",
   "execution_count": 36,
   "id": "55c3e1bf-6bdf-4c21-b04e-79bb71d5ed4c",
   "metadata": {},
   "outputs": [],
   "source": [
    "driver.find_element(By.NAME, \"query\").send_keys('르세라핌')"
   ]
  },
  {
   "cell_type": "code",
   "execution_count": 37,
   "id": "a962138a-b7fd-452f-adb8-5942021110d6",
   "metadata": {},
   "outputs": [],
   "source": [
    "driver.find_element(By.CSS_SELECTOR, \".search_input\").send_keys('세븐틴')"
   ]
  },
  {
   "cell_type": "code",
   "execution_count": 38,
   "id": "3d673b30-49bf-48a6-8ced-61f3eef2d1fd",
   "metadata": {},
   "outputs": [],
   "source": [
    "driver.find_element(By.CSS_SELECTOR, \"#query\").send_keys('에스파')"
   ]
  },
  {
   "cell_type": "code",
   "execution_count": 39,
   "id": "3197f0a8-4d23-4bc7-9b67-995045c6a328",
   "metadata": {},
   "outputs": [],
   "source": [
    "driver.find_element(By.CSS_SELECTOR, \"[title='검색어를 입력해 주세요.']\").send_keys('트와이스')"
   ]
  },
  {
   "cell_type": "code",
   "execution_count": 40,
   "id": "f184cf8d-ab93-4da5-b286-b2b74c6f4cbb",
   "metadata": {},
   "outputs": [],
   "source": [
    "driver.find_element(By.CSS_SELECTOR, \"[placeholder='검색어를 입력해 주세요.']\").send_keys('트와이스')"
   ]
  },
  {
   "cell_type": "code",
   "execution_count": 41,
   "id": "fba46240-5061-4433-b3bd-0f9a2bf8ac21",
   "metadata": {},
   "outputs": [],
   "source": [
    "driver.find_element(By.XPATH,\"//*[@id='query']\").send_keys('BTS')"
   ]
  },
  {
   "cell_type": "markdown",
   "id": "f7cd565c-429a-4b70-b340-05038669fc3a",
   "metadata": {},
   "source": [
    "# 클릭\n",
    "네이버 쇼핑 메뉴를 클릭해보자 driver.find_element().click()"
   ]
  },
  {
   "cell_type": "code",
   "execution_count": 46,
   "id": "5ffaf6c0-5cee-4247-9a8a-978033f07c9d",
   "metadata": {},
   "outputs": [
    {
     "data": {
      "text/plain": [
       "<selenium.webdriver.remote.webelement.WebElement (session=\"e80d2ab2e8d54857a6b7dc5a696feebb\", element=\"f.967D9A851E20FAFD63547728159C8EAE.d.CB33141F7B87061CD2B0E80D23D33016.e.3976\")>"
      ]
     },
     "execution_count": 46,
     "metadata": {},
     "output_type": "execute_result"
    }
   ],
   "source": [
    "driver.find_element(By.LINK_TEXT, '쇼핑')"
   ]
  },
  {
   "cell_type": "code",
   "execution_count": 47,
   "id": "ffd7ce50-cd10-485e-80d3-66455edd7d99",
   "metadata": {},
   "outputs": [],
   "source": [
    "driver.find_element(By.LINK_TEXT, '쇼핑').click()"
   ]
  },
  {
   "cell_type": "code",
   "execution_count": 48,
   "id": "77f7b9ed-3cf3-4a5f-bd56-07bd9edfd532",
   "metadata": {},
   "outputs": [],
   "source": [
    "# 일부 매칭\n",
    "driver.find_element(By.PARTIAL_LINK_TEXT, '쇼').click()"
   ]
  },
  {
   "cell_type": "code",
   "execution_count": 49,
   "id": "1cb0ee9f-6d3f-4db4-8613-b8e8755627f0",
   "metadata": {},
   "outputs": [
    {
     "data": {
      "text/plain": [
       "<selenium.webdriver.remote.webelement.WebElement (session=\"e80d2ab2e8d54857a6b7dc5a696feebb\", element=\"f.967D9A851E20FAFD63547728159C8EAE.d.CB33141F7B87061CD2B0E80D23D33016.e.2550\")>"
      ]
     },
     "execution_count": 49,
     "metadata": {},
     "output_type": "execute_result"
    }
   ],
   "source": [
    "# 태그는 너무 요소가 많으므로, 정확하게 대상을 찾을 때에는 안씀\n",
    "driver.find_element(By.TAG_NAME, 'div')"
   ]
  },
  {
   "cell_type": "code",
   "execution_count": 50,
   "id": "acca0062-ec94-4bea-8cfd-b6f4689ef0e2",
   "metadata": {},
   "outputs": [],
   "source": [
    "# 여러개의 요소를찾을 때\n",
    "links = driver.find_elements(By.CSS_SELECTOR, '.link_service')"
   ]
  },
  {
   "cell_type": "code",
   "execution_count": 51,
   "id": "282fd482-794b-4378-bbaa-228aae04b22b",
   "metadata": {},
   "outputs": [
    {
     "name": "stdout",
     "output_type": "stream",
     "text": [
      "<selenium.webdriver.remote.webelement.WebElement (session=\"e80d2ab2e8d54857a6b7dc5a696feebb\", element=\"f.967D9A851E20FAFD63547728159C8EAE.d.CB33141F7B87061CD2B0E80D23D33016.e.3955\")>\n",
      "<selenium.webdriver.remote.webelement.WebElement (session=\"e80d2ab2e8d54857a6b7dc5a696feebb\", element=\"f.967D9A851E20FAFD63547728159C8EAE.d.CB33141F7B87061CD2B0E80D23D33016.e.3962\")>\n",
      "<selenium.webdriver.remote.webelement.WebElement (session=\"e80d2ab2e8d54857a6b7dc5a696feebb\", element=\"f.967D9A851E20FAFD63547728159C8EAE.d.CB33141F7B87061CD2B0E80D23D33016.e.3969\")>\n",
      "<selenium.webdriver.remote.webelement.WebElement (session=\"e80d2ab2e8d54857a6b7dc5a696feebb\", element=\"f.967D9A851E20FAFD63547728159C8EAE.d.CB33141F7B87061CD2B0E80D23D33016.e.3976\")>\n",
      "<selenium.webdriver.remote.webelement.WebElement (session=\"e80d2ab2e8d54857a6b7dc5a696feebb\", element=\"f.967D9A851E20FAFD63547728159C8EAE.d.CB33141F7B87061CD2B0E80D23D33016.e.3983\")>\n",
      "<selenium.webdriver.remote.webelement.WebElement (session=\"e80d2ab2e8d54857a6b7dc5a696feebb\", element=\"f.967D9A851E20FAFD63547728159C8EAE.d.CB33141F7B87061CD2B0E80D23D33016.e.3990\")>\n",
      "<selenium.webdriver.remote.webelement.WebElement (session=\"e80d2ab2e8d54857a6b7dc5a696feebb\", element=\"f.967D9A851E20FAFD63547728159C8EAE.d.CB33141F7B87061CD2B0E80D23D33016.e.3997\")>\n",
      "<selenium.webdriver.remote.webelement.WebElement (session=\"e80d2ab2e8d54857a6b7dc5a696feebb\", element=\"f.967D9A851E20FAFD63547728159C8EAE.d.CB33141F7B87061CD2B0E80D23D33016.e.4004\")>\n",
      "<selenium.webdriver.remote.webelement.WebElement (session=\"e80d2ab2e8d54857a6b7dc5a696feebb\", element=\"f.967D9A851E20FAFD63547728159C8EAE.d.CB33141F7B87061CD2B0E80D23D33016.e.4011\")>\n",
      "<selenium.webdriver.remote.webelement.WebElement (session=\"e80d2ab2e8d54857a6b7dc5a696feebb\", element=\"f.967D9A851E20FAFD63547728159C8EAE.d.CB33141F7B87061CD2B0E80D23D33016.e.4019\")>\n",
      "<selenium.webdriver.remote.webelement.WebElement (session=\"e80d2ab2e8d54857a6b7dc5a696feebb\", element=\"f.967D9A851E20FAFD63547728159C8EAE.d.CB33141F7B87061CD2B0E80D23D33016.e.4026\")>\n",
      "<selenium.webdriver.remote.webelement.WebElement (session=\"e80d2ab2e8d54857a6b7dc5a696feebb\", element=\"f.967D9A851E20FAFD63547728159C8EAE.d.CB33141F7B87061CD2B0E80D23D33016.e.4037\")>\n"
     ]
    }
   ],
   "source": [
    "for link in links:\n",
    "    print(link)"
   ]
  },
  {
   "cell_type": "code",
   "execution_count": 52,
   "id": "1e7d6a5f-11cf-4fcd-b4d9-bf703052efd7",
   "metadata": {},
   "outputs": [
    {
     "name": "stdout",
     "output_type": "stream",
     "text": [
      "https://mail.naver.com/\n",
      "\n",
      "https://cafe.naver.com/\n",
      "\n",
      "https://blog.naver.com/\n",
      "\n",
      "https://shopping.naver.com/home\n",
      "\n",
      "https://news.naver.com/\n",
      "\n",
      "https://finance.naver.com/\n",
      "\n",
      "https://land.naver.com/\n",
      "\n",
      "https://map.naver.com/\n",
      "\n",
      "https://comic.naver.com/\n",
      "\n",
      "https://chzzk.naver.com/\n",
      "\n",
      "https://www.naver.com/#\n",
      "\n",
      "https://siape.veta.naver.com/rd?rk=qVHbVyjnd4WA0HJ--NUuIg&eltts=DCLofzx%2Ffvev2Z1eZXujWg%3D%3D&elu=5BA297C9C3C09BC2A363AD20A2AF2280AA600BB0F1224856B1E3B0CD8C7D5F6341BB3F4A77A5F39CD5816E901BFB74C92B046500D36C473274A2DF28B9D9C604F0D8675FDAF22A996AAEFDEE92BA1FCD697E5F7ECC82BD74C279AA95D9F31FA9106C54B228F25590EF823CA4768D621930DE9513FAD9CD3EC5D5F708FBFC00BDA1F5B03C00EADE3421C9D4FE1E658652E8C5A37BBB18D79B4D542EF9B859195A8B5F3CB5F7D17DF7D63104BA36F5191223192AE294E03593BF7CA3B054BF55FF7DF70D50D25D1F0D4D87A7831487FDC2AFB8FEA841F79F16EA53276AF68816C7A149514203E223A19FA55EAAC4E98561256439BD31A8DEFDBC8CEF82F716E628B23F8C3BFA407A51086748714615D78698A603B1B20D8157A049045EADF303C7C90C945E9B6678B41330B37AAA80FDCE0589F05E39A2DECC900ED27DE4327494D8CC07C1B67CE038EFBDA44E52E5B715A3EC5A3F07FD7CCDECDFCA955A7B6FCB11DFA46E51BA4203609299CFB488F993296C5387E386A488064288B95F527FA540946C8672D26BA42D643227D77736CF&tr=ndp\n",
      "\n"
     ]
    }
   ],
   "source": [
    "# https://www.browserstack.com/guide/get-html-source-of-web-element-in-selenium-webdriver\n",
    "# 해당 클래스가 속한 요소의 자식 html을 출력\n",
    "for link in links:\n",
    "    print(link.get_attribute(\"href\")) \n",
    "    print()"
   ]
  },
  {
   "cell_type": "markdown",
   "id": "d7d615b0-65d3-4b32-9dcc-49f23ee04001",
   "metadata": {},
   "source": [
    "# 자동 로그인 연습"
   ]
  },
  {
   "cell_type": "code",
   "execution_count": 57,
   "id": "dd9ef852-6ddd-4f1d-9bd5-d226c1d4ae06",
   "metadata": {},
   "outputs": [],
   "source": [
    "# 테스트용 html\n",
    "url = 'file:///C:/workspace/wassup3/02_Python_Collection/sample/signin.html'\n",
    "driver = webdriver.Chrome(options=options)\n",
    "driver.get(url)\n",
    "time.sleep(2) "
   ]
  },
  {
   "cell_type": "code",
   "execution_count": 58,
   "id": "c02eb108-c26c-4c53-bc6d-eab1a5146491",
   "metadata": {},
   "outputs": [],
   "source": [
    "username = driver.find_element(By.NAME, \"username\")\n",
    "username.send_keys('korea')"
   ]
  },
  {
   "cell_type": "code",
   "execution_count": 59,
   "id": "c6080271-f2f0-4d60-98cd-72eac028287d",
   "metadata": {},
   "outputs": [],
   "source": [
    "username = driver.find_element(By.NAME, \"password\")\n",
    "username.send_keys('1004')"
   ]
  },
  {
   "cell_type": "code",
   "execution_count": 60,
   "id": "b2935bd3-c4bf-4ad6-8342-24b500871fc5",
   "metadata": {},
   "outputs": [],
   "source": [
    "login =  driver.find_element(By.XPATH, '//*[@id=\"loginForm\"]/input[3]')\n",
    "login.click()"
   ]
  },
  {
   "cell_type": "code",
   "execution_count": 61,
   "id": "40cdaae1-c8b6-4a16-b365-f8dc91b1ca44",
   "metadata": {},
   "outputs": [],
   "source": [
    "driver.back()"
   ]
  },
  {
   "cell_type": "code",
   "execution_count": 62,
   "id": "09092094-fecd-4eb3-8e9c-b2af54154f05",
   "metadata": {},
   "outputs": [],
   "source": [
    "login =  driver.find_element(By.CSS_SELECTOR, \"#loginForm > input[type=submit]:nth-child(5)\")\n",
    "login.click()"
   ]
  },
  {
   "cell_type": "code",
   "execution_count": 63,
   "id": "646c4951-e792-480e-b195-13e12f8e9348",
   "metadata": {},
   "outputs": [],
   "source": [
    "driver.back()"
   ]
  },
  {
   "cell_type": "code",
   "execution_count": 64,
   "id": "0b28cb9c-018c-47bd-af79-bac000ff91c5",
   "metadata": {},
   "outputs": [],
   "source": [
    "login =  driver.find_element(By.CSS_SELECTOR, \"[value='Login']\")\n",
    "login.click()"
   ]
  },
  {
   "cell_type": "code",
   "execution_count": 65,
   "id": "901ed45d-7987-4153-8f2d-4860539fffea",
   "metadata": {},
   "outputs": [],
   "source": [
    "driver.back()"
   ]
  },
  {
   "cell_type": "code",
   "execution_count": 66,
   "id": "270be0ac-0801-46f1-8b7f-402610fad322",
   "metadata": {},
   "outputs": [],
   "source": [
    "# 입력창 clear 하기\n",
    "# 세션끊기면 다시 접근해야함\n",
    "username = driver.find_element(By.NAME, \"username\")\n",
    "username.clear()"
   ]
  },
  {
   "cell_type": "code",
   "execution_count": 67,
   "id": "e3dace94-568b-4454-a89c-61749e2841fa",
   "metadata": {},
   "outputs": [],
   "source": [
    "username.submit()"
   ]
  },
  {
   "cell_type": "code",
   "execution_count": 68,
   "id": "f5227f10-0c2d-4fab-a31d-ba60a080e54d",
   "metadata": {},
   "outputs": [],
   "source": [
    "driver.back()"
   ]
  },
  {
   "cell_type": "code",
   "execution_count": 69,
   "id": "515a957f-577a-40e0-86d1-df5ae9324abe",
   "metadata": {},
   "outputs": [
    {
     "data": {
      "text/plain": [
       "'Are you sure you want to do this?'"
      ]
     },
     "execution_count": 69,
     "metadata": {},
     "output_type": "execute_result"
    }
   ],
   "source": [
    "driver.find_element(By.TAG_NAME, 'p').text"
   ]
  },
  {
   "cell_type": "code",
   "execution_count": 70,
   "id": "5013f37e-7c5a-498d-aa9f-bc08bbf5687d",
   "metadata": {},
   "outputs": [
    {
     "data": {
      "text/plain": [
       "'<html><head></head><body>\\n        <h1> Sign In </h1>\\n        <form action=\"moved.html\" id=\"loginForm\">\\n            ID : <input name=\"username\" type=\"text\"> <br>\\n            Password : <input name=\"password\" type=\"password\"> <br>\\n\\n            <input name=\"continue\" type=\"submit\" value=\"Login\">\\n            <input name=\"continue\" type=\"button\" value=\"Clear\">\\n        \\n        </form>\\n\\n        <p>Are you sure you want to do this?</p>\\n        <a href=\"continue.html\">Continue</a>\\n        <a href=\"cancel.html\">Cancel</a>\\n\\n        <h1>Welcome</h1>\\n        <p>Site content goes here.</p>\\n        <p class=\"content\">Site content goes here.</p>\\n    \\n</body></html>'"
      ]
     },
     "execution_count": 70,
     "metadata": {},
     "output_type": "execute_result"
    }
   ],
   "source": [
    "# html 소스 가져오기\n",
    "driver.page_source"
   ]
  },
  {
   "cell_type": "code",
   "execution_count": 71,
   "id": "ad034d42-d6b6-41d2-a65d-f561a1c2f638",
   "metadata": {},
   "outputs": [],
   "source": [
    "driver.close()"
   ]
  },
  {
   "cell_type": "code",
   "execution_count": null,
   "id": "0ab1b129-adc2-4af8-9a29-11518674a419",
   "metadata": {},
   "outputs": [],
   "source": []
  }
 ],
 "metadata": {
  "kernelspec": {
   "display_name": "Python 3 (ipykernel)",
   "language": "python",
   "name": "python3"
  },
  "language_info": {
   "codemirror_mode": {
    "name": "ipython",
    "version": 3
   },
   "file_extension": ".py",
   "mimetype": "text/x-python",
   "name": "python",
   "nbconvert_exporter": "python",
   "pygments_lexer": "ipython3",
   "version": "3.11.7"
  }
 },
 "nbformat": 4,
 "nbformat_minor": 5
}
