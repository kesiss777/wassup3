{
 "cells": [
  {
   "cell_type": "markdown",
   "id": "c09bc57e-2025-4c8a-bb30-d8d77ba260f8",
   "metadata": {},
   "source": [
    "# Selenium 사용하기\n",
    "크롬 115이상 버전부터 부터 드라이버 설치 불필요\n",
    "셀레니움4 부터 문법 변경\n",
    "https://www.selenium.dev/documentation/\n",
    "셀레니움으로는 스크래핑하면 너무 느리므로, 동적 웹페이지 접속 및 이벤트 발생 역할 만 하고, 파싱은 BS4를 쓰는게 좋다."
   ]
  },
  {
   "cell_type": "code",
   "execution_count": 1,
   "id": "ef4dabbb-1c61-416f-a202-7930fd0e3cdc",
   "metadata": {
    "scrolled": true
   },
   "outputs": [
    {
     "name": "stdout",
     "output_type": "stream",
     "text": [
      "Collecting selenium\n",
      "  Downloading selenium-4.22.0-py3-none-any.whl.metadata (7.0 kB)\n",
      "Requirement already satisfied: urllib3<3,>=1.26 in c:\\users\\samsung\\anaconda3\\lib\\site-packages (from urllib3[socks]<3,>=1.26->selenium) (2.0.7)\n",
      "Collecting trio~=0.17 (from selenium)\n",
      "  Downloading trio-0.25.1-py3-none-any.whl.metadata (8.7 kB)\n",
      "Collecting trio-websocket~=0.9 (from selenium)\n",
      "  Downloading trio_websocket-0.11.1-py3-none-any.whl.metadata (4.7 kB)\n",
      "Requirement already satisfied: certifi>=2021.10.8 in c:\\users\\samsung\\anaconda3\\lib\\site-packages (from selenium) (2024.2.2)\n",
      "Requirement already satisfied: typing_extensions>=4.9.0 in c:\\users\\samsung\\anaconda3\\lib\\site-packages (from selenium) (4.9.0)\n",
      "Requirement already satisfied: websocket-client>=1.8.0 in c:\\users\\samsung\\anaconda3\\lib\\site-packages (from selenium) (1.8.0)\n",
      "Collecting attrs>=23.2.0 (from trio~=0.17->selenium)\n",
      "  Downloading attrs-23.2.0-py3-none-any.whl.metadata (9.5 kB)\n",
      "Requirement already satisfied: sortedcontainers in c:\\users\\samsung\\anaconda3\\lib\\site-packages (from trio~=0.17->selenium) (2.4.0)\n",
      "Requirement already satisfied: idna in c:\\users\\samsung\\anaconda3\\lib\\site-packages (from trio~=0.17->selenium) (3.4)\n",
      "Collecting outcome (from trio~=0.17->selenium)\n",
      "  Downloading outcome-1.3.0.post0-py2.py3-none-any.whl.metadata (2.6 kB)\n",
      "Requirement already satisfied: sniffio>=1.3.0 in c:\\users\\samsung\\anaconda3\\lib\\site-packages (from trio~=0.17->selenium) (1.3.0)\n",
      "Requirement already satisfied: cffi>=1.14 in c:\\users\\samsung\\anaconda3\\lib\\site-packages (from trio~=0.17->selenium) (1.16.0)\n",
      "Collecting wsproto>=0.14 (from trio-websocket~=0.9->selenium)\n",
      "  Downloading wsproto-1.2.0-py3-none-any.whl.metadata (5.6 kB)\n",
      "Requirement already satisfied: pysocks!=1.5.7,<2.0,>=1.5.6 in c:\\users\\samsung\\anaconda3\\lib\\site-packages (from urllib3[socks]<3,>=1.26->selenium) (1.7.1)\n",
      "Requirement already satisfied: pycparser in c:\\users\\samsung\\anaconda3\\lib\\site-packages (from cffi>=1.14->trio~=0.17->selenium) (2.21)\n",
      "Collecting h11<1,>=0.9.0 (from wsproto>=0.14->trio-websocket~=0.9->selenium)\n",
      "  Downloading h11-0.14.0-py3-none-any.whl.metadata (8.2 kB)\n",
      "Downloading selenium-4.22.0-py3-none-any.whl (9.4 MB)\n",
      "   ---------------------------------------- 0.0/9.4 MB ? eta -:--:--\n",
      "    --------------------------------------- 0.2/9.4 MB 4.8 MB/s eta 0:00:02\n",
      "   -- ------------------------------------- 0.5/9.4 MB 6.4 MB/s eta 0:00:02\n",
      "   --- ------------------------------------ 0.8/9.4 MB 5.8 MB/s eta 0:00:02\n",
      "   ---- ----------------------------------- 1.2/9.4 MB 6.8 MB/s eta 0:00:02\n",
      "   ------ --------------------------------- 1.4/9.4 MB 6.5 MB/s eta 0:00:02\n",
      "   ------- -------------------------------- 1.8/9.4 MB 6.6 MB/s eta 0:00:02\n",
      "   --------- ------------------------------ 2.2/9.4 MB 6.9 MB/s eta 0:00:02\n",
      "   ---------- ----------------------------- 2.5/9.4 MB 7.1 MB/s eta 0:00:01\n",
      "   ------------ --------------------------- 2.9/9.4 MB 7.1 MB/s eta 0:00:01\n",
      "   ------------- -------------------------- 3.2/9.4 MB 7.0 MB/s eta 0:00:01\n",
      "   -------------- ------------------------- 3.5/9.4 MB 7.0 MB/s eta 0:00:01\n",
      "   ---------------- ----------------------- 3.8/9.4 MB 6.9 MB/s eta 0:00:01\n",
      "   ----------------- ---------------------- 4.2/9.4 MB 7.1 MB/s eta 0:00:01\n",
      "   ------------------- -------------------- 4.6/9.4 MB 7.2 MB/s eta 0:00:01\n",
      "   -------------------- ------------------- 4.9/9.4 MB 7.1 MB/s eta 0:00:01\n",
      "   ---------------------- ----------------- 5.3/9.4 MB 7.3 MB/s eta 0:00:01\n",
      "   ----------------------- ---------------- 5.6/9.4 MB 7.2 MB/s eta 0:00:01\n",
      "   ------------------------- -------------- 5.9/9.4 MB 7.3 MB/s eta 0:00:01\n",
      "   -------------------------- ------------- 6.2/9.4 MB 7.3 MB/s eta 0:00:01\n",
      "   ---------------------------- ----------- 6.6/9.4 MB 7.3 MB/s eta 0:00:01\n",
      "   ----------------------------- ---------- 6.9/9.4 MB 7.3 MB/s eta 0:00:01\n",
      "   ------------------------------ --------- 7.3/9.4 MB 7.3 MB/s eta 0:00:01\n",
      "   ------------------------------- -------- 7.5/9.4 MB 7.2 MB/s eta 0:00:01\n",
      "   --------------------------------- ------ 7.9/9.4 MB 7.2 MB/s eta 0:00:01\n",
      "   ---------------------------------- ----- 8.2/9.4 MB 7.2 MB/s eta 0:00:01\n",
      "   ------------------------------------ --- 8.6/9.4 MB 7.2 MB/s eta 0:00:01\n",
      "   ------------------------------------- -- 8.9/9.4 MB 7.2 MB/s eta 0:00:01\n",
      "   ---------------------------------------  9.3/9.4 MB 7.3 MB/s eta 0:00:01\n",
      "   ---------------------------------------  9.4/9.4 MB 7.3 MB/s eta 0:00:01\n",
      "   ---------------------------------------- 9.4/9.4 MB 7.1 MB/s eta 0:00:00\n",
      "Downloading trio-0.25.1-py3-none-any.whl (467 kB)\n",
      "   ---------------------------------------- 0.0/467.7 kB ? eta -:--:--\n",
      "   ---------------------------- ----------- 337.9/467.7 kB 7.1 MB/s eta 0:00:01\n",
      "   ---------------------------------------- 467.7/467.7 kB 5.9 MB/s eta 0:00:00\n",
      "Downloading trio_websocket-0.11.1-py3-none-any.whl (17 kB)\n",
      "Downloading attrs-23.2.0-py3-none-any.whl (60 kB)\n",
      "   ---------------------------------------- 0.0/60.8 kB ? eta -:--:--\n",
      "   ---------------------------------------- 60.8/60.8 kB 3.4 MB/s eta 0:00:00\n",
      "Downloading wsproto-1.2.0-py3-none-any.whl (24 kB)\n",
      "Downloading outcome-1.3.0.post0-py2.py3-none-any.whl (10 kB)\n",
      "Downloading h11-0.14.0-py3-none-any.whl (58 kB)\n",
      "   ---------------------------------------- 0.0/58.3 kB ? eta -:--:--\n",
      "   ---------------------------------------- 58.3/58.3 kB 3.0 MB/s eta 0:00:00\n",
      "Installing collected packages: h11, attrs, wsproto, outcome, trio, trio-websocket, selenium\n",
      "  Attempting uninstall: attrs\n",
      "    Found existing installation: attrs 23.1.0\n",
      "    Uninstalling attrs-23.1.0:\n",
      "      Successfully uninstalled attrs-23.1.0\n",
      "Successfully installed attrs-23.2.0 h11-0.14.0 outcome-1.3.0.post0 selenium-4.22.0 trio-0.25.1 trio-websocket-0.11.1 wsproto-1.2.0\n"
     ]
    }
   ],
   "source": [
    "# 셀레니움 라이브러리 설치\n",
    "!pip install selenium"
   ]
  },
  {
   "cell_type": "code",
   "execution_count": 23,
   "id": "342995e1-2d76-4fef-aecf-9530fa22f2e2",
   "metadata": {},
   "outputs": [
    {
     "data": {
      "text/plain": [
       "<selenium.webdriver.chrome.options.Options at 0x26899f94290>"
      ]
     },
     "execution_count": 23,
     "metadata": {},
     "output_type": "execute_result"
    }
   ],
   "source": [
    "from selenium import webdriver\n",
    "from selenium.webdriver.common.by import By\n",
    "from selenium.webdriver.chrome.options import Options\n",
    "import time\n",
    "\n",
    "options = Options()\n",
    "# options.add_argument(\"--start-maximized\")\n",
    "# options.add_argument(\"--headless=new\") \n",
    "options"
   ]
  },
  {
   "cell_type": "code",
   "execution_count": 24,
   "id": "a8695fda-7780-4e30-8e8e-c8e5eda95927",
   "metadata": {},
   "outputs": [],
   "source": [
    "options.add_experimental_option(\"detach\", True) # 특정함수안에서  드라이버 생성시 함수종료될 때 브라우저 같이 종료"
   ]
  },
  {
   "cell_type": "markdown",
   "id": "55478dbb-aa4c-4a2e-8e10-ba52d9bfc30b",
   "metadata": {},
   "source": [
    "# 브라우저 실행 및 페이지 접속"
   ]
  },
  {
   "cell_type": "code",
   "execution_count": 25,
   "id": "ffd67e4b-109c-41ca-bded-852cba0c2a2b",
   "metadata": {},
   "outputs": [],
   "source": [
    "url = 'https://naver.com'\n",
    "driver = webdriver.Chrome(options=options) # 객체 생성"
   ]
  },
  {
   "cell_type": "code",
   "execution_count": 26,
   "id": "3564afa8-a071-4281-8442-b732067d2898",
   "metadata": {},
   "outputs": [],
   "source": [
    "driver.get(url)\n",
    "time.sleep(2)"
   ]
  },
  {
   "cell_type": "markdown",
   "id": "6f91619b-d751-428b-8f68-35e0e791cfcf",
   "metadata": {},
   "source": [
    "# 상호작용"
   ]
  },
  {
   "cell_type": "code",
   "execution_count": 27,
   "id": "b17fb322-0755-40b7-83d9-d0196c0988a9",
   "metadata": {},
   "outputs": [],
   "source": [
    "driver.back()"
   ]
  },
  {
   "cell_type": "code",
   "execution_count": 28,
   "id": "5d55b04f-0e2a-498c-b082-908a15c0083e",
   "metadata": {},
   "outputs": [],
   "source": [
    "driver.forward()"
   ]
  },
  {
   "cell_type": "code",
   "execution_count": 29,
   "id": "75943cf5-0489-4326-9bda-122c6ba08e74",
   "metadata": {},
   "outputs": [],
   "source": [
    "driver.refresh()"
   ]
  },
  {
   "cell_type": "markdown",
   "id": "43fcd49d-8368-4922-9534-9761fddfaddb",
   "metadata": {},
   "source": [
    "# 페이지 정보 가져오기"
   ]
  },
  {
   "cell_type": "code",
   "execution_count": 30,
   "id": "91a7ab51-462b-4d06-b2b3-b66a3f131a3e",
   "metadata": {},
   "outputs": [
    {
     "name": "stdout",
     "output_type": "stream",
     "text": [
      "NAVER https://www.naver.com/ 967D9A851E20FAFD63547728159C8EAE\n"
     ]
    }
   ],
   "source": [
    "title = driver.title\n",
    "url = driver.current_url\n",
    "handle = driver.current_window_handle\n",
    "print(title, url, handle)"
   ]
  },
  {
   "cell_type": "markdown",
   "id": "681081bf-eaee-4aaa-a6cb-1a237ae182cb",
   "metadata": {},
   "source": [
    "# html 요소 찾기\r\n",
    "네이버 검색창을 핸들링해보자 driver.find_element().send_keys()\r\n",
    "\r\n",
    "<input id=\"query\" name=\"query\" type=\"search\" title=\"검색어를 입력해 주세요.\" placeholder=\"검색어를 입력해 주세요.\" maxlength=\"255\" autocomplete=\"off\" class=\"search_input\" data-atcmp-element=\"\">"
   ]
  },
  {
   "cell_type": "code",
   "execution_count": 31,
   "id": "389aa5c6-05d9-4b81-8459-ea3eaa072dd8",
   "metadata": {},
   "outputs": [
    {
     "data": {
      "text/plain": [
       "\u001b[1;31mSignature:\u001b[0m \u001b[0mdriver\u001b[0m\u001b[1;33m.\u001b[0m\u001b[0mfind_element\u001b[0m\u001b[1;33m(\u001b[0m\u001b[0mby\u001b[0m\u001b[1;33m=\u001b[0m\u001b[1;34m'id'\u001b[0m\u001b[1;33m,\u001b[0m \u001b[0mvalue\u001b[0m\u001b[1;33m:\u001b[0m \u001b[0mOptional\u001b[0m\u001b[1;33m[\u001b[0m\u001b[0mstr\u001b[0m\u001b[1;33m]\u001b[0m \u001b[1;33m=\u001b[0m \u001b[1;32mNone\u001b[0m\u001b[1;33m)\u001b[0m \u001b[1;33m->\u001b[0m \u001b[0mselenium\u001b[0m\u001b[1;33m.\u001b[0m\u001b[0mwebdriver\u001b[0m\u001b[1;33m.\u001b[0m\u001b[0mremote\u001b[0m\u001b[1;33m.\u001b[0m\u001b[0mwebelement\u001b[0m\u001b[1;33m.\u001b[0m\u001b[0mWebElement\u001b[0m\u001b[1;33m\u001b[0m\u001b[1;33m\u001b[0m\u001b[0m\n",
       "\u001b[1;31mDocstring:\u001b[0m\n",
       "Find an element given a By strategy and locator.\n",
       "\n",
       ":Usage:\n",
       "    ::\n",
       "\n",
       "        element = driver.find_element(By.ID, 'foo')\n",
       "\n",
       ":rtype: WebElement\n",
       "\u001b[1;31mFile:\u001b[0m      c:\\users\\samsung\\anaconda3\\lib\\site-packages\\selenium\\webdriver\\remote\\webdriver.py\n",
       "\u001b[1;31mType:\u001b[0m      method"
      ]
     },
     "metadata": {},
     "output_type": "display_data"
    }
   ],
   "source": [
    "driver.find_element?"
   ]
  },
  {
   "cell_type": "code",
   "execution_count": 32,
   "id": "9cafe08d-b999-44c4-84a1-9d2791245380",
   "metadata": {},
   "outputs": [
    {
     "data": {
      "text/plain": [
       "<selenium.webdriver.remote.webelement.WebElement (session=\"e80d2ab2e8d54857a6b7dc5a696feebb\", element=\"f.967D9A851E20FAFD63547728159C8EAE.d.CB33141F7B87061CD2B0E80D23D33016.e.2606\")>"
      ]
     },
     "execution_count": 32,
     "metadata": {},
     "output_type": "execute_result"
    }
   ],
   "source": [
    "driver.find_element(By.ID, \"query\")"
   ]
  },
  {
   "cell_type": "code",
   "execution_count": 33,
   "id": "fd86e4ed-3d32-4a81-aa49-490977562339",
   "metadata": {},
   "outputs": [],
   "source": [
    "# 키입력\n",
    "driver.find_element(By.ID, \"query\").send_keys('뉴진스')"
   ]
  },
  {
   "cell_type": "code",
   "execution_count": 35,
   "id": "9b1271d7-fff9-47bf-9890-83f18cf768d6",
   "metadata": {},
   "outputs": [],
   "source": [
    "driver.find_element(By.CLASS_NAME, \"search_input\").send_keys('블랙핑크')"
   ]
  },
  {
   "cell_type": "code",
   "execution_count": 36,
   "id": "55c3e1bf-6bdf-4c21-b04e-79bb71d5ed4c",
   "metadata": {},
   "outputs": [],
   "source": [
    "driver.find_element(By.NAME, \"query\").send_keys('르세라핌')"
   ]
  },
  {
   "cell_type": "code",
   "execution_count": 37,
   "id": "a962138a-b7fd-452f-adb8-5942021110d6",
   "metadata": {},
   "outputs": [],
   "source": [
    "driver.find_element(By.CSS_SELECTOR, \".search_input\").send_keys('세븐틴')"
   ]
  },
  {
   "cell_type": "code",
   "execution_count": 38,
   "id": "3d673b30-49bf-48a6-8ced-61f3eef2d1fd",
   "metadata": {},
   "outputs": [],
   "source": [
    "driver.find_element(By.CSS_SELECTOR, \"#query\").send_keys('에스파')"
   ]
  },
  {
   "cell_type": "code",
   "execution_count": 39,
   "id": "3197f0a8-4d23-4bc7-9b67-995045c6a328",
   "metadata": {},
   "outputs": [],
   "source": [
    "driver.find_element(By.CSS_SELECTOR, \"[title='검색어를 입력해 주세요.']\").send_keys('트와이스')"
   ]
  },
  {
   "cell_type": "code",
   "execution_count": 40,
   "id": "f184cf8d-ab93-4da5-b286-b2b74c6f4cbb",
   "metadata": {},
   "outputs": [],
   "source": [
    "driver.find_element(By.CSS_SELECTOR, \"[placeholder='검색어를 입력해 주세요.']\").send_keys('트와이스')"
   ]
  },
  {
   "cell_type": "code",
   "execution_count": 41,
   "id": "fba46240-5061-4433-b3bd-0f9a2bf8ac21",
   "metadata": {},
   "outputs": [],
   "source": [
    "driver.find_element(By.XPATH,\"//*[@id='query']\").send_keys('BTS')"
   ]
  },
  {
   "cell_type": "markdown",
   "id": "f7cd565c-429a-4b70-b340-05038669fc3a",
   "metadata": {},
   "source": [
    "# 클릭\n",
    "네이버 쇼핑 메뉴를 클릭해보자 driver.find_element().click()"
   ]
  },
  {
   "cell_type": "code",
   "execution_count": 46,
   "id": "5ffaf6c0-5cee-4247-9a8a-978033f07c9d",
   "metadata": {},
   "outputs": [
    {
     "data": {
      "text/plain": [
       "<selenium.webdriver.remote.webelement.WebElement (session=\"e80d2ab2e8d54857a6b7dc5a696feebb\", element=\"f.967D9A851E20FAFD63547728159C8EAE.d.CB33141F7B87061CD2B0E80D23D33016.e.3976\")>"
      ]
     },
     "execution_count": 46,
     "metadata": {},
     "output_type": "execute_result"
    }
   ],
   "source": [
    "driver.find_element(By.LINK_TEXT, '쇼핑')"
   ]
  },
  {
   "cell_type": "code",
   "execution_count": 47,
   "id": "ffd7ce50-cd10-485e-80d3-66455edd7d99",
   "metadata": {},
   "outputs": [],
   "source": [
    "driver.find_element(By.LINK_TEXT, '쇼핑').click()"
   ]
  },
  {
   "cell_type": "code",
   "execution_count": 48,
   "id": "77f7b9ed-3cf3-4a5f-bd56-07bd9edfd532",
   "metadata": {},
   "outputs": [],
   "source": [
    "# 일부 매칭\n",
    "driver.find_element(By.PARTIAL_LINK_TEXT, '쇼').click()"
   ]
  },
  {
   "cell_type": "code",
   "execution_count": 49,
   "id": "1cb0ee9f-6d3f-4db4-8613-b8e8755627f0",
   "metadata": {},
   "outputs": [
    {
     "data": {
      "text/plain": [
       "<selenium.webdriver.remote.webelement.WebElement (session=\"e80d2ab2e8d54857a6b7dc5a696feebb\", element=\"f.967D9A851E20FAFD63547728159C8EAE.d.CB33141F7B87061CD2B0E80D23D33016.e.2550\")>"
      ]
     },
     "execution_count": 49,
     "metadata": {},
     "output_type": "execute_result"
    }
   ],
   "source": [
    "# 태그는 너무 요소가 많으므로, 정확하게 대상을 찾을 때에는 안씀\n",
    "driver.find_element(By.TAG_NAME, 'div')"
   ]
  },
  {
   "cell_type": "code",
   "execution_count": 50,
   "id": "acca0062-ec94-4bea-8cfd-b6f4689ef0e2",
   "metadata": {},
   "outputs": [],
   "source": [
    "# 여러개의 요소를찾을 때\n",
    "links = driver.find_elements(By.CSS_SELECTOR, '.link_service')"
   ]
  },
  {
   "cell_type": "code",
   "execution_count": 51,
   "id": "282fd482-794b-4378-bbaa-228aae04b22b",
   "metadata": {},
   "outputs": [
    {
     "name": "stdout",
     "output_type": "stream",
     "text": [
      "<selenium.webdriver.remote.webelement.WebElement (session=\"e80d2ab2e8d54857a6b7dc5a696feebb\", element=\"f.967D9A851E20FAFD63547728159C8EAE.d.CB33141F7B87061CD2B0E80D23D33016.e.3955\")>\n",
      "<selenium.webdriver.remote.webelement.WebElement (session=\"e80d2ab2e8d54857a6b7dc5a696feebb\", element=\"f.967D9A851E20FAFD63547728159C8EAE.d.CB33141F7B87061CD2B0E80D23D33016.e.3962\")>\n",
      "<selenium.webdriver.remote.webelement.WebElement (session=\"e80d2ab2e8d54857a6b7dc5a696feebb\", element=\"f.967D9A851E20FAFD63547728159C8EAE.d.CB33141F7B87061CD2B0E80D23D33016.e.3969\")>\n",
      "<selenium.webdriver.remote.webelement.WebElement (session=\"e80d2ab2e8d54857a6b7dc5a696feebb\", element=\"f.967D9A851E20FAFD63547728159C8EAE.d.CB33141F7B87061CD2B0E80D23D33016.e.3976\")>\n",
      "<selenium.webdriver.remote.webelement.WebElement (session=\"e80d2ab2e8d54857a6b7dc5a696feebb\", element=\"f.967D9A851E20FAFD63547728159C8EAE.d.CB33141F7B87061CD2B0E80D23D33016.e.3983\")>\n",
      "<selenium.webdriver.remote.webelement.WebElement (session=\"e80d2ab2e8d54857a6b7dc5a696feebb\", element=\"f.967D9A851E20FAFD63547728159C8EAE.d.CB33141F7B87061CD2B0E80D23D33016.e.3990\")>\n",
      "<selenium.webdriver.remote.webelement.WebElement (session=\"e80d2ab2e8d54857a6b7dc5a696feebb\", element=\"f.967D9A851E20FAFD63547728159C8EAE.d.CB33141F7B87061CD2B0E80D23D33016.e.3997\")>\n",
      "<selenium.webdriver.remote.webelement.WebElement (session=\"e80d2ab2e8d54857a6b7dc5a696feebb\", element=\"f.967D9A851E20FAFD63547728159C8EAE.d.CB33141F7B87061CD2B0E80D23D33016.e.4004\")>\n",
      "<selenium.webdriver.remote.webelement.WebElement (session=\"e80d2ab2e8d54857a6b7dc5a696feebb\", element=\"f.967D9A851E20FAFD63547728159C8EAE.d.CB33141F7B87061CD2B0E80D23D33016.e.4011\")>\n",
      "<selenium.webdriver.remote.webelement.WebElement (session=\"e80d2ab2e8d54857a6b7dc5a696feebb\", element=\"f.967D9A851E20FAFD63547728159C8EAE.d.CB33141F7B87061CD2B0E80D23D33016.e.4019\")>\n",
      "<selenium.webdriver.remote.webelement.WebElement (session=\"e80d2ab2e8d54857a6b7dc5a696feebb\", element=\"f.967D9A851E20FAFD63547728159C8EAE.d.CB33141F7B87061CD2B0E80D23D33016.e.4026\")>\n",
      "<selenium.webdriver.remote.webelement.WebElement (session=\"e80d2ab2e8d54857a6b7dc5a696feebb\", element=\"f.967D9A851E20FAFD63547728159C8EAE.d.CB33141F7B87061CD2B0E80D23D33016.e.4037\")>\n"
     ]
    }
   ],
   "source": [
    "for link in links:\n",
    "    print(link)"
   ]
  },
  {
   "cell_type": "code",
   "execution_count": 52,
   "id": "1e7d6a5f-11cf-4fcd-b4d9-bf703052efd7",
   "metadata": {},
   "outputs": [
    {
     "name": "stdout",
     "output_type": "stream",
     "text": [
      "https://mail.naver.com/\n",
      "\n",
      "https://cafe.naver.com/\n",
      "\n",
      "https://blog.naver.com/\n",
      "\n",
      "https://shopping.naver.com/home\n",
      "\n",
      "https://news.naver.com/\n",
      "\n",
      "https://finance.naver.com/\n",
      "\n",
      "https://land.naver.com/\n",
      "\n",
      "https://map.naver.com/\n",
      "\n",
      "https://comic.naver.com/\n",
      "\n",
      "https://chzzk.naver.com/\n",
      "\n",
      "https://www.naver.com/#\n",
      "\n",
      "https://siape.veta.naver.com/rd?rk=qVHbVyjnd4WA0HJ--NUuIg&eltts=DCLofzx%2Ffvev2Z1eZXujWg%3D%3D&elu=5BA297C9C3C09BC2A363AD20A2AF2280AA600BB0F1224856B1E3B0CD8C7D5F6341BB3F4A77A5F39CD5816E901BFB74C92B046500D36C473274A2DF28B9D9C604F0D8675FDAF22A996AAEFDEE92BA1FCD697E5F7ECC82BD74C279AA95D9F31FA9106C54B228F25590EF823CA4768D621930DE9513FAD9CD3EC5D5F708FBFC00BDA1F5B03C00EADE3421C9D4FE1E658652E8C5A37BBB18D79B4D542EF9B859195A8B5F3CB5F7D17DF7D63104BA36F5191223192AE294E03593BF7CA3B054BF55FF7DF70D50D25D1F0D4D87A7831487FDC2AFB8FEA841F79F16EA53276AF68816C7A149514203E223A19FA55EAAC4E98561256439BD31A8DEFDBC8CEF82F716E628B23F8C3BFA407A51086748714615D78698A603B1B20D8157A049045EADF303C7C90C945E9B6678B41330B37AAA80FDCE0589F05E39A2DECC900ED27DE4327494D8CC07C1B67CE038EFBDA44E52E5B715A3EC5A3F07FD7CCDECDFCA955A7B6FCB11DFA46E51BA4203609299CFB488F993296C5387E386A488064288B95F527FA540946C8672D26BA42D643227D77736CF&tr=ndp\n",
      "\n"
     ]
    }
   ],
   "source": [
    "# https://www.browserstack.com/guide/get-html-source-of-web-element-in-selenium-webdriver\n",
    "# 해당 클래스가 속한 요소의 자식 html을 출력\n",
    "for link in links:\n",
    "    print(link.get_attribute(\"href\")) \n",
    "    print()"
   ]
  },
  {
   "cell_type": "markdown",
   "id": "d7d615b0-65d3-4b32-9dcc-49f23ee04001",
   "metadata": {},
   "source": [
    "# 자동 로그인 연습"
   ]
  },
  {
   "cell_type": "code",
   "execution_count": 57,
   "id": "dd9ef852-6ddd-4f1d-9bd5-d226c1d4ae06",
   "metadata": {},
   "outputs": [],
   "source": [
    "# 테스트용 html\n",
    "url = 'file:///C:/workspace/wassup3/02_Python_Collection/sample/signin.html'\n",
    "driver = webdriver.Chrome(options=options)\n",
    "driver.get(url)\n",
    "time.sleep(2) "
   ]
  },
  {
   "cell_type": "code",
   "execution_count": 58,
   "id": "c02eb108-c26c-4c53-bc6d-eab1a5146491",
   "metadata": {},
   "outputs": [],
   "source": [
    "username = driver.find_element(By.NAME, \"username\")\n",
    "username.send_keys('korea')"
   ]
  },
  {
   "cell_type": "code",
   "execution_count": 59,
   "id": "c6080271-f2f0-4d60-98cd-72eac028287d",
   "metadata": {},
   "outputs": [],
   "source": [
    "username = driver.find_element(By.NAME, \"password\")\n",
    "username.send_keys('1004')"
   ]
  },
  {
   "cell_type": "code",
   "execution_count": 60,
   "id": "b2935bd3-c4bf-4ad6-8342-24b500871fc5",
   "metadata": {},
   "outputs": [],
   "source": [
    "login =  driver.find_element(By.XPATH, '//*[@id=\"loginForm\"]/input[3]')\n",
    "login.click()"
   ]
  },
  {
   "cell_type": "code",
   "execution_count": 61,
   "id": "40cdaae1-c8b6-4a16-b365-f8dc91b1ca44",
   "metadata": {},
   "outputs": [],
   "source": [
    "driver.back()"
   ]
  },
  {
   "cell_type": "code",
   "execution_count": 62,
   "id": "09092094-fecd-4eb3-8e9c-b2af54154f05",
   "metadata": {},
   "outputs": [],
   "source": [
    "login =  driver.find_element(By.CSS_SELECTOR, \"#loginForm > input[type=submit]:nth-child(5)\")\n",
    "login.click()"
   ]
  },
  {
   "cell_type": "code",
   "execution_count": 63,
   "id": "646c4951-e792-480e-b195-13e12f8e9348",
   "metadata": {},
   "outputs": [],
   "source": [
    "driver.back()"
   ]
  },
  {
   "cell_type": "code",
   "execution_count": 64,
   "id": "0b28cb9c-018c-47bd-af79-bac000ff91c5",
   "metadata": {},
   "outputs": [],
   "source": [
    "login =  driver.find_element(By.CSS_SELECTOR, \"[value='Login']\")\n",
    "login.click()"
   ]
  },
  {
   "cell_type": "code",
   "execution_count": 65,
   "id": "901ed45d-7987-4153-8f2d-4860539fffea",
   "metadata": {},
   "outputs": [],
   "source": [
    "driver.back()"
   ]
  },
  {
   "cell_type": "code",
   "execution_count": 66,
   "id": "270be0ac-0801-46f1-8b7f-402610fad322",
   "metadata": {},
   "outputs": [],
   "source": [
    "# 입력창 clear 하기\n",
    "# 세션끊기면 다시 접근해야함\n",
    "username = driver.find_element(By.NAME, \"username\")\n",
    "username.clear()"
   ]
  },
  {
   "cell_type": "code",
   "execution_count": 67,
   "id": "e3dace94-568b-4454-a89c-61749e2841fa",
   "metadata": {},
   "outputs": [],
   "source": [
    "username.submit()"
   ]
  },
  {
   "cell_type": "code",
   "execution_count": 68,
   "id": "f5227f10-0c2d-4fab-a31d-ba60a080e54d",
   "metadata": {},
   "outputs": [],
   "source": [
    "driver.back()"
   ]
  },
  {
   "cell_type": "code",
   "execution_count": 69,
   "id": "515a957f-577a-40e0-86d1-df5ae9324abe",
   "metadata": {},
   "outputs": [
    {
     "data": {
      "text/plain": [
       "'Are you sure you want to do this?'"
      ]
     },
     "execution_count": 69,
     "metadata": {},
     "output_type": "execute_result"
    }
   ],
   "source": [
    "driver.find_element(By.TAG_NAME, 'p').text"
   ]
  },
  {
   "cell_type": "code",
   "execution_count": 70,
   "id": "5013f37e-7c5a-498d-aa9f-bc08bbf5687d",
   "metadata": {},
   "outputs": [
    {
     "data": {
      "text/plain": [
       "'<html><head></head><body>\\n        <h1> Sign In </h1>\\n        <form action=\"moved.html\" id=\"loginForm\">\\n            ID : <input name=\"username\" type=\"text\"> <br>\\n            Password : <input name=\"password\" type=\"password\"> <br>\\n\\n            <input name=\"continue\" type=\"submit\" value=\"Login\">\\n            <input name=\"continue\" type=\"button\" value=\"Clear\">\\n        \\n        </form>\\n\\n        <p>Are you sure you want to do this?</p>\\n        <a href=\"continue.html\">Continue</a>\\n        <a href=\"cancel.html\">Cancel</a>\\n\\n        <h1>Welcome</h1>\\n        <p>Site content goes here.</p>\\n        <p class=\"content\">Site content goes here.</p>\\n    \\n</body></html>'"
      ]
     },
     "execution_count": 70,
     "metadata": {},
     "output_type": "execute_result"
    }
   ],
   "source": [
    "# html 소스 가져오기\n",
    "driver.page_source"
   ]
  },
  {
   "cell_type": "code",
   "execution_count": 71,
   "id": "ad034d42-d6b6-41d2-a65d-f561a1c2f638",
   "metadata": {},
   "outputs": [],
   "source": [
    "driver.close()"
   ]
  },
  {
   "cell_type": "markdown",
   "id": "b48bd898-a8a2-4508-b74c-61bbbfc120cc",
   "metadata": {},
   "source": [
    "# option"
   ]
  },
  {
   "cell_type": "code",
   "execution_count": 1,
   "id": "7c5f9f7d-b1e9-4382-bc3c-a7c3dfe437f2",
   "metadata": {},
   "outputs": [],
   "source": [
    "from selenium import webdriver\n",
    "from selenium.webdriver.common.by import By\n",
    "from selenium.webdriver.chrome.options import Options\n",
    "import time\n",
    "\n",
    "options = Options()\n",
    "options.add_argument(\"--headless=new\") \n",
    "# options.add_argument('--window-size= x, y') #실행되는 브라우저 크기를 지정할 수 있습니다.\n",
    "# options.add_argument('--start-maximized') #브라우저가 최대화된 상태로 실행됩니다.\n",
    "# options.add_argument('--start-fullscreen') #브라우저가 풀스크린 모드(F11)로 실행됩니다.\n",
    "# options.add_argument('--blink-settings=imagesEnabled=false') #브라우저에서 이미지 로딩을 하지 않습니다.\n",
    "# options.add_argument('--mute-audio') #브라우저에 음소거 옵션을 적용합니다.\n",
    "# options.add_argument('incognito') #시크릿 모드의 브라우저가 실행됩니다.\n",
    "options.add_experimental_option(\"detach\", True) #특정함수안에서  드라이버 생성시 함수종료될 때 브라우저 같이"
   ]
  },
  {
   "cell_type": "code",
   "execution_count": 2,
   "id": "eca25f29-8447-4788-b512-f30167971366",
   "metadata": {},
   "outputs": [],
   "source": [
    "url = 'http://naver.com'\n",
    "driver = webdriver.Chrome(options=options)\n",
    "driver.get(url)\n",
    "time.sleep(2)"
   ]
  },
  {
   "cell_type": "code",
   "execution_count": 3,
   "id": "55853a8e-5c9f-450d-9848-08686d123126",
   "metadata": {},
   "outputs": [
    {
     "name": "stdout",
     "output_type": "stream",
     "text": [
      "NAVER\n"
     ]
    }
   ],
   "source": [
    "print(driver.title)"
   ]
  },
  {
   "cell_type": "code",
   "execution_count": 4,
   "id": "257025dc-a795-47ae-924c-7f0cf4b5098b",
   "metadata": {},
   "outputs": [],
   "source": [
    "driver.quit() # 탭 닫기"
   ]
  },
  {
   "cell_type": "markdown",
   "id": "4cb151f1-8c02-48fe-a162-e373d84c66fb",
   "metadata": {},
   "source": [
    "# 윈도우 컨트롤"
   ]
  },
  {
   "cell_type": "code",
   "execution_count": 5,
   "id": "a3b2ebf3-5107-46cf-9bd6-ff68b35304ef",
   "metadata": {},
   "outputs": [],
   "source": [
    "from selenium import webdriver\n",
    "from selenium.webdriver.common.by import By\n",
    "from selenium.webdriver.chrome.options import Options\n",
    "import time\n",
    "\n",
    "options = Options()\n",
    "# options.add_argument(\"--start-maximized\")\n",
    "# options.add_argument(\"--headless=new\") \n",
    "options.add_experimental_option(\"detach\", True) #\n",
    "\n",
    "url = 'http://naver.com'\n",
    "driver = webdriver.Chrome(options=options)\n",
    "driver.get(url)\n",
    "time.sleep(2)"
   ]
  },
  {
   "cell_type": "markdown",
   "id": "66d40794-4866-44cd-af4c-624b1de528dd",
   "metadata": {},
   "source": [
    "### 창의 너비/높이 구하기"
   ]
  },
  {
   "cell_type": "code",
   "execution_count": 6,
   "id": "65d10af1-d2e9-4b34-8829-91539c477b97",
   "metadata": {},
   "outputs": [
    {
     "name": "stdout",
     "output_type": "stream",
     "text": [
      "945px 1012px\n"
     ]
    }
   ],
   "source": [
    "size = driver.get_window_size()\n",
    "width = size.get(\"width\")\n",
    "height = size.get(\"height\")\n",
    "\n",
    "print(str(width)+\"px\"+\" \"+str(height)+\"px\")"
   ]
  },
  {
   "cell_type": "markdown",
   "id": "0500b97d-882a-4d16-afac-e01aa783da13",
   "metadata": {},
   "source": [
    "### 창 크기 조절"
   ]
  },
  {
   "cell_type": "code",
   "execution_count": 7,
   "id": "31f19739-f071-4a70-b09a-cc3ec7cc1a2f",
   "metadata": {},
   "outputs": [],
   "source": [
    "driver.set_window_size(800, 600)"
   ]
  },
  {
   "cell_type": "markdown",
   "id": "68caf4e6-5665-4bcd-b330-2bf82cc2884d",
   "metadata": {},
   "source": [
    "### 스크린 상에서의 창 좌표"
   ]
  },
  {
   "cell_type": "code",
   "execution_count": 8,
   "id": "6d9a50b2-ddf0-46fd-b12c-d1b33bf050d8",
   "metadata": {},
   "outputs": [
    {
     "name": "stdout",
     "output_type": "stream",
     "text": [
      "x : 966 y : -902\n"
     ]
    }
   ],
   "source": [
    "position = driver.get_window_position()\n",
    "x = position.get('x')\n",
    "y = position.get('y')\n",
    "\n",
    "print(\"x : \"+str(x)+\" \"+\"y : \"+str(y))"
   ]
  },
  {
   "cell_type": "code",
   "execution_count": 9,
   "id": "dba65f29-37c8-4b02-b3fb-ed36535426bd",
   "metadata": {},
   "outputs": [
    {
     "data": {
      "text/plain": [
       "{'height': 600, 'width': 800, 'x': 200, 'y': 200}"
      ]
     },
     "execution_count": 9,
     "metadata": {},
     "output_type": "execute_result"
    }
   ],
   "source": [
    "driver.set_window_position(200,200)"
   ]
  },
  {
   "cell_type": "code",
   "execution_count": 10,
   "id": "978d6727-4202-4ff0-835e-194542c4d7ac",
   "metadata": {},
   "outputs": [],
   "source": [
    "# 창 크기 최대화\n",
    "driver.maximize_window()"
   ]
  },
  {
   "cell_type": "code",
   "execution_count": 12,
   "id": "20e232a3-5f3a-4275-a5b2-f047ce43158a",
   "metadata": {},
   "outputs": [],
   "source": [
    "# 창 크기 최소화\n",
    "driver.minimize_window()"
   ]
  },
  {
   "cell_type": "code",
   "execution_count": 13,
   "id": "dcb0c1f5-92e9-4fba-8792-c81616aadb1d",
   "metadata": {},
   "outputs": [],
   "source": [
    "# 전체 화면\n",
    "driver.fullscreen_window()"
   ]
  },
  {
   "cell_type": "code",
   "execution_count": 14,
   "id": "237b2ad6-8e46-42fc-be18-dfbe84a14af8",
   "metadata": {},
   "outputs": [
    {
     "data": {
      "text/plain": [
       "True"
      ]
     },
     "execution_count": 14,
     "metadata": {},
     "output_type": "execute_result"
    }
   ],
   "source": [
    "# 스크린 샷\n",
    "driver.save_screenshot('./image.png')"
   ]
  },
  {
   "cell_type": "code",
   "execution_count": 15,
   "id": "cdd59f36-28b4-4c3e-996a-c731d36cb566",
   "metadata": {},
   "outputs": [],
   "source": [
    "driver.close()"
   ]
  },
  {
   "cell_type": "markdown",
   "id": "826a284d-5e14-49ee-8a8e-688c1871ed09",
   "metadata": {},
   "source": [
    "## 예제) 네이버 블로그"
   ]
  },
  {
   "cell_type": "code",
   "execution_count": 16,
   "id": "9a38fa75-6612-4beb-9607-9d368ad4bc35",
   "metadata": {},
   "outputs": [],
   "source": [
    "from selenium import webdriver\n",
    "from selenium.webdriver.common.by import By\n",
    "from selenium.webdriver.chrome.options import Options\n",
    "import time, random, pandas as pd\n",
    "\n",
    "options = Options()\n",
    "options.add_argument('--window-size=974,1047')\n",
    "options.add_argument('--window-position=-7,0')\n",
    "options.add_experimental_option(\"detach\", True)"
   ]
  },
  {
   "cell_type": "code",
   "execution_count": 17,
   "id": "435d7013-a16d-4e05-992d-d4340a5bdd0e",
   "metadata": {},
   "outputs": [],
   "source": [
    "# 웹드라이버 로드\n",
    "driver = webdriver.Chrome( options = options)"
   ]
  },
  {
   "cell_type": "code",
   "execution_count": 18,
   "id": "9b91a1bf-e696-4c17-9863-ab9220fa8a41",
   "metadata": {},
   "outputs": [],
   "source": [
    "# 조건 설정\n",
    "where = 'blog'\n",
    "query = '인공지능'\n",
    "dateform = '20240101to20240318'\n",
    "url = f'https://search.naver.com/search.naver?ssc=tab.{where}.all&query={query}&sm=tab_opt&nso=so%3Ar%2Cp%3Afrom{dateform}'\n",
    "# url = f'https://search.naver.com/search.naver?where={where}&query={query}&sm=tab_op&nso=so:r,p:from{dateform}'\n",
    "fname = f'{where}_{query}_{dateform}'"
   ]
  },
  {
   "cell_type": "code",
   "execution_count": 19,
   "id": "7ccf6c4d-3bb8-439d-9962-72f2fa426539",
   "metadata": {},
   "outputs": [],
   "source": [
    "# url 접속\n",
    "driver.get(url)\n",
    "time.sleep(random.randint(2,3))"
   ]
  },
  {
   "cell_type": "markdown",
   "id": "be135549-5e79-4174-ba2a-2e3eb85c4559",
   "metadata": {},
   "source": [
    "## excute_script()\n",
    "자바스크립트 함수(스크롤다운) 실행하기 execute_script(\"스크립트\", 요소) 해당 페이지에 스크립트를 만들 때 사용합니다. 요소는 필수 파라미터는 아니고 요소가 있으면 요소에 스크립트가 실행되고 없으면 전체 페이지에 스크립트가 움직입니다.\n",
    "\n",
    "js코드를 인자로 넣을 수 있어 브라우저 화면을 제어 할수 있게 된다. 스크롤을 하기 위해 뿐만아니라 다른 동적이벤트를 작성할 수 있다.\n",
    "\n",
    "* 화면상 스크롤 위치 이동 : scrollTo(x,Y) ,scrollTo(x,Y+number)\n",
    "* 화면 최하단으로 스크롤 이동 : scrollTo(0, document.body.scrollHeight)\n",
    "* 화면을 움직이고 페이지 로드 기다리기 : time.sleep(second)\n",
    "* 함수 호출시 전달인자들이 배열 형태로 저장된 객체 : arguments \n",
    "    * (arguments[0].click(), sample)\n",
    "    * sample요소의 첫번째 인자에 click()을 명령"
   ]
  },
  {
   "cell_type": "code",
   "execution_count": 20,
   "id": "b6b2ae64-ec0d-4654-95e5-dc97493568d1",
   "metadata": {},
   "outputs": [],
   "source": [
    "#네이버 뷰는 최대 1050까지만 노출\n",
    "# 스크롤 10번\n",
    "for i in range(10):\n",
    "    driver.execute_script('window.scrollTo(0, document.body.scrollHeight);')\n",
    "    time.sleep(random.randint(2, 3))"
   ]
  },
  {
   "cell_type": "code",
   "execution_count": 23,
   "id": "0dc5237c-e81f-4b3f-9815-eab10c2d16bd",
   "metadata": {
    "scrolled": true
   },
   "outputs": [
    {
     "name": "stdout",
     "output_type": "stream",
     "text": [
      "{'title': '슈퍼마이크로컴퓨터(SMCI) 주가, 인공지능, 데이터센터 관련주', 'text': '안녕하세요 저장 안해서 같은 포스팅을 두번째 작성하는 네이버 인플루언서 길짱입니다 최근 AI 관련주가 굉장히 핫한데요 특히 전세계 증시 대장 미국 증권시장에 속한 인공지능... 슈퍼마이크로컴퓨터는 및 GPU 시장 대장인 엔비디아와 긴밀한 협력 관계를 구축하고 있어 엔비디아 관련주로 분류됩니다 또한 CPU 및 GPU 가속기 분야에서 엔비디아뿐 아니라...', 'date': '2024.02.24.'}\n",
      "{'title': 'AI 인공지능 관련주 TOP 10 미국주식에 투자하는 국내 ETF', 'text': \"(페이스북, 애플, 아마존, 넷플릭스, 구글) 최근에는 AI 위주의 투자가 주목받으면서 FAANG에서 넷플릭스가 제외되고 최대 AI 인공지능 관련주 엔비디아, 테슬라, 마이크로소프트가 포함된 'M7'(Magnificent7)이라는 용어를 많이 사용하고 있습니다. 하지만 M7 기업이라고해서 모두 주가 상승을 기록하고 있는 것은 아닙니다. 실제로 최대 관련주 엔비디아가...\", 'date': '2024.03.06.'}\n",
      "{'title': '최신 무선 엘지 올레드TV 결국 인공지능 65인치와 77인치 가격차이!! 엘지 시그니처 올레드T 기대되네...', 'text': '그리고 기본적으로 인공지능 기능을 강화하면서 더욱 강력한 퍼포먼스를 제공합니다. 개인적으로는 부담이 되기는 하지만 올레드TV의 사이즈는 크면 클수록 좋다는... 2024년 최신 올레드TV의 혁신 핵심 요소는 성능을 대폭 강화한 신규 프로세서입니다. 전 모델보다 딥러닝 기능을 더욱 강화해 더 선명한 화질과 풍성한 공간...', 'date': '2024.02.29.'}\n",
      "{'title': '[2월 26일 마감시황] 인공지능(AI) 테마 추가 반등은 아직', 'text': \"바탕으로 인공지능(AI) 테마가 주식시장 상승 모멘텀을 끌고 갈 것이란 기대가 높기는 하지만 본격적인 추가 반등은 아직 현실로 나타나지 않고 있음 '월가 공포지수' 변동성 지수(VIX)는 보합세 업종별로는 혼조세 테슬라가 포진한 임의소비재와 에너지, 엔비디아 등이 들어가 있는 기술업종이 상승 (AI) 시장 경쟁이 심화하는 가운데 검색시장...\", 'date': '2024.02.27.'}\n",
      "{'title': '인공지능 AI 반도체 관련주 미국 국내 (1편)', 'text': '인공지능 AI 반도체 관련주 미국, 국내 미국 엔비디아 주가가 연일 폭등하고 있어서 AI 반도체에 대해 이야기를 해보려고 합니다. AI 반도체를 글 한편에 모두 설명하기에는 얽혀 있는 기업들도 많고 그 먹이 사슬을 이해하는 데만 해도 너무 정보가 방대하기 때문에 앞으로 AI 반도체 글을 시리즈 형식으로 나눠서 올릴 생각입니다~ 1. AI 가 대세 * 현재...', 'date': '2024.02.17.'}\n",
      "{'title': '카카오톡 AI 요약 기능 및 카톡 인공지능 대화 말투 변경하기 사용법', 'text': '가장 최근 카카오톡에 AI 요약 기능과 인공지능 대화가 업데이트되었습니다. 단톡방에 엄청나게 쌓인 대화 내용을 간단하게 요약하는 것에서부터 시작하여, 특정 대화 상대에 따라서... 카카오톡 AI 요약, 카톡 대화 말투 변경하기 사용하려면? 이번에 새로 업데이트된 기능은 앞에서도 이야기했듯이 아직 배타 버전이기 때문에 기본으로 사용할 수 없습니다. 카톡...', 'date': '2024.01.12.'}\n",
      "{'title': '인공지능 반도체 관련주: 엔비디아 주식 주가 전망', 'text': '인공지능 반도체 관련주 엔비디아의 영향은 이뿐만이 아니다. 최근 떠오르고 있는 전기차에도 지대한 영향을 미치고 있다. NVIDIA DRIVE 자율 주행 플랫폼 및 자동차 개발 계약 Jetson... 반도체 관련주 엔비디아 엔비디아 주가 근황 관련주 엔비디아 주가 엔비디아(NVIDIA)는 최근 어닝 서프라이즈를 통해 주가가 크게 상승하였다. 현재 엔비디아 주가는 762....', 'date': '2024.02.23.'}\n",
      "{'title': '리벨리온 인공지능 AI 반도체 주식 상장 주가 - NPU 관련주', 'text': '리벨리온 인공지능 AI 반도체 주식 상장 주가 - NPU 관련주 반도체 산업은 두 부류로 나뉩니다. 반도체를 설계하고 디자인 하는 쪽과, 이걸 실제 공장에서 찍어내는 쪽입니다. 전자를... 엔비디아가 급성장한 이유는 분야에 절대적으로 필요한 반도체 설계기술을 가지고 있기 때문입니다. AI 를 학습하고 동작시키기 위해서는 엄청나게 많은 부동소수점...', 'date': '2024.03.14.'}\n",
      "{'title': '월요일 메타, TSMC, AMD 및 인공지능 관련 주가가 하락한 이유', 'text': '인공지능(AI)의 도입이 가속화되면서 생긴 부산물 중 하나는 좋든 나쁘든 투자자들이 AI 주식을 집단적으로 보는 관행입니다. 많은 경우 한 기업의 발전이 파급 효과를 일으켜... 이번 소송은 저작권이 있는 저작물이 자신도 모르게 또는 동의 없이 시스템을 학습시키는 데 사용되었다고 주장하는 작가들이 제기하는 소송 중 가장 최근의...', 'date': '2024.03.13.'}\n",
      "{'title': '인공지능 데이터라벨링으로 수익 창출하고 싶다면?', 'text': '인공지능 데이터라벨링으로 수익 창출하고 싶다면? 데이터가 곧 힘이다! 라는 말이 있듯이 정보는 우리에게 큰 힘이 되고 있습니다. 특히 작년에 Chat GPT 출시와 함께 국내. 외로 인공지능에 대한 관심도 많이 늘어나고 있는데요. 주변을 둘러보면 이미 많은 분들이 을 활용해 사업에서 이윤을 창출하고 있는 것을 볼 수 있습니다. 오늘 뉴스만 보더라도 챗 GPT에...', 'date': '2024.02.08.'}\n",
      "{'title': 'MWC24 바르셀로나 통신과 인공지능의 융합 SKT AI 가 그리는 통신사업의 미래', 'text': '특히 ‘AI의 인간화’를 전면에 부각하며 인공지능으로 달라질 일상에 주목했습니다. SK텔레콤 역시 ‘AI, 변화의 시작점’을 주제로 텔코(Telco·통신사) 중심의 인공지능(AI) 기술 및 서비스를 선보였는데요. 전시 내용에 대해 좀 더 구체적으로 살펴보겠습니다. SKT는 올해도 바르셀로나 ‘피라 그란 비아(Fira Gran Via)’의 메인 전시관인 3홀 중앙에 대형...', 'date': '2024.02.28.'}\n",
      "{'title': 'MWC 2024 텔코 AI와 함께 하는 SKT 인공지능 기술 소개', 'text': \"국내 통신 브랜드를 대표하는 SKT 부스에서는 불과 몇 년 사이에 가장 핫한 키워드로 떠오른 인공지능과 관련된 여러 가지 기술과 활용 사례들을 만나볼 수 있었습니다. 많이 가까워지기는 했지만 아직까지 우리 일상에 어떤 영향이 있을지 모르겠다는 분들도 있습니다. 아주 간단한 예로 SK텔레콤의 비서인 '에이닷'이 있습니다. 에이닷을 이용하면 통화...\", 'date': '2024.02.29.'}\n",
      "{'title': '특허등록 절차, 기술 AI 인공지능특허는 어떻게 진행되나', 'text': '기술특허에 대한 관심은 이전부터 높았지만, AI 인공지능 기술이 발달함에 따라 관심도가 더욱 커졌습니다. 너도나도 기술 AI 인공지능 특허등록을 하는 상황이라면 대표님께서도 하루라도 빨리 권리를 취득하는 것이 현명한데요. 이번 포스팅에서는 특허등록 절차에 대한 전반적인 이야기를 나눠보려고 합니다. 실무 & 필수적인 특허등록 절차만 안내드리오니 끝까지...', 'date': '2024.02.05.'}\n",
      "{'title': '데이터 라벨링 개념 / 인공지능 시대 뜨는 부업', 'text': \"인공지능이 더욱 스마트해지기 위해서는 '학습'이라는 것을 해야 합니다. 데이터 라벨링은 기계 학습 및 딥러닝 모델을 훈련시키기 위해 데이터에 대한 정확한 정보를 제공하는 과정을 말합니다. 말하자면 기계가 무언가를 인지하고 학습하는 것을 도와주는 활동이죠! 학습의 첫 번째 단계는 원시 데이터를 수입하는 것입니다. 이미지, 텍스트, 오디오, 영상 등...\", 'date': '2024.03.09.'}\n",
      "{'title': '[인공지능활용 강의] 생성형 AI 플랫폼 Pika(피카랩스)로 동영상 만들기', 'text': '오늘 인공지능 활용하기 주제는 \"생성형 인공지능(AI) 플랫폼 Pika(피카랩스)로 동영상 만들기\"입니다. Pika는 현재 빠르게 성장하고 있는 동영상 플랫폼이며, 2024년에는 동영상 생성 기술이 한 단계 점프 업(up)을 하는 해가 될 것입니다. [Pika 메인 페이지] Pika 메인 페이지는 매우 단순한 구조를 갖추고 있으며, 하단에 프롬프트 입력창이 있습니다....', 'date': '2024.01.29.'}\n",
      "{'title': '프로 크기 얼마나 커질까? 생성형 AI(인공지능) 향상시킨 뉴럴 엔진 탑재 기대(feat. 애플 최신 모델)', 'text': '애플이 인공지능 면에서는 아직 이슈를 만들지 못하고 있어 수많은 애플 유저들의 목을 길게 늘어뜨리고 있습니다. 최근 생성형AI(인공지능)을 행상시킨 뉴럴 엔진을 탑재한 아이폰16 프로를 오는 9월에 공개한다는 소식이 들립니다. 역시 애플은 애플이지~ 라고 환호할 텐데요. 과연 얼마나 만족스러운 결과를 제공할지 기대해 보면 좋을 것 같습니다. 아이폰16...', 'date': '2024.03.12.'}\n",
      "{'title': '쳇GPT어플 설치 방법, 내 손안에 인공지능비서를 만들어보자', 'text': '오늘은 내 손안에 인공지능 비서를 만들기 위해 쳇GPT어플 설치방법을 간단하고 쉽게 알아보겠습니다. 스마트생활이 쉬워지는 공간, 테크뮤즈의 아틀리에 시작합니다. 쳇GPT어플... 이상, 쳇GPT 어플 설치방법과 사용법에 대해 간단히 알아보았습니다 어떻게 세팅하느냐에 따라서 정말 내 손안에 편리한 비서로 사용이 가능한 쳇gpt를 쉽고 편리하게...', 'date': '2024.02.24.'}\n",
      "{'title': '인공지능 AI 블루투스 스피커 씽고 특징 기능', 'text': '인공지능 기술을 활용한 AI 스피커 제품으로, 음악 재생, 날씨 정보, 일정 관리 등 다양한 기능을 제공하며 어떤 특징이 있는지 살펴보겠습니다. 무선으로 연결되는 블루투스 스피커... 씽고 AI 스피커 제품은 인공지능 기술을 통해 사용자의 음성 명령을 인식하고 응답할 수 있는 특징을 가지고 있습니다. 예를 들어, \"씽고야, 오늘 날씨 어때?\"라고 말하면 현재 위치의...', 'date': '2024.03.11.'}\n",
      "{'title': '인공지능(AI) 시대, 반도체에 7조 달러 투자한다고?', 'text': '사람이 촬영한 것보다 더 정교한 동영상을 인공지능이 만들어낸 것인데요. 사람들은 감탄을 자아내고 있습니다. 특히 특정 분야에서 활용되는 AI가 아니라 범용 AI가 개발되면 어떨까요? 범용 AI는 모든 상황에 인간처럼 적용하여 두루 활용할 수 있는 AI를 말합니다. 이를 인공일반지능(AGI)이라고 말하죠. © siderius_creativ, 출처 Unsplash AGI가 개발되면 미래의 세상은...', 'date': '2024.02.26.'}\n",
      "{'title': '인공지능 데이터라벨링 꾸준한 수입 올리는 법', 'text': '인공지능 데이터라벨링 꾸준한 수입 올리는 법 안녕하세요. 사진&IT 크리에이터 자유분방입니다. 데이터라벨링은 인공지능 모델이 학습할 수 있도록 데이터의 레이블을 지정하는 작업을 의미합니다. 이미지나 텍스트, 오디오, 비디오 등에 레이블을 지정하는 방식입니다. 2023년도 그렇고 챗GPT의 시대는 2024년에도 여전히 진행 중입니다. 대규모 언어모델이자 챗봇인...', 'date': '2024.02.06.'}\n",
      "{'title': '베트남, ‘정부 인공지능(AI) 준비지수’ 세계 59위 기록', 'text': '베트남, ‘정부 인공지능(AI) 준비지수’ 세계 59위 기록 단신 속보뉴스 베트남 하노이무역관 최지영 출처 : KOTRA □ 베트남 정부의 AI 준비 수준, 193개국 중 59위 ㅇ (국별 비교)... 보고서에서 인공지능(AI) 준비성 측면에서 193개국 중 59위를 차지했다. 2022년에는 55위, 2021년에는 62위, 2020년에는 76위를 기록했다. Oxford Insights 연례 보고서는 AI를 사용하여...', 'date': '2024.02.21.'}\n",
      "{'title': '(모집) 구라칠 때 상대방눈을 보지마라 - 인공지능 수익화 파이프라인 구축 전자책 얼리버드', 'text': '사실 눈은 굉장히 작은 영역이라서 여기를 디테일하게 그리는 것은 인공지능도 힘들어합니다. 위 글에서도 다루엇듯이 종이가 작으면 절대 디테일이 나올 수 없습니다. 아무리 그림의 대가라도 작은 면적의 종이에 자세하고 세세한 그림을 그릴 수는 없습니다. 그레서 은 종이를 확대하여 자세히 그린다음 다시 축소하여 합성하는 방식을 사용하는 편입니다....', 'date': '2024.02.13.'}\n",
      "{'title': '[1월 20일 마감시황] 인공지능 AI 반도체 업체 엔비디아 4% 넘게 급등', 'text': \"개인은 홀로 1609억 원 순 매도 미국 증시 리뷰 & & & 뉴욕 주식시장 3대 지수가 일제히 이틀 연속 상승 새해 들어서도 기술주가 시장 흐름을 주도하는 가운데 이날 빅 7 종목들은 일제히 상승 특히 지난해 상승률 1위 종목인 (AI) 반도체 업체 엔비디아는 4% 넘게 급등하며 사상 최고 행진 '월가 공포지수' 변동성 지수(VIX)는 6% 급락 국제유가 전국...\", 'date': '2024.01.20.'}\n",
      "{'title': '아캄 코인 AI(인공지능) 블록체인 분석 플랫폼 알아보자', 'text': '아캄 코인 AI(인공지능) 블록체인 분석 플랫폼 알아보자 안녕하세요. 말하는 토끼입니다. 비트가 드디어 5만 달러를 돌파했습니다. 코로나 유동성 시기 이후로 최고치를 경신했습니다.... 아캄은 인공 지능을 이용하여 블록체인과 온 체인 데이터를 추적하고 소유자 등에 대한 정보를 보여 주는 분석 플랫폼입니다. 아캄의 경우 출시 초기에 플랫폼에 가입을 하기만 해도...', 'date': '2024.02.19.'}\n",
      "{'title': '삼성 언팩 인공지능 탑재 갤럭시 S24 울트라 주요 기능 가격', 'text': '알려진 대로 갤럭시 AI가 탑재되었으며, 이를 통한 실시간 번역, 인공지능 검색 및 사진 편집 등의 기능들을 선보였습니다. 언팩을 시청하면서 인상 깊었던 기능 그리고 출시일 및... 인공지능 기반의 프로비주얼 엔진 탑재로 저조도에서 나이토그래피 기능이 더욱 향상되었고요. 기존에는 3배, 10배 줌에만 광학 수준 고화질이 제공되었는데요. 이번에 쿼드 텔레...', 'date': '2024.01.18.'}\n",
      "{'title': '갤럭시S24 출시 가격 및 특징! 인공지능 AI로 차별화', 'text': '이번 갤럭시S24는 하드웨어보다는 인공지능 AI에 좀 더 집중이 된 모습을 보여주기도 했는데요. S24보다 갤럭시AI가 진짜 주인공이었다는 생각이 들기도 했습니다. 대표적인 AI기능으로는 문자 메지시 및 통화 중 실시간 번역이 가능한 AI 번역, 웹 서핑, SNS, 유튜브 등 사용 중 궁금한 사안이나 정보 확인을 위해 검색이 필요할 경우, 어느 화면에서나 동그라미를...', 'date': '2024.01.18.'}\n",
      "{'title': '‘인공지능’ 시대의 농업유전자원', 'text': '‘인공지능’ 시대의 농업유전자원 농업유전자원센터는 데이터 라벨링을 통한 농업식물유전자원의 빅데이터 구축을 계속해 품종 육성 디지털화를 위한 기초자료를 제공해 나갈 계획이다. 최근 빈번하게 등장하는 신조어가 하나 있다. 바로 ‘데이터 라벨링(Data labeling)’이다. 사람이 만든 데이터를 (AI)이 인식할 수 있도록 각 데이터에 정보를 붙여주는...', 'date': '2024.02.26.'}\n",
      "{'title': '인공지능폰 갤럭시Z 폴드6와 폼팩터 비슷한 얇은 스마트폰 아너 매직V2의 장점과 단점?(feat. 중국폰)', 'text': '인공지능폰 갤럭시Z 폴드가 티타늄 소재로 출시될 것으로 충분히 예상할 수 있는 가운데 중국폭 아너 매직V2는 어떤 장점과 단점이 있을까요. 중국폰이라고 쳐다보지 않을 수도... 애플이나 삼성은 서로 가격이 자존 jongamk.tistory.com 갤럭시Z 폴드6 커버 디스플레이 등 폼팩터의 변화와 티타늄소재 사용!! 및 동시번역 탑재 당연? 갤럭시Z 폴드6 커버...', 'date': '2024.01.31.'}\n",
      "{'title': '[인공지능 활용 강의] 오픈AI 소라(Sora)와 피카랩스(PikaLabs) 동영상 비교', 'text': '오늘 인공지능 활용 강의에서는 현재 시장에서 인기 있는 \"오픈AI의 소라(Sora)와 피카랩스(PikaLabs) 동영상\"에 대해 알아보겠습니다. 현재 오픈AI는 천문학적인 투자금을 유치하고 있습니다. 관련 내용은 다음의 링크를 확인하세요! 이 투자 기간에 맞추어 현존하는 가장 성능이 우수한 생성형 동영상 플랫폼에 대해 소개했습니다. 플랫폼 명은 소라(Sora)이며...', 'date': '2024.02.19.'}\n",
      "{'title': '삼성 갤럭시 S24 홍보 이미지 유출! AI 인공지능 기능과 스펙은?', 'text': 'AI 인공지능 기능과 스펙은? 영댕이 2024. 1. 14. 17:44 이제 다음 주면 삼성전자의 플래그십 스마트폰 갤럭시 S24 시리즈가 정식으로 공개될 예정입니다. 그리고 이미 중요한 정보들은... AI(인공지능) 관련 기능을 강화할 것으로 보이는데요. 최근의 트렌드를 반영한 개발 방향이라고 할 수 있습니다. 그런데 아직 이러한 기능들이 원활하게 동작하는 제품들은 많지...', 'date': '2024.01.14.'}\n",
      "{'title': '인공지능 관련 주, IA기업 한글과컴퓨터 한컴 AI 출시 내용 정리', 'text': '2) 단순 AI가 아닌 지능형 자동화 시장 공략 지능형 자동화를 뜻하는 IA는 인공지능(AI)를 활용하여 비즈니스 프로세스 관리, 로봇 프로세스 자동화 기술을 활용하여 전사적 법위에 의사결정을 간소화 및 확장 등 소프트웨어 자동화를 만드는 프로세스를 이른다. 한컴 어시스턴트를 중심으로 고객 및 산업별 비즈니스 프로세스 맞춤형 자동화 엔진을 만들어 시장을 공략할...', 'date': '2024.01.04.'}\n",
      "{'title': '포토샵 생성형 채우기 활용, 인공지능 사진으로 카드 뉴스 디자인 만들기!', 'text': '해당 기능을 활용하면 인공지능 사진을 바탕으로 인스타 카드 뉴스 디자인 만들기도 쉽고 빠르게 할 수 있기 때문에 콘텐츠 제작 시간을 크게 단축할 수 있어 현재 많은 여행, 음식... 그러면 3개의 결과물이 나오는데, 실제 촬영한 사진 같은 멋진 퀄리티로 사진이 생성돼요. 결과물 3개 중 하나를 선택하여 쓸 수 있으며, 만약 결과물이 마음에 들지 않으면 다시...', 'date': '2024.02.07.'}\n",
      "{'title': '[AIMD] 빅데이터와 인공지능(AI) 기술을 적용한 원전 설비 자동예측진단 시스템', 'text': '[AIMD] 빅데이터와 인공지능(AI) 기술을 적용한 원전 설비 자동예측진단 시스템 지난해 우리 사회를 뜨겁게 달군 이슈 중 “챗GPT”를 빼놓을 수 없습니다. 자율주행, 비서 로봇 등은... AIMD의 AI는 우리가 아는 그 인공지능 AI(Artificial Intelligence)를 말하는 게 맞습니다. M은 Monitoring(감시와 관찰), D는 Diagnosis(진단)을 뜻하고 AIMD를 우리말로 통칭하면 “통합예측진단...', 'date': '2024.02.13.'}\n",
      "{'title': '자동으로 PPT를 만들어주는 Gamma app (인공지능)', 'text': '© CoolPubilcDomains, 출처 OGQ 요즘은 생성형 인공지능의 시대다. 특히 chat gpt를 사용하지 않으면 정말 심각하다는 느낌이 들 때도 있는데, 특히 유사한 서비스들이 많아지면서 업무 자체가 많이 단축되고 자동화되는 것 같다. 오늘은 많은 업무 중 파워포인트를 빠르고 쉽게 자동으로 만들어주는 웹 사이트, Gamma app에 대해 알아보도록 하자. 우선은 chat gpt에서...', 'date': '2024.02.05.'}\n",
      "{'title': '인공지능이 그려주는 실사화의 수준', 'text': '인공지능의 발전이 기가 막힙니다. ChatGPT 로 촉발된 혁명이 어디까지 발전할지 궁금해집니다. 미드저니, 달리처럼 그림을 그려주는 이미지 생성형 인공지능에 관심이 많습니다. 특히 실사화를 그려주는 AI 에 주목하고 있습니다. 시간을 쪼개서 여러 기능을 공부해보고 있습니다. 배우기만 한다고 다는 아닙니다. 직접 만들어보고, 수익화를 위해서 이런 저런 노력을 하고...', 'date': '2024.01.11.'}\n",
      "{'title': '[1월 18일 마감시황] 애플도 인공지능(AI) 아이폰을 올해나 내년 중 출시', 'text': \"15%까지 올랐지만 투자자들은 다시 매수에 나섰음 '월가 공포지수' 변동성 지수(VIX)는 하락 애플이 3% 넘게 급등하면서 3대 지수를 모두 끌어올렸음 빅 7 종목들은 가격전쟁 우려가 다시 불거진 테슬라를 제외한 나머지 6개 종목이 일제히 상승 뱅크 오브 아메리카(BofA)가 애플도 (AI) 아이폰을 올해나 내년 중 출시하면서 아이폰 교체주기와...\", 'date': '2024.01.19.'}\n",
      "{'title': '갤럭시 S24 핵심인 온디바이스 AI 인공지능', 'text': '얼리어답터 리뷰/스마트폰 갤럭시 S24 핵심인 온디바이스 AI 인공지능 by 엔돌슨 2024. 1. 22. 갤럭시 S24 왜 인공지능 탑재된 온디바이스 AI 일까? 이제 언어의 장벽은 인공지능 앞에서 다 깨져버리는 것일까요? 이런 생각이 듭니다. 그리고 스마트폰이 개인 비서 역할을 더 잘해줄 수 있게 변해가는 중이라는 생각이 듭니다. 최근 출시된 삼성전자의 스마트폰인 갤럭시...', 'date': '2024.01.22.'}\n",
      "{'title': 'AI 인공지능 딥러닝 워크스테이션 조립컴퓨터 제작', 'text': 'AI 인공지능 딥러닝 워크스테이션 조립컴퓨터 제작 안녕하세요^^ 용산 조립컴퓨터 전문 최종문 실장 인사드립니다. 오늘은 인공지능 개발을 위해 제작된 워크스테이션 조립컴퓨터를 소개 합니다. 인텔 14세대 14900K 모델을 넣고 지포스 RTX 4090 그래픽카드를 넣어 구성한 조립컴퓨터 입니다. 수냉쿨러와 메모리 128G를 넣어 구성 하였습니다. 케이스는...', 'date': '2024.02.16.'}\n",
      "{'title': 'LG 사운드바 AI인공지능으로 진화한 입체음향 사운드를 담다', 'text': 'LG전자에서 인공지능으로 구현한 풍부한 입체 사운드는 물론 프리미엄 LG TV 시리즈와도 디자인을 꼭 맞춘 2024년형 LG 사운드바를 출시합니다. 이번 신제품은 사운드바와 TV... 이제 사운드바도 AI 인공지능의 중요성을 담고 있는 것을 확인할 수 있습니다. LG 사운드바 AI 입체 사운드 대표 모델인 S95TR은 세계 최초로 업파이어링 스피커 3개를 탑재한...', 'date': '2024.03.11.'}\n",
      "{'title': '농업 무인화를 위한 인공지능 수확 로봇 ‘로봉이’ - ㈜에스엔솔루션즈', 'text': '농업 무인화를 위한 인공지능 수확 로봇 ‘로봉이’ - ㈜에스엔솔루션즈 현재 농업 현장은 인력난과 고령화로 인한 문제로 많은 고충을 겪고 있으며 일손 부족 현상은 인건비 상승을 초래해 농식품 산업에 큰 악영향을 미치고 있다. 이에 수확용 로봇에 대한 관심도가 상승하고 있지만 아직 국내에서는 초기단계라 할 수 있다. 국내 농업용 로봇 브랜드 ‘고고팜’...', 'date': '2024.01.24.'}\n",
      "{'title': '엘지 로봇 스마트홈 AI 에이전트 반려동물 같이 현관 앞 마중!! 인공지능 로봇 가속화 기대(feat. LG전자)', 'text': 'LG전자의 인공지능 로봇 스마트홈 AI에이전트가 사용자와 가전제품의 허브 역할을 할 뿐만 아니라 퇴근하면 현관까지 마중 나오는 기특한 녀석입니다. 지금은 기대만큼은 아니지만 이젠 일상에서 로봇과 대화하며 가전제품을 자유롭게 컨트롤할 수 있는 시간이 빠르게 다가오고 있습니다. TV를 통해서 보게 되는 많은 로봇을 가정에서 가정에서 키우는...', 'date': '2024.01.03.'}\n",
      "{'title': '[인공지능 활용 강의] OpenAI 소라(Sora)와 피카랩스(PikaLabs) 인물 동영상 비교(2)', 'text': '오늘 인공지능 활용 강의에서는 현재 시장에서 인기 있는 \"오픈AI의 소라(Sora)와 피카랩스(PikaLabs)의 인물 동영상\"에 대해 알아보겠습니다. 저번 시간의 \"오픈AI 소라(Sora)와 피카랩스(PikaLabs)의 기본 동영상 비교\"는 아래 링크를 확인하세요~ \" 현존하는 가장 성능이 우수한 생성형 동영상 플랫폼의 소라(Sora)는 1분 이내의 동영상을 제작해 줍니다....', 'date': '2024.02.21.'}\n",
      "{'title': '천안시, 2040년 도시기본계획에 빅데이터·인공지능 더한다', 'text': '빅데이터, 인공지능 등 4차산업의 주요한 기술들이 우리 삶에 많은 영향을 끼치고 있는 요즘, 천안시는 도시 규모로 기술을 활용해 시민 여러분의 삶을 더욱 편안하고 안전하게 하고자 합니다. 천안시가 빅데이터 기반 인공지능을 활용한 ‘2040 천안도시기본계획’ 수립에 본격 착수한다는 소식을 전해드립니다! 지난 1월 4일, 천안시는 시청 중회의실에서 박상돈 시장과...', 'date': '2024.01.08.'}\n",
      "{'title': '미래를 지배할 인공지능 AI 관련주 7개', 'text': 'M7이란 황야의 7인을 뜻하는 Magnificent 7을 뜻하는 약자로 AI 기술력을 바탕으로 시장을 주도하고 있는 인공지능 관련주 7개를 의미하는데요. 여기에는 글로벌 시총 1, 2위인... 그리고 2020년대는 인공지능이 경제 성장을 주도할 것으로 예상되는데요. 프레지던스 리서치에 따르면 2022년 AI 시장은 약 4,541억 달러로 평가됐으며, 향후 10년 동안 연평균 20% 성장해...', 'date': '2024.01.10.'}\n",
      "{'title': '인공지능 AI판 앱스토어. GPT스토어', 'text': \"인공지능 기술이 전례 없는 속도로 발전하면서, 우리는 이제 누구나 자신만의 AI를 만들고 그 가치를 시장에 제공할 수 있는 새로운 시대의 문턱에 서 있는데요. 이러한 변화의 중심에는 인공지능 기술에 초점을 맞춘 새로운 플랫폼 'GPT스토어'가 있습니다. OpenAI가 지난 1월 출시한 'GPT스토어'는 구글플레이나 앱스토어와 유사한 역할을 하지만, 여기서 거래되는...\", 'date': '2024.02.20.'}\n",
      "{'title': '인공지능 광풍 속 AI 워싱에 주의 필요 (ft. SEC 게리 겐슬러)', 'text': '이번 주 증권거래위원회(SEC)의 게리 겐슬러 위원장은 인공지능에 대한 과대광고로 돈을 벌려는 기업들은 초기 기술이 비즈니스에 미치는 영향에 대해 거창하거나 거짓된 주장으로 투자자들을 유인하지 말아야 한다고 말했습니다. © steve_j, 출처 Unsplash 겐슬러는 기업은 AI와 관련된 운영, 법적, 경쟁적 위험과 비즈니스와의 관련성을 공개해야 할 의무가...', 'date': '2024.02.16.'}\n",
      "{'title': '인공지능&챗GPT 강의 추천 3편 - 생성형AI 뭐길래 난리일까', 'text': 'AI(인공지능)가 세상을 빠르게 바꾸고 있습니다. 저는 훗날 돌아보면 스마트폰 시대를 연 아이폰 혁명 같은 일이 아닐까 생각합니다. 아니, 그 이상의 큰 변화인 것 같다고요. 그런데 막상 챗GPT를 열어보면 이게 뭔지, 이걸 어떻게 써야할지, 왜 혁명이라 하는지 감이 잘 안 오죠. 챗GPT가 그린 LLM 개념 게다가 LLM(Large Language Model, 대형언어모델)이며 생성형 ...', 'date': '2024.01.24.'}\n",
      "{'title': 'AI 인공지능 재미나이로 작사하고 suno로 나만의 노래 쉽고 빠르게 작곡하기, 스마트폰강사', 'text': '스마트폰, 인공지능으로 안되는 것이 무엇일까 찾기 어려운 거 같은 요즘 시간되면 솔내거리 상인회에 참석해서 공부도 하고 서포트도 하고 있는데요, 문성식교수님, suno로 노래 만들기 교육을 하셨어요. AI 인공지능 재미나이로 작사하고 suno로 나만의 노래 쉽고 빠르게 작곡하기 스마트폰 활용교육 때 활용하면 좋겠죠! AI 재미나이로 작사하고 suno로...', 'date': '2024.02.15.'}\n",
      "{'title': 'Bing + Copilot, 마이크로소프트 검색에 인공지능을 더했다', 'text': \"그런데 Bing에 Copilot이라는 인공지능이 더해졌다. 더구나 코파일럿은 챗지피티4 기반이라 상당히 매력적이다. Bing + Copilot을 사용해 보자 위 링크를 클릭하고 따라가보자. 아래와... 우리는 검색과 인공지능을 함께 사용해 보기 위해서, 상단의 '검색' 메뉴를 클릭해보자. 아래와 같이 검색화면으로 이동하게 된다. 여기서 검색 창에 내가 원하는 내용을 검색해보도록...\", 'date': '2024.01.23.'}\n",
      "{'title': '한글과 컴퓨터 인공지능 AI 프로그램 한컴 어시스턴트', 'text': '최근 인공지능과 AI에 대한 관심이 많이 커졌습니다. 저 또한 그런데요. 그 중에서도 마이크로소프트의 코파일럿을 보고 많이 신기했던 기억이 있습니다. 한국판 코파일럿을 한글과... 한컴은 AI뿐 아니라, 이를 넘어선 IA 지능형 자동화 시장을 공략하는 사업전략을 11월 28일 기자간담회에서 밝힌 바 있습니다. IA란 Intelligent Automation으로 자동화 도구에 AI를 추가하여...', 'date': '2024.01.04.'}\n",
      "{'title': '한컴AI 인공지능 IA기업으로 발돋움', 'text': '한컴에서 한국판 코파일럿이라고 할 수 있는 인공지능 AI 프로그램인 한컴 어시스턴트를 내년 상반기에 출시한다고 합니다. 이번 한컴 어시스턴트는 스마트 문서 작성 엔진을 기반으로 여러 LLM(대형언어모델)과 연결되어 동작하는 AI 지능형 문서 작성 도구로 자연어로 명령하면 LLM을 거쳐 내용을 이해하고 의도를 분석해 자동으로 문서 생성을 도와주는 기술입니다....', 'date': '2024.01.11.'}\n",
      "{'title': '[미국주식] 오픈AI 물리학 난제 푸는 과학 인공지능 개발, 빅 테크 생성형 AI 로봇 경쟁', 'text': \"오픈AI, 물리학 난제 푸는 과학 인공지능 개발 IT 관계자에 따르면, 최근 오픈AI는 물리학 전공 교수들을 데이터 라벨러(Data Labeller)로 채용, 과학 AI 모델을 구축 중 데이터 라벨러 : 학습용 데이터를 수집, 가공하고 모델 성능을 향상하는 역할 담당 AI는 오류가 제거된 '클린 데이터'를 학습하면 성능이 극대화되는데, 이 역할을 물리학 교수들에게 맡긴 것....\", 'date': '2024.03.04.'}\n",
      "{'title': \"기업교육 정재승 교수 강연 '4차 산업혁명- 인공지능, 빅데이터?' 특강\", 'text': \"이번에 소개해드릴 강연 영상은 정재승 교수님의 강연 '4차 산업혁명- 인공지능, 빅데이터? 이게 다가 아니다' 특강 영상 입니다. 정재승 교수님은 호오컨설팅 연사섭외로 4차산업, 미래, 인공지능, 미래기술, 로봇, 미래사회, 과학, 뇌과학 등 다양한 분야의 기업교육 강연(특강)을 진행하고 계십니다. 그럼 정재승교수님 영상 바로 포스팅 시작하겠습니다. 이미 젊은...\", 'date': '2024.02.29.'}\n",
      "{'title': '기능 엘지 퓨리케어 공기청정기!! 인공지능 플러스 탑재 소비전력 최대 51.2% 절약 비밀!!(feat. LG)', 'text': '무엇보다 신제품 엘지 퓨리케어 오브제커렉션 360˚ 공기청정기는 인공지능(AI) 플러스 기능을 탑재해 제품이 알아서 공기질을 분석해 동작 세기를 조절하며 효율적으로 운전하며. 기존 인공지능 모드 대비 소비전력을 최대 51.2% 절약할 수 있어 전기료 절감에 도움이 됩니다. 다만 엘지 퓨리케어 공기청정기의 전체 전기료가 52.2% 절감 된 것이 아니라 ...', 'date': '2024.02.06.'}\n",
      "{'title': '1월 이슈 주식 차트분석 (챗GPT,이준석,인공지능,북한, 로봇 등)', 'text': '#인공지능 인공지능이 괜찮은 상승을 보여주고 있다. 최근 3개월동안 22%의 상승으로 하락의 폭이 크지 않는선에서 가격을 지켜가며 상승을 했기 때문에 투자를 하고 있었다면 점차 늘려가거나 일부 매도를 해서 수익을 실현하는 방법도 좋을 듯 하다. #코난테크놀로지 코난테크놀로지는 50일선 저항을 보여오다가 최근 20일선의 반등이 나오자마자 큰 상승이 나온...', 'date': '2024.01.07.'}\n",
      "{'title': '[대회홍보]제6회 연구개발특구 인공지능 경진대회', 'text': '매년 진행되어오던 연구개발특구 인공지능경진대회(AI SPARK CHALLENGE)가 개최됩니다. 이번은 6회 차입니다. 대회안내입니다. <제6회 2024 연구개발특구 AI SPARK 챌린지 개최> □대회 소개 ○연구개발특구 AI SPARK 챌린지란? -데이터 및 을 활용하여 연구개발특구 기업의 비즈니스 문제해결 및 사회문제 해결을 지원하는 경진대회로...', 'date': '2024.03.04.'}\n",
      "{'title': '인공지능(AI) 판사 찬반 논란', 'text': '인공지능(AI) 판사가 과연 도입이 가능할까요? 기술의 발달하면서 야구에서는 인공지능 판정, 축구에서는 라인크로스 판단 기술 등 여러 분야에서 인공지능(AI) 기술이 도입되고 있습니다. 법에 관에서도 인공지능(AI) 판사가 도입될 경우 윤리적 문제, 사법적 정의에 대한 영향을 끼칠 수 있습니다. 현재 사법 시스템에서는 기술을 이미 사용하고 있습니다....', 'date': '2024.01.25.'}\n",
      "{'title': '인공지능을 활용해서 얼굴 합성하기 ft.ReActor', 'text': '요즘 인공지능과 관련된 포스팅을 많이 하게 되는데요. 정말 빠른 속도로 발전하고 다양하게 활용할 수 있습니다. 오늘 포스팅에서는 PC에서 설치 후 이용할 수 있는... ▲ 같은 방법으로 얼굴 소스로 사용되는 source_image를 추가하고, 으로 얼굴 합성 후 변경된 결과를 저장할 수 있는 save image 노드를 만듭니다. 이제 [Queue Prompt] 버튼을...', 'date': '2024.01.07.'}\n",
      "{'title': '3대 혁신분야 - 스테이블코인 메타버스 인공지능 (ft. 와이 콤비네이터)', 'text': '3대 혁신 분야 : 스테이블코인, 메타버스, 인공지능 실리콘밸리 인큐베이터인 와이 콤비네이터는 스테이블코인, 메타버스, 인공지능(AI) 기술을 가장 유망한 혁신 분야로 보고 있습니다. 2월 15일에 발표된 연례 \"스타트업을 위한 요청\" 보고서에서 Y Combinator는 스테이블코인이 비용 효율적인 국경 간 결제 옵션으로서 엄청난 잠재력을 가지고 있으며, 증강현실...', 'date': '2024.02.23.'}\n",
      "{'title': '2025년 인공지능 디지털교과서 도입 대비, 수학·영어·정보 교과 교수·학습 방안 논의', 'text': '이후 교과별 학회 전문가, 교과연구회 및 전문적 학습공동체 등에서 활동하는 교원이 학교 현장에 적합한 교과별 인공지능(AI) 디지털교과서를 활용한 교수·학습 방법을 제안할 예정이다. 오석환 교육부차관은 “올해는 공교육 디지털 대전환을 위한 골든타임”이라고 말하며, “교실혁명의 주인공인 교사가 수업을 혁신할 수 있도록 맞춤 교원 연수와 함께 교과별...', 'date': '2024.01.30.'}\n",
      "{'title': '인공지능폰 갤럭시Z 폴드6 S펜 탑재해 출시될까? 카메라 스펙과 소재 변화로 가벼워진 무게 그리고...', 'text': '인공지능폰 갤럭시Z 폴드6가 출시되면 꾸준히 니즈가 있었던 S펜 탑재 여부에 관심이 많습니다. 아마도 인공지능폰 갤럭시Z 폴드6에 S펜이 탑재되어 출시된다면 매출량에 상당히 기여할 수 있지 않을까 싶습니다. 사실 S펜을 폰케이스에 장착하는 것은 영~ Flex되지 않고 불편하거든요. 7인치대의 대화면으로 한 번에 많은 콘텐츠를 볼 수 있는 매력 때문에 인기가...', 'date': '2024.02.12.'}\n",
      "{'title': \"[CES 2024] AMD AI 인공지능 NPU 탑재 '라이젠 8000G' 시리즈 1월 31일 출시\", 'text': \"실시간 라이브 방송으로는 오전 0시 AMD가 가장 먼저 발표를 시작했는데, 올해 CES의 화두는 이미 알려진대로 AI(인공지능)이고, AMD 역시 이에 맞춰 AI 인공지능의 핵심이 딥러닝을 처리할 수 있는 NPU를 탑재한 일명 '라이젠 AI'를 소개했다. 가장 먼저 출시되는 라이젠 AI CPU는 바로 1월 31일에 출시예정인 라이젠 8000G 시리즈다. 라이젠 8000G...\", 'date': '2024.01.09.'}\n",
      "{'title': '[CES 2024] 가정용 AI 인공지능 반려로봇 삼성전자 볼리, LG전자 AI 에이전트', 'text': '얼리어답터 리뷰/IT정보 [CES 2024] 가정용 AI 인공지능 반려로봇 삼성전자 볼리, LG전자 AI 에이전트 by 엔돌슨 2024. 1. 13. [CES 2024] 가정용 AI 인공지능 반려로봇 삼성전자 볼리, LG전자 AI 에이전트 2024년 CES에서 삼성전자와 LG전자가 각각의 혁신적인 AI 로봇을 공개하였습니다. 가정용 로봇 분야이라 귀엽고 집사로봇으로 가장에서 편의성을 도와주는 애완로봇입니다....', 'date': '2024.01.13.'}\n",
      "{'title': '쓰레기를 자동으로 분류하는 인공지능 로봇 ZenRobotics 4.0', 'text': '(동영상) 이렇게 인공지능 이미지 분류 기술을 이용한 인공지능 로봇은 사실 먼 미래의 이야기가 아니라 이미 현실로 다가온 이야기입니다. 일본 등 극심한 인력난을 겪는 국가에서도 이미 이런 시스템이 하나 둘 도입되고 있습니다. (관련 뉴스) 3D 업종을 기피하는 분위기인데다, 저출산 노령화 여파로 실제로 일할...', 'date': '2024.02.25.'}\n",
      "{'title': \"2023년 지방자치단체 우수 혁신사례 - 'AI(인공지능)를 이용한 미래지향적 돌봄∙ 치매예방서비스'\", 'text': \"2023년 지방자치단체 우수 혁신사례로 고양시 'AI(인공지능)를 이용한 미래지향적 돌봄∙ 치매예방서비스' 가 선정되어 국민체감도 평가를 진행 중이오니 투표 부탁드립니다... 이에 고양시에서는 돌봄, 치매취약계층을 위한 비대면 안부전화 서비스 ‘말벗로(老)벗 서비스’와 AI 스피커의 다양한 프로그램으로 일상생활 속 포괄적 건강관리 및...\", 'date': '2024.01.11.'}\n",
      "{'title': 'CXL 관련주 · 온디바이스 AI 인공지능, 삼성 갤럭시 s24 · 필라델피아 반도체 지수 급등', 'text': '온디바이스 · CXL 관련주 필라델피아 반도체 지수 급등 AI 인공지능·삼성 갤럭시 s24 미국 경기선행지수(LEI)는 지난해 12월 -0.1%로 21개월 연속 마이너스 행진을 보이고 있지만 다우존스30산업평균지수와 스탠더드앤드푸어스(S&P)500 지수 등 미국 지수는 (AI) 성장에 대한 기대감 등 반도체 관련주 들의 강세로 최고치를 경신하는 등 상승장을...', 'date': '2024.01.23.'}\n",
      "{'title': '대세는 인공지능...AI를 활용한 유튜브 마스터 기본과정 개강', 'text': 'AI 인공지능을 활용하여 빠르게 영상제작하는 방법 등 최신 영상제작 기법까지 다양한 수업이 진행됩니다. AI를 활용한 유튜브 마스터 기본과정 커리큘럼 커리큘럼은 다음과 같습니다. Ⅴ. 유튜브 동영상 마케팅의 기본 원리와 이점 이해하기 Ⅴ. 스마트폰으로 동영상 콘텐츠 및 쇼츠 제작 Ⅴ. 효과적인 동영상 콘텐츠 편집 방법 Ⅴ. 챗GPT 등 AI 을 이용한 빠른...', 'date': '2024.03.08.'}\n",
      "{'title': '인공지능 교육 받고 AI개발자가 되는 방법', 'text': '지난해 인공지능 챗봇 ChatGPT가 공개된 후 AI에 대한 관심이 급격히 커지고 있는데요. 현재 대부분의 기업에서 자사의 제품 및 서비스에 인공지능을 접목하고 있습니다. 이에 따라 자연스럽게 관련 인력에 대한 수요가 크게 증가하고 있는 반면 공급은 크게 부족한 상황입니다. 소프트웨어 정책연구소가 발표한 AI 산업 실태조사에 따르면 설문에 응답한 1,915개 기업...', 'date': '2024.03.07.'}\n",
      "{'title': '재미로 보는 인공지능의 2024년 암호화폐 전망', 'text': '인공지능의 빅뱅은 2022년 말 OpenAI의 ChatGPT 대규모 언어 모델 AI가 공개되면서 폭발적으로 증가했습니다. ChatGPT의 붐으로 인해 다른 업체들도 이 독점적 지위에 도전장을 내밀었고... 코인텔레그래프는 인공지능이 2024년에 가치 있는 통찰력을 제공할 수 있는지 살펴봅니다. 비트코인이 2024년에 사상 최고치를 경신할까? © wildbook, 출처 Unsplash 구글의 바드는...', 'date': '2024.01.07.'}\n",
      "{'title': '직장인자기계발 뿐만 아니라 취업준비 챗GPT 인공지능까지 한번에', 'text': '이직 뿐만 아니라 직장에서 능력을 인정 받거나 업무를 빨리 끝내고자 함에 있어서 챗 GPT 이용과 인공지능을 결합해서 업무효율을 높이고자 계획을 저도 했었는데 ... 공부를 해야겠죠~~~ 2024년에는 챗GPT와 관련 인공지능 서비스를 완전히 무한히 마스터할 것으로 한도 끝도 없이 계획했지만 새해가 밝아온지 10여일만에 정신 차리고 공부를 시작하기로 했습니다....', 'date': '2024.01.17.'}\n",
      "{'title': '인공지능 업무16가지 생성형 AI 활용법', 'text': '요즘 다양한 인공지능 서비스가 참 많습니다. 앞으로는 더 많이 만들어 질 것 같은데요. 뉴스를 보면 구글이나 네이버 등 많은 기업들이 새로운 인공지능 서비스를 런칭하고 있고요. 중동을 포함해서 세계 여러나라들이 인공지능에 올인하는 뉴스를 종종 보게 됩니다. 현재에 나와있는 서비스도 참 많이 있는데요. 이런 서비스를 잘 사용하는 것이 유저...', 'date': '2024.01.28.'}\n",
      "{'title': '피부암을 진단하는 인공지능 기기', 'text': '이 기기의 이름도 더마센서로 탄성 산란 분광기 (elastic scattering spectroscopy (ESS)) 기술과 인공지능 알고리즘을 이용해 피부암 가능성이 높은 병변을 감별합니다. 더마센서는 피부에 빛을 발사해 피부 조직에서 산란되는 정도를 확인합니다. 이 패턴을 학습한 알고리즘은 앞서 말한 세가지 피부암 가능성을 바로...', 'date': '2024.01.30.'}\n",
      "{'title': '인공지능 딥러닝 파이토치와 구글 코랩으로 배우는 BERT 입문', 'text': '인공지능을 공부하는 사람들에게 BERT는 낯설지 않은 단어인데요. 아시는 분들도 많이 계실 것 같아요. BERT은 Bidirectional Encoder Representations from Transformers의 약자로, 구글에서... 본격적으로 인공지능을 설명하는데요. 읽기만 해도 이해할 수 있을 정도로 아주 깔끔하게 정리가 됐습니다. 디자인도 블루톤으로 심플하고요. 저자가 일본인이라 일본어가...', 'date': '2024.01.26.'}\n",
      "{'title': '인공지능 채용 - 2024 이어드림스쿨 4기 ai 교육생 모집(AI기술인력 스타트업 양성)', 'text': '인공지능 채용 - 2024 이어드림스쿨 4기 ai 교육생 모집(AI기술인력 스타트업 양성) 안녕하세요. 취업비서 인크루트 입니다. 오늘은 AI개발자로 성장하길 희망하는 분들에게 반가운 소식이 있어서 내용을 정리해드리겠습니다. 중소벤처기업진흥원에서 진행하는 채용 - 2024 이어드림스쿨 4기 ai 교육생 모집(AI기술인력 스타트업 양성)이 2024.02.26까지...', 'date': '2024.02.19.'}\n",
      "{'title': '파일 요약을 해주는 인공지능 서비스 Word Tune', 'text': \"마찬가지로 파일을 요약하고 글쓰기를 도와주는 인공지능 서비스다. 우선 웹 사이트 접속을 한다. 위 이미지를 클릭하면 접속이 가능하며, 검색창에 wordtune이라고 검색해도 된다. 자주 사용하는 계정으로 가입을 한다. 사용하는 목적 선택하기. 선택이 모두 끝났다면 Let's go 크롬 확장 프로그램도 있다. 바로 설치가 가능하다. 다양한 방식의 사용이 가능하다....\", 'date': '2024.02.18.'}\n",
      "{'title': 'AI시대 인공지능시대 일자리 미래와 인력양성 전략', 'text': 'Keys키스의 투자스케치 [Back지식] AI시대 인공지능시대 일자리 미래와 인력양성 전략 2024. 3. 13 KIET 산업연구원 ■ 국내기업의 인공지능 도입률은 4% 수준으로 여전히 낮고 경제성과는 아직 가시화되지 않았으나, 본격적인 시대에 대비한 선제적 대응 필요 - 2022년 전체 4% 수준으로 매우 낮고, 최초 도입 이후 사용을 지속하고 있다고 응답한 기업은...', 'date': '2024.03.15.'}\n",
      "{'title': '인공지능 사관학교 제5기 교육생을 모집합니다!', 'text': '과학기술정보통신부와 광주광역시가 함께하는 AI 고급인재 양성사업 인공지능 사관학교 제5기 교육생을 모집합니다! 기간 2024. 01. 02. (화) ~ 2024. 02. 29. (목) 모집대상 인공지능에 관심있는 만 18세 ~ 만 39세 미취업자 청년 * 대학(원) 휴학 및 졸업생, 취업준비생 누구나 가능 (학력, 전공, 성적, 거주지 등 조건 없음) 교육내용 이론 및 실습 교육 과정 및...', 'date': '2024.01.08.'}\n",
      "{'title': 'ICT인공지능 AI 무료교육 충청ICT이노베이션스퀘어 교육생 모집', 'text': 'ICT인공지능 AI 무료교육 충청ICT이노베이션스퀘어 교육생 모집 안녕하세요. 취업비서 인크루트 입니다. 2024년 ICT이노베이션스퀘어 확산사업으로 진행되는 충청ICT인공지능 AI 무료교육 과정에 대한 정보, 교육생 모집 일정과 상세 교육 안내 정보에 대한 부분을 알려드리겠습니다. 모집 기간과 교육대상 및 접수 방법과 수강혜택까지 전문적인...', 'date': '2024.03.13.'}\n",
      "{'title': 'EBS와 협력하여 인공지능(AI) 디지털교과서 개발을 지원하다!', 'text': '첨부파일 [교육부 03-11(월) 조간보도자료]EBS와 협력하여 인공지능(AI) 디지털교과서 개발을 지원하다!.pdf 개발사가 인공지능(AI) 디지털교과서 개발에 활용할 수 있도록 한국교육방송공사(EBS) 영상, 평가문항 등 지원 풍부한 교육 콘텐츠를 (AI) 디지털교과서에 담아 학생 맞춤교육 지원 교육부(부총리 겸 교육부장관 이주호)와 한국교육방송공사(사장...', 'date': '2024.03.10.'}\n",
      "{'title': '슬립리스 에이아이 인공지능 AI 코인 바이낸스 상장 호재', 'text': '슬립리스 에이아이 인공지능 AI 코인 바이낸스 상장 호재 안녕하세요? 꿈자본가입니다. 오늘은 바이낸스에 상장하는 AI 코인 슬립리스 에이아이 코인에 대해 소개해... 바이낸스 슬립리스 에이아이 인공지능 AI 코인 상장 바이낸스에는 슬립리스 에이아이 AI 코인이 7시에 최초로 상장합니다. 요 포스터는 최근에 열심히 메타를 잘 따라다니는 코인원의 포스터를...', 'date': '2024.01.04.'}\n",
      "{'title': '인공지능과 함께 보다 똑똑해지는 철도관제! 스마트 철도관제시스템', 'text': '이러한 관제시스템중에 인공지능(AI)의 발전을 통한 수혜를 입는 교통관제시스템의 분야는 바로 ‘철도’입니다. 우리나라는 2023년 12월부터 2026년까지 스마트철도관제시스템의... 두 번째는 인공지능과 결합한 관제지원시스템입니다. 관제지원시스템에는 철도운행과 유지보수와 관련된 다양한 빅데이터를 수집하는 것을 넘어 이를 분석하고, 데이터시각화를 하면서...', 'date': '2024.02.06.'}\n",
      "{'title': '인공지능 완슨이 만든 영화 모건 예고편', 'text': \"인공지능을 소재로 한 모건이라는 SF 영화의 예고편을 IBM 왓슨에게 만들도록 했습니다. '모건'은 루크 스콧 감독이 2016년 개봉한 SF 스릴러 영화다. 이 영화는 모건이라는 이름의 인공적으로 만들어진 인간형 생명체의 이야기를 중심으로 전개된다. 영화는 기업 위험 관리 컨설턴트인 리 웨더스(케이트 마라 분)가 모건이 제기하는 잠재적인 위험을 평가하기 위해...\", 'date': '2024.01.29.'}\n",
      "{'title': '[대구카톨릭대학교 명품외식CEO 아카데미] 인공지능을 활용한 외식업 창업과 경영 특강', 'text': '소상공인을 위한 인공지능 활용법을 가르치고 있는 김영갑 교수입니다. 대구카톨릭대학교 명품외식CEO 아카데미 인공지능을 활용한 외식업 창업과 경영 식당 카페 등의 외식업 경영자를 위한 챗GPT, 코파일럿, 제미나이 등의 챗봇 활용법을 자세하게 알려드리겠습니다. 이제 외식업으로 성공하기 위해서는 을 활용하는 능력이 반드시 필요한 시대가...', 'date': '2024.03.09.'}\n",
      "{'title': \"'인공지능 대전환(AX)' 시대가 열렸다\", 'text': \"생성형 AI가 빠르게 발전하면서 이제는 인공지능을 단순히 활용하는 개념을 넘어, 산업의 체질을 바꾸는 핵심 기술로 활용하는 '인공지능 전환(AI Transformation, AX)' 시대가 다가오고 있습니다. 인공지능 기술을 통해 산업 생태계와 업무 혁신을 이끌어내는 것인데요. 미래의 디지털 경제 시대에 대비하고 경쟁력을 유지하기 위한 필수적인 요소 ' 전환(AX)...\", 'date': '2024.02.23.'}\n",
      "{'title': '2023년 인공 지능 툴 순위-Top 10 AI Tools', 'text': '기대와 두려움에 대한 논란 속에도 온통 인공 지능에 관한 소식과 이야기가 무성하다. 일상 속으로 파고들고, 기업마다 접목하여 활용하려는 움직임이 눈에 보인다. 유료... 그는 \"2023년이 대중에게 대대적으로 인상을 준 범용 생성형 챗봇의 한 해였다면, 2024년은 초점을 좁히는 전문화의 한 해가 될 것이다\\'라고 전망한다. 가장 인기...', 'date': '2024.01.26.'}\n",
      "{'title': '배경음악(BGM) 찾기 비법: 인공지능 추천이 탁월했던 이유 (빙AI Copilot & 챗GPT)', 'text': '____ 세상에~ 내가 노래 추천하고 고맙다는 소리를 다 듣고~(그렁그렁) AI야, 나랑 오래오래 같이 살자 딱 어울리는 배경음악 찾는 방법 인공지능 필수 AI 챗봇 서비스 Top 3 MS의 빙AI... 먼저 시를 복붙해 알려주고 시에 대해 과 얘기를 나눈 후 요구사항을 말해도 됩니다. 대화는 그렇게 하는 거니까요. 원하는 음악의 분위기나 장르가 있다면 구체적으로...', 'date': '2024.01.29.'}\n",
      "{'title': '[하우스 트렌드 모음.zip] 라이프스타일 체인저, 인공지능', 'text': 'zip의 이번 주제는요, ‘라이프스타일 체인저, 인공지능’입니다. 주거, 집안일 등 우리의 삶을 이루는 여러 분야가 인공지능의 영향을 받고 있는데요. 그 영향으로 어떤 변화가 일어나고 있는지 함께 알아볼까요? 우선 인공지능(AI)에 대해서 간단하게 소개하자면 은 컴퓨터에서 음성 및 작성된 언어를 보며 이해하고 변역하면서 데이터를 분석하고...', 'date': '2024.01.25.'}\n",
      "{'title': \"〈Simulant〉 ; 인공지능, '인간적'이 될수록' 인간의 적'이 되는가?\", 'text': '거울이 인공지능 SF영화다. 이 글을 쓰는 시점에서 인공지능을 다룬 가장 최근 SF영화는 11월 2일 개봉했던 에이프릴 멀린 감독의 신작 <시뮬런트(Simulant)〉다. 인간의 지능적인 행위를... 지구 역사에서 대멸종은 지구라는 무대에서 상연되는 연극의 주인공이 바뀌는 과정이다. 그런 맥락에서 인류세는 이란 포스트휴먼을 우리 종 후계자로 우리 스스로가...', 'date': '2024.02.23.'}\n",
      "{'title': '제조업에 인공지능(AI) 입힌다!', 'text': '‘인공지능(AI) 자율 제조 마스터플랜’ 수립 착수 산업통상자원부가 제조업의 공정 혁신과 생산성 제고를 통한 산업 대전환을 위해 ‘인공지능(AI) 자율 제조 마스터플랜’ 수립에... 이에 산업부는 ▲지능형 생산 ▲첨단장비 결합 ▲자율제조 시스템 등을 중심으로 한 마스터플랜을 상반기 중 수립할 계획입니다. 한편, 이날 간담회에서 참석 기업들은 산업 AI가 제조업...', 'date': '2024.03.07.'}\n",
      "{'title': '은퇴한 시니어가 인공지능을 배워야 하는 이유?', 'text': '은퇴한 시니어가 인공지능을 배워야 하는 이유? 은퇴자들이 인공지능(AI)을 배우고 활용하는 것은 그들이 현대 기술과 연결되어 있도록 돕고, 새로운 기술을 익히는 즐거움을 제공합니다. 이를 프로그램에 통합하는 것은 은퇴자들이 자신의 삶을 풍요롭게 하고, 지식을 확장하며, 심지어 새로운 경력 기회를 탐색하는 데 도움이 될 수 있습니다. 다음은 은퇴자들이...', 'date': '2024.03.03.'}\n",
      "{'title': '최재천의 곤충사회 인공지능과 함께 하게 될 진짜 인간사회란?', 'text': '손잡지 않고 살아남은 생명은 없기 때문입니다 인공지능과 인간이 함께 하게 될 세상, 우리가 맞이하게 될 새로운 세상. 그리고 기존에 있던 세상. 우리는 어떤 세상과 함께 하게... 저는 인공지능과 기술, 데이터를 통해 세상을 보는 사람인데요. 최재천 교수의 관점을 통해 앞으로의 세상을 바라보려해요. 관점에 또 다른 관점을 더 해보는 거죠. 책에서는 미리 말하고...', 'date': '2024.02.26.'}\n",
      "{'title': '시력 저하 환자를 돕는 인공지능 웨어러블 기기 AiSee', 'text': 'Suranga Nanayakkara)가 이끄는 연구팀은 시력이 거의 상실되어 손에 든 물건이 무엇인지도 잘 보이지 않는 시력 저하 환자를 돕는 인공지능 웨어러블 기기인 AiSee를... 참고 https://newatlas.com/wearables/aisee-wearable-blind-object-recognition/ https://news.nus.edu.sg/ai-powered-eye-for-visually-impaired-people/ ##시력저하#AiSee#웨어러블', 'date': '2024.02.13.'}\n",
      "{'title': '인공지능(AI)은 어떻게 학습할까?', 'text': '인류가 만들었지만 인류의 지능을 뛰어넘는 기술이 등장했다. 바로 인공지능(AI)이다. 단순 반복의 작업부터, 인간의 고유 영역이라고 생각됐던 예술 분야까지 섭렵한 AI. 그렇다면 AI는 어떻게 학습하는 것일까? 인간을 닮은 AI? AI는 ‘컴퓨터로 구현한 지능 또는 이와 관련한 전산학의 연구 분야(TTA 정보통신 용어사전)’로, 인간의 인지능력(언어·음성·시각...', 'date': '2024.01.22.'}\n",
      "{'title': '무료로 이용할 수 있는 인공지능(AI) 툴 추천', 'text': \"유튜브 링크만 붙여넣으면 AI가 자동으로 내용을 요약해주고, AI 음성 인식 기능을 통해 자막을 자동으로 생성하는 등 인공지능을 활용한 다양한 플랫폼이 개발되고 있습니다. 무료로 이용할 수 있는 인공지능(AI) 툴, 윤커뮤니케이션즈와 함께 살펴보세요! 유튜브 URL만 붙여넣으면 AI가 자동으로 요약 '릴리스(Lilys) AI' 유튜브 영상의 URL을 붙여넣으면 요약해주는...\", 'date': '2024.03.08.'}\n",
      "{'title': '2024년을 흔들 인공지능 온디바이스 AI', 'text': '오픈 AI 가 본격적인 생성형 AI의 상용화를 알렸고 여러 빅테크와 인공지능 스타트업도 생성형 AI를 발전시켰습니다. 2024년 생성형 AI 대중화를 앞당길 새로운 트렌드가 또 등장했습니다. 바로 올해의 주인공이 될 온디바이스AI입니다. 생성형 AI가 사람들을 깜짝 놀라게 만든 기술이였다면 온디바이스 AI는 이 생성형 AI를 어떻게 사용할지 관한 트렌드입니다....', 'date': '2024.01.03.'}\n",
      "{'title': '여행 그리고 여행의 미래를 재구성하는 인공지능과 혁신', 'text': '그러나 최근 여행 업계는 기술의 급격한 발전, 특히 생성형 인공지능의 등장으로 큰 변화를 맞이하고 있다. 인공지능이 소비자들에게 여행에 대한 경험을 어떻게 변화시키고, 이러한 변화가 미래의 여행 트렌드에 어떤 영향을 미칠지 생각해 보는 시간을 가져보자. (1) 가상 여행 경험 은 현실과 구별하기 어려운 가상 여행 경험을 제공하게 될 것이다. 사용자가...', 'date': '2024.01.21.'}\n",
      "{'title': '인공지능 첨단 스마트팜 개발 기술 전시 - AI TECH+', 'text': '인공지능 첨단 스마트팜 개발 기술 전시 전남농업기술원(원장 박홍재)은 8월 30일부터 3일간 광주 김대중컨벤션센터에서 동시 개최되는 ‘그린&아그리텍 아시아 2023’과 ‘AI TECH+’에서 농산업 AI 혁신기술 고도화 국제컨퍼런스와 전라남도의 스마트팜 우수성과를 전시했다. 농업기술원에 따르면 스마트팜 우수성과 전시에는 한전과 공동...', 'date': '2024.01.19.'}\n",
      "{'title': '포화된 인공지능 시장 블루오션을 찾는 방법! #휴넷CEO', 'text': '인공지능 시장, 이미 레드오션 아닌가요? 많은 산업분야와 기업들이 인공지능 기술을 도입하려 하면서, AI시장은 이미 경쟁자들로 가득해 보입니다. 시장 내 경쟁력을 갖추기 위해선 어떤 접근 방식이 필요할까요? 휴넷CEO를 통해 알아보겠습니다 *휴넷CEO는 매일 분야별 프리미엄 인사이트를 제공하고 있어요. 매일 아침 꼭 알아야 할 핵심 인사이트를 만나보세요...', 'date': '2024.01.05.'}\n",
      "{'title': '뉴로메카-마음AI, 로봇·인공지능 융합으로 ‘무인화 시대’ 연다', 'text': '협동로봇 업체 뉴로메카와 인공지능 기술 업체 마음AI가 힘을 합친다는 소식입니다. 무인화 솔루션을 개발하겠다는 포부에 의한 협력인데요. 어떤 내용일지 궁금합니다. ‘로봇 기술 및 인공지능을 통한 무인화 솔루션 개발 공동 사업’ 업무협약 맺어 무인화 식음료 로봇 모델 개발에 가속도 뉴로메카와 마음AI가 무인화 솔루션 개발에 힘을 합친다. 이번...', 'date': '2024.03.15.'}\n",
      "{'title': '삼성 갤럭시 S24 홍보 이미지 유출! AI 인공지능 기능과 스펙은?', 'text': 'AI(인공지능) 관련 기능을 강화할 것으로 보이는데요. 최근의 트렌드를 반영한 개발 방향이라고 할 수 있습니다. 그런데 아직 이러한 기능들이 원활하게 동작하는 제품들은 많지 않은 편이어서 과연 얼마나 원활하게 동작할지가 성공 포인트라고 할 수 있습니다. 갤럭시 S24 시리즈의 AI 기능을 살펴보면 화면에 표시되는 이미지나 비디오 그리고 텍스트...', 'date': '2024.01.14.'}\n",
      "{'title': '인공지능 회고-AI in 2023: A Retrospective', 'text': '2023년, 우리는 인공지능 분야에서 괄목할 만한 발전을 목격했다. 획기적 기술 발전과 깊은 윤리적 문제를 실감하며 다양한 방면에서 인공지능이 우리 삶과 일상에 지대한 영향을 칠 것을 예감하고 있다. 1년을 돌아본다. ■ ChatGPT 시대: 생성형 AI가 중심이 되다 2023년 눈에 띄는 혁신 중 하나는 범용성을 인정받은 유비쿼터스 챗봇인 ChatGPT였다. 출시 2달...', 'date': '2024.01.10.'}\n",
      "{'title': '헬스케어도 인공지능 시대! 의료 생성형 AI를 네이버 클로바로 만나다', 'text': \"헬스케어도 인공지능 시대! 의료 생성형 AI를 네이버 클로바로 만나다 안녕하세요? 태스입니다 '생성형AI'가 등장하고 일상 속으로 스며들은 지금, IT업계의 모든 판도가 뒤바뀌었다고 봐도 무방할 정도로 큰 변화가 있는 상황입니다. 생성형 AI는 문자 그대로 LLM(대규모 언어 모델)을 기반으로 스스로 문장을 생성한다는 점에서, 이전까지 우리가 이라...\", 'date': '2024.03.11.'}\n",
      "{'title': '#인공지능 기반의 문서자동화를 통한 물류 효율성 극대화', 'text': '적용해야할 \"인공지능 기반의 문서자동화를 통한 물류 효율성 극대화\" AI와 물류의 만남: 문서자동화로 여는 효율성의 새 지평 국제물류업계(포워딩기업)는 복잡하고 반복적인 문서 작업으로 인해 상당한 시간과 비용이 소요되고 있습니다. 이러한 문제는 물류업계 전반에 걸쳐 비효율성을 초래하며, 이는 고스란히 고객의 부담으로 이어집니다. 그러나 최근 ...', 'date': '2024.01.22.'}\n",
      "{'title': '제주도농업기술원, 인공지능 이용 만감류 생육정보 수집 연구', 'text': '제주도농업기술원 인공지능 이용 만감류 생육정보 수집 연구 제주특별자치도 농업기술원(원장 고상환)은 정확한 빅데이터 수집 체계를 개발하기 위해 인공지능 기술을 활용한 생육정보 수집 시스템 연구에 나선다. 최근 기후변화와 농촌인구 감소, 고령화 등으로 농업의 어려움이 가중되며 과 빅데이터에 기반한 스마트농업이 미래농업의 대안으로 부각되고...', 'date': '2024.01.21.'}\n",
      "{'title': '인공지능 관련주 기업 알아보기', 'text': '다양한 정보를 포함한 인공지능 관련 기업들 1. SK텔레콤 SK텔레콤은 한국에서 가장 대표적인 통신사로서 AI 기술을 활용한 다양한 서비스를 제공하고 있습니다. 통신사 시장에서의... 주요 제품으로는 서비스 로봇과 산업용 로봇이 있으며, 과 로봇 기술을 결합하여 혁신적인 서비스를 제공하고 있습니다. 특히, 기술을 활용한 교육용 로봇인...', 'date': '2024.02.06.'}\n",
      "{'title': '클로드 3 최강의 인공지능으로 평가받는 이유', 'text': '그러나 역시 세상에 1위 2위가 나타나듯 텍스트 검색 기반으로 하는 인공지능 시장에도 새로운 경쟁자가 나타났습니다. 바로, 클로드 3가 그 주인공입니다. 어떤 점이 다른지 왜 chat gpt보다 낫다고 하는 것인지 살펴보겠습니다. gpt를 넘어선 현재 클로드 3는 IQ 100을 넘긴 으로 평가받고 있습니다. 시장에서는 AI계의 롤스로이스다 LLM모델인데 현재...', 'date': '2024.03.18.'}\n",
      "{'title': '우리 아이들이 살아갈 세상 : 인공지능과 로봇', 'text': '앞으로 다가올 새로운 세상, 인공지능(AI)과 로봇이 가져올 혁신은 예전의 인터넷과 스마트폰이 만들어 낸 것들과 많이 다르지는 않을까 싶은 생각이 들었네요. 인공지능(AI)은 인간보다 스마트하며, 로봇은 인간보다 힘이 세고 지치지 않기에 지적능력이 필요한 모든 직업군은 이, 신체능력이 필요한 모든 직업군은 로봇이 충분히 인간을 대체할 수 있기...', 'date': '2024.02.28.'}\n",
      "{'title': '인공지능이 추천하는 설날 선물 TOP 10', 'text': '인공지능이 추천하는 설날 선물 TOP 10 설날 선물을 고르시는 데 도움이 되어 기쁩니다! 설날 선물 TOP 10은 다음과 같습니다. 1. 건강식품 선물세트 요즘 건강에 대한 관심이 높아지면서... 때에는 받는 사람의 취향과 생활 패턴을 고려하는 것이 중요합니다. 또한, 선물의 의미와 가치를 생각하여 선택하는 것이 좋습니다. ☞ 활용 : Bard.google.com #설명절선물 #설날선물', 'date': '2024.02.01.'}\n",
      "{'title': '[한빛미디어] GPT-4를 활용한 인공지능 앱 개발', 'text': '올리비에 케일린 , 마리 알리스 블레트, 이일섭, <GPT-4를 활용한 인공지능 앱 개발> 한빛미디어, 2023 2022년 11월 챗GPT가 세상에 소개된 이후로, 2023년은 생성형 AI가 사회의 변화를... \" #GPT4 #GPT4를활용한인공지능앱개발 # #생성형AI #챗GPT #프롬프트엔지니어링 #RAG #검색증강생성 #올리비에케일린 #마리알리스블레트 #이일섭 #한빛미디어', 'date': '2024.02.15.'}\n",
      "{'title': '이것이 인공지능이다 (김명락), ChatGPT가 나온 지금 읽기에는 좀 아쉬운 (4)', 'text': '이것이 인공지능이다 저자 김명락 출판 슬로디미디어 발매 2020.07.24. 자신의 생각과 상상력을 넓혀라. 초기 인공지능이 어떻게 발전해 왔는지 그 과정과 사례를 담고 있다. 다만 ChatGPT로 인공지능에 대한 관심이 어느 때보다 높은 지금 포함하는 범위도 그렇고 사례도 그렇고 충분하지 않은 느낌. 얼마 전 OpenAI가 ChatGPT 스토어를 공개하고 기업형 요금제도...', 'date': '2024.01.15.'}\n",
      "{'title': '[고객사례] 경상북도교육청 \"인공지능 플랫폼 자료실 구축으로 교육 디지털 전환을 선도합니다\"', 'text': \"네이버클라우드의 서비스를 활용하여 인공지능 플랫폼 자료실을 구축한 '경상북도교육청'이 오늘 고객사례의 주인공입니다! 경상북도교육청의 이번 도입 사례는 '하이퍼클로바 X'를 융합해 혁신적이고 새로운 서비스를 전국 최초로 도입한 경북교육청 디지털 전환의 핵심 사업이라고 하는데요, 경상북도교육청이 교육 디지털 전환 파트너로 네이버 클라우드...\", 'date': '2024.01.08.'}\n",
      "{'title': '노래를 만들어 주는 인공지능 서비스 suno.ai', 'text': '아이들에게 코딩을 가르치면서 요즘에는 인공지능에 대해서 공부를 하고 있습니다. 이번에 재미난 인공지능 서비스가 있어서 소개합니다. 바로 노래를 만드는 인공지능 서비스인데요. 수노입니다. 일단 인터페이스가 간단한데요. 마우스 휠를 넘기면 Make a song for your friend.가 바뀌면서 다양한 노래를 들어 볼 수 있습니다. 메이키송(상단 위)을 누르면...', 'date': '2024.01.07.'}\n",
      "{'title': '인공지능 ETF BOTZ로 알아보는 글로벌 로봇 AI 관련주', 'text': '들면 인공지능을 바탕으로 여러 상황에 직접 대응하고 더 유연하게 작업함으로써 생산성 향상시킬 수 있습니다. 이외에도 머신 런닝, 비전 기술, 자율 주행, 의료, 서비스 등 다양한 분야에서 상호보완적 요소를 갖습니다. Verified Market Research의 보고서에 따르면 2020년에 41억 달러 규모였던 로봇 시장은 2028년까지 연평균복합성장률 27.2% 기록하며...', 'date': '2024.02.14.'}\n",
      "{'title': '인공지능이 인간에 미치는 영향이 상상을 초월하고 있다.', 'text': \"특히 이러한 급속한 가속은 머지않아 '일반인공지능(AGI)'을 낳을 것이며, 그렇게 되면 AI는 인간의 개입 없이도 스스로 지능을 향상시킬 수 있게 될 것이라는 설명이다. 예를 들어 Google의 AlphaZero AI가 처음 켜진 후 단 9시간 만에 최고의 인간이나 다른 AI 체스 플레이어보다 체스를 더 잘 두는 방법을 배운 것과 같은 방식으로 이 작업을 수행한다는 것이다....\", 'date': '2024.02.07.'}\n",
      "{'title': 'AI 인공지능으로 사진 보정도 일괄 편집! 사진관 창업 필수 추천 프로그램', 'text': '이제는 사진 보정도 AI 인공지능으로 편집할 수 있게 됐습니다. 기존에도 포토샵을 비롯한 여러 프로그램이 있어왔지만 아무래도 전문가가 아니라면 만족스러운 결과물을 쉽게 얻을 수 없다는 단점이 있었는데요. 지금 소개드릴 Evoto AI 사진 편집 전문 도구는 AI 기술을 도입하여 누구나 쉽고 간단하게 만족스러운 작업 결과물을 얻을 수 있는 사진 보정...', 'date': '2024.01.03.'}\n",
      "{'title': '[챗GPT, 코파일럿, 재미나이 등의 인공지능 생활화] 생성형 AI 시대 소상공인 식당 경영자가 사는 방법?', 'text': '#식당경영자이삶 #인공지능기술활용 #인공지능의생활화 안녕하세요. 온라인마케팅 MBA 김영갑교수입니다. 급변하는 시대 식당 경영자로 성공하기 위해 어떻게 살아야 하는걸까? 정말 막막하죠? 생성형 AI 의 시대입니다. 소규모 식당 경영자의 하루는 기술을 이용하여 효율성을 극대화하고, 고객 경험을 향상시키며, 경쟁력을 유지하는 데 초점을 맞출 수...', 'date': '2024.02.16.'}\n",
      "{'title': '재활용품 시장에 인공지능과 비즈니스 혁신을 더하다 : 수퍼빈', 'text': '김정빈 대표는 인공지능 전문가도 아니지만 인공지능을 성공적으로 비즈니스에 접목했고, 세계은행 직원들도 수퍼빈의 사례를 배우려고 내한했다고 한다. 김정빈 대표는 어떻게 재활용품 시장에 인공지능을 접목시켰을까? 김정빈 대표님의 강연 내용을 Q&A 형식으로 정리하였다. Q. 수퍼빈에 대한 소개 부탁드립니다 수퍼빈은 순환경제(Circular Economy) 비즈니스 모델을...', 'date': '2024.03.04.'}\n",
      "{'title': '삼성 갤럭시 S24 울트라에 탑재된 AI(인공지능) 기능 살펴보니?', 'text': '이번에 발표된 삼성전자의 갤럭시 S24 울트라의 가장 핵심 기능은 AI(인공지능) 기능을 별도의 네트워크나 클라우드 연결 없이 기기 자체에서 온디바이스로 실행시킬 수 있다는 점입니다. 그럼 이번 포스팅에서는 갤럭시 S24 울트라의 주요 특징과 함께 어떤 기능을 탑재했는지를 자세하게 확인해 보도록 하겠습니다. 갤럭시 S24 울트라의 디자인적인...', 'date': '2024.01.22.'}\n",
      "{'title': '인공지능(AI), 메타버스 등 신기술을 활용한 직업훈련 혁신을 지원합니다.', 'text': '훈련기관에 프로젝트 학습(PBL) 등 새로운 교수법이나 생성형 인공지능(AI), 메타버스 등 디지털 수업 지원 도구 활용방안을 제시합니다. 해당 기관의 훈련 직종, 훈련시설 등을 고려하여 효과적인 훈련방식을 추천하고, 효과를 모니터링하여 피드백까지 제공하는 시스템으로 진행될 예정입니다. 지원절차 컨설팅 신청 ⇨ 컨설턴트 배정 ⇨ 컨설팅 실시 ⇨ 컨설팅 결과...', 'date': '2024.02.16.'}\n",
      "{'title': '[서울소셜리딩그룹] 토요포럼 532회 - 전종현 교수님의 오늘의 뉴스와 AI 이미지 편집 강의 후기', 'text': '2024년 1월 20일 토요일 오전 9시 30분부터 12시까지 서울소셜리딩그룹 토요포럼 532회 - 전종현 교수님 오늘의 뉴스와 AI 인공지능 이미지 편집 강의에 참석해서 공부했어요. 매주 토요일은 교육, 특별한 일 없으면 서울소셜리딩그룹 토요포럼에서 공부하고 간혹 교육도 합니당. 서울소셜리딩그룹 토요포럼 532회 - 전종현 교수님의 오늘의 뉴스와 AI ...', 'date': '2024.01.21.'}\n",
      "{'title': \"'인공지능' 을 주제로 개인 홈페이지를 만들었습니다. (인공지능 특허)\", 'text': \"'인공지능' 을 주제로 개인 홈페이지를 만들었습니다. (인공지능 특허) 안녕하세요. 김상종입니다. 이번에 필요하다 생각하여 '인공지능' 을 주제로 개인 홈페이지를 만들었습니다. 곧 대학원에서 '신학' 을 배우는 것과 더불어 이제까지 쌓은 이력에 조화를 이루어 나아가려 하는 방향이 저의 경우는 '' 과 '영어' 인데요. 이러한 배경에서 이 3가지 방향으로...\", 'date': '2024.02.22.'}\n",
      "{'title': '저렴한 폴더블폰 맞나? 화웨이 포켓S 스펙을 보니 출시 예정인 인공지능폰 갤럭시Z 플립6와 비교 불가!!', 'text': '물론 하반기에 출시될 인공지능폰 삼성 갤럭시 플립6과 비교하는 것은 자체가 무리니까 가볍게 좀 더 저렴한 폴더블폰도 있구나 정도로만 접근하면 어떨까 싶네요. 중국폰... 쿠팡 파트너스 활동의 일환으로, 이에 따른 일정액의 수수료를 제공받습니다 폰 갤럭시Z 폴드6와 폼팩터 비슷한 얇은 스마트폰 아너 매직V2의 장점과 단점?(feat. 중국폰)...', 'date': '2024.02.07.'}\n",
      "{'title': '갤럭시 S24, 인공지능(AI) 껴안다', 'text': '챗GPT 광풍이 휘몰아치는 지금 스마트폰은 인공지능(AI) 기술을 활용하는 플랫폼으로의 기회를 엿보고 있다. 삼성도 마찬가지. 삼성은 1월 18일 공개한 최신 갤럭시 시리즈 ‘갤럭시 S24’에 인공지능을 끼얹어 통화를 하면서 거의 실시간 번역이 되는 AI 실력 향상에 힘썼다. 삼성이 갤럭시 S24를 통해 구현하는 활용법을 소개한다. “혹한다. 실시간 통역”...', 'date': '2024.01.18.'}\n",
      "{'title': '김대식 교수의 어린이를 위한 인공지능 추천', 'text': \"먼저 인공지능에 대한 개념을 이해하는 것이 좋겠죠. 교수님은 인공지을 이렇게 설명합니다. 기계로 만들어진 사람의 두뇌 인공지능과 함께 로봇이란 단어가 많이 쓰이고 있는데요. 원래 로봇이라는 말은 '일하다', '노예'를 뜻하는 체코어 로보타(Robota)에서 왔다고 해요. 앞으로는 로봇과 이 합쳐진 휴머노이드 로봇이 많이 생겨나겠죠. 우리 주변에서 많이...\", 'date': '2024.01.02.'}\n",
      "{'title': '아이폰16 프로 맥스 온디바이스 인공지능(AI) 탭재할까? 자체 AI 챗봇 Apple GPT 개발(feat.폰)', 'text': '애플의 자체 AI챗봇 Apple GPT를 개발하고 있어 빠르면 아이폰16 프로 맥스에 온디바이스 인공지능(AI)을 사용할 수 있게 되지 않을까 기대해 봅니다. 삼성의 갤럭시S24 시리즈에 인공지능 기술을 선보이면서 인공지능폰 전쟁이 시작되었기 때문입니다. 삼성은 갤럭시S24 시리즈의 역대급 사전예약으로 고무되어 갤럭시Z 플립6와 갤럭시Z 폴드6도 폰으로...', 'date': '2024.01.29.'}\n",
      "{'title': \"딸아이 재테크 [26] - 삼전우 2주 매수 (ft. 2024년 증시 키워드는 '로봇'과 '')\", 'text': '개인적으로 인공지능과 관련된 제품을 판매하면서 느낀점은 일반적인 제품 보다 인공지능이 탑재된 제품이나 솔루션이 확실히 우수한 성능을 발휘하더군요. 인공지능이 탑재된 제품의 성능은 비록 우수하지만 굳이 단점을 꼽으라고 한다면 딥러닝을 위해 반드시(?) 고성능 GPU가 탑재된 그래픽카드가 필요한 부분입니다. 근무중인 회사에서 2020년 부터 ...', 'date': '2024.01.08.'}\n",
      "{'title': '[인공지능 활용법 강의] 미드저니(Midjourney) describe 기능 및 효율적인 사용법', 'text': '(미드저니 자체에서 인공지능이 이미지를 보고 프롬프트를 생성합니다!) 그 후 Imagine all을 클릭! 4개의 프롬프트를 이용한 이미지가 생성이 됩니다. [이미지 1] [이미지 2] [이미지... (공상과학 영화나 만화의 소재로는 적합할 것 같네요) 미드저니 Describe 효율적으로 사용하기 그럼 Describe를 통해 이 작성해 준 프롬프트를 더 효율적으로 활용하는...', 'date': '2024.01.31.'}\n",
      "{'title': '[인공지능 수업] 튜링 테스트 Turing Test 활동 가이드', 'text': '인공지능에 관심있는 독자라면 튜링테스트에 대해 알 것 같습니다. 튜링테스트는 1950년 앨런 튜링이 제안한 시험입니다. 앨런튜링은 영국의 수학자, 컴퓨터과학자로 케임브리지... 인공지능 챗봇에게도 동일한 문제를 주고 답을 적게 합니다. 6. 이제 이 답변을 가져와서 질문자에게 어느 것이 컴퓨터인지 찾아 보게 합니다. 질문자에게 자신이 선택한 대답지가...', 'date': '2024.01.29.'}\n",
      "{'title': '인공지능 수혜주 슈퍼마이크로컴퓨터, 엔비디아 수혜주 SMCI', 'text': '인공지능 산업이 강해질수록 돈을 잘 버는 기업중의 하나가 엔비디아입니다. 강력한 처리능력을 지닌 엔비디아 GPU는 없어서 못팔고 있습니다. 이러한 와중에 엔비디아 GPU를 잘... 인공지능 수혜주 슈퍼마이크로컴퓨터, 엔비디아 진짜 수혜주 SMCI AI 칩과 서버와 데이터 센터 관계 먹이사슬 구조 AI는 데이터를 학습하여 그 결과 활용하는...', 'date': '2024.01.21.'}\n",
      "{'title': '갤럭시S24 실시간번역 된다고? 삼성 비스포크 AI 콤보, 똑똑한 인공지능 세탁건조기', 'text': '삼성 비스포크 AI 콤보, 똑똑한 인공지능 세탁건조기 Khai IT리뷰 / 디지털.가전 2024. 3. 11. 19:54 요즘 인공지능 AI 스마트폰 갤럭시S24 울트라를 쓰면서 인공지능의 편리성을 제대로 경험하고 있습니다. 그런데 이런 갤S24 기술이 접목된 Ai 세탁기가 등장해서 화제를 몰고 있습니다. 요즘에 세탁기와 건조기가 합쳐진 세탁건조기가 시장에서 등장 하면서 큰...', 'date': '2024.03.11.'}\n",
      "{'title': '엔비디아 사운드하운드 AI 주식 매수 (ft. 인공지능 분야 확장)', 'text': '기업 가치는 무려 1조 8천억 달러에 달하며, 그 중 1조 달러 이상의 가치가 지난 12개월 동안에만 인공 지능(AI) 워크로드를 처리하도록 설계된 차세대 데이터센터 칩을 통해 창출되었습니다. 이제 엔비디아는 새롭게 창출한 부의 일부를 AI 산업의 다른 분야로 확산하고 있습니다. 지난주 증권거래위원회(SEC)에 13F 양식을 제출하여 다른 AI 기업에 대한...', 'date': '2024.02.20.'}\n",
      "{'title': 'OpenAI sora 인공지능 영상 제작 소개', 'text': 'OpenAI Sora openai는 ChatGPT로 유명한 인공지능 관련 회사입니다 텍스트 기반 인공지능인 ChatGPT 그림 생성 인공지능인 DALL E 그리고 드디어 영상 기반 인공지능인 Sora까지 출시가 됐습니다 아직 사용자들이 써볼 수는 없지만 몇 가지 데모 영상이 공개됐는데요 상상이상으로 퀄 리티가 높고 앞으로 딥러닝으로 발전할 걸 생각하면 정말 많은 부분을 대체하겠구나 싶습니다...', 'date': '2024.02.27.'}\n",
      "{'title': \"오픈AI 'GPT스토어' 관련주 (인공지능 앱스토어 출시) 폴라리스오피스 / 이스트소프트 / 캡스톤파트너스...\", 'text': '솔트룩스 (304100) 시가총액 3752억 유동주식비율 80.65% 배당수익률 x 솔트룩스는 대화형 인공지능(Conversational AI)및 기계학습 기반 빅데이터 증강분석이라는 2가치 핵심 원천기술 기반으로 총 9개의 STUDIO 제품을 출시하였습니다. 주요 사업분야는 엔터프라이즈 AI 디지털플랫폼 정부 금융서비스 지능화 AI 컨택센터(AICC) 공공안전과 국방 AI학습데이터 구축 및 모델링...', 'date': '2024.01.07.'}\n",
      "{'title': 'Webtoon Ai Painter, 네이버에서 제공하는 인공지능 채색기, 포토샵 생성형 채우기로 배경 채우기', 'text': \"요즈 인공지능이 정말 큰 화제인데요, 네이버에서 제공하는 인공지능 채색기인 'WEBTOON AI PAINTER'를 활용해 자동채색을 해봤습니다. 아울리 배경은 포토샵CC2024에서 제공하는 생성형 채우기로 해보았습니다. WEBTOON AI PAINTER https://ai.webtoons.com/ko/painter 'WEBTOON AI PAINTER는 네이버에서 딥러닝 기술을 이용하여 제공하는 자동채색 기능입니다. PC와 모바일버전...\", 'date': '2024.03.03.'}\n",
      "{'title': '갤럭시Z 플립6 출시 앞두고 인공지능 탑재 외에 카메라 성능 및 배터리 용량을 포함한 알려진 스펙은?...', 'text': '티타늄 소재 사용 및 인공지능 그리고 동시통역 기능은 기본적으로 적용되겠죠. 갤럭시Z 플립6에 대한 소식은 전작보다 더 큰 배터리 용량을 제공할 것이라는 소식입니다. 제일 반가운 소식 중에 하나가 아닐까 싶습니다. 팩을 개발할 수 있다는 소식이 전해지고 있습니다. 전작의 배터리 용량은 3700mAh이지만 갤럭시Z 플립6의 배터리 용량은 300mAh 늘어난...', 'date': '2024.02.10.'}\n",
      "{'title': '인공지능은 경제를 어떻게 변화시킬까? by Krugman', 'text': '인공지능의 발전이 경제에 미칠 영향에 대한 크루그먼 교수의 생각이 잘 정리된 것 같아, 소개합니다~ 인공지능이 경제를 변화시킬까요? 2022년 가을부터 인공지능에 대한 긍정적이든 부정적이든 버즈가 급증했습니다. 최근 몇 달 동안 가장 유명한 기술인 ChatGPT의 사용량이 감소하면서 이러한 버즈는 어느 정도 수그러든 것으로 보입니다. 하지만 이것이...', 'date': '2024.03.12.'}\n",
      "{'title': '인공지능과 물류 자동화: 포워딩 산업의 새로운 지평', 'text': '인공지능과 물류 자동화: 포워딩 산업의 새로운 지평 전통적인 포워딩 업계는 오랫동안 수작업과 낡은 시스템에 의존해 왔습니다. 이메일과 문자, 그리고 다양한 물류 실행자들과의 끊임없는 소통은 시간과 노력을 많이 요구하는 일이었습니다. 하지만 이제, (AI)과 물류 자동화 솔루션을 통해 이러한 과정을 혁신할 수 있는 기회가 도래했습니다. #A 기반 문서...', 'date': '2024.01.22.'}\n",
      "{'title': 'Al for Oceans 이용해 인공지능 학습시키기, 딥러닝의 뜻', 'text': 'Al for Oceans 사이트를 이용하여 인공지능을 학습시켜보겠습니다. 이렇게 인공지능을 학습시키는 것을 딥러닝이라고 합니다. 딥러닝의 뜻 딥러닝이란 컴퓨터가 스스로 외부 데이터를 조합, 분석하여 학습하는 기술을 뜻합니다. 딥러닝의 고안으로 이 획기적으로 도약하게 되었습니다. 사진출처 : 케이티코리아 컴퓨터가 인간처럼 판단하고 학습할 수...', 'date': '2024.03.05.'}\n",
      "{'title': '퀀텀 코인 호재 인공지능 AI 출시 예고 전망', 'text': '오픈 AI로 시작한 인공지능 테마가 잠시 주춤하고 있는 와중에 이러한 연계점과 호재로 현재 급등하고 있는 코인이 있다. 바로 업비트에 상장되어 많은 수량이 거래되고 있는 퀀텀 코인(QTUM)에 대한 호재로 정말 별 내용이 아니라고 생각할 수 있으나 현재 시장이 반응하고 있는 만큼 관련 정보 빠르게 공유해 본다. 이 강세라 너무 AI에 편승하는 부분은...', 'date': '2024.03.04.'}\n",
      "{'title': 'AI 인공지능 관련 코인 업비트 빗썸 상장 목록', 'text': '바로 인공지능(AI) 관련 코인으로 약 1개월 동안 100%~400% 이상 상승하는 엄청난 시세 형성을 보여주고 있는 상황에서 최근 오픈 AI, 마이크로소프트, 엔비디아 등 대기업들의 투자와... 빗썸, 업비트 상장 인공지능 AI 관련 코인 목록 *업비트의 경우 해당 테마가 많지 않으며 중복되기에 부연 설명으로 포함해두겠다. 1. 월드코인(WLD) 오픈 AI CEO 샘 알트먼이 개발에...', 'date': '2024.03.03.'}\n",
      "{'title': '인공지능과 저작권 쟁점별 구체적 정책 방안 마련한다', 'text': '인공지능과 저작권 쟁점별 구체적 정책 방안 마련한다 - 2. 19. 전병극 차관 주재 ‘2024 인공지능-저작권 제도개선 워킹그룹’ 1차 회의 개최 - 학계, 법조계, 권리자, 사업자, 산업기술계 의견 청취, 쟁점별 분과 회의로 분야별 전문가와 함께 합리적 대안 모색 문화체육관광부(장관 유인촌, 이하 문체부)는 한국저작권위원회(이하 위원회)와 함께 2월 19일(월) 오후, ‘2024...', 'date': '2024.02.19.'}\n",
      "{'title': '[1130] 인공지능 다크호스, 팔란티어에 투자를 해야할까?', 'text': \"인공지능 시대의 수혜주라고 하는데 팔란티어에 대한 정보를 데스크서치를 해보았어요. ·미국의 인공지능(AI) 데이터업체. 미국의 인공지능 관련 산업의 다크호스. ·팔란티어는 2019년 12월 미 육군과 맺은 4년간 4억5800만달러 규모의 '아미 밴티지' 데이터 관리 프로그램에 대한 계약을 지난해 연말 1년 연장하는데 성공함. 이로써 최대 1억1500만 달러의 매출을...\", 'date': '2024.03.17.'}\n",
      "{'title': 'AMOM ETF가 주도하는 인공지능(AI) 투자', 'text': '현대의 투자 세계에서 인공지능(AI)의 역할이 점점 중요해지고 있습니다. 여러분이 투자시장에 발을 들여놓을 준비가 되었다면, AI가 주도하는 투자 전략, AMOM ETF에 주목해야... 인공지능 기반 투자 전략 인공지능(AI)을 활용하여 투자 결정을 내리는 접근 방식을 채택합니다. AI 기반 전략은 대규모 데이터 분석을 통해 시장의 모멘텀을 정확하게...', 'date': '2024.03.08.'}\n",
      "{'title': '한컴AI와 IA기술을 이용 인공지능 빅테크 기업으로 변신중인 한컴', 'text': '하나는 챗GPT로 자연어로 질문을 하면 미리 제공된 데이터로 학습한 인공지능이 자신의 지식을 토대로 답변을 합니다. 챗GPT와 구글 바드가 대표적인 서비스인데 이런 생성형 AI의... AI를 넘어서 지능형 자동화인 IA 시장을 지향하는 한컴 우리가 AI 기술을 사용하려는 이유 중 가장 큰 목적은 시간 단축입니다. 사람이 행하는 작업을 AI가 아주 빠르고 사람보다 더...', 'date': '2024.01.11.'}\n",
      "{'title': '비트코인 1억원 돌파, 인공지능이 예측한 4차 반감기 비트코인 시세는?', 'text': '반감기 이후 비트코인 가격에 대해 인공지능에게 질문하고 받은 답변을 토대로 정리한 표입니다. 4차 반감기 이후 2.8~7.1배 정도 상승할 것으로 예상하고 있었습니다. 1차 반감기... 4차 반감기 1년 후 비트코인 가격이 최대 30만 달러까지 올라갈 것으로 예상한 의 예측이 얼마나 맞을지도 궁금하네요. 차트에서도 보시면 2차, 3차 반감기 후 시차를...', 'date': '2024.03.12.'}\n",
      "{'title': 'ChatGPT 활용 교통 분야 인공지능 및 머신러닝의 활용', 'text': '두 번째는 인공지능 및 머신러닝 등 방법론을 활 용하는 데 있어 모델 자체의 성능을 높이는 하이 퍼파라미터 등의 변수는 연구자가 스스로 조정해 야 한다. 예를 들어 인공신경망 예측 방법론의 경 우 활용하는 데이터 셋의 크기와 유형에 따라 모 델의 성능을 높일 수 있는 Batch Size, Epoch, Validation 등의 값은 연구자의 판단과 기준에 따라 값을 조정해야...', 'date': '2024.02.07.'}\n",
      "{'title': '골렘 코인 호재 인공지능 AI 전망 기대감', 'text': '섹터인 인공지능(AI) 관련 내용이라 기대를 모으고 있으니 참고하시기 바란다. * 관련 사항은 하단에 첨부해두겠다. ※ 본 글은 투자 권유 및 추천의 글이 아니며 모든 투자에 대한... 골렘 생태계의 뛰어난 미래를 발견할 준비가 되었느냐는 말과 함께 가장 먼저 포착하라는 말과 함께 NextBigThing이라는 태그로 현재 골렘이 (AI) 연계된 무언가를 발표할...', 'date': '2024.03.03.'}\n",
      "{'title': '한글과컴퓨터 한컴 인공지능 AI전략과 IA선도하는 빅테크기업으로의 도전!', 'text': '한글과컴퓨터 한컴 인공지능 AI전략과 IA선도하는 빅테크기업으로의 도전! 회사에서 업무를 처리하다보면 늘 비슷한 문서를 반복적으로 작성해야 하는 경우도 많고, 비슷한 문서를... 내년 상반기 베타 서비스 출시를 목표로 한 한컴 어시스턴트는 한컴(한글과컴퓨터)가 개발한 스마트 문서 작성 엔진으로 여러 대형 언어모델(LLM)과 연결되어 동작하는 AI지능형...', 'date': '2024.01.03.'}\n",
      "{'title': '인공지능 기능 강화! 생성형 AI 기능 탑재된 삼성전자 갤럭시 버즈 알아보기', 'text': '무선 이어폰 ‘갤럭시 버즈’를 끼면 실시간 통역이 가능하도록 인공지능(AI) 기능을 강화했습니다. 오늘은 생성형 AI 기능 탑재로 인공지능 기능이 강화된 삼성전자의 갤럭시 버즈에 대해 알아보겠습니다. 출처: 삼성 뉴스룸 새롭게 업그레이드된 갤럭시 버즈는 핸즈프리 AI 기능을 도입하여 갤럭시 S24 시리즈의 여러 AI 혁신 기능을 더욱 원활하게 사용하도록...', 'date': '2024.02.29.'}\n",
      "{'title': 'HANARO 글로벌생성형AI액티브 ETF 인공지능 성장에 대처하는 투자', 'text': \"24년 1분기의 투자에서 메인 키워드는 역시 '인공지능'이지 않을까 생각합니다. 그 중심에는 빅 테크들이 있었고, 각종 대화형 인공지능인 챗봇들이 대중에게 보급이 되면서 쉽게 접하게 되고, 일반화되면서 많은 정보량을 처리하기 위해 서버를 증설하고, 많은 반도체 수요를 일으키고, 더 좋은 소프트웨어, 다양한 분야에서의 활용 등이 더해지며...\", 'date': '2024.02.26.'}\n",
      "{'title': '한국어 특화 생성형 AI 인공지능 개발도구, 클로바 스튜디오(CLOVA Studio)', 'text': '국내 인공지능 시장을 선도하기 위한 노력을 기울이고 있죠. 클로바 스튜디오를 통해 기업이 보유한 자체 데이터와 HyperCLOVA X를 결합하여 해당 비즈니스에 특화된 생성형 AI... 기업들은 CLOVA Studio의 다양한 인공지능 기능들을 통해 자사의 비즈니스 업무 효율을 향상시킬 수가 있고, 이미 여러 기업과 단체에서 하이퍼클로바X를 적용한 서비스를 운영하고...', 'date': '2024.03.07.'}\n",
      "{'title': '中 샤오미 CEO, 인공지능을 9년 의무교육에 포함시켜야', 'text': '中 샤오미 CEO, 인공지능을 9년 의무교육에 포함시켜야 지난 4일부터 열린 중국 양회에서 전국인민대표대회 대표이자 샤오미（小米）그룹 회장 겸 CEO인 레이쥔이 ‘저탄소’와 ‘지능’의 두가지 방향을 둘러싸고 대회에 4가지 건의를 제안했습니다. 그중 〈 인재양성을 강화하여 과학기술 변혁의 수요를 만족시킬 데 관한 건의〉에서는 을 9년...', 'date': '2024.03.06.'}\n",
      "{'title': '[자영업자 챗GPT, 제미나이, 코파일럿 인공지능 활용법] 소상공인 외식업 창업, 경영, 마케팅', 'text': \"소상공인 자영업자를 위한 인공지능 활용법 강의를 진행하고 있는 김영갑 교수입니다. 오늘은 대구카톨릭대학교 명품외식CEO 아카데미에서 '인공지능을 활용한 외식업 창업, 경영, 마케팅' 특강을 진행합니다. 자영업자 및 소상공인이 외식업 창업, 경영, 마케팅에 챗GPT, 제미나이, 코파일럿 같은 (AI) 도구를 활용하는 것은 비즈니스 운영의 효율성을 높이고...\", 'date': '2024.03.12.'}\n",
      "{'title': '삼성 언팩 갤럭시 S24 AI 인공지능을 만나다', 'text': '오프닝 영상에서는 역시 인공지능에 대한 기대감으로 포문을 열었는데요, 오늘은 신제품 출시 소식 중 AI 파트를 집중적으로 전해드릴게요. 온디바이스 AI 초반부터 깜짝 놀랄 소식을... 카메라 파트에서도 인공지능이 접목되었는데, 갤럭시 S24 울트라를 기준으로 설명을 이어갔습니다. 저조도 환경에서 나이토그래피와 줌을 활용하여 촬영한 영상을 보여주더라구요....', 'date': '2024.01.18.'}\n",
      "{'title': '구글 홈미니 AI 인공지능 스피커 네스트미니', 'text': \"오늘은 구글의 스마트 인공지능스피커 기기인 '구글 홈 미니'와 그 후속작 '네스트 미니'에 대해 이야기해 볼까 합니다. 이 두 AI 스피커는 우리의 일상을 편리하게 만들어주는 스마트한 기능들로 구성되어 있는데요. 자세히 살펴보겠습니다. 지금 시작할게요 : ) 구글홈 스피커 구글홈미니 1세대는 2018년 9월에 출시했는데요. 구글이 개발한 음성인식 스마트 스피커로...\", 'date': '2024.02.16.'}\n",
      "{'title': '통신사 신년 키워드는 ‘인공지능(AI)·디지털 혁신’', 'text': 'SK텔레콤, KT, LG유플러스 등 이동통신 3사 CEO가 신년사 핵심 키워드로 \\'인공지능(AI)ㆍ디지털혁신\\' 등을 제시했는데요. 기존 통신사업을 기반으로 하면서도, 인공지능(AI), 디지털 전환, 플랫폼, 정보통신기술(ICT) 전문성 강화를 통해 미래 먹거리를 확보해야 한다고 강조했습니다. SKT \"글로벌 AI 컴퍼니 성과 거두는 해\" 먼저, 유영상 SK텔레콤 사장은 신년사에서...', 'date': '2024.01.04.'}\n",
      "{'title': '인공지능의 새로운 바람, 한글과컴퓨터 한컴 AI 사업 전략부터 IA 선도하는 빅테크 기업으로!', 'text': \"한글과컴퓨터(이하 한컴)가 인공지능(AI) 분야에 진출하며 '글로벌 빅테크' 기업으로의 도약을 준비하고 있습니다. 한컴은 지난 11월 28일 AI 사업 전략 발표회 및 한컴 얼라이언스... 여기에 한컴은 AI를 넘어 IA(지능형 자동화) 시장을 선두하고자 하는데요. IA 라는 개념이 조금 생소하실텐데, IA는 자동화 도구에 AI를 추가한 것으로 산업 전반에 걸쳐 적용할 수 있는...\", 'date': '2024.01.03.'}\n",
      "{'title': '인공지능의 발전이 기대되는 2024년 새해 인사', 'text': '인공지능은 테크 분야에서서 가장 뜨거운 이슈이기도 한데요. 다양한 디바이스에 AI가 탑재되고 있고, 주식 쪽을 보자면 AI 열풍이 나스닥을 견인하는 모양새입니다. 미국 타임지가 뽑은 올해의 CEO는 오픈 AI의 샘 알트만이 차지하기도 했죠. 샘 알트만은 타임지와의 인터뷰에서 의 비용은 낮아지고 퀄리티는 상승해서 2024년에 SF 소설 같은 미래가 펼쳐질...', 'date': '2024.01.01.'}\n",
      "{'title': '2024년 인공지능에 특화된 유망직업 10가지', 'text': '딥러닝 엔지니어 딥러닝 엔지니어는 인공지능의 심층적인 이해를 바탕으로 복잡한 문제를 해결하는 혁신가입니다. 이들은 인간의 뇌가 작동하는 방식을 모방한 인공신경망(Artificial Neural Network)을 사용하여, 복잡한 데이터 패턴을 학습하고 인식하는데요. 딥러닝 기술은 컴퓨터 비전, 자연어 처리 등 다양한 분야에 걸쳐 활용되며, 이러한 기술을 개발하고 최적화하는...', 'date': '2024.02.08.'}\n",
      "{'title': '[인공지능cctv] 반갑다문구야 무인문구점 경기 양주옥정점 내 인공지능CCTV 설치 후기', 'text': '인공지능CCTV설치로 보다 안전한 AI영상보안시스템을 구축해보세요. 가입문의 1666-0068 #자비스넷 #cctv설치 #경기cctv #양주cctv #경기양주cctv #cctv #지능형cctv #양주무인문구점 #무인문구점 #무인문방구 #인공지능cctv #지능형CCTV #cctv영상분석 #반갑다문구야 #시외cctv #반갑다문구야양주옥정점 #경기문구점 #절도감시CCTV #침입감지cctv #반갑다문구야cctv #경기양주시cctv', 'date': '2024.03.18.'}\n",
      "{'title': '로봇과 인공지능 ETF BOTZ, BOTZ ETF 분석 및 전망', 'text': '로봇과 인공지능 ETF BOTZ, BOTZ ETF 분석 및 전망 BOTZ ETF 보유종목 분석 BOTZ ETF 펀드명은 Global X Robotics & Artificial Intelligence로 로봇과 인공지능 투자 ETF임을 알 수 있습니다. 운용수수료은 0.69%로 높은 편이고, BOTZ ETF 배당률은 0.2%로 적습니다. 펀드 규모는 24억 달러이며, 거래량은 90만주 정도로 거래에 불편하지는 않습니다. BOTZ ETF TOP 10 종목을...', 'date': '2024.02.02.'}\n",
      "{'title': '인공지능 시대에 살아남는 소상공인의 노하우? 컨셉과 콘텐츠를 블로그에 써라', 'text': '인공지능 시대에 소상공인이 블로그를 꼭 써야 하는 이유? 인공지능이 학습할 식당 콘텐츠를 여러분이 제공해야 합니다 인공지능 시대에 맞춰 식당 경영자들이 블로그를 통해 전문적인 콘텐츠를 제작하는 것은 매우 중요한 전략이 될 수 있습니다. 기술이 발전함에 따라, 이러한 기술들은 대량의 데이터를 분석하여 사용자에게 개인화된 추천을 제공하게 됩니다....', 'date': '2024.02.03.'}\n",
      "{'title': 'Velo AI 코파일럿 - 인공지능 안전한 자전거 라이딩', 'text': 'Velo AI 코파일럿 - 인공지능 안전한 자전거 라이딩 Velo AI가 선보인 자전거용 인공지능 제품인 Copilot은 안전과 혁신을 하나로 묶었습니다. Velo AI Copilot 크기는 92 x 95 x 35mm이며, 가벼운 330g의 무게를 자랑합니다. 이 USB 타입-C 장치는 1080p의 고해상도 영상을 제공하며, 최대 5시간의 사용이 가능합니다. Copilot은 동영상 녹화, AI 기반 예측 분석, 시각적 경고...', 'date': '2024.03.18.'}\n",
      "{'title': '2024년 1월 기준 생성형 인공지능 서비스 TOP 100', 'text': '안데르센 호로비츠에서 발표한 생성형 인공지능 TOP 100 상위 50개 AI 우선 웹 제품 순위 웹과 모바일 세대 AI 제품을 두 개의 개별 목록으로 분리했습니다. 웹 순위와 마찬가지로, 모바일 앱 순위는 센서타워 데이터(2024년 1월 기준)에 따라 월간 활성 사용자 수에 따라 정렬되었습니다. 아래에서 살펴볼 것처럼 소비자들이 웹과 모바일에서 세대별 AI와...', 'date': '2024.03.17.'}\n",
      "{'title': '전설의 폰티악 파이어버드: 전격 Z 작전 속 인공지능 자동차 키트', 'text': \"전설의 폰티악 파이어버드: 전격 Z 작전 속 인공지능 자동차 키트 입력: 2024년 1월 20일 토요일 © ITcools 전격 Z 작전에 등장하는 폰티악 파이어버드는 1980년대에 큰 인기를 끌었던 미국 TV 드라마에서 중요한 역할을 했던 자동차입니다. 이 드라마는 을 탑재한 자동차 '키트(KITT)'가 등장하며, 이 자동차는 1982년식 폰티악 파이어버드를 기반으로...\", 'date': '2024.01.20.'}\n",
      "{'title': \"[인공지능 활용법] 미드저니 이미지 프롬프트로 '카툰 스타일 청룡 만들기'\", 'text': '오늘 인공지능 활용하기 주제는 \"미드저니로 재미있는 청룡 카툰 이미지\" 만들기입니다. 활용할 인공지능 플랫폼은 미드저니로 이미지를 생성하는 툴입니다. [최종 완성 이미지] 올해 2024년은 \\'청룡의 해\\'입니다. 기존 이미지를 이용해 청룡 카툰 이미지를 만들어 보겠습니다. 생성될 이미지 스타일의 참고 자료를 이미지 프롬프트로 사용합니다. 미드저니...', 'date': '2024.01.01.'}\n",
      "{'title': '인공지능 급등주 SMCI, 1년에 7배 상승한 AI 급등주 SMCI', 'text': '1년에 주가 700% 급등 인공지능 관련주. 23년부터 급등하기 시작한 슈퍼마이크로컴퓨터 주가는 24년에도 한달만에 2배 이상 급등하면서, 슈퍼마이크로컴퓨터 최고 인공지능 급등주 반열에 오르고 있습니다. 오늘 포스팅은 1) 슈퍼마이크로컴퓨터 주가 급등 이유 2) SMCI 주가 급등 계속 가능할까? 등을 정리해봅니다. 나름 IT 지식이 있다고 생각하는데...', 'date': '2024.02.05.'}\n",
      "{'title': '인공지능 언어의 혁명 LLM - GPT BERT: 대규모 언어 모델(Large Language Models)의 뜻과 의미', 'text': '이는 인공지능 분야에서 텍스트 데이터를 이해하고 생성할 수 있는 모델을 지칭하는 용어입니다. LLM은 인터넷에 있는 방대한 양의 텍스트 데이터로부터 학습하여... 이러한 모델들은 텍스트를 처리하는 방식을 근본적으로 변화시켜, 이 인간 언어를 이해하고 생성하는 능력을 대폭 향상시켰습니다. ※전이 학습(Transfer Learning)은...', 'date': '2024.02.15.'}\n",
      "{'title': '삼성 AGI 반도체 관련주 범용인공지능 대장주 마크 저커버그 AI 주식 주가 전망', 'text': 'AGI는 하나의 특정 분야에서 단일 작업을 수행하는 기존 AI와 달리, 특정 분야를 넘어 인간의 지능을 뛰어넘는 학습·문제 해결 능력을 갖춘 차세대 인공지능을 말합니다. © steve_j, 출처 Unsplash 이번 연구 조직 신설은 글로벌 패권 경쟁이 격해지고 있는 AI 시장에서 AGI 반도체를 앞세워 그 영향력을 키우겠다는 의도로 보압나다. 글로벌 빅테크 또한 AGI...', 'date': '2024.02.21.'}\n",
      "{'title': '삼성 갤럭시 S24 인공지능 스마트폰 출시와 소상공인 식당 사장의 미래?', 'text': '삼성 갤럭시 S24의 출시와 인공지능 검색의 보편화는 소상공인 식당 사장들에게 새로운 기회를 제공합니다. 이러한 변화에 발맞춰 더욱 행복한 삶과 성공적인 비즈니스를 위해... 인공지능과 같은 첨단 기술을 활용하여 비즈니스 모델과 고객 경험을 혁신합니다. 3. 지속 가능성 (Sustainability) 지역사회와 환경에 긍정적인 영향을 미치는 지속 가능한 실천을...', 'date': '2024.01.25.'}\n",
      "{'title': '뒤늦은 애플 인공지능 AI 추격하기', 'text': '그리고 요즘에 인공지능 AI가 굉장히 전 세계적으로 테마인데 여기에 뛰어들기 위해서라고 합니다. 실리콘밸리 테크 기업들이 인공지능 분야에 모두 전력을 다하고 있는데 비해 애플이 떨어졌다는 평가를 받고 있는 것입니다. 예를들어 오픈AI사는 챗GPT 같은 그런 대규모 언어 모델로 분야를 선점하고 있는데 비해 애플은 에이젝스라는 이름의 독자 모델을...', 'date': '2024.03.03.'}\n",
      "{'title': '[파주CCTV] 돌봄센터, 아이들의 안전을 위한 인공지능 cctv', 'text': '안녕하세요 인공지능 경기cctv 설치 전문 자가영상보안업체 자비스넷입니다. 맞벌이 가정이 많아지는 요즘, 방과 후에 아이들을 돌보고 싶어도 늦어지는 시간에 고민이신... 파주시cctv 이러한 개요로 운영되고 있는 경기도 파주시 돌봄센터에 이번에 cctv를 설치해 더욱 확실한 보안과 안전을 도와드렸습니다. 이러한 돌봄센터 cctv를 설치할 때 제일...', 'date': '2024.02.21.'}\n",
      "{'title': '[인천소셜서포터즈 30기 2회(350)] 박물관 연잎밥 카페에서 맛있는 연잎밥 먹고 AI 으로...', 'text': '저녁 6시부터 8시까지 인천소셜서포터즈 30기 2회(350) 박물관 연잎밥 카페에서 맛있는 연잎밥 먹고 AI 인공지능으로 음악가사 만들고 suno로 작곡하기 스터디 진행했어요.ㅎ 오후 6시 살짝 넘어서 박물관 연잎밥 카페에 도착했어요. 집에서 가까운데 늦었습니다. 인천소셜서포터즈 30기 2회(350) 박물관 연잎밥 카페에서 맛있는 연잎밥 먹고 AI 으로 음악가사...', 'date': '2024.02.15.'}\n",
      "{'title': '챗GPT, 구글 바드, 마이크로소프트 코파일럿 등 인공지능 잘 활용하는 방법?', 'text': '#온라인마케팅MBA25기 #상권분석전문가과정31기 워드, 엑셀, 파워포인트도 제대로 못쓰는데 인공지능을 잘 활용할 수 있을까요? 외식사업 경영학과 마케팅을 모르면서 인공지능에게 외식업 성공 노하우를 제대로 질문하고 답변 내용을 정확히 이해할 수 있을까요? 챗GPT, 구글 바드, 마이크로소프트 빙과 코파일럿 등 제대로 활용하려면 자신의 분야 전문지식부터...', 'date': '2024.01.24.'}\n",
      "{'title': 'AI 인공지능 챗봇 마이크로소프트 코파일럿 iOS 앱 출시', 'text': '마이크로소프트의 AI 인공지능 챗봇 서비스인 New Bing이 최근 Copilot 코파일럿으로 대표 이름을 변경하고 텍스트 기반의 챗봇 서비스를 넘어 그림, 작곡 등 다양한 기능들을 함께... 수 있다는 장점을 갖고 있는것이 마이크로소프트 코파일럿입니다. 23년을 가장 뜨겁게 달구었던 챗봇 서비스가 과연 올해 어느 정도의 발전을 보여줄지 정말 기대가 됩니다.', 'date': '2024.01.02.'}\n",
      "{'title': 'chat GPT 인공지능으로 블로그 글 쉽게 써봐요', 'text': '안녕하세요 스마트라이프연구학원 박인선이예요 요즘 챗GPT 인공지능은 못하는 것이 없어요 생성형 AI는 그림도 잘그리고 글도 잘써주고~ 팔방미인이죠~ 이런 생성형AI가 통해서... 했거든요 그런데 생각이 바뀔정도로 엄청 빨리, 내가 원하는 키워드로 잘~ 써주니 정말 좋더라구요 그래서 소개합니다 챗GPT 생성형 AI 블로그글 생성 블로그 글을 써주는 자...', 'date': '2024.03.06.'}\n",
      "{'title': '[인천CCTV] 공장 내 보안관리는 인공지능cctv 솔루션으로!', 'text': '인공지능 영상장비 ODM 납품 및 서비스 제공에 관한 B2B 협약을 맺은 공식파트너사입니다. #씨씨티비 #cctv출장 #CCTV #cctv설치 #CCTV설치 #씨씨티비설치 #인천cctv출장 #매장cctv #지능형CCTV #지능형CCTV설치 #경기CCTV설치 #인천cctv #수도권CCTV #인천CCTV #인천씨씨티비 #도매업체씨씨티비 #매장CCTV #cctv교체 #씨씨티비 #창고CCTV #실외cctv #매장씨씨티비', 'date': '2024.03.04.'}\n",
      "{'title': '한경비즈니스 1474호 - AI가 바꿀 직업과 인공지능 투자 유망기업 7개', 'text': 'AI가 바꿀 직업 육체노동에서 정신노동까지 지금까지 인공지능에 대한 걱정은 육체노동 쪽이 더 컸다. 그런데 전혀 다른 방향으로 가고 있다. 인공지능은 의사와 간호사 중 누구를 더 잘 대체할까? 샘 올트먼이 최근 X에 게시한 글을 보자 Prediction : AI will cause the price of work that can happen in front of a computer to decrease much faster than the price of work that happens in the...', 'date': '2024.02.29.'}\n",
      "{'title': '#인공지능과 국제물류', 'text': '오늘은 국제물류포워딩 기업을 위한 인공지능 분야는 업무 효율성을 극대화하고, 미래 물류산업의 변화에 대비할 수 있는 방향을 제시합니다. 인공지능과 물류포워딩: 미래를 향한... 지능형 운송 시스템 : AI는 차량의 경로 최적화, 교통 상황 예측, 그리고 자율 주행 기술의 발전에 기여합니다. 이를 통해 운송 시간이 단축되고, 연료 효율성이 개선되며, 전반적인...', 'date': '2024.01.19.'}\n",
      "{'title': '한경무크 CES 2024 AI 시대 당신이 꼭 알아야 할 모든 기술 경제경영서 자율주행', 'text': '인공지능? 자율주행? 아니죠. 바로 스마트폰입니다. 그러면 가장 오래가고 있는 기술은 무엇일까요? 바로 인터넷입니다. 세상에 대단한 기술이 1년 안에 수 십개씩 튀어나오고... 그리고 애플의 시리, 삼성의 빅스비, 구글 어시스턴트 처럼 음성 서비스를 활용할 수 있어요. CES 2024에서 삼성전자, LG전자, 소니, 에릭슨, 인텔, 퀄컴, 월마트, HD현대 등 대부분의...', 'date': '2024.02.15.'}\n",
      "{'title': 'AI 전력설비 관련주 (글로벌 인공지능 확대 전력 수요 증대) 가온전선 / 일진전기 / HD현대일렉트릭...', 'text': '^^ 인공지능(AI) 시장 성장세가 두드러지며 전력설비 관련주들이 연일 주목받고 있습니다. 시장에서는 AI 수요에 따라 데이터센터가 늘어나면 곧 관련 설비와 전력 수요증가로... 인공지능(AI)과 전기차 등 전력 소모가 큰 신기술이 등장하고 선진국 전력 인프라의 노후화, 친환경에너지 전환 등이 맞물리면서 ~~^^ 이상으로 포스팅을 마무리하겠습니다. 오늘도 바쁜...', 'date': '2024.03.14.'}\n",
      "{'title': '파이썬 없이 인공지능으로 만든 코딩 실행하는 방법', 'text': '그래서 오늘은 파이썬을 설치하지 않고도 인공지능의 도움을 받아 코딩하는 방법을 소개하려고 합니다. 정말 간단하고 무료이고, 로그인만하면 설치할 필요도 없으니 도전 차원에서... 저도 파이썬을 잘 모르므로 인공지능에게 코딩을 맡겨볼 것입니다. 창에 한글로 사다리게임 코딩해 달라고 명령을 입력한 후 엔터키를 누릅니다. 그럼 잠시 기다린 후 알아서...', 'date': '2024.02.29.'}\n",
      "{'title': '인공지능을 활용한 한컴AI 어시스턴트 IA 선도하는 빅테크 기업으로의 향후 계획까지', 'text': '스크립트 엔진을 활용하며, 사용자의 의도를 파악하는 인공지능을 활용해 원하는 결과, 고도화된 완성본을 기대해 볼 수 있습니다. 스크립트 엔진, 왜 차별화된 성능을 자랑할까요? 이는 한컴이 30년이 넘는 기간 동안 스크립트 엔진 기술을 보유하고 있고 이를 모듈화하였기 때문입니다. 꾸준히 한컴 SDK와 AI를 활용한 솔루션을 예정하고 있고 그 시작을 한컴...', 'date': '2024.01.11.'}\n",
      "{'title': '레이블 코인 호재 인공지능 AI 음악 제작 업그레이드 전망', 'text': '2024년은 비트코인, 이더리움, 여타 다른 토큰들의 불장이라고 해도 과언이 아닌데, 현재 이러한 강세에 인공지능 테마는 강세의 중심에 있다고 볼 수 있다. OpenAi부터 월드코인까지 엄청난 움직임을 보이고 있는 현재 빗썸에 상장되어 있는 레이블 코인(LBL) 또한 관련 호재를 발표하여 관련 정보를 한번 정리해 보고자 한다. 레이블은 웹 3(Web3) 음악 플랫폼...', 'date': '2024.02.26.'}\n",
      "{'title': '갤럭시S24 울트라 포함한 최신 모델별 스펙 비교!! 인공위성 및 인공지능 가우스의 차이는 있을까?', 'text': '개인적으로 스펙에서 확인하고 싶었던 것은 인공위성통신 관련 기능인데 예상대로 갤럭시S24 울트라에만 적용이 된 것 같아요. 배터리 공유기능도 마찬가지네요. 나머지 후면카메라를 비롯한 램과 메모리에도 차이가 있으니 참고하면 좋을 것 같구요. AI() 부분에서 삼성 가우스에 대한 성능이 제일 궁금한데 이는 출시 이후 사용자들의 반응을 보면 될...', 'date': '2024.01.02.'}\n",
      "{'title': '갤럭시Z 폴드6 커버 디스플레이 등 폼팩터의 변화와 티타늄소재 사용!! 및 동시번역 탑재 당연?', 'text': '특히 얼마전 출시한 갤럭시S24 울트라에 탑재된 인공지능 기술과 인터넷이 안되도 가능한 동시번역기능 그리고 개선된 이미지검색 기능등이 새로운 갤럭시Z 폴드6에 탑재가 될 것은 분명하겠죠. 갤럭시Z 폴드6의 바디 재질도 티타늄으로 만들어 좀 더 가벼워지면서 휴대성에도 도움이 되지 않을까 싶네요. 출시는 그동안의 출시일정과 비슷한 여름쯤이 되지...', 'date': '2024.01.28.'}\n",
      "{'title': '갤럭시 s24 시리즈에 적용된 인공지능이 갤럭시 s23 등 하위 모델에도 적용 될 수 있다고 해요', 'text': \"이에 따라 One UI 6.1 업데이트가 이루어지면 s24 시리즈에 탑재된 인공지능 기능 중 일부를 이용 할 수 있을거라 내다보고 있어요. 그러나 정확한 내용에 대해서는 밝혀진 바 없어요. 어떤 기능이 가능하고 불가능한지는 아직 모른다는거겠죠. 그 이유로는 을 담당하는 어플리케이션인 '삼성 온-디바이스 리소스' 앱이 갤럭시 스토어에 등록된...\", 'date': '2024.02.18.'}\n",
      "{'title': '대구시교육청, 폐교 예정 신당중에 인공지능(AI) 교육센터 구축한다', 'text': '대구시교육청, 폐교 예정 신당중에 인공지능(AI) 교육센터 구축한다 대구 뉴스/교육 2024. 1. 17. 16:02 대구시교육청은 인공지능(AI), 빅데이터, XR 등을 활용할 수 있는 인공지능(AI)·디지털 역량을 갖춘 창의적 인재를 양성하고, 체계적인 (AI) 교육환경을 조성하기 위해 ‘(가칭)(AI) 교육센터’를 구축한다고 17일(수) 밝혔다. 대구시교육청은 2024.3....', 'date': '2024.01.17.'}\n",
      "{'title': '[<생성형 인공지능 활용·준비 현황> 조사 보고서] AI 활용은 저작권 문제로 소극적, 성공보다 실패...', 'text': '생성형 인공지능이 다양한 분야에서 활용되는 가운데, 언론사들도 이를 업무에 도입하는 방안을 고민하고 있다. 가이드라인 마련 등 적극적으로 기술 변화에 대응해 온 해외와 비교했을 때 국내는 어떨까? 2023년 4월에서 8월까지 한국언론진흥재단에서 조사한 국내 언론사들의 생성형 활용과 준비 현황을 살펴본다. 편집자 주 김정환 국립부경대...', 'date': '2024.03.12.'}\n",
      "{'title': '인크로스 주식 주가 - AI 인공지능 기반 광고 관련주', 'text': \"* IA는 쉽게 말해 자동화 도구에 AI를 추가한 '지능형 자동화'를 말합니다. 함께 보면 좋은 글 ▽ ★ 본 글은 종목 추천 글이 아닙니다. 이렇게 인공지능 광고 관련주 인크로스 주식을 공부해 봤습니다. 이곳 '퍼스트무버 블로그'에서는 다음의 3가지를 꾸준히 포스팅하고 있습니다. ① 주요 경제 이슈. ② 각종 투자 이슈. ③ 국내 기업 이슈. 저를 이웃...\", 'date': '2024.01.31.'}\n",
      "{'title': '1월8일 주요이슈 테마 및 주요주식리뷰( 초전도체, 컴퓨터, 카카오,,챗gpt)', 'text': '인공지능과 챗gpt의 강세를 보여주고 있는 중에 초전도체테마가 오늘은 주목을 받았다. #초전도체 초전도체는 이번 상승으로 10월의 자리가 되었다. 11월부터 계속해서 하락했는데 1월에 들어서 상승을 하는 모습을 보이고 있기 때문에 오늘 이후의 초전도체 테마의 가치가 어떻게 이어질지 지켜봐야겠다. #신성델타테크 신성델타테크가 1.3이 후 오늘까지...', 'date': '2024.01.08.'}\n",
      "{'title': 'AI 챗봇: 인공지능 대화의 미래', 'text': 'AI 챗봇: 인공지능 대화의 미래 입력: 2024년 1월 10일 목요일 © ITcools AI 챗봇은 인공지능 기술을 활용하여 사람과의 대화를 가능하게 하는 컴퓨터 프로그램입니다. 이들은 일상 대화부터 특정 전문 분야에 이르기까지 다양한 주제에 대한 정보 제공 및 지원을 할 수 있습니다. AI 챗봇의 핵심 구성 요소 자연어 처리(NLP): 이는 인간의 언어를 이해하고 처리하는 기술로...', 'date': '2024.01.11.'}\n",
      "{'title': '알타바 코인 호재 AI 메타버스 출시 패션 인공지능 전망', 'text': '최근 가상화폐 시장을 주도하고 있는 섹터 중 가장 단연 최고는 인공지능 테마라고 생각한다. 월드코인 홍채 인식 대란 최근 월드코인을 시작으로 더그래프, 싱귤래리티넷, 오션프로토콜 등 AI 코인들이 보여준 시세 상승에 대한 퍼포먼스는 정말 최고의 모습이라고 생각한다. 현재 잠시 주춤하고 있으나 여전히 영향력을 가지고 있는 관련 호재를 방금...', 'date': '2024.02.29.'}\n",
      "{'title': '[US 종목분석] 인공지능 강자 ibm 주가 전망 : ai 실적 매수 타이밍', 'text': '오늘은 인공지능 강자로 알려진 ibm 주가 전망을 살펴보면서 ai 실적이 끌어올린 인터내셔널 비즈니스 머신의 매수 타이밍을 알아보겠습니다 어떤 회사인가 뉴욕거래소에 상장한 기업으로 하이브리드 클라우드 및 인공지능, 비즈니스 서비스 제공 업체로 산업 및 비즈니스 프로세서에서 데이터와 정보 기술을 사용하는 통합 솔루션 제품을 제공하는 기업입니다. 사업...', 'date': '2024.03.18.'}\n",
      "{'title': '인공지능 AI 챗봇 뜻 네이버 검색 큐 CUE 사용법', 'text': '이번 글은 인공지능 AI 챗봇 뜻 네이버 검색 큐 CUE 사용법을 준비해 봤습니다. 우리나라를 포함한 전 세계를 핫하게 만들었던 게 바로, 작년 2022년 1월에 등장하여, 2023년에 세상을 확 뒤집어버린 챗 GPT인데요. ChatGPT 등장 이전까지만 하더라도, 아직까지 컴퓨터 AI가 사람을 따라올 수 없다는 이야기가 많았지만, 컴퓨터가 컴퓨터 같지 않게 대화를 하는...', 'date': '2024.01.03.'}\n",
      "{'title': 'AI 인공지능과 함께 세상은 무조건 과거보다 빨리 변화할 것 입니다.', 'text': '앞으로 사람의 지능을 훌쩍 뛰어넘는 인공지능 시대에서는 사람들의 수요에 맞는 기술발전이 기존과는 비교할 수 없을 정도로 매우 빠르게 이뤄질 것입니다. 수요는 곧 가격으로 환산됩니다. 다시 말씀드리면, 지금 내가 돈을 잘 버는 사람 이라면 더욱 과 가까워져야 지금의 부, 소득을 유지할 수 있겠습니다. AI의 빠른 발전속도가 무섭기도 하지만...', 'date': '2024.03.17.'}\n",
      "{'title': '의료 특화 AI 인공지능! 병원에 하이퍼클로바X 초대규모 AI 적용시 일어나는 변화는?', 'text': '챗GPT로 대중에게 익히 알려진 인공지능 AI의 발전은 어느 분야를 가리지 않고 산업 전반에 많은 발전을 이뤄내고 있습니다. 그리고 이를 병원이나 기관에서도 적용하려 하는 경우가... ▶ 의료 분야 속 인공지능 역할은? ▶ 의료에 특화된 초대규모 AI 하이퍼클로바X ▶ 헬스케어에 AI가 적용되면 나타나는 변화 ▶ AI 포트폴리오는 어떻게? ▶ 협업사례 알아보기 ▶ 의료...', 'date': '2024.03.01.'}\n",
      "{'title': '상권분석 모르고 창업, 경영하면? 인공지능 클로바X, 재미나이, 코파일럿, 챗GPT의 답변', 'text': '#상권분석전문가과정30기 #상권분석의필요성 #인공지능이알려준다 요즘 가장 많이 사용하는 클로바X, 재미나이, 코파일럿, 챗GPT 등 4가지 인공지능 챗봇에게 \\'상권분석\\'에 대한 질문을 해 보았습니다. \"상권분석을 모르고 식당을 창업하고 경영하는 상황을 표현하는 가장 적절한 문장은?\" 출처 : 클로바X 1. 네이버 클로바X 답변 네이버 클로바X는 상권분석을 모르고 식당을...', 'date': '2024.02.13.'}\n",
      "{'title': '[대박나는 칼국수 경영철학 핵심가치 POP 슬로건 만드는 방법] 인공지능, 미리캔버스, 비즈하우스 활용하기', 'text': '대박나는 칼국수 경영철학 핵심가치 POP 슬로건 만드는 방법 인공지능 빙, 코파일럿, 챗GPT, 미리캔버스, 비즈하우스 활용하기 분당칼국수 오너셰프의 블로그 콘텐츠로 인공지능을 활용해서 작성한 분당칼국수의 3가지 고집 1. 자가제면의 고집: 분당칼국수는 물과 소금 밀가루만으로 제면을 합니다. 그날그날의 온도와 습도에 따라 면의 물성을 조절합니다. 부드러운...', 'date': '2024.02.08.'}\n",
      "{'title': '빗썸 업비트 AI코인 종류 (인공지능코인)', 'text': '레버리지가 가능하거든요 몇배 레버리지 하실분은 아래링크타고 가입하시면 수수료 10%혜택도 가능해요. 바이낸스에서 월드코인 매매하세요 2024년 알트코인 랠리 선물매매로도 돈복사하셔야죠 https://accounts.binance.com/register?ref=WC98TI9R 월드코인 수령 후기 https://blog.naver.com/midary1009/223363204074 #AI코인 #코인 #월드코인 #업비트 #빗썸', 'date': '2024.02.19.'}\n",
      "{'title': '[상권분석전문가과정 30기 5주차 수업 예고] 인공지능을 이용한 상권분석부터 실무에 적용하는 방법까지', 'text': '#상권분석전문가과정30기 #상권분석에인공지능활용법 안녕하세요. 상권분석전문가과정 김영갑 교수입니다. 오늘은 내일 진행하게 될 상권분석전문가과정 30기 5주차 수업을 준비하고 있습니다. 5주차 수업의 주제는 인공지능을 활용한 상권분석입니다. 1교시에는 을 상권분석을 할 때 어떻게 활용하는지 학습할 예정입니다 한마디로 정의하면, 상권분석을 할 때...', 'date': '2024.02.05.'}\n",
      "{'title': '델리시움 코인 AGI (AI코인) 전망 인공지능 메타버스', 'text': '운영체제 장점으로 루시는 이용자 요구를 충족할 워크플로우 지능적으로 계획하고 자동화하여 Web3 앱과 프로토콜 복잡성을 단순화한다. 모듈식 아키텍처 기반으로 제품들 유연 하게 함께 작동하도록 구성하며 BNB와 이더리움 지원뿐 아니라 140만 고유 지갑 주소까지 보유 중이다. 탄탄한 파트너로 MS, Google이 협업하고 있어서 과 블록체인 기술을...', 'date': '2024.03.08.'}\n",
      "{'title': '[인공지능 활용법] 미드저니 Upscale Creative 기능', 'text': '또한, 업스케일링 결과를 실시간으로 확인할 수 있습니다. 하지만 사용자가 원치 않는 부분까지 수정되는 경우가 발생하고 있으며, 구체적인 수정이 아직까지는 어렵다는 것이 한계점으로 여겨집니다. 시간이 지나면서 이런 문제도 곧 해결될 것입니다. 지금까지 활용법에서 미드저니 Upscale Creative 기능에 대해 알아보았습니다!', 'date': '2024.01.04.'}\n",
      "{'title': '[KYG 상권분석연구원 주최] 소상공인을 위한 인공지능 활용 상권분석 교육 안내', 'text': '상권분석전문가과정 30기 수업에서는 소상공인이 인공지능을 활용하여 상권분석을 더 잘 할 수 있는 방법을 가르쳐 드립니다. 상권분석이 사업의 사활을 결정하는 시대 세계 최초의 상권분석 교육 소상공인을 위한 인공지능 활용 상권분석 교육 1. 을 활용한 상권분석 은 사용자가 질문을 하면 자연어로 응답하는 솔루션입니다. 이러한 을...', 'date': '2024.01.05.'}\n",
      "{'title': '코르텍스 코인 인공지능(AI) 암호화폐 시세와 전망', 'text': '챗GPT이후 인공지능 AI 코인에 대한 관심이 높아졌죠. 많은 프로젝트들이 있는데요. 오늘은 우리에게는 아직 생소한 코르텍스 코인을 소개해드리려고 합니다. 어떤 프로젝트인지... Cortex를 한마디로 요약하면 인공지능 기반의 블록체인 비스를 위한 프로젝트라고 할수 있습니다. 블록체인과 의 만남을 통해 새로운 지평을 여는 것이죠. 스마트 컨트랙트에...', 'date': '2024.02.02.'}\n",
      "{'title': '[SMCI] 인공지능과 함께 주가는 로켓을 뚫었다', 'text': 'AI 그리고 슈퍼마이크로 사실 인공지능 및 데이터센터 랙 수요에 대한 이야기는 크게 바뀐 것은 없다. 대신에 공급여건이 개선되면서 좋은 매출액이 있었다는점이 이번... 인공지능때문에 데이터센터에서 연산 처리량이 많아지면서 전력 소비량이 증가하는것 같다. Q. 좋은실적 축하드립니다. 매출총이익부터 질문 드리겠습니다. 가이던스에서 수익성을...', 'date': '2024.02.04.'}\n",
      "{'title': '포천 공장cctv, 인공지능을 적용했습니다.', 'text': '인공지능 침입감지부터 실시간 화재감지까지! 포천cctv 공장 보안, 평소에 많이 신경쓰고 있는데 그래도 불안할 때가 있죠. 과도하게 불안하다기 보다는 걱정되는 수준으로 머물... 또 다른 설치사례 확인하러가기 공장cctv, 포천cctv 설치상담 : 1666-0068 (주)자비스넷은 kt skylife HCN과 영상장비 ODM 납품 및 서비스 제공에 관한 B2B 협약을 맺은...', 'date': '2024.01.30.'}\n",
      "{'title': '내용을 수정해 영어 버전의 IR 문서를 만들고, 한 분에게 메일을 보냈습니다. ( 서비스, 투자 유치)', 'text': \"(인공지능 서비스, 투자 유치) 안녕하세요. 김상종입니다. 어제 '사업' 을 주제로 계속 좋은 생각을 나눠주시는 국민은행 소속 문진기 위원님을 만나 이야기를... 그런 가운데서 최근에 '인공지능' 을 주제로한 특허가 나왔기에, 이 '특허' 와 기획한 서비스를 강조하여 사람들에게 사업체의 성장 방안과 가능성에 대해...\", 'date': '2024.03.09.'}\n",
      "{'title': '최신 인공지능 AI 부동산 플랫폼 전문적 활용방법...빅데이터 활용 전문가 과정 개강', 'text': '과거 투자자가 방문하여 땅에 대해 물어보면 용도 확인하려 토지대장 띄고 각종 규제 확인하고 상가할지 임대주택으로 할지 여러 가지 분석 자료를 만들어 내는 데에 며칠이 걸렸다면 지금은 인공지능 AI 시대!!! 부동산 플랫폼 몇 개만 알아도 몇 분만에 최적의 투자 방법을 제시해 줍니다. 빅데이터 활용전문가 과정은 바로 이런 플랫폼 중 어디가 가장 효과적으로 정확한...', 'date': '2024.01.19.'}\n",
      "{'title': '[cctv추천] 경기 남양주 다산동 치과도 선택한 자비스넷 인공지능CCTV', 'text': '남양주 다산동 치과에서도 선택한 자비스넷 인공지능CCTV 자비스넷 안녕하세요. 지능형 기반 cctv설치 전문기업 \"자비스넷\"입니다. 남양주 치과cctv 오늘 소개해드릴 인공지능cctv 설치 후기는 경기 남양주시에 위치한 치과 내 cctv 설치 후기 입니다. 듣기만 해도 무서운 치과,,, 저도 너무너무 싫어하는데요, 너무나도 무섭지 우리 사회에 없어서는 절대...', 'date': '2024.03.07.'}\n",
      "{'title': '[용인cctv] 음식점에 인공지능cctv를 설치하는 이유?', 'text': '많은 인공지능 보안 솔루션 중에 이번에 선택하게 된 것은 바로 AI 영상보안 솔루션입니다. 음식점cctv cctv를 설치할 때 중요한 것은 전문가의 시선도 있겠지만 제안한 솔루션이... 인공지능cctv 400만 화소로 더욱 업그레이드 된 화질을 바탕으로 영상분석 기능을 이용할 뿐더러 다양한 부가 서비스 역시 이용하실 수 있으신데요, 자비스넷cctv 대표적인...', 'date': '2024.01.29.'}\n",
      "{'title': '카카오톡 채팅방에 쌓이는 대화 실험실에서 AI 인공지능이 간결하게 요약해주는 기능 이용하기', 'text': '카카오톡 채팅방에 쌓이는 대화 실험실에서 AI 인공지능이 간결하게 요약해주는 기능 이용하기 AI 기능 이용하기 AI 인공지능 기능은 쌓여서 안읽은 대화내용을 한번에 요약해 주고 대화 상대에 맞춰서 다양하게 말투를 변경해 주구요. AI 기능 사용은 1:1채팅방, 그룹채팅탕, 팀채팅방에서만 사용 가능합니다. AI 기능 이용하기 버튼 켜기 카카오톡 채팅에서...', 'date': '2024.01.01.'}\n",
      "{'title': '1월 26일 금요일 주간정리, 테슬라와 전기차 그리고 인공지능 미래에 대한 기대감 미국주식', 'text': 'https://www.aitimes.com/ 보는 것처럼 AI, 인공지능, 메타버스에 대한 정보를 볼 수 있는 국내 전문사이트다. 해외자료가 물론 좋지만 국내 자료도 참조해볼 만 하다. 테슬라, 애플 말고도 구글, 아마존의 인공지능 기술도 막강하기 때문이다. 항상 최신 기술자료를 통해 주가의 흐름도 함께 해볼 수 있을 것이다. 오늘도 함께 읽어주셔서 감사합니다.', 'date': '2024.01.26.'}\n",
      "{'title': '인공지능 관련주 슈퍼마이크로 컴퓨터 주가 4분기 실적 발표 후 상승', 'text': \"오늘은 많은 분들에게 생소할 수 있는 인공지능 관련주로 엔비디아보다 최근에 더 높은 주가 상승률(한 달 전 대비 130%, 1년 전 대비 697%)을 보이는 기업을 소개하겠습니다. 바로 미국 주식하는 분들이라면 한 번쯤 들어본 기술인 클라우드 컴퓨팅, , 엣지 컴퓨팅 분야에서 엄청난 성장세를 보이는 기업인 '슈퍼마이크로컴퓨터'입니다. 필자도 매수를...\", 'date': '2024.02.08.'}\n",
      "{'title': 'AIQ ETF 로봇 인공지능 관련주 주가 수익률 수수료 투자기업 분석', 'text': 'AIQ ETF 로봇 인공지능 관련주 주가 수익률 수수료 투자기업 분석 AIQ ETF의 기본정보 : 운용사, 발행일, 순자산, 기초지수, 수수료 운용사 : 미래에셋 GIobal X (미래에셋에서 인수했습니다) 발행일 : 2018년 5월 16일 순자산 : $1.21B (대략 1.6조) 기초지수 : Indxx Artificial Intelligence & Big Data Index 수수료 : 0.68% 카테고리가 2개로 나뉩니다. 개발부문과...', 'date': '2024.02.21.'}\n",
      "{'title': \"세븐미어캣, 국내 최초 '전기차 분류' 인공지능 주차시스템 상용화\", 'text': \"보도자료에 따르면 국내 주차업계 최초로 전기차를 분류해 내는 인공지능 차량정보 인식 엔진을 상용화하는 것에 성공했다. 건물에 드나드는 전기차를 자동으로 분류하는 것은 물론, 전기차 출입 데이터에 따라 인프라 도입 시기를 예측하여 주차공간을 효율적으로 관리하는 것이 가능하다는 설명이다. 세븐미어캣이 공개한 차량정보 인식 엔진 '미어캣...\", 'date': '2024.01.04.'}\n",
      "{'title': \"단통법 폐지, '인공지능기본법' 제정, 'AI일상화 프로젝트' 추진, '사이버스파이더' 구축 등...\", 'text': '양자·인공지능(AI)·첨단바이오 등 3대 ‘게임체인저’ 기술은 올해 본격적으로 성과를 내는 데 집중하기로 했습니다. 과학기술정보통신부는 2월 13일 ‘글로벌 과학기술 강국... 또 ‘인공지능기본법’을 제정하고 AI안전연구소를 신설하는 등 AI 신뢰 기반을 조성합니다. 더불어 AI와 디지털 서비스 접근·활용을 전 국민의 보편권으로 법제화하는 ‘디지털 포용법’...', 'date': '2024.02.20.'}\n",
      "{'title': '인공지능 AI스피커 애플홈팟미니 기능 및 사용법', 'text': '요즘 가정에서 가장 많이 사용되는 스마트 기기 중 하나인 인공지능스피커는 우리의 일상을 더욱 편리하고 즐겁게 만들어주는 역할을 합니다. 특히, 애플의 홈팟미니는 강력한... 또한 애플홈팟미니는 인공지능스피커로서의 역할을 넘어, 스마트 홈 기기들과의 연동을 통해 집안의 조명, 온도, 보안 시스템 등을 제어할 수 있는 허브 역할을 하며 여러 사용자의...', 'date': '2024.02.08.'}\n",
      "{'title': 'AI, Chat GPT를 이용해 취업, 이직 면접 시뮬레이션하는 방법(인공지능 면접)', 'text': '최근 인공지능과 관련된 면접 책들이 많이 출간되고 관련 교육이나 정보가 많아지고 있다. 하지만 나에게 특화된 내용을 찾기가 쉽지 않은데, GPTs를 이용해 아주 쉽게 취업 또는 이직 중 마케팅 부서에 대한 면접 스토리를 만들어 보았다. 특히 마케팅 부서의 면접은 단순히 자격증과 이력서로 평가되는 것은 아니다. 창의성, 분석력 그리고 시장 트렌드에 대한 깊은...', 'date': '2024.01.27.'}\n",
      "{'title': '[벽제농협 본점] 스마트한 시대를 살아가는 스마트폰 활용교육 4회 - 조합원님 대상으로 네이버...', 'text': '이제 봄이 오는 소리가 들리는 날 오전 10시부터 12시까지 벽제농협 본점에서 스마트한 시대를 살아가는 스마트폰 활용교육 4회 - 조합원님 대상으로 인공지능 네이버 스마트 검색과 그린닷 검색하기 등 교육했습니다. 오전 벽제농협 본점에 9시 15분쯤 도착했어요.^^ 벽제농협 본점 스마트한 시대를 살아가는 스마트폰 활용교육 4회 - 조합원님 대상으로 네이버...', 'date': '2024.02.16.'}\n",
      "{'title': 'AI 전통강자 IBM 주가 분석, 인공지능 IBM 주가 매수 관점', 'text': '그리고 최근에 가장 큰 화두인 인공지능도 가장 먼저 앞서간 기업이 IBM입니다. 그러나 IBM의 불행은 너무나 빨리 AI를 앞서가는 바람에 오히려 AI로 돈을 못 벌고 투자만 하다가 인공지능에서 뒤처졌다는 것입니다. IBM은 2005년에 그 유명한 의사 IBM Watson을 출시하면서, 의사, 변호사 등으로 새로운 산업에서 많은 시행착오를...', 'date': '2024.01.22.'}\n",
      "{'title': '저커버그 페이스북 메타 주가 폭등, 빌 게이츠 제치고 하루에 37조 벌어 (ft. 왜 때문에 전쟁?) ⭐️', 'text': '인공지능 전쟁에 몰빵한 마크 저커버그, 페이스북 메타 주가 폭등으로 빌 게이츠 제치고 하루에 37조 벌어 메타는 지난해부터 메타버스에서 인공지능(AI)으로 사업을 전환하며 상승세를 타고 있다. 딸만 셋 딸부자 마크 저커버그 1. 가문(집안)이 좋고 2. 지성이 높은 사람일수록 배우자를 선택할 때 1. 자라난 환경 (집안)과 2. 지성을 최우선시한다. 1. 더 젊고...', 'date': '2024.02.04.'}\n",
      "{'title': '<AI 시대> 범용 인공지능 AGI, 내년 상용화 기대감', 'text': '사람의 지능을 갖는 AI가 구체화되고 현실로 다가왔다는 것을 강조하였다. AGI가 사람이 정보를 확보하는 과정을 흉내 내기 시작하면서 인간과 대등하거나 그 이상의 성과를... AGI, 인공 지능의 미래: 내년부터 상용화 기대 MWC 2024 기조연설과 전시장의 주제들은 사람처럼 변하는 AI 인간화 (AI humanizing)가 핵심이다. 특히 2018년 구글 연례 개발자 행사 (I/O)...', 'date': '2024.02.27.'}\n",
      "{'title': '인공지능(AI), 갤럭시 S24 구세주 될까', 'text': '2024년 스마트폰 시장은 일상에서 당신이 얼마나 자주 쉽게 인공지능(AI)을 활용할 수 있게 하느냐가 승패의 갈림길이 될 전망이다. 삼성은 구글과 협업해 AI폰 ‘갤럭시 S24’를 출시했다. 갤럭시 전 라인업으로 확대된다면 해마다 2억 명의 새로운 AI 서비스 사용자를 확보하는 셈이다. 애플은 드러나는 별다른 움직임이 없지만 ‘아이폰16’에서 생성형AI 결합이...', 'date': '2024.01.26.'}\n",
      "{'title': '[레벨업 무료강의] 콘텐츠 진입장벽을 허무는 AI 인공지능 강의 1월 31일까지 신청', 'text': '인공지능(Artificial Intelligence)은 인간의 지능을 모방하도록 설계된 컴퓨터 시스템으로 computer 과학의 한 분야입니다. 자연어 처리, 컴퓨터 비전, 기계 학습, 로봇 공학 등 다양한 분야에서 활용되고 있습니다. 이 기술을 활용하여 자동 번역, 음성 인식, 이미지 인식, 개인화 추천, 금융 분석, 의료 진단 등 거의 모든 분야에 쓰이고 있는 없어서는 안될 기술이기도...', 'date': '2024.01.27.'}\n",
      "{'title': '[프롬프트][생성형] 인공지능 챗GPT #티타임TV_박태웅 #AI주권', 'text': 'by copilot Video summary [00:00:00]1 - [00:23:10]2: 이 영상은 박태웅 교수가 인공지능의 현재와 미래에 대해 티타임즈와 대화하는 내용을 담고 있다. 인공지능의 발전과 활용, 그리고 규제와 윤리, 인재 양성 등 다양한 주제에 대해 깊이 있는 의견을 나누었다. Highlights: [00:00:00]3 주권과 생태계의 문제 #AI_생태계 데이터에는 문화와 관습, 역사가...', 'date': '2024.02.07.'}\n",
      "{'title': 'BOTZ ETF 로봇 인공지능 관련주 주가 수익률 수수료 투자기업 분석', 'text': 'BOTZ ETF 로봇 인공지능 관련주 주가 수익률 수수료 투자기업 분석 BOTZ ETF의 기본정보 : 운용사, 발행일, 순자산, 기초지수, 수수료 운용사 : 미래에셋 글로벌 X 발행일 : 2016년 9월 13일 순자산 : $2,529.7B (3.4조) 기초지수 : Indxx Global Robotics & Artificial Intelligence Thematic Index 수수료 : 0.68% 4가지 로보틱스 및 분야와 연관되어 있거나 주요 매출이...', 'date': '2024.02.20.'}\n",
      "{'title': '상권분석전문가과정, 디보시스템의 매출액 데이터와 인공지능을 활용한 리뷰 진단 후 소상공인 경영과...', 'text': '매출데이터분석 #인공지능리뷰분석 #문제진단 안녕하세요. 상권분석전문가과정 김영갑 교수입니다. 저는 상권분석을 할 때, 자기 분석 및 자기 점포 분석부터 시작하는 경우가 많습니다. 지피하고 지기를 하면 백전 백승(지피지기 백전불태)을 할 수 있으니까요. 외식업 빅데이터 솔루션 디보시스템을 이용해서 매출액 추세를 분석해 보았습니다. 을 이용해서...', 'date': '2024.02.10.'}\n",
      "{'title': 'ROBO ETF 로봇 인공지능 관련주 주가 수익률 수수료 투자기업 분석', 'text': 'ROBO ETF 로봇 인공지능 관련주 주가 수익률 수수료 투자기업 분석 ROBO ETF의 기본정보 : 운용사, 발행일, 순자산, 기초지수, 수수료 운용사 : 미래에셋 글로벌 X 발행일 : 2013년 10월 22일 순자산 : $13.37억 (1.8조) 국내 로봇/ 관련주에 비하면 순자산이 엄청나게 거대하죠. 기초지수 : ROBO GBI Robotic & Automat TR USD 수수료 : 0.95% 매출과 이익의...', 'date': '2024.02.21.'}\n",
      "{'title': \"인간화 AI 'AGI(범용인공지능)'의 뜻과 파급력, 관련주도 함께\", 'text': '우리말로는 범용인공지능 또는 인공일반지능이라고 합니다. 범용AI라는 것은 일상적인 모든 상황에서 적용할 수 있는 인공지능을 말합니다. 현재 우리가 사용하는 AI들은 약인공지능 단계입니다. 약인공지능에서는 특정 조건 속에서 AI가 작동 합니다. 예를 들어 챗GPT도 사람이 프롬프트를 입력해줘야 비로소 반응하게 되죠. 범용은...', 'date': '2024.02.28.'}\n",
      "{'title': 'Kodex K-로봇 액티브 ETF 국내 로봇 인공지능 관련주 주가 수수료 수익률', 'text': 'Kodex K-로봇 액티브 ETF 국내 로봇 인공지능 관련주 주가 수수료 수익률 Kodex K-로봇 액티브의 기본정보 : 운용사, 발행일, 순자산, 지수, 수수료 운용사 : 삼성자산운용 발행일 : 2022년 11월 15일 ▶ 로봇/인공지능 관련주가 몇개 없는 편인데 거의 시초급으로 제일 먼저 출시되었습니다. 순자산 : 1,641억 (규모가 로봇/쪽에선 1위) 기초지수...', 'date': '2024.02.21.'}\n",
      "{'title': '[의료AI입문] 인공지능이 의료계를 대체할까', 'text': '저자인 야마시타야스유키는 영상의학과 전문의로 의료ai를 연구하고 많은 의료관계자가 인공지능을 통해 의료를 좀 더 효율적으로 이해할 수 있도록 하기 위해 책을 집필 했다고 한다. 사실 목차를 처음 펼쳤을 때는 어질어질 했다. 모르는 용어들이 남발되고 을 그래도 좀 공부했어도 이해하기 어려웠기 때문이다. 그래도 인사이트만 얻을 수 있다면 좋겠다는...', 'date': '2024.02.19.'}\n",
      "{'title': \"한글과컴퓨터 인공지능 AI부터 IA까지.. '한컴 어시스턴트' 소식\", 'text': '업무 부분에서도 인공지능 AI를 활용해서 능률을 높이고 있는데 이번 한컴(한글과컴퓨터)에서는 한국판 코파일럿이라 볼 수 있는 AI프로그램 < 한컴 어시스턴트 >를 통해서 큰 변화와... 또한 한글과컴퓨터는 AI를 넘어서 IA(지능형 자동화) 기업으로 나아가고 있다. IA는 간단히 설명하면 자동화 도구에 AI를 추가한 것으로 산업 전반에 걸쳐 적용할 수 있는 개념이다....', 'date': '2024.01.03.'}\n",
      "{'title': '라이브피어 월드코인 호재 오픈AI 소라(SORA) 영상 인공지능 공개', 'text': '비트코인 이더리움 강세와 관계없이 인공지능 연관 코인들이 엄청난 강세를 보이며 오르고 있다. 당장 빗썸 상장 상승률 순위만 봐도 월드코인(WLD), 싱귤래리티넷(AGIX)... 2월 16일 오픈AI는 공식 트위터를 통해 텍스트 비디오 모델인 소라(SORA)를 공개했다. 복잡한 카메라 모션 및 감정을 지닌 여러 캐릭터들을 통해 최대 60초의 비디오를 만들 수 있다는...', 'date': '2024.02.16.'}\n",
      "{'title': 'TIMEFOLIO 글로벌AI인공지능액티브 ETF - 주가 전망 예상해보기', 'text': \"오늘 다뤄볼 국내 ETF는 TIMEFOLIO 글로벌AI인공지능액티브입니다. ETF는 이름에 모든 설명이 다 되어있다고 봐도 무방합니다. TIMEFOLIO 운용에서 운용하는 '글로벌=주로 미국', 'AI + 인공지능' 섹터의 '액티브' ETF입니다. 액티브 ETF는 기초 자산이 되는 벤치마크 지수 대비 초과 이익을 달성하기 위해 자산운용사가 투자 종목과 매매 시점을 펀드매니저 재량으로...\", 'date': '2024.03.07.'}\n",
      "{'title': '포토샵 인공지능 기능', 'text': '포토샵의 인공지능 기능을 조금 연습해보았습니다. 그림 확장하기 이미지를 엽니다. 크롭기능을 선택합니다. 좌측의 아이콘을 누르거나, 키보드의 C를 눌러도 됩니다. 원하는 만큼... 생성형채우기를 누르고 생성하기 원하는 프롬프트를 입력하고 생성을 누릅니다. 하늘에 떠 있는 열기구 라고 입력했습니다. 포토샵의 기능을 즐겨보세요~', 'date': '2024.01.20.'}\n",
      "{'title': '인공지능과 타이핑의 만남: 삼성 키보드 뉴럴 베타의 혁신', 'text': '개인 맞춤형 타이핑: 삼성 키보드 뉴럴 베타의 지능적인 입력 방식 입력: 2024년 2월 1일 목요일 © ITcools 삼성 키보드 ※뉴럴 베타(Samsung Keyboard Neural Beta)는 인공지능(AI) 기술을 이용하여 사용자의 입력 경험을 개선하기 위해 개발된 삼성의 키보드 앱입니다. 이 키보드는 뉴럴 네트워크 기반의 딥러닝 방식을 통해 사용자의 타이핑 스타일과 언어 사용 패턴을...', 'date': '2024.02.01.'}\n",
      "{'title': '유럽에서 마련한 세계 최초 인공지능 AI 규제법', 'text': '최근 인공지능 AI가 빠른 속도로 발전하면서 AI 기술은 의료, 금융, 제조 등 다양한 분야에서 활용되고 있는데요. 그만큼 그 영향력 또한 점점 커지고 있습니다. 물론, AI 기술의... 특히 유럽연합 EU는 인공지능 지난 2023년 12월 8일 AI 기술 규제 법안을 37사간의 진통 끝에 세계 최초로 합의했는데요. 오늘은 AI 기술의 발전에 따른 윤리적, 사회적 문제에 대한 대응을 위한...', 'date': '2024.01.25.'}\n",
      "{'title': '[인공지능 클로바X를 이용한 상권분석] 식당 창업을 위한 상권분석', 'text': '#상권분석전문가과정30기 #인공지능활용한상권분석 #김영갑교수 안녕하세요. 오늘은 내일 진행하게 될 상권분석전문가과정 30기 3주차 수업을 위한 강의 내용을 준비하고 있습니다. 내일 수업의 주제 중 하나가 인공지능을 활용한 상권분석이라 네이버 클로바X를 이용해서 상권분석에 대한 질문을 몇 가지 해 보았는데요. 첫 번째 질문입니다. \"식당 창업을...', 'date': '2024.01.22.'}\n",
      "{'title': 'AI특허출원, 인공지능의 시대가 열립니다', 'text': '그래서 오늘은 인공지능 디지털 혁신 AI특허출원에 대해 다루어 보고자 합니다. AI 시장 전망 AI 산업은 2027년까지 15배 성장하여 매출 550조원을 기록할 것으로 전망됩니다. 세계 AI... AI란 인공지능을 일컫는 말인데요. AI 기술은 계속해서 진화하고 다양한 변화를 겪고 있습니다. 오늘은 여러가지 측면에서의 주요 동향과 변화를 살펴보면서 동시에 이 분야에서 어떤...', 'date': '2024.01.26.'}\n",
      "{'title': '비트코인, 이더리움 그리고 최후의 승자 인공지능과 비트코인 새로운 자산이 새로운 사회를 만들까?', 'text': '인공지능, 비트코인, 새로운 자산이 새로운 사회를 만들까? 요즘 세상을 보면 정말 많은 것들이 생겨났죠. 특히나 2020년 전 세계를 열광시켰던 비트코인이 있었어요. 그래서 갖고 온 책! <비트코인, 이더리움 그리고 최후의 승자>입니다. 이 책은 결과적으로 블록체인과 비트코인에 대한 새로운 세상을 말하는 책입니다. 우리가 새로운 자산이나 기술이 나왔을 때...', 'date': '2024.02.26.'}\n",
      "{'title': 'Tiger 글로벌 AI 액티브 ETF 국내 인공지능 관련주 주가 수익률 수수료 투자기업 분석', 'text': 'Tiger 글로벌 AI 액티브 ETF 국내 인공지능 관련주 주가 수익률 수수료 투자기업 분석하기 TIGER 글로벌 AI 액티브 ETF의 기본정보 : 운용사, 발행일, 순자산, 기초지수, 수수료... 인공지능 개발자, 서비스로서의 인공지능, 하드웨어, 양자컴퓨팅 등과 관련된 기업으로 구성된 지수입니다. 구성종목 & 투자기업 TIGER 글로벌 AI 액티브의 TOP10...', 'date': '2024.02.24.'}\n",
      "{'title': '인공지능 AI 반도체 장비 관련 주 ETF - Kodex AI 반도체 핵심장비', 'text': '-인공지능 AI 반도체 장비 관련 주 ETF - Kodex AI 반도체 핵심장비 최근 인공지능 AI 반도체 관련 주의 주가 상승이 연일 최고점을 갱신하면서 관심이 더욱더 뜨거워지고 있습니다. 특히 HBM 반도체가 주목을 받고 있는데요! 오늘은 AI 반도체 관련 주 ETF 중 HBM 관련 반도체 장비 투자를 할 수 있는 Kodex AI 반도체 핵심장비 ETF를 알아보겠습니다. Kodex AI...', 'date': '2024.02.19.'}\n",
      "{'title': '[인천중구여성회관] 스마트폰활용교육, 스마트폰 활용전문지도사 24년 1분기 5회 - 네이버 스마트...', 'text': '오후 2시부터 5시까지 인천중구여성회관에서 스마트폰활용교육, 스마트폰 활용전문지도사 24년 1분기 5회 -인공지능 네이버 스마트 검색, 개인비서 빅스비와 구글 어시스턴트 등 교육했습니다.^^ 비오는 날의 수채화 같죠. 오후 1시 30분쯤 인천중구여성회관에 도착했어요. 스마트폰활용교육, 스마트폰 활용전문지도사 24년 1분기 5회 - 네이버 스마트 검색과...', 'date': '2024.02.05.'}\n",
      "{'title': '인공지능의 물류 적용: 시기상조인가, 코파일럿으로의 기대인가?', 'text': '기업들은 인공지능이 물류에 적용하기에 아직까지 시기상조라는 의견이 있습니다. 그러나 마이크로소프트 코파이럿으로 활용할 수 있다는 기대심리는 있는듯 합니다.... 이는 물류 시스템이 시간이 지남에 따라 더욱 효과적이고 지능적으로 작동하도록 보장합니다. #코파일럿과 같은 AI 도구를 통한 이러한 접근 방식은 물류 산업의 디지털 전환을 가속화하고, 더...', 'date': '2024.01.20.'}\n",
      "{'title': '로봇과 인공지능 주식 심보틱, 심보틱 최대주주 소프트뱅크', 'text': '심보틱은 인공지능 학습을 통한 정교한 소프트웨어와 특화된 로봇 기술을 결합하여, 유통업체로 물류 로봇 매출이 매년 확대되면서, 26년까지 매출이 매년 연평균(CAGR 기준) 44%씩 성장하는 유망 AI 로봇 주식. 오늘 포스팅은 물류자동화 AI 로봇 주식 심보틱(티커명 SYM)에 대해서 알아봅니다. 심보틱은 소프트뱅크가 최대주주이기도 합니다. 소프트뱅크가...', 'date': '2024.03.08.'}\n",
      "{'title': '[세일정보] 인공지능 스피커 순위 정보 - soryu.net', 'text': '[세일정보] 인공지능 스피커 순위 정보 인공지능 스피커 제품이 필요할때 어떤 제품을 사야하는지 결정하는것이 쉽지가 않죠. 현명한 방법은 눈길이 가는 제품의 제품 평가를 확인하시면 구매 결정할때 큰 도움이 되지 않을까요? 스피커 중에서 마음에 쏙드는 하단 상품가격비교 및 구매평보기를 클릭하시면...', 'date': '2024.02.12.'}\n",
      "{'title': '인공지능과미래', 'text': \"지난 1월 열린 세계 가전·IT전시회 CES 2024의 주인공은 인공지능 즉 ,AI 였습니다. 기상천외한 AI제 품들을 보며 입이 쩍 벌어졌습니다. 그런데 며칠전 오픈 AI가 선보인 AI 시스템 '소라'(Sora)의 등장에 저는 더 큰 충격을 받았습니다. 의 발전속도가 이렇게까지 빠를줄은 상상하지 못했습니다. 프롬프트에 가죽자켓과 빨간 드레스 그리고 가죽자켓을 입은 여자가...\", 'date': '2024.02.23.'}\n",
      "{'title': \"[사디프]디지털 관련 학과 소개 '인공지능학과편'\", 'text': \"이번 시간에 소개할 학과는 '인공지능학과' 입니다! 인공지능학과란? 컴퓨터과학 및 컴퓨터공학 분야에서 인공지능을 중점으로 공부하는 학과를 말해요! 인공지능의 대표적인 기술로는 코로나 시대에 우리가 자주 접했던 열 체온계와 긴급차 우선 신호 제도, AI 광고 맞춤(알고리즘) 등이 있습니다. 학과 졸업 후 진로는? 학과 졸업 후에는 AI 프로그래머...\", 'date': '2024.01.19.'}\n",
      "{'title': '갤럭시 S24 가치 3가지…엑시노스·7·인공지능', 'text': '인공지능(AI) 2024년은 일상의 거의 모든 영역에서 인공지능(AI)이 호출되는 해가 될 것이다. 갤럭시 S24 시리즈도 이 점을 간과하지 않았다. 잘 다듬어진 하드웨어를 활용하는 AI를 전면에 내세우고 있다. 일상의 불편을 최소화하는 원할 때 원하는 결과물을 째빨리 제안한다. 다른 언어를 사용하는 사람들과 소통하다 보면, 때때로 상대방 이야기가 이해되지 않거나...', 'date': '2024.02.01.'}\n",
      "{'title': '오픈 인공지능(OpenAI) SORA(소라), 어디까지 알고계세요?', 'text': '그런데, 이번에 Open-AI에서 글(텍스트)을 치면 바로 영상으로 만들어주는 새로운 인공지능 프로그램을 발표했는데, \"SORA\"라는 프로그램이에요. 위 영상은 동영상을 찍은 것이 아니라, 텍스트를 영상으로 변환하는 기술을 적용한 영상입니다. 모르고 봤으면 그냥 사람이 드론을 띄워 찍은 영상이라고 믿을 수 있을 것 같아요. 최근 생성 이후 일주일이 멀다하고...', 'date': '2024.03.12.'}\n",
      "{'title': '팔란티어 (PLTR)실적과 주가 전망 :: 인공지능 수혜주', 'text': '인공지능 수혜주로도 꼽히는데, 매출 이익이 작은 편이라 등락이 큰 종목인만큼 투자에 유의하실 필요가 있어보입니다. 팔란티어 실적 발표 팔란티어의 4분기 실적이... 현재 미국의 정부에서 신뢰할수 있는 데이터들을 가공하고 있는 회사이고 시장에서 두각을 나타내고 있는점들을 고려하면 미국 시장에서는 단순 매출, 이익을 떠나 기업의 가치로...', 'date': '2024.02.06.'}\n",
      "{'title': 'AI 인공지능이 전문직을 대체하는 시대에도 의사의 위상은 견고할까?', 'text': 'AI 인공지능이 진화가 급격히 빨라지면서 노동 대체 현상이 가속화되고 있다. 주로 블루칼라 업종의 일자리를 위협했던 과거의 산업혁명 때와 달리, 이번 AI 인공지능 혁명은 화이트칼라 전문직 일자리를 본격적으로 대체할 것으로 보인다. 이미 금융업 관련 분야 일자리는 AI 으로 대체되고 있는 경우가 많다. 몇 년 전부터 골드만삭스 등 월가의...', 'date': '2024.03.14.'}\n",
      "{'title': \"피규어, 오픈AI 인공지능 탑재한 로봇 '피규어 01' 공개\", 'text': '피규어 01은 오픈AI의 인공지능(AI)이 탑재된 휴머노이드 로봇입니다. 피규어 01은 시각을 통한 물체 인식이 가능합니다. 사람이 \"지금 뭐가 보이냐\"고 물어보면 피규어 01은 \"테이블... 오픈AI의 인공지능은 시각적 추론 및 언어 이해가 가능하도록 만들고 피규어의 신경망은 민첩한 로봇 동작이 가능하도록 한다고 합니다. 피규어 01은 자신이 어떤 일을 해야 하는지, 잘...', 'date': '2024.03.14.'}\n",
      "{'title': \"인공지능이 인간 창작자를 대체한다? '소라'가 바꾼 창작의 미래와 틱톡의 충격적 변화!\", 'text': \"인공지능이 창작의 경계를 다시 쓰다: OpenAI의 ‘소라’와 창작자들의 도전 우리는 지금까지 인간의 창작물이라고 여겨졌던 영역에서 인공지능(AI)의 활약이 점차 두드러지는 시대에 살고 있습니다. 특히, 오픈에이아이(OpenAI)가 최근 소개한 영상 생성 '소라(Sora)'는 이러한 변화에 한 획을 그었습니다. 단 나흘 만에 다양한 주제와 장소를 담은 숏폼 영상 20개를...\", 'date': '2024.02.23.'}\n",
      "{'title': \"세계 최초 인공지능(AI) 탑재된 스마트폰 '갤럭시 S24'\", 'text': \"출처=삼성전자 모바일에도 인공지능(AI) 시대가 열렸습니다. 삼성전자가 세계 최초 AI 스마트폰으로 갤럭시S24 시리즈를 공개했는데요. 온디바이스와 클라우드를 결합한... 이번 시리즈는 삼성전자가 자체 개발한 '갤럭시 AI'가 탑재된 세계 최초의 AI 폰으로, 을 기반으로 통화 중 '실시간 통역(Live Translate)'과 카메라, 사진 편집 기능 등을 높인 것이...\", 'date': '2024.01.18.'}\n",
      "{'title': '[독서-1131] 실습으로 배우는 인공지능 - AI를 체험하며 학습 (9점)', 'text': '\"실습으로 배우는 인공지능\"은 우리 사회에 깊이 들어와 있는 인공지능을 다양한 각도에서 다루고 있으며 우리의 삶에 어떤 영향을 미치고 있는지를 알기 쉽게 설명하고 있다. 이 책은 인공지능에 대해 관심을 갖는 독자들을 위한 입문서로서, 기본 개념부터 생성형 의 원리까지 폭넓게 다룬다. 기술의 발전은 우리의 삶에 큰 변화를 가져오고 있으며...', 'date': '2024.03.14.'}\n",
      "{'title': '테슬라(TSLA) 실적 발표 - 인공지능, 완전자율주행(FSD), 옵티머스 로봇 소식', 'text': '더군다나 차세대 차량 라인업을 위해 인공지능 및 연구 개발에 공격적으로 투자하고 있다. 수중에서 빠져나갈 돈이 앞으로 더 늘어날 텐데 마진을 어떻게 잘 관리할 수 있을지?... 인공지능(AI) 로봇 관련 업데이트 일론 머스크는 테슬라를 \" 로봇 회사\"라고 부르고 있다. (“Tesla is an AI robotics company.”) 그만큼 기술력에 공격적으로 투자하고 있다는 뜻인데...', 'date': '2024.01.25.'}\n",
      "{'title': '줌인터넷 주식 주가 - 국내 AI 인공지능 관련주 / 가짜뉴스 부각', 'text': '줌인터넷 기업 분석 국내 AI 인공지능 관련주 / 가짜뉴스 부각 줌인터넷은 어떤 사업을 하나요? ▶ 기업 개요 줌인터넷(주) 2009년에 설립된 인터넷 포털 사업 및 자산운용 사업을... \"지난해 생성형 AI가 확산하며 잘 활용되는 단계에 접어들면서 관련 보안 위협도 그만큼 커졌다.\" \"가짜 뉴스를 통한 정치 및 사회적 혼란이 을 악용한 대표적인 사이버 보안...', 'date': '2024.01.21.'}\n",
      "{'title': 'AI 인공지능 액티브 ETF 시장을 압도하고 있습니다.', 'text': \"'TIMEFOLIO 글로벌AI인공지능액티브', 'HANARO 글로벌생성형AI액티브', 'SOL 한국형글로벌반도체액티브', 'TIGER 글로벌AI액티브' 등 AI인공지능 테마형 액티브 ETF는 거의 20%의 수익률을 기록하고 있습니다. 5. 액티브 ETF는 2020년에는 2조원대의 순자산이었지만 4년이 지난지금은 44조원대 자산을 형성하고 있습니다. 6. 전체 ETF 순자산 총액에서 액티브 ETF가...\", 'date': '2024.03.15.'}\n",
      "{'title': '인공지능 혁명, 엔비디아 젠슨황 CEO와 UAE 최신 인터뷰, 새로운 산업혁명의 순간을 맞이하고 있다', 'text': '증기 기관의 발명에서 전기의 생산으로, 그 후 PC와 인터넷을 통한 정보 혁명, 그리고 다음이 인공지능 혁명이라고 말합니다. 인공지능 혁명은 큰 변화를 바탕으로 이뤄지고 있습니다. 컴퓨팅의 방식 변화 (General-Purpose Computing에서 Accelerated Computing으로) 1964년부터 지금까지 60년 동안, IBM 시스템 360 출시 이후 컴퓨터 산업은 발전했고, 이제 방향이 바뀌기...', 'date': '2024.02.26.'}\n",
      "{'title': '일본, 참치 감별 학습한 인공지능 AI 튜나 스코프 등장', 'text': \"바로 딥러닝으로 '참치 감별법'을 학습한 인공지능입니다. 이름은 '튜나 스코프' 일본의 5대 광고 기업 중 하나인 '덴츠'에서 개발한 AI라고 하는데요. 생선의 꼬리 단면 약 4,000장을... 슈퍼마켓에선 참치에 대한 불만 사항도 거의 접수되지 않았다고 해요. 위기를 맞은 참치 산업의 대안이 된 '참치 감별 AI' 이제 이 '장인'들의 영역까지 대체하고 있는 모습이네요.\", 'date': '2024.02.27.'}\n",
      "{'title': '아이큐 코인 전망 AI 인공지능 프로젝트 IQ Gpt Code Wiki 정보', 'text': '다만, 생각 외로 많은 투자자들이 이 부분을 잘 모르는 것 같은데 애초에 목표 자체를 인공지능 및 블록체인 기술을 활용하여 지능적인 미래를 구축한다는 기조를 가지고 있는 만큼 관련 프로젝트에 대해 정리해두겠으니 참고하시기 바란다. ※ 본 글은 투자 권유 및 추천의 글이 아니며 모든 투자에 대한 판단과 책임은 투자자 본인에게 있음을 알린다. 1. IQ GPT...', 'date': '2024.02.22.'}\n",
      "{'title': 'TIGER TSMC밸류체인FACTSET ETF 투자 인공지능의 주인공과 성장하는 조연', 'text': \"요즘 인공지능의 성장이 너무 뜨겁습니다. 어쩌면 이미 인공지능의 시대가 시작됐다고 해도 과언이 아니며, 앞으로 어느 방향으로 어디가 먼저 달려나갈지, 모르는... 역시 ETF의 주인공인 'TSMC'에 23% 비중으로 투자되고 있으며, 의외로 적은(?) 비중을 담고 있습니다. 그 밖에도 반도체 관련해서 내놓으라 할 기업들에 투자되고 있습니다. '램 리서치...\", 'date': '2024.01.22.'}\n",
      "{'title': '물리법칙을 이해한 AI, 인공지능이 동영상도 만들어준다. (Sora)', 'text': '어쩌면 초등학생 영화 감독이 곧 탄생할지도 모릅니다. 아직까진 일반인이 사용히지 못합니다. 그 이유는 추측 가능할 것 같네요. 물리법칙 이해한 인공지능 Sora 모델 관련 영상 https://www.youtube.com/watch?v=wXOWUhXgcLo https://www.youtube.com/watch?v=hsXK97bSCX0 https://www.youtube.com/watch?v=KEoE-XD_SiY', 'date': '2024.02.18.'}\n",
      "{'title': '카카오톡 AI 요약 기능 (feat. 인공지능 말투 변경)', 'text': '인공지능 말투 변경 최근 카카오톡 실험실에 AI 기능이 추가되었다. 아직 정식 출시한 것은 아니라서 약간 어설프기는 하다. 인공지능 기능은 두 가지로 선보였다. 첫 번째는 쌓인 카톡을 한 번에, 대화 요약하기다. 두 번째는 AI로 고민되는 카톡 말투를 변경해 준다. 이번 시간에는 카카오톡 AI 기능 사용방법에 대해서 살펴보겠다. INDEX ✔️ 카카오톡 AI 기능 이용...', 'date': '2024.02.10.'}\n",
      "{'title': '[파주시CCTV] 인쇄업체cctv 설치후기 | 화재감지 및 침입감지cctv| cctv | 자비스넷cctv...', 'text': 'AI화재감시 및 관제출동서비스 화재감지솔루션 | 지능형영상분석 | 영상모니터링서비스 | 긴급출동서비스 AI화재감시 및 관제출동서비스 실내에서 발생되는 연기, 습도, 온도... 이번 사업장에서는 총 4대의 인공지능 카메라를 설치하였으며, 밤에도 선명한 컬러 촬영이 가능한 컬러 카메라 2대와 외부보안에 최적화된 카메라 2대로 더욱 넓은 방향의 감시와...', 'date': '2024.02.27.'}\n",
      "{'title': '[약국cctv] 서울 중랑구 면목동 약국의 보안도 인공지능cctv로!', 'text': '서울cctv 오늘 소개해드릴 설치 후기 역시 서울 중랑구에 위치한 약국 내 침입감지를 위한 인공지능cctv 설치 후기입니다. 특히나 약국의 안쪽 부분은 전문처방약조제 구역의... 약국 인공지능cctv 설치된 kt skylife HCN 자비스넷의 400만 화소 실내 스탠다드 돔 카메라는 작고 가벼워 설치가 간편하고 깔끔한 시공이 가능하다는 장점이 있습니다. 자비스넷cctv 기존...', 'date': '2024.03.10.'}\n",
      "{'title': 'Team Lilys 인공지능 릴리스 소개 #AI', 'text': '풀고 있는 문제 다소 식상한 이야기로 들릴수도 있지만, 현대 사회는 인간의 인지능력에 비해 소화해야하는 정보의 양이 과도하게 많아졌습니다. 맥킨지 리포트에서는... 연락처 : *****@*****.** #인공지능 #기술혁신 #AI솔루션 #데이터분석 #AI기술 #디지털화 #스마트기술 #기술발전 #AI비즈니스 #정보기술 #AI연구 #데이터과학 #혁명 #테크트렌드 #소프트웨어혁신...', 'date': '2024.01.24.'}\n",
      "{'title': '[cctv추천] 경기 성남시 대형 스크린야구장 CCTV설치후기 | 인공지능cctv | AIcctv...', 'text': '대형 스크린 야구장도 선택한 자비스넷 인공지능CCTV 자비스넷 cctv추천 안녕하세요. 인공지능 경기cctv 성남cctv 수도권CCTV설치 전문 자비스넷 입니다. 여러분들 혹시 취미생활로 즐기시는 운동이나 활동이 있으신가요? 헬스, 필라테스, 크로스핏, 풋살 등등 많은 분들께서는 건강한 매일을 보내시 위해 다양한 활동을 찾으시곤 합니다. 오늘 소개해드릴 설치 후기는...', 'date': '2024.03.03.'}\n",
      "{'title': '[생성형 인공지능(AI) 활용 강의] 미드저니 V6의 특징_실사 이미지 수준 향상', 'text': '특히 이미지 실사 능력이 더 좋아져서 다양한 산업군에서 생성형 인공지능 미드저니의 활용이 기대됩니다. V6에서는 자연어 인식 능력이 향상되어 생각하는 장면을 영어로 작성하면 됩니다. 아직까지 한글 지원이 안 되는 것이 조금 아쉽습니다. realistic photo, --ar 16:9 --s 750 --v 6 다음은 사실적인 이미지, Aspect Ratio, Stylize, Version을 추가하여 다음과...', 'date': '2024.03.12.'}\n",
      "{'title': '혼자 공부하는 머신러닝 딥러닝 인공지능 책추천', 'text': '합격의기운이에요 혼자 공부하는 머신러닝 딥러닝 인공지능 책추천 안녕하세요, 혹시 인공지능에 관심을 가지고 계신가요? 대부분의 사람들이 관심없어할 주제지만 블로그에 꾸준하게 포스팅을 이어오고 있는데요. 지난 몇주간 책한권을 틈틈이 읽었거든요. 오늘은 \"혼자 공부하는 머신러닝 딥러닝\" 에 대해서 알아볼게요. 혼자공부하는 머신러닝 딥러닝 혼자공부하는...', 'date': '2024.02.14.'}\n",
      "{'title': 'AICE 인공지능 활용능력 시험 지정교육기관 모집 중', 'text': 'AICE 인공지능 자격증을 몇 번 포스팅한 적이 있어요~~ 이번 2월에는 FUTURE 2급에 응시도 했었답니다.~ AICE 지정 교육기관을 모집 중인데요~ 오늘은 AICE 지정 교육기관에... IOT 키트도 무료로 받고~ 코딩에도 도전해 보세요 #와이즈교육 #AICE자격증 #AICE지정교육기관 #능력활용시험 #AICEFUTURE #AICE활용능력평가', 'date': '2024.03.05.'}\n",
      "{'title': '인공지능(AI), 메타버스 등 신기술 활용 직업훈련 혁신지원', 'text': '인공지능(AI), 메타버스 등 신기술 활용 직업훈련 혁신지원 ※ 사진을 클릭하면 원본을 보실 수 있습니다 출처 : 고용노동부 100여 명의 직업훈련 전문가, 우수 훈련기관 관계자 등으로... 훈련과정 혁신 컨설팅* * 혼합훈련 과정 컨설팅 운영 실적: 3,428건(’21년) → 3,341건(’22년) → 3,500건(’23년) 훈련기관에 프로젝트 학습(PBL) 등 새로운 교수법이나 생성형 (AI)...', 'date': '2024.02.18.'}\n",
      "{'title': '인공지능으로 파이썬 프로그램 짜는 기초 중의 기초', 'text': '아는 지인이 갑자기 챗GPT와 같은 인공지능으로 코딩도 짠다고 하는데 어떻게 하는지 물어봅니다. 저도 개발자는 아니지만 인공지능으로 프로그램을 개발하는 것이 얼마나 쉬운 일인지 보여주고자 알려드렸습니다. 생각해 보니 여러분 중에서도 이 어떻게 프로그램을 개발할까 궁금할 것 같더라고요. 그래서 마우스와 키보드만 다룰 줄 알면 누구나 쉽게...', 'date': '2024.02.28.'}\n",
      "{'title': '[미추홀신협 본점] 재밌게 배우는 스마트폰 활용교육 2기 6회 - 카카오 지하철, 네이버 검색...', 'text': '지하철, 인공지능 네이버 스마트 검색, 페이스앱 얼굴 편집기로 내 얼굴 젊게 10대로 만들기 등 교육했습니다. 어쩌다 보니 오후 1시 30분 넘어서 미추홀신협 본점에 도착했어요. 미추홀신협 본점, 재밌게 배우는 스마트폰 활용교육 2기 6회 - 카카오 지하철, 네이버 스마트 검색, 페이스앱 얼굴 편집기로 내 얼굴 젊게 10대로 만들기 등 카카오 지하철 대중교통...', 'date': '2024.01.10.'}\n",
      "{'title': '2024년 IT 트렌드 TOP 2 : 가상현실(MR) & 인공지능(AI) 분야 빅이슈 (Feat. 청룡의 해)', 'text': 'ㅎㅎ 인공지능이 슈퍼컴을 떠나 스마트폰에도 들어가다 AI 대중화 시작 : 온디바이스 AI 2024년에 양대 스마트폰(갤럭시S24와 아이폰16)에는 거대언어모델인 생성형 AI가 탑재된다 앞으로는 우리가 인식하지 않더라도 생활 전반에 AI 기술이 스며들어 버려서 AI도입을 해야 한다고 더 이상 주장할 필요도, 이유도 없어질 겁니다. 이제 슈퍼컴퓨터가 아니라 작은...', 'date': '2024.01.01.'}\n",
      "{'title': 'TIGER 글로벌 AI&로보틱스 INDXX ETF 국내 로봇 인공지능 관련주 주가 수익률 수수료 투자기업 분석', 'text': 'TIGER 글로벌 AI&로보틱스 INDXX ETF 국내 로봇 인공지능 관련주 주가 수익률 수수료 투자기업 분석 TIGER 글로벌 AI&로보틱스 INDXX의 기본정보 : 운용사, 발행일, 순자산... 49% TIGER 글로벌 AI&로보틱스 INDXX가 따르는 지수는 산업용 로봇 & 자동화, 무인자동차 & 드론, 비산업 로보틱스, 등의 산업에서 발생하는 매출빚우이 전체 매출의 50...', 'date': '2024.02.24.'}\n",
      "{'title': '애플, 인공지능 iWork.ai iOS18에 탑재 가능한가?', 'text': '최근에는 인공지능 분야에도 집중하고 있습니다. 인공지능은 컴퓨터가 스스로 학습하고 창조하는 능력을 갖게 하는 기술입니다. 애플은 이 기술을 자신들의 제품과 서비스에 접목시키려고 합니다. 앞으로 애플이 어떤 인공지능을 선보일지 기대가 됩니다. iWork.ai, 애플의 도메인 iWork.ai 애플이 을 도입하는 증거 중 하나는 iwork.ai라는 도메인을...', 'date': '2024.02.23.'}\n",
      "{'title': '[cctv추천] 경기도 고양시 피자전문점 내 외 화재감지cctv, 인공지능CCTV 설치 후기 | 고양cctv...', 'text': '#경기씨씨티비 #음식점cctv #cctv출장 #CCTV #cctv설치 #CCTV설치 #씨씨티비설치 #씨씨티비 #수도권cctv출장 #근태관리 #cctv추천 #지능형CCTV #지능형CCTV설치 #서울CCTV설치 #고양시cctv #서울CCTV #고양CCTV #고양cctv #실외cctv #피자전문점cctv #피자집씨씨티비 #패스트푸드점CCTV #cctv교체 #지능형씨씨티비 #씨씨티비 #피자전문점씨씨티비 #근태관리기 #출퇴근기록기', 'date': '2024.03.02.'}\n",
      "{'title': '인공지능을 활용해 쉽게 고퀄리티 영상을 만들기 위해 찾아가는 답 (현재 적응할 프로그램 정하고 있습니다.)', 'text': \"인공지능을 활용해 쉽게 고퀄리티 영상을 만들기 위해 찾아가는 답 (현재 적응할 프로그램 정하고 있습니다.) 안녕하세요. 김상종입니다. IT 분야에서 활동하며 최선을 다해 답을 찾아가는 주제가 있습니다. '인공지능' 을 활용해 저와 관련된 일들을 잘하는 것이에요. 이러한 가운데 컴퓨터 프로그램을 잘 다룰 수 있게 사람들께 알려드리는 일을 하다보면 계속해...\", 'date': '2024.02.22.'}\n",
      "{'title': '인간 대 인공지능:', 'text': '인공지능. 인도의 한 최고경영자(CEO)는 채팅봇을 위해 직원의 90%를 해고했습니다. • MSN • Google • Dukaan(듀칸) • 이케아 • 블루포커스 • Salesforce(세일즈포스) • 듀오링고 • 소니 이 모든 회사들은 그들의 인력의 대부분을 으로 대체했습니다. 그들은 결과적으로 비용을 절감하고 수백만 달러의 수익을 늘렸습니다. 모두 잠을 자지 않고 있습니다. 비디오...', 'date': '2024.03.01.'}\n",
      "{'title': '인공지능 주식매매, 이것 모르면 투자 실패', 'text': '지난해 혜성처럼 등장한 챗GPT, 이후 인공지능이 정말 핫해졌죠. 블로그도 인공지능으로, 심지어 요즘 댓글도 인공지능 활용해서 달더라고요. (신박..) 인공지능 주식매매도 있습니다. 투자 시 불편함을 줄여주고, 손쉽게 투자할 수 있다고 생각해서 많은 분들이 도전하고 계시는데요. 생각보다 많은 분들이 자동매매에 대해서 너무 깊게 신뢰하고 있는 것...', 'date': '2024.01.18.'}\n",
      "{'title': '한글과컴퓨터의 인공지능 AI 사업, 한컴 어시스턴트 올 상반기 출시 예정', 'text': '최종적으로는 AI시장을 뛰어넘어 글로벌 IA(지능형 자동화) 기업이 되고자 한다. IA란, 인공지능에 자동화도구를 추가한 것으로 고객별, 산업별 비지니스 현장에 맞춰 자동화 업무를 수행하여 우리의 산업전반에 적용할 수 있는 보다 폭넓은 개념의 지능형 자동화 툴을 말한다. 예를 들어 스크립트 기술에 AI 기술을 더하고 이를 SDK형태로 모듈화해 다양한 기업, 기관의...', 'date': '2024.01.04.'}\n",
      "{'title': '인공지능에 대한 짧은 생각', 'text': '확실히 나는 인공지능에 대해선 보수적이다. 가령 인공지능을 이용한 번역이나 통역보다 내 스스로 언어를 깨우쳐 그 언어가 가진 매력이나 특징을 알게 되는 것이 훨씬... 기계학습은 정말로 통계적인 방식으로 학습을 시켜 결과를 도출하는 것이라면 딥러닝에서는 이러한 통계적인 방식에다 인공신경망을 결합하여 결과를 만드는 것이다....', 'date': '2024.01.24.'}\n",
      "{'title': '[인공지능 경제이야기] AI시대 각광받을 직업군은 무엇이 있을까', 'text': '[인공지능 경제이야기] AI시대 각광받을 직업군은 무엇이 있을까 안녕하세요 여러분의 주머니를 두둑하게 채워드리고 싶은 남자 최프로 입니다 앞으로 가면 갈수록 인공지능시대가 본격적으로 시작될 것 입니다. 그래서 오늘 제가 전해드릴 경제이야기 주제는 AI시대 각광받을 직업군은 무엇이 있을까로 한 번 정해 보았습니다. ai시대 어떤 직업군이 각광을...', 'date': '2024.03.10.'}\n",
      "{'title': \"오픈AI : 새로운 인공지능(AI) 서비스 '소라(Sora)'에 대한 분석!\", 'text': \"오픈AI가 15일(현지시간) 새로운 인공지능(AI) 서비스 '소라(Sora)'를 공개했습니다. 관련 인공지능 서비스는 텍스트 기반으로 동영상을 생성해주는 기능을 제공합니다. 소라는 텍스트를 입력하면 최대 1분 길이의 동영상을 만들어줍니다. 텍스트 투 비디오(Text to Video) 모델로, 텍스트를 입력하면 AI가 이를 해석하여 해당하는 동영상을 생성합니다. 이것은 기존의...\", 'date': '2024.02.16.'}\n",
      "{'title': '삼성전자 강남센터 & 인공지능폰 ‘갤럭시S24’ 시연', 'text': '갤럭시 인공지능 핸드폰이 여기 있습니다. 벽면엔 다양한 폰 디자인이 디스플레이 되어 있어요. #갤럭시워치 도 전시되고 있었어요. 귀염 귀염 남아공에서 온 분과 즉석에서 인공지능폰 실험을 하고 있는 문제능대표. 제가 찍었어요. 이영상은 전화부스 안에서 문제능대표가 촬영한 것 입니다. # #폰 #갤럭시 #삼성...', 'date': '2024.02.28.'}\n",
      "{'title': \"'인공지능+' 행동 '순간 전 우주' 가능?\", 'text': \"2024년은 중국의 인공지능 돌파구와 디지털 경제 발전의 중요한 해로 그 중 광모듈 산업체인, 지능계산 중심 산업체인, 계산 임대, 산업 사물 인터넷 산업체인 등 디지털 경제 및 인공지능 관련 산업체인은 지속적인 혜택을 받을 것으로 기대되며, 의 급속한 발전이라는 맥락에서 '+' 작전은 2024년에 인프라 건설에서 산업 체인에 이르기까지 점차...\", 'date': '2024.03.13.'}\n",
      "{'title': '최고의 인공지능 주식 7개 소개, 24년 매수할 최고의 AI주식 7개', 'text': '이런 인공지능이 지배하는 시대에 살아남기 위한 방법은 1) AI시대에 맞는 지식과 기술을 익히거나(AI기술자) 2) AI가 할 수 없는 분야의 전문가가 되거나, 예를들면 고고학이나... \"AI 핵심 주식 7개 매수 이유 정리\" 최고의 주식 3개 소개, 24년 매수할 최고의 AI주식 7개 마이크로소프트는 AI 리더기업(첫번째 픽) 생성형AI 챗GPT의 지분을 40% 이상 보유(약 870억...', 'date': '2024.01.15.'}\n",
      "{'title': '중구 한국프레스센터 국제회의장 인공지능 AI 심포지엄에 깨끗한 스마트 4K 삼성전자 55인치 대형프롬프터...', 'text': '서울특별시 중구 태평로1가 25 20층 한국프레스센터 국제회의장 생성형 인공지능과 우리의 미래 Ai 심포지움 행사장에 엘투 엔지니어 2명 18시20분 도착 했습니다. 일일간 생성형 이공지능과 우리의 미래 심포지움 행사 진행 MC와 세션 발표자 PPT 파워포인트 슬라이드쇼 노트북 화면을 대형프롬프터 2대와 프레스센터 스크린과 티비에 동일하게 다중 송출하기 위해...', 'date': '2024.03.11.'}\n",
      "{'title': '[AI 이미지 그리기] 인공지능으로 그림그리기_ 그림에 소질없던 사람들에게 열린 기회_플레이그라운드...', 'text': '[AI 이미지 그리기] 인공지능으로 그림그리기_ 그림에 소질없던 사람들에게 열린 기회_플레이그라운드 Playgrand AI_무료, 고퀄리티,프롬프트 공유 https://playgroundai.com/ 인공지능 이미지 생성 프로그램들이 무척 많아졌습니다. 어느 순간 정신을 차려보니 여기저기, 이곳저곳에서 엄청난 사이트가 나타나고 있는거죠. 많은 사이트 중에서 필요한 이미지가...', 'date': '2024.01.03.'}\n",
      "{'title': '일기와 인공지능(AI)', 'text': \"‘일기’와 ‘인공지능(AI)’. 생뚱맞은 조합 같아도 이 둘은 올해 컨슈머 시장에서 가장 주목받는 최신 기술 트렌트다. | iOS 17.2에서 추가된 '일기' 앱 애플이 ‘iOS 17.2’ 업데이트를 통해 공개한 ‘일기’는 ‘온 디바이스 AI’ 기반의 일기 작성을 돕는 앱이다. 사용자 아이폰에 저장되어 있는 사진, 음악, 매모 같은 다양한 정보들, 그러니까 하루 동안 내가 찍은...\", 'date': '2024.01.17.'}\n",
      "{'title': '산림청, 인공지능 적용 방안 토론회 개최', 'text': '자원과 인공지능 기술을 접목해 과학적이고 효율적인 산림재난 대응방안이 논의됐으며, 국민 수요에 부응하는 맞춤형 산림서비스 개발에 대한 다양한 아이디어가 제시됐다. 이미라 산림청 기획조정관은 “앞으로도 인공지능 등 최신 지능정보 기술을 산림분야에 적용할 수 있는 방안을 모색해 산림청의 디지털 정책이 한 단계 발전할 수 있도록 하겠다” 라고 말했다.', 'date': '2024.02.16.'}\n",
      "{'title': '[파주cctv] 요양원의 내부, 외부 관리를 인공지능으로 안전하게', 'text': '안녕하세요 인공지능 경기cctv 파주cctv 설치 전문 보안 솔루션 업체 자비스넷입니다. 어른이 되어갈 수록 신경써야 할 것들이 많아집니다. 특히 우리를 지켜주던 부모님의 경우... 인공지능cctv 이런 상황을 예방하기 위해 도입한 것이 바로 영상분석 기능입니다. cctv가 상황을 모두 촬영하며 감시하고 있다가 특이 상황이 발생하게 될 시 즉시 그 상황에...', 'date': '2024.01.08.'}\n",
      "{'title': '[웨비나 안내] 2024 글로벌 리더십 컨퍼런스_인공지능 시대의 디지털 트렌드와 영어교육 및 영어평가...', 'text': \"2024년을 맞아 '글로벌 리더십 컨퍼런스 : 인공지능 시대의 디지털 트렌드와 영어교육 및 영어평가 전망'이라는 주제를 가지고 온라인 웨비나를 개최하게 되었습니다. ➡️웨비나 일시 : 2024년 2월 21일 (수) 오후 2시 ➡️사전등록 신청 : 2024년 2월 7일(수) ~ 2024년 2월 20일(화) ➡️웨비나 자세히보기 : 지텔프 컨퍼런스 홈페이지 1부의 개회사로 시작되어...\", 'date': '2024.02.07.'}\n",
      "{'title': '의료 AI 입문 인공지능 책 서평', 'text': '의료 AI 입문 인공지능 책 서평 인공지능 시대의 도래 의료 분야의 변화와 혁신 © shanerounce, 출처 Unsplash 인공지능(AI)은 인간의 지능을 컴퓨터나 기계로 구현하는 기술이다. 과거에는 영화 속에서만 보았던 인간처럼 생각하고, 학습하고, 행동하는 기계가 이제 현실이 되어 인간의 삶에 녹아들었다. 단 몇 년 전까지만 해도 은 막연하게 몇십 년 후에나...', 'date': '2024.02.19.'}\n",
      "{'title': '법제처, 인공지능(AI) 관련 법ㆍ제도 개선 의견 청취를 위해 ‘AI 데이터센터’ 방문', 'text': '그리고 올해 말 대국민 오픈 예정인 지능형 법령검색 시스템에도 AI 관련 최신 법제도 정보 제공 창구를 마련하여 관련 법령의 변경사항이나 최신 국내외 AI 법·제도 등을 소개할 예정이다. 이완규 처장은 “인공지능 기술을 활용한 변화가 사회 각 분야에서 빠르게 일어나고 있는 만큼 관련 신산업의 미래를 예측하고 도전적으로 주도할 필요가 있다”면서...', 'date': '2024.03.18.'}\n",
      "{'title': '시를 통해 시간을 알려주는 인공지능 시계 포임 원', 'text': '포임 원 요즘 인공지능을 이용한 다양한 제품과 콘텐츠가 넘쳐나고 있습니다. 이번에 소개해 드리는 제품도 인공지능을 이용한 제품으로 바로 시계입니다. 해외 크라우드펀딩 사이트에 선보였는데 인공지능이 시 문구를 통해 시간을 알려준다고 하네요. 디지털패션에서 자세하게 살펴보았습니다. 포임 원(Poem 1)입니다. 포임 원의 기능 포임 원의 구성 포임 원은 매...', 'date': '2024.02.13.'}\n",
      "{'title': '[US 종목분석] 인공지능 관련주 슈퍼마이크로컴퓨터 주가 상승 이유와 전망', 'text': '오늘은 AI 열풍으로 주목을 받고 있는 인공지능 관련주 슈퍼마이크로컴퓨터 주가에 대한 전망을 살펴보도록 하겠습니다. 이미 작년 4분기부터 월가의 전망치를 훨씬 뛰어 넘은... 컴퓨팅, 인공지능, 5G 및 엣지 컴퓨팅 등 현재 주식을 하는 모든 사람이 주목하고 있는 건 다 한다고 보면 돼요. 그러니까 우리 같은 사람들에게 주목받는 거죠. 현재 기술주로 구성된...', 'date': '2024.03.06.'}\n",
      "{'title': '(24.2.23) 샘알트만의 인공지능(AI) \"월드코인(World Coin)\" 무료채굴하기!!', 'text': '최근 코인시장 핵으로 등장한 인공지능(Ai)테마 코인 그중에서도 월드코인(World Co), - 샘알트만의 오픈Ai사가 설립한 Tools for Humanity(TFH)에서 출시 - 2023.7월 베타버전출시 - 현재 전세계 120개국 360만명 유저 2024년 (Ai) 핵돌풍의 주역! 미국 스탠퍼드대 중퇴후 일론머스크와 오픈AI설립한 85년생 유대계미국인 샘 알트만(Sam Altman) 챗GPT,소라(Sora)로...', 'date': '2024.02.23.'}\n",
      "{'title': '휴대폰 컴퓨터 부품창고 인공지능cctv설치 후기 | 침입감시cctv | 인공지능CCTV | 인천cctv | 씨씨티비', 'text': '#경기씨씨티비 #부품창고cctv #cctv출장 #CCTV #cctv설치 #CCTV설치 #씨씨티비설치 #씨씨티비 #수도권cctv출장 #근태관리 #cctv추천 #지능형CCTV #지능형CCTV설치 #서울CCTV설치 #인천광역시cctv #경기CCTV #인천CCTV #인천cctv #실외cctv #부품창고cctv #부품창고씨씨티비 #창고CCTV #cctv교체 #지능형씨씨티비 #씨씨티비 #경기씨씨티비 #근태관리기 #출퇴근기록기', 'date': '2024.03.14.'}\n",
      "{'title': '김경민 에널 인공지능 반도체 관련 정리', 'text': '☆김경민 에널 인공지능 반도체 관련 한장정리 - HBM은 고대역폭 메모리로 불리며 대역폭이 넓을수록 더 많은 정보를 전송할 수 있음. 칩과 칩사이의 거리가 길수록 데이터 전송... - CXL은 메모리와 비메모리 칩을 연결하는 인터페이스 기술이며 발전으로 방대한 데이터를 빠르게 처리하기 위해 비메모리와 메모리 반도체의 자원공유의 중요성 증가로 대두....', 'date': '2024.01.22.'}\n",
      "{'title': '[독일] 독자들은 AI 기사에 얼마를 지불할까? <인공지능과 지불 의향> 보고서 발표', 'text': '이유진 프리랜서 기자 인공지능(AI)을 활용하는 언론사가 많아지고 있다. 지난해 11월 KPF 저널리즘 컨퍼런스에 연사로 참여한 찰리 베켓(Charlie Beckett) 런던정치경제대... AI 활용 뉴스에 대한 독자 지불 의향 더 낮아 독일의 마케팅 서비스 연구소인 브랜드과학연구소(BSI, Brand Science Institute)는 지난 1월 9일 이러한 질문을 다룬 <과 지불 의향(Künstliche...', 'date': '2024.02.14.'}\n",
      "{'title': '인공지능 시대, ChatGPT 시대에 살아남을 직업 2편', 'text': '오늘은 인공지능 시대 생존 전략 2편입니다. \"지피지기면 백전 불태!\"라는 말이 있죠. 즉, 인공지능 시대에 살아 남고 싶다면 먼저 인공지능에 대해서 알아야 합니다. 인공지능 개발은 아래처럼 크게 3단계로 이루어집니다. 1. 데이터 획득 단계: 데이터를 수집하는 단계입니다. 사물인터넷(IoT) 기기, 모바일, 기계 간 통신 등을 통해 데이터를 수집합니다. 최근에는...', 'date': '2024.03.11.'}\n",
      "{'title': '[인천 서구노인복지관] 인천소셜서포터즈 홍미화 선생님과 시니어분들 대상으로 네이버 스마트...', 'text': '2024년 1월 25일 목요일 오후 2시부터 4시까지 인천 서구노인복지관에서 인천소셜서포터즈 홍미화 선생님과 시니어분들 대상으로 인공지능 네이버 스마트, 그린닷 검색, 글그램으로 새해카드 만들기 복습 등 교육했습니다. 오후 1시 20분쯤 인천 서구노인복지관에 도착했어요. 인천 서구노인복지관 인천소셜서포터즈 홍미화 선생님과 시니어분들 대상으로 네이버...', 'date': '2024.01.26.'}\n",
      "{'title': '[인공지능cctv] 서울 동대문구 음료 도매업체 침입감지cctv, 인공지능CCTV 설치 후기 | 침입감시...', 'text': '#서울씨씨티비 #일반업체cctv #cctv출장 #CCTV #cctv설치 #CCTV설치 #씨씨티비설치 #씨씨티비 #서울cctv출장 #지능형CCTV #지능형CCTV설치 #동대문CCTV설치 #동대문구cctv #서울CCTV #수도권CCTV #동대문씨씨티비 #도매업체씨씨티비 #일반매장CCTV #cctv교체 #지능형씨씨티비 #씨씨티비 #도매업체cctv #음료도매업체', 'date': '2024.03.13.'}\n",
      "{'title': '[cctv 추천] 인천 옹진군 육아종합지원센터 내 인공지능 cctv설치 사례 | cctv | CCTV추천...', 'text': '인공지능 영상장비 ODM 납품 및 서비스 제공에 관한 B2B 협약을 맺은 공식파트너사입니다. #경기씨씨티비 #cctv출장 #CCTV #cctv설치 #CCTV설치 #씨씨티비설치 #씨씨티비 #경기cctv출장 #매장cctv #지능형CCTV #지능형CCTV설치 #경기CCTV설치 #인천cctv #경기CCTV #인천CCTV #인천씨씨티비 #육아씨씨티비 #매장CCTV #cctv교체 #씨씨티비 #아동복지CCTV #실외cctv #매장씨씨티비', 'date': '2024.03.04.'}\n",
      "{'title': \"'24년 02월 경제적자유를 향한 발걸음 - 인공지능AI의 핵심 키워드는 반도체 그리고 엔비디아\", 'text': \"특히 인공지능 AI '키워드'로 시작해서 '엔비디아'를 주축으로 다양한 IT기업들이 강한 모습을 보였고, 고점, 신고가에 대한 우려도 있었지만, 우려보다는 더 강한 매수심리로... 그래야 지금 조금은 비싸게 적립식으로 매수하고 있지만, 상대적으로 저렴하게 매수할 수 있는 기회도 조만간 올 것이라고 생각하며, ''으로 휩쓸고 있는 미국 시장이...\", 'date': '2024.03.06.'}\n",
      "{'title': '그림 그려주는 인공지능 Copilot', 'text': '이제 인공지능은 우리 사회에 빼놓을수 없는 하나의 현상이다. 스마트폰이 나오면서 세상을 한번 바꾸었듯이 \"인공지능\"도 아주 빠르게 세상을 바꾸고 있다. 스토리를 몇 문장으로 말하면 바로 그 내용을 움직이는 영상으로 만들어 주는 기술까지 나왔으니 그림을 그려주는것은 ai에겐 쉬울지도 모른다. 하지만 내가 접해서 사용해보진 않아서...', 'date': '2024.02.26.'}\n",
      "{'title': '여행 필수 앱이 되어버린 인공지능(AI) App은?', 'text': \"ChatGPT의 등장과 함께 빠른 속도로 일상생활 속에 '생성형 인공지능(Generative Artificial Intelligence)' 서비스들이 들어오고 있습니다. 생성형 인공지능이 도입되면 가장 먼저 대체될 것이라고 예상한 부분이 사람들의 능동적인 정보 검색 행위가 될 것이라고 생각해왔는데, Microsoft가 ChatGPT를 개발한 OpenAI의 지분 49%를 인수하고 자사 서비스에 ChatGPT와 DALL-E를 이식하기...\", 'date': '2024.01.08.'}\n",
      "{'title': '인공지능 이미지 생성형 AI 대표 미드저니 사용법 - 된다미드저니', 'text': \"2022년 9월 인공지능 이미지 미술대회 수상 소식에 난리가 났었습니다. 온라인 게임 제작 스튜디오를 운영하는 제이슨 앨런이 생성형 AI '미드저니'를 이용해 그린 그림으로 디지털 아트 부분 1등을 거머쥐었기 때문이었습니다. 그림을 보고 저도 너무 아름답다고 생각했고 당연히 사람이 드로잉 앱을 이용해 그렸을 거라고 생각했는데 나중에 이 그렸다고...\", 'date': '2024.02.28.'}\n",
      "{'title': '[용인cctv] 실내 골프연습장 cctv 스크린 골프장의 보안도 인공지능', 'text': '인공지능 경기cctv 용인cctv 설치전문 자비스넷입니다. 여러분들은 취미 생활로 하시는 운동이 있나요? 헬스, 필라테스, 크로스핏 등 많은 분들께서 건강한 매일을 보내기 위해... 골프장에 인공지능cctv 설치를 진행하였습니다. 용인cctv 이곳의 경우 각 방에서 골프 연습을 이용할 수 있도록 설계를 해놓았는데요, 이럴 경우 관리자가 방 내부에서 발생한 안전사고...', 'date': '2024.01.05.'}\n",
      "{'title': '인공지능 웹툰 투닝교육 지도자', 'text': '만화의 도시 부천 가야지 가야지 했던 곳에 인공지능 웹툰 투닝교육 지도자 2급 자격증 과정 공부하기 위해 다녀왔어요 만화 박물관 옆 웹툰 융합센터에서 투닝 교육이 있었답니다 웹툰 융합센터 수업이 흥미로워 시간 가는 줄 모르게 집중했어요! mkyu 디지털 튜터 협회에서 마련한 AI 웹툰 투닝교육 전문강사 양성과정이었는데요 을 웹툰에...', 'date': '2024.03.01.'}\n",
      "{'title': \"미리캔버스 'AI 드로잉' 기능/ 인공지능 AI가 블로그 사진도 그려주다니 신기\", 'text': \"미리캔버스 'AI 드로잉' 기능 인공지능 AI가 블로그 사진도 그려주다니 신기 어제 미리캔버스로 블로그 사진 꾸미는 법을 포스팅했었는데요. 실은 저도 아직 초보라 더듬더듬 배워가는... 그런데, 아쉬운 점은 너무 인공적인 느낌이 든다는 것. 위 사진이 제 블로그에 올린 AI드로잉 사진인데요, 잘 찍은 사진 같긴 한데, 뭔가 어색하고 자연스럽지 못한 느낌이 있죠?? 이건...\", 'date': '2024.03.14.'}\n",
      "{'title': '분석 및 인공지능을 통한 데이터의 사업적 가치로의 전환', 'text': '코로나 2년을 거치면서 (91%) 데이터 및 분석에 대한 접근권의 민주화가 조직의 성공에 중요 (76%) 인공지능 역량에 대한 접근권의 민주화가 중요하다는데 동의 생각보다 많은... 사업의 성공을 위한 데이터, 분석 및 인공지능의 중요성과 데이터, 분석 및 에 대한 전반적인 투자의 가속화 및 증가에 대해서 보고서는 다음과 같이 제안하였습니다. 데이터 및...', 'date': '2024.01.04.'}\n",
      "{'title': '위치한 폐기물 처리업체 내 인공지능cctv설치후기 | 화재감지cctv | 침입감시cctv | 지능형cctv | 씨씨티비', 'text': '경기도 고양시 덕양구에 위치한 폐기물 처리업체 내 인공지능cctv설치후기 안녕하세요. 경기cctv 고양cctv 수도권cctv 화재감시 및 침입감지 보안 인공지능cctv전문업체 자비스넷... 모니터링하고 지능형 영상분석 기능을 통해 침입자에 의한 방화나 시설 파손에 대해서도 모니터링이 이루어지며 이러한 화재상황 및 침입상황을 감지할 경우, 사용자와 고객센터로...', 'date': '2024.03.12.'}\n",
      "{'title': '프린세스 메이커와 인공지능', 'text': '그것도 선택이겠지만.. 일을 잘한다는 것은 YES, 또는 NO라고 말할 수 있는게 전부가 아니다. 목표와 현실 사이에서 어떻게 운동할 것인지 문제다. 목표가 어렵다고 포기할건가? 시키면 시킨대로 아는만큼 일해서는 안되는 시대이다. 그건 조만간 기계가 대체할 미래다. 이 결코 넘지 못할 영역은 자유의지로 움직이는 인간의 마음세계 뿐일 듯 하다.', 'date': '2024.03.18.'}\n",
      "{'title': '인공지능ai와 CPU GPU APU NPU 이야기', 'text': '안녕하세요^^ 꿈꾸는 양양이 IT이야기 입니다 조금 생소할수있지만 인공지능 관련 내용으로 많이 듣게되는 용어인 CPU와 CPU, APU, NPU에 대한 내용을 준비해봤습니다 가장 기본적인... 프로세서 인공지능 작업을 가속화하고 실시간 처리에 특화된 전용프로세서 용도 일반적인 컴퓨팅 작업으로 고속으로 다양한 작업을 동시에 처리 그래픽 게임렌더링 비디오 인코딩...', 'date': '2024.02.21.'}\n",
      "{'title': '[미추홀신협 본점] 재밌게 배우는 스마트폰 활용교육 2기 7회 - 인공지능 개인비서 구글 어시스턴트, 갤러리...', 'text': '눈이 내리다 비가 내리는 날~ 오후 2시부터 4시까지 미추홀신협 본점에서 재밌게 배우는 스마트폰 활용교육 2기 7회 - 조합원님들 40명 대상으로 인공지능 개인비서 구글 어시스턴트, 갤러리 관리 및 포토 에디터 콜라주 만들기 등 교육했습니다. 오후 1시 25분 미추홀신협에 도착했어요. 미추홀신협 본점 재밌게 배우는 스마트폰 활용교육 2기 7회 - 개인비서 구글...', 'date': '2024.01.17.'}\n",
      "{'title': '인공지능AI 가 주목을 받을 때 . . .', 'text': '인공지능 반도체, HBM, DDR, 전공정, 후공정 . . . 아무것도 모르는 아줌마가 대략적으로 적어봐도 .. 저렇게나 많다. 더 공부를 해 봐야겠지만 정말 단순하지 않고, 다양한 투자처가... 그래서 저도 찾아보려함 ㅋㅋㅋ #언더스탠딩 #전력반도체 #소형원자로 #SMR #전력문제 #반도체종류 #반도체투자 #언더스탠딩반도체 # #투자이야기', 'date': '2024.02.25.'}\n",
      "{'title': '[인공지능cctv] 경기도 화성시에 위치한 통신, 방송장비제조업 창고 내 보안을 위한 지능형cctv설치후...', 'text': '경기cctv 화성cctv 수도권cctv 지능형 영상분석 인공지능cctv 전문기업 자비스넷입니다. 화성cctv 오늘 소개해드릴 cctv설치후기는 경기도 화성시에 위치한 통신, 방송장비제조업체에서 창고 내 보안을 위한 인공지능cctv설치 사례입니다. 저희 자비스넷에는 많은 사업주분들께서 창고 내 보안 및 도난 방지를 위해 cctv설치 솔루션을 요청하시곤 합니다. 자비스넷...', 'date': '2024.03.14.'}\n",
      "{'title': '창고 컨테이너CCTV 경기도 고양시 실외와 실내 인공지능 보안', 'text': '고양cctv 하지만 인공지능 자가영상보안 전문업체인 자비스넷은 이러한 경우에도 완벽한 보안 시스템 구축을 도와드리는데요, 방문하여 공간의 특성을 파악한 다음 제일 적절한... 또한 이때는 적은 카메라 댓수로 많은 공간을 감시할 수 있도록 많은 노력을 기울이는데요, 이 카메라들이 이상 상황을 감지할 경우 빠르게 알림을 드릴 수 있도록 ...', 'date': '2024.01.05.'}\n",
      "{'title': '더존비즈온 : 인공지능을 만나 더욱 성장할 기업!', 'text': '더존비즈온은 고객사의 업무와 관련된 데이터를 중요한 자산으로 인식하고 있으며 앞으로 AI를 통해 이러한 데이터를 활용하여 경쟁력을 가지고 인공지능을 통하여 비용을 낮출 수... 인공지능을 활용하여 비용을 과감하게 절감하는 구조조정을 한다면 주가는 가파르게 올라갈 것입니다. 차트는 이전 반전에는 음운 안에서 매물을 소화하지 못해서 하락을 다시...', 'date': '2024.02.07.'}\n",
      "{'title': \"인공지능 버블 '이렇게' 붕괴됩니다. (ft. 엔비디아) - 단테님 영상 정리해 봅니다.\", 'text': '저도 올해 드는 의문은 계속 인공지능이 좋다고 하는데 실 생활에서 어디에 쓰고 있는지를 생각해 보면 사람들이 기술에 익숙해지고 퍼져나가는 데는 시간이 필요한 것을 알 수 있습니다. 작년에 유튜브에 영상과 블로그의 글에 어마 어마하게 올라왔지만 실제 이런 기술로 돈을 버는 분들은 많지 않습니다. ㅎㅎ 기술은 기술이고 어떻게 투자를 하고...', 'date': '2024.03.04.'}\n",
      "{'title': '[구글 인공지능 재미나이 출시] 스마트폰에서 재미나이 테스트 하기, 책을 구매하기 전에 요약 내용과...', 'text': \"인공지능 챗봇 구글 바드가 구글 재미나이로 업데이트가 되어서 간단하게 소개해 드립니다. 구글 크롬 브라우저에서 '바드 구글'로 검색해 보시기 바랍니다. 클릭해서 페이지로 접속을 하시면, 바드가 재미나이로 바뀌었다는 팝업창업을 만나시게 될겁니다. 구글 재미나이에서 업데이트 된 내용을 확인하시고 싶다면, 화면 상단 검은색 바에 '업데이트 보기'를 클릭하시면...\", 'date': '2024.02.09.'}\n",
      "{'title': '2024년 AICE FUTURE 인공지능 겨울캠프 현장스케치', 'text': '지난 2024년 2월 21일 수요일부터 2월 23일 금요일까지 2박 3일간 AICE FUTURE 인공지능 겨울캠프가 개최되었습니다! AICE FUTURE 인공지능 캠프는 컴퓨터 사고력과 창의적 문제해결력을 키우기 위해 AI에 특화된 블록코딩 실습교육으로 기획되었는데요. 이번 AICE 캠프 교육은 국립부산과학관과 함께하는 첫 번째 교육이었습니다. 그만큼 전국의 뜨거운 관심 속에 참가...', 'date': '2024.03.05.'}\n",
      "{'title': '인공 지능 어디까지 왔을까?', 'text': '최근 컴퓨터 그래픽 및 인공지능 전문가 앤디 레샤(Andy Resha)는 이 사진들이 실제 사진인지, 아니면 인공 사진인지 구별하라며 웹사이트에 공개한 모습이다. 알고보니 그는 자신의 작품을 마치 실제 사진인 것처럼 가장해 전 세계 사진가들에게 공개했다. 자신의 작품 사진에서 이것이 실제 사진인지 작품인지 스스로 판단해 보라는데 여러분들은 구별할 수...', 'date': '2024.01.10.'}\n",
      "{'title': '[재테크] 미래를 이끌 5대 인공지능 기업: AI 5 소개 (AI5)', 'text': '이들은 인공지능 분야에서 핵심 기술과 시장 점유율을 보유하며 미래 성장 가능성이 높은 기업들로 평가받고 있습니다. AI 5 주식 소개 1. 엔비디아 (티커 : NVDA) - 인공지능 칩 시장을 독점하며 딥러닝 붐의 선두주자 - 최첨단 GPU 기술로 게임, 데이터센터, 자율주행 등 다양한 분야에서 혁신을 이끌고 있음 2. AMD (티커 : AMD) - 엔비디아에 이어 칩 시장에서...', 'date': '2024.02.27.'}\n",
      "{'title': '헤데라 코인 호재 사우디아라비아 투자 인공지능 양자컴퓨터 지원 전망', 'text': '혁신적인 솔루션 개발 및 인공지능, 블록체인, 사물 인터넷(IoT), 가상현실, 양자 컴퓨터 등 다양한 심층 기술을 이끌어낼 것이라는 부수적인 설명이다. 우선 이 외에 상세한 정보는... 그리고 블록체인 시장에서 현재 이슈가 되고 있는 디핀(DePin) 계열에서 핵심 주제로 다가가고 있는 사물 인터넷(IoT)은 물론 전체 경제에서 화두가 되는 테마 (AI), 양자...', 'date': '2024.02.06.'}\n",
      "완료\n"
     ]
    }
   ],
   "source": [
    "# get_view()\n",
    "views = driver.find_elements(By.CSS_SELECTOR, '.lst_view .view_wrap')\n",
    "result = []\n",
    "\n",
    "for view in views:\n",
    "    con_dict = {}\n",
    "    con_dict['title'] = view.find_element(By.CSS_SELECTOR, '.title_link').text.strip()\n",
    "    con_dict['text'] = view.find_element(By.CSS_SELECTOR, '.dsc_link').text.strip()\n",
    "    con_dict['date'] = view.find_element(By.CSS_SELECTOR, '.sub').text.strip()\n",
    "    result.append(con_dict)\n",
    "    print(con_dict)\n",
    "\n",
    "print('완료')"
   ]
  },
  {
   "cell_type": "code",
   "execution_count": 24,
   "id": "98c01335-7fd6-42b5-8b08-caddf3edaad5",
   "metadata": {},
   "outputs": [
    {
     "data": {
      "text/html": [
       "<div>\n",
       "<style scoped>\n",
       "    .dataframe tbody tr th:only-of-type {\n",
       "        vertical-align: middle;\n",
       "    }\n",
       "\n",
       "    .dataframe tbody tr th {\n",
       "        vertical-align: top;\n",
       "    }\n",
       "\n",
       "    .dataframe thead th {\n",
       "        text-align: right;\n",
       "    }\n",
       "</style>\n",
       "<table border=\"1\" class=\"dataframe\">\n",
       "  <thead>\n",
       "    <tr style=\"text-align: right;\">\n",
       "      <th></th>\n",
       "      <th>title</th>\n",
       "      <th>text</th>\n",
       "      <th>date</th>\n",
       "    </tr>\n",
       "  </thead>\n",
       "  <tbody>\n",
       "    <tr>\n",
       "      <th>0</th>\n",
       "      <td>슈퍼마이크로컴퓨터(SMCI) 주가, 인공지능, 데이터센터 관련주</td>\n",
       "      <td>안녕하세요 저장 안해서 같은 포스팅을 두번째 작성하는 네이버 인플루언서 길짱입니다 ...</td>\n",
       "      <td>2024.02.24.</td>\n",
       "    </tr>\n",
       "    <tr>\n",
       "      <th>1</th>\n",
       "      <td>AI 인공지능 관련주 TOP 10 미국주식에 투자하는 국내 ETF</td>\n",
       "      <td>(페이스북, 애플, 아마존, 넷플릭스, 구글) 최근에는 AI 위주의 투자가 주목받으...</td>\n",
       "      <td>2024.03.06.</td>\n",
       "    </tr>\n",
       "    <tr>\n",
       "      <th>2</th>\n",
       "      <td>최신 무선 엘지 올레드TV 결국 인공지능 65인치와 77인치 가격차이!! 엘지 시그...</td>\n",
       "      <td>그리고 기본적으로 인공지능 기능을 강화하면서 더욱 강력한 퍼포먼스를 제공합니다. 개...</td>\n",
       "      <td>2024.02.29.</td>\n",
       "    </tr>\n",
       "    <tr>\n",
       "      <th>3</th>\n",
       "      <td>[2월 26일 마감시황] 인공지능(AI) 테마 추가 반등은 아직</td>\n",
       "      <td>바탕으로 인공지능(AI) 테마가 주식시장 상승 모멘텀을 끌고 갈 것이란 기대가 높기...</td>\n",
       "      <td>2024.02.27.</td>\n",
       "    </tr>\n",
       "    <tr>\n",
       "      <th>4</th>\n",
       "      <td>인공지능 AI 반도체 관련주 미국 국내 (1편)</td>\n",
       "      <td>인공지능 AI 반도체 관련주 미국, 국내 미국 엔비디아 주가가 연일 폭등하고 있어서...</td>\n",
       "      <td>2024.02.17.</td>\n",
       "    </tr>\n",
       "    <tr>\n",
       "      <th>...</th>\n",
       "      <td>...</td>\n",
       "      <td>...</td>\n",
       "      <td>...</td>\n",
       "    </tr>\n",
       "    <tr>\n",
       "      <th>325</th>\n",
       "      <td>[구글 인공지능 재미나이 출시] 스마트폰에서 재미나이 테스트 하기, 책을 구매하기 ...</td>\n",
       "      <td>인공지능 챗봇 구글 바드가 구글 재미나이로 업데이트가 되어서 간단하게 소개해 드립니...</td>\n",
       "      <td>2024.02.09.</td>\n",
       "    </tr>\n",
       "    <tr>\n",
       "      <th>326</th>\n",
       "      <td>2024년 AICE FUTURE 인공지능 겨울캠프 현장스케치</td>\n",
       "      <td>지난 2024년 2월 21일 수요일부터 2월 23일 금요일까지 2박 3일간 AICE...</td>\n",
       "      <td>2024.03.05.</td>\n",
       "    </tr>\n",
       "    <tr>\n",
       "      <th>327</th>\n",
       "      <td>인공 지능 어디까지 왔을까?</td>\n",
       "      <td>최근 컴퓨터 그래픽 및 인공지능 전문가 앤디 레샤(Andy Resha)는 이 사진들...</td>\n",
       "      <td>2024.01.10.</td>\n",
       "    </tr>\n",
       "    <tr>\n",
       "      <th>328</th>\n",
       "      <td>[재테크] 미래를 이끌 5대 인공지능 기업: AI 5 소개 (AI5)</td>\n",
       "      <td>이들은 인공지능 분야에서 핵심 기술과 시장 점유율을 보유하며 미래 성장 가능성이 높...</td>\n",
       "      <td>2024.02.27.</td>\n",
       "    </tr>\n",
       "    <tr>\n",
       "      <th>329</th>\n",
       "      <td>헤데라 코인 호재 사우디아라비아 투자 인공지능 양자컴퓨터 지원 전망</td>\n",
       "      <td>혁신적인 솔루션 개발 및 인공지능, 블록체인, 사물 인터넷(IoT), 가상현실, 양...</td>\n",
       "      <td>2024.02.06.</td>\n",
       "    </tr>\n",
       "  </tbody>\n",
       "</table>\n",
       "<p>330 rows × 3 columns</p>\n",
       "</div>"
      ],
      "text/plain": [
       "                                                 title  \\\n",
       "0                  슈퍼마이크로컴퓨터(SMCI) 주가, 인공지능, 데이터센터 관련주   \n",
       "1                 AI 인공지능 관련주 TOP 10 미국주식에 투자하는 국내 ETF   \n",
       "2    최신 무선 엘지 올레드TV 결국 인공지능 65인치와 77인치 가격차이!! 엘지 시그...   \n",
       "3                  [2월 26일 마감시황] 인공지능(AI) 테마 추가 반등은 아직   \n",
       "4                           인공지능 AI 반도체 관련주 미국 국내 (1편)   \n",
       "..                                                 ...   \n",
       "325  [구글 인공지능 재미나이 출시] 스마트폰에서 재미나이 테스트 하기, 책을 구매하기 ...   \n",
       "326                  2024년 AICE FUTURE 인공지능 겨울캠프 현장스케치   \n",
       "327                                    인공 지능 어디까지 왔을까?   \n",
       "328             [재테크] 미래를 이끌 5대 인공지능 기업: AI 5 소개 (AI5)   \n",
       "329              헤데라 코인 호재 사우디아라비아 투자 인공지능 양자컴퓨터 지원 전망   \n",
       "\n",
       "                                                  text         date  \n",
       "0    안녕하세요 저장 안해서 같은 포스팅을 두번째 작성하는 네이버 인플루언서 길짱입니다 ...  2024.02.24.  \n",
       "1    (페이스북, 애플, 아마존, 넷플릭스, 구글) 최근에는 AI 위주의 투자가 주목받으...  2024.03.06.  \n",
       "2    그리고 기본적으로 인공지능 기능을 강화하면서 더욱 강력한 퍼포먼스를 제공합니다. 개...  2024.02.29.  \n",
       "3    바탕으로 인공지능(AI) 테마가 주식시장 상승 모멘텀을 끌고 갈 것이란 기대가 높기...  2024.02.27.  \n",
       "4    인공지능 AI 반도체 관련주 미국, 국내 미국 엔비디아 주가가 연일 폭등하고 있어서...  2024.02.17.  \n",
       "..                                                 ...          ...  \n",
       "325  인공지능 챗봇 구글 바드가 구글 재미나이로 업데이트가 되어서 간단하게 소개해 드립니...  2024.02.09.  \n",
       "326  지난 2024년 2월 21일 수요일부터 2월 23일 금요일까지 2박 3일간 AICE...  2024.03.05.  \n",
       "327  최근 컴퓨터 그래픽 및 인공지능 전문가 앤디 레샤(Andy Resha)는 이 사진들...  2024.01.10.  \n",
       "328  이들은 인공지능 분야에서 핵심 기술과 시장 점유율을 보유하며 미래 성장 가능성이 높...  2024.02.27.  \n",
       "329  혁신적인 솔루션 개발 및 인공지능, 블록체인, 사물 인터넷(IoT), 가상현실, 양...  2024.02.06.  \n",
       "\n",
       "[330 rows x 3 columns]"
      ]
     },
     "execution_count": 24,
     "metadata": {},
     "output_type": "execute_result"
    }
   ],
   "source": [
    "#저장된 게시물 리스트를 데이터프레임으로 변환후 csv로 저장\n",
    "df = pd.DataFrame(result)\n",
    "df"
   ]
  },
  {
   "cell_type": "code",
   "execution_count": 25,
   "id": "8ca4a78f-1deb-4fdd-8b30-23d1c16e371c",
   "metadata": {},
   "outputs": [],
   "source": [
    "#데이터 프레임 저장\n",
    "# csv는 sep 쉼표가 반드시 있어야 한글이 안깨짐\n",
    "df.to_csv(f'./naver_{fname}.csv', sep=',', encoding='utf-8-sig')"
   ]
  },
  {
   "cell_type": "markdown",
   "id": "396463cb-d771-43e2-896b-91cc2671da6b",
   "metadata": {},
   "source": [
    "# 예제) 구글 플레이 스토어 리뷰"
   ]
  },
  {
   "cell_type": "code",
   "execution_count": 26,
   "id": "9b35e59d-6ef7-480e-8175-90a423fd576b",
   "metadata": {},
   "outputs": [],
   "source": [
    "from selenium import webdriver\n",
    "from selenium.webdriver.common.by import By\n",
    "from selenium.webdriver.chrome.options import Options\n",
    "import time, random, pandas as pd\n",
    "\n",
    "options = Options()\n",
    "options.add_argument('--window-size=974,1047')\n",
    "options.add_argument('--window-position=-7,0')\n",
    "options.add_experimental_option(\"detach\", True)\n",
    "\n",
    "driver = webdriver.Chrome( options = options)\n",
    "url = 'https://play.google.com/store/apps/details?id=com.estsoft.picnic'\n",
    "driver.get(url)\n",
    "time.sleep(random.randint(2,3))"
   ]
  },
  {
   "cell_type": "code",
   "execution_count": 30,
   "id": "465c56f5-7c62-42f2-bb8a-eb504266b9fd",
   "metadata": {},
   "outputs": [],
   "source": [
    "# 리뷰 더보기 클릭\n",
    "xpath = '//*[@id=\"ow76\"]/section/div/div[2]/div[5]/div/div/button/span'\n",
    "driver.find_element(By.XPATH, xpath).click()\n",
    "time.sleep(random.randint(2, 3))"
   ]
  },
  {
   "cell_type": "code",
   "execution_count": null,
   "id": "c3ff6e31-b963-43a9-9dea-e2c2181039d5",
   "metadata": {},
   "outputs": [],
   "source": [
    "# 미리 스크롤해서 html 정보 받아오\n",
    "for i in range(10):\n",
    "    review_box = driver.find_element(By.CSS_SELECTOR, 'div.fysCi')\n",
    "    driver.execute_script('arguments[0].scrollTop = arguments[0].scrollHeight', review_box )\n",
    "    time.sleep(random.randint(2, 3))"
   ]
  },
  {
   "cell_type": "code",
   "execution_count": 31,
   "id": "642b13a4-ded3-4929-9622-ece349525bf6",
   "metadata": {
    "scrolled": true
   },
   "outputs": [
    {
     "data": {
      "text/plain": [
       "[<selenium.webdriver.remote.webelement.WebElement (session=\"3e544ea5020a50605d5c22a95e5339d7\", element=\"f.3C8E5127C40F7D1B7F08EBF212F34E1F.d.BA428BA3579C4DE46B2E835E072B5619.e.6556\")>,\n",
       " <selenium.webdriver.remote.webelement.WebElement (session=\"3e544ea5020a50605d5c22a95e5339d7\", element=\"f.3C8E5127C40F7D1B7F08EBF212F34E1F.d.BA428BA3579C4DE46B2E835E072B5619.e.6631\")>,\n",
       " <selenium.webdriver.remote.webelement.WebElement (session=\"3e544ea5020a50605d5c22a95e5339d7\", element=\"f.3C8E5127C40F7D1B7F08EBF212F34E1F.d.BA428BA3579C4DE46B2E835E072B5619.e.6706\")>,\n",
       " <selenium.webdriver.remote.webelement.WebElement (session=\"3e544ea5020a50605d5c22a95e5339d7\", element=\"f.3C8E5127C40F7D1B7F08EBF212F34E1F.d.BA428BA3579C4DE46B2E835E072B5619.e.6783\")>,\n",
       " <selenium.webdriver.remote.webelement.WebElement (session=\"3e544ea5020a50605d5c22a95e5339d7\", element=\"f.3C8E5127C40F7D1B7F08EBF212F34E1F.d.BA428BA3579C4DE46B2E835E072B5619.e.6860\")>,\n",
       " <selenium.webdriver.remote.webelement.WebElement (session=\"3e544ea5020a50605d5c22a95e5339d7\", element=\"f.3C8E5127C40F7D1B7F08EBF212F34E1F.d.BA428BA3579C4DE46B2E835E072B5619.e.6937\")>,\n",
       " <selenium.webdriver.remote.webelement.WebElement (session=\"3e544ea5020a50605d5c22a95e5339d7\", element=\"f.3C8E5127C40F7D1B7F08EBF212F34E1F.d.BA428BA3579C4DE46B2E835E072B5619.e.7018\")>,\n",
       " <selenium.webdriver.remote.webelement.WebElement (session=\"3e544ea5020a50605d5c22a95e5339d7\", element=\"f.3C8E5127C40F7D1B7F08EBF212F34E1F.d.BA428BA3579C4DE46B2E835E072B5619.e.7095\")>,\n",
       " <selenium.webdriver.remote.webelement.WebElement (session=\"3e544ea5020a50605d5c22a95e5339d7\", element=\"f.3C8E5127C40F7D1B7F08EBF212F34E1F.d.BA428BA3579C4DE46B2E835E072B5619.e.7172\")>,\n",
       " <selenium.webdriver.remote.webelement.WebElement (session=\"3e544ea5020a50605d5c22a95e5339d7\", element=\"f.3C8E5127C40F7D1B7F08EBF212F34E1F.d.BA428BA3579C4DE46B2E835E072B5619.e.7252\")>,\n",
       " <selenium.webdriver.remote.webelement.WebElement (session=\"3e544ea5020a50605d5c22a95e5339d7\", element=\"f.3C8E5127C40F7D1B7F08EBF212F34E1F.d.BA428BA3579C4DE46B2E835E072B5619.e.7329\")>,\n",
       " <selenium.webdriver.remote.webelement.WebElement (session=\"3e544ea5020a50605d5c22a95e5339d7\", element=\"f.3C8E5127C40F7D1B7F08EBF212F34E1F.d.BA428BA3579C4DE46B2E835E072B5619.e.7400\")>,\n",
       " <selenium.webdriver.remote.webelement.WebElement (session=\"3e544ea5020a50605d5c22a95e5339d7\", element=\"f.3C8E5127C40F7D1B7F08EBF212F34E1F.d.BA428BA3579C4DE46B2E835E072B5619.e.7477\")>,\n",
       " <selenium.webdriver.remote.webelement.WebElement (session=\"3e544ea5020a50605d5c22a95e5339d7\", element=\"f.3C8E5127C40F7D1B7F08EBF212F34E1F.d.BA428BA3579C4DE46B2E835E072B5619.e.7554\")>,\n",
       " <selenium.webdriver.remote.webelement.WebElement (session=\"3e544ea5020a50605d5c22a95e5339d7\", element=\"f.3C8E5127C40F7D1B7F08EBF212F34E1F.d.BA428BA3579C4DE46B2E835E072B5619.e.7625\")>,\n",
       " <selenium.webdriver.remote.webelement.WebElement (session=\"3e544ea5020a50605d5c22a95e5339d7\", element=\"f.3C8E5127C40F7D1B7F08EBF212F34E1F.d.BA428BA3579C4DE46B2E835E072B5619.e.7702\")>,\n",
       " <selenium.webdriver.remote.webelement.WebElement (session=\"3e544ea5020a50605d5c22a95e5339d7\", element=\"f.3C8E5127C40F7D1B7F08EBF212F34E1F.d.BA428BA3579C4DE46B2E835E072B5619.e.7773\")>,\n",
       " <selenium.webdriver.remote.webelement.WebElement (session=\"3e544ea5020a50605d5c22a95e5339d7\", element=\"f.3C8E5127C40F7D1B7F08EBF212F34E1F.d.BA428BA3579C4DE46B2E835E072B5619.e.7850\")>,\n",
       " <selenium.webdriver.remote.webelement.WebElement (session=\"3e544ea5020a50605d5c22a95e5339d7\", element=\"f.3C8E5127C40F7D1B7F08EBF212F34E1F.d.BA428BA3579C4DE46B2E835E072B5619.e.7927\")>,\n",
       " <selenium.webdriver.remote.webelement.WebElement (session=\"3e544ea5020a50605d5c22a95e5339d7\", element=\"f.3C8E5127C40F7D1B7F08EBF212F34E1F.d.BA428BA3579C4DE46B2E835E072B5619.e.8007\")>,\n",
       " <selenium.webdriver.remote.webelement.WebElement (session=\"3e544ea5020a50605d5c22a95e5339d7\", element=\"f.3C8E5127C40F7D1B7F08EBF212F34E1F.d.BA428BA3579C4DE46B2E835E072B5619.e.10303\")>,\n",
       " <selenium.webdriver.remote.webelement.WebElement (session=\"3e544ea5020a50605d5c22a95e5339d7\", element=\"f.3C8E5127C40F7D1B7F08EBF212F34E1F.d.BA428BA3579C4DE46B2E835E072B5619.e.10220\")>,\n",
       " <selenium.webdriver.remote.webelement.WebElement (session=\"3e544ea5020a50605d5c22a95e5339d7\", element=\"f.3C8E5127C40F7D1B7F08EBF212F34E1F.d.BA428BA3579C4DE46B2E835E072B5619.e.10133\")>,\n",
       " <selenium.webdriver.remote.webelement.WebElement (session=\"3e544ea5020a50605d5c22a95e5339d7\", element=\"f.3C8E5127C40F7D1B7F08EBF212F34E1F.d.BA428BA3579C4DE46B2E835E072B5619.e.10059\")>,\n",
       " <selenium.webdriver.remote.webelement.WebElement (session=\"3e544ea5020a50605d5c22a95e5339d7\", element=\"f.3C8E5127C40F7D1B7F08EBF212F34E1F.d.BA428BA3579C4DE46B2E835E072B5619.e.9972\")>,\n",
       " <selenium.webdriver.remote.webelement.WebElement (session=\"3e544ea5020a50605d5c22a95e5339d7\", element=\"f.3C8E5127C40F7D1B7F08EBF212F34E1F.d.BA428BA3579C4DE46B2E835E072B5619.e.9894\")>,\n",
       " <selenium.webdriver.remote.webelement.WebElement (session=\"3e544ea5020a50605d5c22a95e5339d7\", element=\"f.3C8E5127C40F7D1B7F08EBF212F34E1F.d.BA428BA3579C4DE46B2E835E072B5619.e.9816\")>,\n",
       " <selenium.webdriver.remote.webelement.WebElement (session=\"3e544ea5020a50605d5c22a95e5339d7\", element=\"f.3C8E5127C40F7D1B7F08EBF212F34E1F.d.BA428BA3579C4DE46B2E835E072B5619.e.9729\")>,\n",
       " <selenium.webdriver.remote.webelement.WebElement (session=\"3e544ea5020a50605d5c22a95e5339d7\", element=\"f.3C8E5127C40F7D1B7F08EBF212F34E1F.d.BA428BA3579C4DE46B2E835E072B5619.e.9644\")>,\n",
       " <selenium.webdriver.remote.webelement.WebElement (session=\"3e544ea5020a50605d5c22a95e5339d7\", element=\"f.3C8E5127C40F7D1B7F08EBF212F34E1F.d.BA428BA3579C4DE46B2E835E072B5619.e.9561\")>,\n",
       " <selenium.webdriver.remote.webelement.WebElement (session=\"3e544ea5020a50605d5c22a95e5339d7\", element=\"f.3C8E5127C40F7D1B7F08EBF212F34E1F.d.BA428BA3579C4DE46B2E835E072B5619.e.9476\")>,\n",
       " <selenium.webdriver.remote.webelement.WebElement (session=\"3e544ea5020a50605d5c22a95e5339d7\", element=\"f.3C8E5127C40F7D1B7F08EBF212F34E1F.d.BA428BA3579C4DE46B2E835E072B5619.e.9389\")>,\n",
       " <selenium.webdriver.remote.webelement.WebElement (session=\"3e544ea5020a50605d5c22a95e5339d7\", element=\"f.3C8E5127C40F7D1B7F08EBF212F34E1F.d.BA428BA3579C4DE46B2E835E072B5619.e.9306\")>,\n",
       " <selenium.webdriver.remote.webelement.WebElement (session=\"3e544ea5020a50605d5c22a95e5339d7\", element=\"f.3C8E5127C40F7D1B7F08EBF212F34E1F.d.BA428BA3579C4DE46B2E835E072B5619.e.9223\")>,\n",
       " <selenium.webdriver.remote.webelement.WebElement (session=\"3e544ea5020a50605d5c22a95e5339d7\", element=\"f.3C8E5127C40F7D1B7F08EBF212F34E1F.d.BA428BA3579C4DE46B2E835E072B5619.e.9140\")>,\n",
       " <selenium.webdriver.remote.webelement.WebElement (session=\"3e544ea5020a50605d5c22a95e5339d7\", element=\"f.3C8E5127C40F7D1B7F08EBF212F34E1F.d.BA428BA3579C4DE46B2E835E072B5619.e.9062\")>,\n",
       " <selenium.webdriver.remote.webelement.WebElement (session=\"3e544ea5020a50605d5c22a95e5339d7\", element=\"f.3C8E5127C40F7D1B7F08EBF212F34E1F.d.BA428BA3579C4DE46B2E835E072B5619.e.8977\")>,\n",
       " <selenium.webdriver.remote.webelement.WebElement (session=\"3e544ea5020a50605d5c22a95e5339d7\", element=\"f.3C8E5127C40F7D1B7F08EBF212F34E1F.d.BA428BA3579C4DE46B2E835E072B5619.e.8890\")>,\n",
       " <selenium.webdriver.remote.webelement.WebElement (session=\"3e544ea5020a50605d5c22a95e5339d7\", element=\"f.3C8E5127C40F7D1B7F08EBF212F34E1F.d.BA428BA3579C4DE46B2E835E072B5619.e.8807\")>,\n",
       " <selenium.webdriver.remote.webelement.WebElement (session=\"3e544ea5020a50605d5c22a95e5339d7\", element=\"f.3C8E5127C40F7D1B7F08EBF212F34E1F.d.BA428BA3579C4DE46B2E835E072B5619.e.8733\")>,\n",
       " <selenium.webdriver.remote.webelement.WebElement (session=\"3e544ea5020a50605d5c22a95e5339d7\", element=\"f.3C8E5127C40F7D1B7F08EBF212F34E1F.d.BA428BA3579C4DE46B2E835E072B5619.e.12209\")>,\n",
       " <selenium.webdriver.remote.webelement.WebElement (session=\"3e544ea5020a50605d5c22a95e5339d7\", element=\"f.3C8E5127C40F7D1B7F08EBF212F34E1F.d.BA428BA3579C4DE46B2E835E072B5619.e.12126\")>,\n",
       " <selenium.webdriver.remote.webelement.WebElement (session=\"3e544ea5020a50605d5c22a95e5339d7\", element=\"f.3C8E5127C40F7D1B7F08EBF212F34E1F.d.BA428BA3579C4DE46B2E835E072B5619.e.12043\")>,\n",
       " <selenium.webdriver.remote.webelement.WebElement (session=\"3e544ea5020a50605d5c22a95e5339d7\", element=\"f.3C8E5127C40F7D1B7F08EBF212F34E1F.d.BA428BA3579C4DE46B2E835E072B5619.e.11965\")>,\n",
       " <selenium.webdriver.remote.webelement.WebElement (session=\"3e544ea5020a50605d5c22a95e5339d7\", element=\"f.3C8E5127C40F7D1B7F08EBF212F34E1F.d.BA428BA3579C4DE46B2E835E072B5619.e.11882\")>,\n",
       " <selenium.webdriver.remote.webelement.WebElement (session=\"3e544ea5020a50605d5c22a95e5339d7\", element=\"f.3C8E5127C40F7D1B7F08EBF212F34E1F.d.BA428BA3579C4DE46B2E835E072B5619.e.11804\")>,\n",
       " <selenium.webdriver.remote.webelement.WebElement (session=\"3e544ea5020a50605d5c22a95e5339d7\", element=\"f.3C8E5127C40F7D1B7F08EBF212F34E1F.d.BA428BA3579C4DE46B2E835E072B5619.e.11717\")>,\n",
       " <selenium.webdriver.remote.webelement.WebElement (session=\"3e544ea5020a50605d5c22a95e5339d7\", element=\"f.3C8E5127C40F7D1B7F08EBF212F34E1F.d.BA428BA3579C4DE46B2E835E072B5619.e.11630\")>,\n",
       " <selenium.webdriver.remote.webelement.WebElement (session=\"3e544ea5020a50605d5c22a95e5339d7\", element=\"f.3C8E5127C40F7D1B7F08EBF212F34E1F.d.BA428BA3579C4DE46B2E835E072B5619.e.11552\")>,\n",
       " <selenium.webdriver.remote.webelement.WebElement (session=\"3e544ea5020a50605d5c22a95e5339d7\", element=\"f.3C8E5127C40F7D1B7F08EBF212F34E1F.d.BA428BA3579C4DE46B2E835E072B5619.e.11465\")>,\n",
       " <selenium.webdriver.remote.webelement.WebElement (session=\"3e544ea5020a50605d5c22a95e5339d7\", element=\"f.3C8E5127C40F7D1B7F08EBF212F34E1F.d.BA428BA3579C4DE46B2E835E072B5619.e.11378\")>,\n",
       " <selenium.webdriver.remote.webelement.WebElement (session=\"3e544ea5020a50605d5c22a95e5339d7\", element=\"f.3C8E5127C40F7D1B7F08EBF212F34E1F.d.BA428BA3579C4DE46B2E835E072B5619.e.11291\")>,\n",
       " <selenium.webdriver.remote.webelement.WebElement (session=\"3e544ea5020a50605d5c22a95e5339d7\", element=\"f.3C8E5127C40F7D1B7F08EBF212F34E1F.d.BA428BA3579C4DE46B2E835E072B5619.e.11206\")>,\n",
       " <selenium.webdriver.remote.webelement.WebElement (session=\"3e544ea5020a50605d5c22a95e5339d7\", element=\"f.3C8E5127C40F7D1B7F08EBF212F34E1F.d.BA428BA3579C4DE46B2E835E072B5619.e.11128\")>,\n",
       " <selenium.webdriver.remote.webelement.WebElement (session=\"3e544ea5020a50605d5c22a95e5339d7\", element=\"f.3C8E5127C40F7D1B7F08EBF212F34E1F.d.BA428BA3579C4DE46B2E835E072B5619.e.11050\")>,\n",
       " <selenium.webdriver.remote.webelement.WebElement (session=\"3e544ea5020a50605d5c22a95e5339d7\", element=\"f.3C8E5127C40F7D1B7F08EBF212F34E1F.d.BA428BA3579C4DE46B2E835E072B5619.e.10963\")>,\n",
       " <selenium.webdriver.remote.webelement.WebElement (session=\"3e544ea5020a50605d5c22a95e5339d7\", element=\"f.3C8E5127C40F7D1B7F08EBF212F34E1F.d.BA428BA3579C4DE46B2E835E072B5619.e.10887\")>,\n",
       " <selenium.webdriver.remote.webelement.WebElement (session=\"3e544ea5020a50605d5c22a95e5339d7\", element=\"f.3C8E5127C40F7D1B7F08EBF212F34E1F.d.BA428BA3579C4DE46B2E835E072B5619.e.10813\")>,\n",
       " <selenium.webdriver.remote.webelement.WebElement (session=\"3e544ea5020a50605d5c22a95e5339d7\", element=\"f.3C8E5127C40F7D1B7F08EBF212F34E1F.d.BA428BA3579C4DE46B2E835E072B5619.e.10737\")>,\n",
       " <selenium.webdriver.remote.webelement.WebElement (session=\"3e544ea5020a50605d5c22a95e5339d7\", element=\"f.3C8E5127C40F7D1B7F08EBF212F34E1F.d.BA428BA3579C4DE46B2E835E072B5619.e.10650\")>,\n",
       " <selenium.webdriver.remote.webelement.WebElement (session=\"3e544ea5020a50605d5c22a95e5339d7\", element=\"f.3C8E5127C40F7D1B7F08EBF212F34E1F.d.BA428BA3579C4DE46B2E835E072B5619.e.14082\")>,\n",
       " <selenium.webdriver.remote.webelement.WebElement (session=\"3e544ea5020a50605d5c22a95e5339d7\", element=\"f.3C8E5127C40F7D1B7F08EBF212F34E1F.d.BA428BA3579C4DE46B2E835E072B5619.e.13995\")>,\n",
       " <selenium.webdriver.remote.webelement.WebElement (session=\"3e544ea5020a50605d5c22a95e5339d7\", element=\"f.3C8E5127C40F7D1B7F08EBF212F34E1F.d.BA428BA3579C4DE46B2E835E072B5619.e.13908\")>,\n",
       " <selenium.webdriver.remote.webelement.WebElement (session=\"3e544ea5020a50605d5c22a95e5339d7\", element=\"f.3C8E5127C40F7D1B7F08EBF212F34E1F.d.BA428BA3579C4DE46B2E835E072B5619.e.13834\")>,\n",
       " <selenium.webdriver.remote.webelement.WebElement (session=\"3e544ea5020a50605d5c22a95e5339d7\", element=\"f.3C8E5127C40F7D1B7F08EBF212F34E1F.d.BA428BA3579C4DE46B2E835E072B5619.e.13747\")>,\n",
       " <selenium.webdriver.remote.webelement.WebElement (session=\"3e544ea5020a50605d5c22a95e5339d7\", element=\"f.3C8E5127C40F7D1B7F08EBF212F34E1F.d.BA428BA3579C4DE46B2E835E072B5619.e.13660\")>,\n",
       " <selenium.webdriver.remote.webelement.WebElement (session=\"3e544ea5020a50605d5c22a95e5339d7\", element=\"f.3C8E5127C40F7D1B7F08EBF212F34E1F.d.BA428BA3579C4DE46B2E835E072B5619.e.13573\")>,\n",
       " <selenium.webdriver.remote.webelement.WebElement (session=\"3e544ea5020a50605d5c22a95e5339d7\", element=\"f.3C8E5127C40F7D1B7F08EBF212F34E1F.d.BA428BA3579C4DE46B2E835E072B5619.e.13486\")>,\n",
       " <selenium.webdriver.remote.webelement.WebElement (session=\"3e544ea5020a50605d5c22a95e5339d7\", element=\"f.3C8E5127C40F7D1B7F08EBF212F34E1F.d.BA428BA3579C4DE46B2E835E072B5619.e.13408\")>,\n",
       " <selenium.webdriver.remote.webelement.WebElement (session=\"3e544ea5020a50605d5c22a95e5339d7\", element=\"f.3C8E5127C40F7D1B7F08EBF212F34E1F.d.BA428BA3579C4DE46B2E835E072B5619.e.13334\")>,\n",
       " <selenium.webdriver.remote.webelement.WebElement (session=\"3e544ea5020a50605d5c22a95e5339d7\", element=\"f.3C8E5127C40F7D1B7F08EBF212F34E1F.d.BA428BA3579C4DE46B2E835E072B5619.e.13247\")>,\n",
       " <selenium.webdriver.remote.webelement.WebElement (session=\"3e544ea5020a50605d5c22a95e5339d7\", element=\"f.3C8E5127C40F7D1B7F08EBF212F34E1F.d.BA428BA3579C4DE46B2E835E072B5619.e.13169\")>,\n",
       " <selenium.webdriver.remote.webelement.WebElement (session=\"3e544ea5020a50605d5c22a95e5339d7\", element=\"f.3C8E5127C40F7D1B7F08EBF212F34E1F.d.BA428BA3579C4DE46B2E835E072B5619.e.13091\")>,\n",
       " <selenium.webdriver.remote.webelement.WebElement (session=\"3e544ea5020a50605d5c22a95e5339d7\", element=\"f.3C8E5127C40F7D1B7F08EBF212F34E1F.d.BA428BA3579C4DE46B2E835E072B5619.e.13013\")>,\n",
       " <selenium.webdriver.remote.webelement.WebElement (session=\"3e544ea5020a50605d5c22a95e5339d7\", element=\"f.3C8E5127C40F7D1B7F08EBF212F34E1F.d.BA428BA3579C4DE46B2E835E072B5619.e.12930\")>,\n",
       " <selenium.webdriver.remote.webelement.WebElement (session=\"3e544ea5020a50605d5c22a95e5339d7\", element=\"f.3C8E5127C40F7D1B7F08EBF212F34E1F.d.BA428BA3579C4DE46B2E835E072B5619.e.12843\")>,\n",
       " <selenium.webdriver.remote.webelement.WebElement (session=\"3e544ea5020a50605d5c22a95e5339d7\", element=\"f.3C8E5127C40F7D1B7F08EBF212F34E1F.d.BA428BA3579C4DE46B2E835E072B5619.e.12765\")>,\n",
       " <selenium.webdriver.remote.webelement.WebElement (session=\"3e544ea5020a50605d5c22a95e5339d7\", element=\"f.3C8E5127C40F7D1B7F08EBF212F34E1F.d.BA428BA3579C4DE46B2E835E072B5619.e.12691\")>,\n",
       " <selenium.webdriver.remote.webelement.WebElement (session=\"3e544ea5020a50605d5c22a95e5339d7\", element=\"f.3C8E5127C40F7D1B7F08EBF212F34E1F.d.BA428BA3579C4DE46B2E835E072B5619.e.12604\")>,\n",
       " <selenium.webdriver.remote.webelement.WebElement (session=\"3e544ea5020a50605d5c22a95e5339d7\", element=\"f.3C8E5127C40F7D1B7F08EBF212F34E1F.d.BA428BA3579C4DE46B2E835E072B5619.e.12517\")>,\n",
       " <selenium.webdriver.remote.webelement.WebElement (session=\"3e544ea5020a50605d5c22a95e5339d7\", element=\"f.3C8E5127C40F7D1B7F08EBF212F34E1F.d.BA428BA3579C4DE46B2E835E072B5619.e.15969\")>,\n",
       " <selenium.webdriver.remote.webelement.WebElement (session=\"3e544ea5020a50605d5c22a95e5339d7\", element=\"f.3C8E5127C40F7D1B7F08EBF212F34E1F.d.BA428BA3579C4DE46B2E835E072B5619.e.15884\")>,\n",
       " <selenium.webdriver.remote.webelement.WebElement (session=\"3e544ea5020a50605d5c22a95e5339d7\", element=\"f.3C8E5127C40F7D1B7F08EBF212F34E1F.d.BA428BA3579C4DE46B2E835E072B5619.e.15799\")>,\n",
       " <selenium.webdriver.remote.webelement.WebElement (session=\"3e544ea5020a50605d5c22a95e5339d7\", element=\"f.3C8E5127C40F7D1B7F08EBF212F34E1F.d.BA428BA3579C4DE46B2E835E072B5619.e.15712\")>,\n",
       " <selenium.webdriver.remote.webelement.WebElement (session=\"3e544ea5020a50605d5c22a95e5339d7\", element=\"f.3C8E5127C40F7D1B7F08EBF212F34E1F.d.BA428BA3579C4DE46B2E835E072B5619.e.15629\")>,\n",
       " <selenium.webdriver.remote.webelement.WebElement (session=\"3e544ea5020a50605d5c22a95e5339d7\", element=\"f.3C8E5127C40F7D1B7F08EBF212F34E1F.d.BA428BA3579C4DE46B2E835E072B5619.e.15551\")>,\n",
       " <selenium.webdriver.remote.webelement.WebElement (session=\"3e544ea5020a50605d5c22a95e5339d7\", element=\"f.3C8E5127C40F7D1B7F08EBF212F34E1F.d.BA428BA3579C4DE46B2E835E072B5619.e.15473\")>,\n",
       " <selenium.webdriver.remote.webelement.WebElement (session=\"3e544ea5020a50605d5c22a95e5339d7\", element=\"f.3C8E5127C40F7D1B7F08EBF212F34E1F.d.BA428BA3579C4DE46B2E835E072B5619.e.15395\")>,\n",
       " <selenium.webdriver.remote.webelement.WebElement (session=\"3e544ea5020a50605d5c22a95e5339d7\", element=\"f.3C8E5127C40F7D1B7F08EBF212F34E1F.d.BA428BA3579C4DE46B2E835E072B5619.e.15310\")>,\n",
       " <selenium.webdriver.remote.webelement.WebElement (session=\"3e544ea5020a50605d5c22a95e5339d7\", element=\"f.3C8E5127C40F7D1B7F08EBF212F34E1F.d.BA428BA3579C4DE46B2E835E072B5619.e.15223\")>,\n",
       " <selenium.webdriver.remote.webelement.WebElement (session=\"3e544ea5020a50605d5c22a95e5339d7\", element=\"f.3C8E5127C40F7D1B7F08EBF212F34E1F.d.BA428BA3579C4DE46B2E835E072B5619.e.15145\")>,\n",
       " <selenium.webdriver.remote.webelement.WebElement (session=\"3e544ea5020a50605d5c22a95e5339d7\", element=\"f.3C8E5127C40F7D1B7F08EBF212F34E1F.d.BA428BA3579C4DE46B2E835E072B5619.e.15062\")>,\n",
       " <selenium.webdriver.remote.webelement.WebElement (session=\"3e544ea5020a50605d5c22a95e5339d7\", element=\"f.3C8E5127C40F7D1B7F08EBF212F34E1F.d.BA428BA3579C4DE46B2E835E072B5619.e.14988\")>,\n",
       " <selenium.webdriver.remote.webelement.WebElement (session=\"3e544ea5020a50605d5c22a95e5339d7\", element=\"f.3C8E5127C40F7D1B7F08EBF212F34E1F.d.BA428BA3579C4DE46B2E835E072B5619.e.14901\")>,\n",
       " <selenium.webdriver.remote.webelement.WebElement (session=\"3e544ea5020a50605d5c22a95e5339d7\", element=\"f.3C8E5127C40F7D1B7F08EBF212F34E1F.d.BA428BA3579C4DE46B2E835E072B5619.e.14818\")>,\n",
       " <selenium.webdriver.remote.webelement.WebElement (session=\"3e544ea5020a50605d5c22a95e5339d7\", element=\"f.3C8E5127C40F7D1B7F08EBF212F34E1F.d.BA428BA3579C4DE46B2E835E072B5619.e.14744\")>,\n",
       " <selenium.webdriver.remote.webelement.WebElement (session=\"3e544ea5020a50605d5c22a95e5339d7\", element=\"f.3C8E5127C40F7D1B7F08EBF212F34E1F.d.BA428BA3579C4DE46B2E835E072B5619.e.14661\")>,\n",
       " <selenium.webdriver.remote.webelement.WebElement (session=\"3e544ea5020a50605d5c22a95e5339d7\", element=\"f.3C8E5127C40F7D1B7F08EBF212F34E1F.d.BA428BA3579C4DE46B2E835E072B5619.e.14587\")>,\n",
       " <selenium.webdriver.remote.webelement.WebElement (session=\"3e544ea5020a50605d5c22a95e5339d7\", element=\"f.3C8E5127C40F7D1B7F08EBF212F34E1F.d.BA428BA3579C4DE46B2E835E072B5619.e.14504\")>,\n",
       " <selenium.webdriver.remote.webelement.WebElement (session=\"3e544ea5020a50605d5c22a95e5339d7\", element=\"f.3C8E5127C40F7D1B7F08EBF212F34E1F.d.BA428BA3579C4DE46B2E835E072B5619.e.14421\")>,\n",
       " <selenium.webdriver.remote.webelement.WebElement (session=\"3e544ea5020a50605d5c22a95e5339d7\", element=\"f.3C8E5127C40F7D1B7F08EBF212F34E1F.d.BA428BA3579C4DE46B2E835E072B5619.e.17826\")>,\n",
       " <selenium.webdriver.remote.webelement.WebElement (session=\"3e544ea5020a50605d5c22a95e5339d7\", element=\"f.3C8E5127C40F7D1B7F08EBF212F34E1F.d.BA428BA3579C4DE46B2E835E072B5619.e.17739\")>,\n",
       " <selenium.webdriver.remote.webelement.WebElement (session=\"3e544ea5020a50605d5c22a95e5339d7\", element=\"f.3C8E5127C40F7D1B7F08EBF212F34E1F.d.BA428BA3579C4DE46B2E835E072B5619.e.17663\")>,\n",
       " <selenium.webdriver.remote.webelement.WebElement (session=\"3e544ea5020a50605d5c22a95e5339d7\", element=\"f.3C8E5127C40F7D1B7F08EBF212F34E1F.d.BA428BA3579C4DE46B2E835E072B5619.e.17589\")>,\n",
       " <selenium.webdriver.remote.webelement.WebElement (session=\"3e544ea5020a50605d5c22a95e5339d7\", element=\"f.3C8E5127C40F7D1B7F08EBF212F34E1F.d.BA428BA3579C4DE46B2E835E072B5619.e.17502\")>,\n",
       " <selenium.webdriver.remote.webelement.WebElement (session=\"3e544ea5020a50605d5c22a95e5339d7\", element=\"f.3C8E5127C40F7D1B7F08EBF212F34E1F.d.BA428BA3579C4DE46B2E835E072B5619.e.17424\")>,\n",
       " <selenium.webdriver.remote.webelement.WebElement (session=\"3e544ea5020a50605d5c22a95e5339d7\", element=\"f.3C8E5127C40F7D1B7F08EBF212F34E1F.d.BA428BA3579C4DE46B2E835E072B5619.e.17346\")>,\n",
       " <selenium.webdriver.remote.webelement.WebElement (session=\"3e544ea5020a50605d5c22a95e5339d7\", element=\"f.3C8E5127C40F7D1B7F08EBF212F34E1F.d.BA428BA3579C4DE46B2E835E072B5619.e.17263\")>,\n",
       " <selenium.webdriver.remote.webelement.WebElement (session=\"3e544ea5020a50605d5c22a95e5339d7\", element=\"f.3C8E5127C40F7D1B7F08EBF212F34E1F.d.BA428BA3579C4DE46B2E835E072B5619.e.17176\")>,\n",
       " <selenium.webdriver.remote.webelement.WebElement (session=\"3e544ea5020a50605d5c22a95e5339d7\", element=\"f.3C8E5127C40F7D1B7F08EBF212F34E1F.d.BA428BA3579C4DE46B2E835E072B5619.e.17098\")>,\n",
       " <selenium.webdriver.remote.webelement.WebElement (session=\"3e544ea5020a50605d5c22a95e5339d7\", element=\"f.3C8E5127C40F7D1B7F08EBF212F34E1F.d.BA428BA3579C4DE46B2E835E072B5619.e.17020\")>,\n",
       " <selenium.webdriver.remote.webelement.WebElement (session=\"3e544ea5020a50605d5c22a95e5339d7\", element=\"f.3C8E5127C40F7D1B7F08EBF212F34E1F.d.BA428BA3579C4DE46B2E835E072B5619.e.16946\")>,\n",
       " <selenium.webdriver.remote.webelement.WebElement (session=\"3e544ea5020a50605d5c22a95e5339d7\", element=\"f.3C8E5127C40F7D1B7F08EBF212F34E1F.d.BA428BA3579C4DE46B2E835E072B5619.e.16863\")>,\n",
       " <selenium.webdriver.remote.webelement.WebElement (session=\"3e544ea5020a50605d5c22a95e5339d7\", element=\"f.3C8E5127C40F7D1B7F08EBF212F34E1F.d.BA428BA3579C4DE46B2E835E072B5619.e.16778\")>,\n",
       " <selenium.webdriver.remote.webelement.WebElement (session=\"3e544ea5020a50605d5c22a95e5339d7\", element=\"f.3C8E5127C40F7D1B7F08EBF212F34E1F.d.BA428BA3579C4DE46B2E835E072B5619.e.16691\")>,\n",
       " <selenium.webdriver.remote.webelement.WebElement (session=\"3e544ea5020a50605d5c22a95e5339d7\", element=\"f.3C8E5127C40F7D1B7F08EBF212F34E1F.d.BA428BA3579C4DE46B2E835E072B5619.e.16615\")>,\n",
       " <selenium.webdriver.remote.webelement.WebElement (session=\"3e544ea5020a50605d5c22a95e5339d7\", element=\"f.3C8E5127C40F7D1B7F08EBF212F34E1F.d.BA428BA3579C4DE46B2E835E072B5619.e.16541\")>,\n",
       " <selenium.webdriver.remote.webelement.WebElement (session=\"3e544ea5020a50605d5c22a95e5339d7\", element=\"f.3C8E5127C40F7D1B7F08EBF212F34E1F.d.BA428BA3579C4DE46B2E835E072B5619.e.16465\")>,\n",
       " <selenium.webdriver.remote.webelement.WebElement (session=\"3e544ea5020a50605d5c22a95e5339d7\", element=\"f.3C8E5127C40F7D1B7F08EBF212F34E1F.d.BA428BA3579C4DE46B2E835E072B5619.e.16391\")>,\n",
       " <selenium.webdriver.remote.webelement.WebElement (session=\"3e544ea5020a50605d5c22a95e5339d7\", element=\"f.3C8E5127C40F7D1B7F08EBF212F34E1F.d.BA428BA3579C4DE46B2E835E072B5619.e.16317\")>,\n",
       " <selenium.webdriver.remote.webelement.WebElement (session=\"3e544ea5020a50605d5c22a95e5339d7\", element=\"f.3C8E5127C40F7D1B7F08EBF212F34E1F.d.BA428BA3579C4DE46B2E835E072B5619.e.19628\")>,\n",
       " <selenium.webdriver.remote.webelement.WebElement (session=\"3e544ea5020a50605d5c22a95e5339d7\", element=\"f.3C8E5127C40F7D1B7F08EBF212F34E1F.d.BA428BA3579C4DE46B2E835E072B5619.e.19554\")>,\n",
       " <selenium.webdriver.remote.webelement.WebElement (session=\"3e544ea5020a50605d5c22a95e5339d7\", element=\"f.3C8E5127C40F7D1B7F08EBF212F34E1F.d.BA428BA3579C4DE46B2E835E072B5619.e.19471\")>,\n",
       " <selenium.webdriver.remote.webelement.WebElement (session=\"3e544ea5020a50605d5c22a95e5339d7\", element=\"f.3C8E5127C40F7D1B7F08EBF212F34E1F.d.BA428BA3579C4DE46B2E835E072B5619.e.19397\")>,\n",
       " <selenium.webdriver.remote.webelement.WebElement (session=\"3e544ea5020a50605d5c22a95e5339d7\", element=\"f.3C8E5127C40F7D1B7F08EBF212F34E1F.d.BA428BA3579C4DE46B2E835E072B5619.e.19314\")>,\n",
       " <selenium.webdriver.remote.webelement.WebElement (session=\"3e544ea5020a50605d5c22a95e5339d7\", element=\"f.3C8E5127C40F7D1B7F08EBF212F34E1F.d.BA428BA3579C4DE46B2E835E072B5619.e.19236\")>,\n",
       " <selenium.webdriver.remote.webelement.WebElement (session=\"3e544ea5020a50605d5c22a95e5339d7\", element=\"f.3C8E5127C40F7D1B7F08EBF212F34E1F.d.BA428BA3579C4DE46B2E835E072B5619.e.19151\")>,\n",
       " <selenium.webdriver.remote.webelement.WebElement (session=\"3e544ea5020a50605d5c22a95e5339d7\", element=\"f.3C8E5127C40F7D1B7F08EBF212F34E1F.d.BA428BA3579C4DE46B2E835E072B5619.e.19073\")>,\n",
       " <selenium.webdriver.remote.webelement.WebElement (session=\"3e544ea5020a50605d5c22a95e5339d7\", element=\"f.3C8E5127C40F7D1B7F08EBF212F34E1F.d.BA428BA3579C4DE46B2E835E072B5619.e.18997\")>,\n",
       " <selenium.webdriver.remote.webelement.WebElement (session=\"3e544ea5020a50605d5c22a95e5339d7\", element=\"f.3C8E5127C40F7D1B7F08EBF212F34E1F.d.BA428BA3579C4DE46B2E835E072B5619.e.18919\")>,\n",
       " <selenium.webdriver.remote.webelement.WebElement (session=\"3e544ea5020a50605d5c22a95e5339d7\", element=\"f.3C8E5127C40F7D1B7F08EBF212F34E1F.d.BA428BA3579C4DE46B2E835E072B5619.e.18845\")>,\n",
       " <selenium.webdriver.remote.webelement.WebElement (session=\"3e544ea5020a50605d5c22a95e5339d7\", element=\"f.3C8E5127C40F7D1B7F08EBF212F34E1F.d.BA428BA3579C4DE46B2E835E072B5619.e.18771\")>,\n",
       " <selenium.webdriver.remote.webelement.WebElement (session=\"3e544ea5020a50605d5c22a95e5339d7\", element=\"f.3C8E5127C40F7D1B7F08EBF212F34E1F.d.BA428BA3579C4DE46B2E835E072B5619.e.18695\")>,\n",
       " <selenium.webdriver.remote.webelement.WebElement (session=\"3e544ea5020a50605d5c22a95e5339d7\", element=\"f.3C8E5127C40F7D1B7F08EBF212F34E1F.d.BA428BA3579C4DE46B2E835E072B5619.e.18612\")>,\n",
       " <selenium.webdriver.remote.webelement.WebElement (session=\"3e544ea5020a50605d5c22a95e5339d7\", element=\"f.3C8E5127C40F7D1B7F08EBF212F34E1F.d.BA428BA3579C4DE46B2E835E072B5619.e.18538\")>,\n",
       " <selenium.webdriver.remote.webelement.WebElement (session=\"3e544ea5020a50605d5c22a95e5339d7\", element=\"f.3C8E5127C40F7D1B7F08EBF212F34E1F.d.BA428BA3579C4DE46B2E835E072B5619.e.18455\")>,\n",
       " <selenium.webdriver.remote.webelement.WebElement (session=\"3e544ea5020a50605d5c22a95e5339d7\", element=\"f.3C8E5127C40F7D1B7F08EBF212F34E1F.d.BA428BA3579C4DE46B2E835E072B5619.e.18372\")>,\n",
       " <selenium.webdriver.remote.webelement.WebElement (session=\"3e544ea5020a50605d5c22a95e5339d7\", element=\"f.3C8E5127C40F7D1B7F08EBF212F34E1F.d.BA428BA3579C4DE46B2E835E072B5619.e.18289\")>,\n",
       " <selenium.webdriver.remote.webelement.WebElement (session=\"3e544ea5020a50605d5c22a95e5339d7\", element=\"f.3C8E5127C40F7D1B7F08EBF212F34E1F.d.BA428BA3579C4DE46B2E835E072B5619.e.18215\")>,\n",
       " <selenium.webdriver.remote.webelement.WebElement (session=\"3e544ea5020a50605d5c22a95e5339d7\", element=\"f.3C8E5127C40F7D1B7F08EBF212F34E1F.d.BA428BA3579C4DE46B2E835E072B5619.e.18139\")>,\n",
       " <selenium.webdriver.remote.webelement.WebElement (session=\"3e544ea5020a50605d5c22a95e5339d7\", element=\"f.3C8E5127C40F7D1B7F08EBF212F34E1F.d.BA428BA3579C4DE46B2E835E072B5619.e.21529\")>,\n",
       " <selenium.webdriver.remote.webelement.WebElement (session=\"3e544ea5020a50605d5c22a95e5339d7\", element=\"f.3C8E5127C40F7D1B7F08EBF212F34E1F.d.BA428BA3579C4DE46B2E835E072B5619.e.21446\")>,\n",
       " <selenium.webdriver.remote.webelement.WebElement (session=\"3e544ea5020a50605d5c22a95e5339d7\", element=\"f.3C8E5127C40F7D1B7F08EBF212F34E1F.d.BA428BA3579C4DE46B2E835E072B5619.e.21372\")>,\n",
       " <selenium.webdriver.remote.webelement.WebElement (session=\"3e544ea5020a50605d5c22a95e5339d7\", element=\"f.3C8E5127C40F7D1B7F08EBF212F34E1F.d.BA428BA3579C4DE46B2E835E072B5619.e.21287\")>,\n",
       " <selenium.webdriver.remote.webelement.WebElement (session=\"3e544ea5020a50605d5c22a95e5339d7\", element=\"f.3C8E5127C40F7D1B7F08EBF212F34E1F.d.BA428BA3579C4DE46B2E835E072B5619.e.21211\")>,\n",
       " <selenium.webdriver.remote.webelement.WebElement (session=\"3e544ea5020a50605d5c22a95e5339d7\", element=\"f.3C8E5127C40F7D1B7F08EBF212F34E1F.d.BA428BA3579C4DE46B2E835E072B5619.e.21128\")>,\n",
       " <selenium.webdriver.remote.webelement.WebElement (session=\"3e544ea5020a50605d5c22a95e5339d7\", element=\"f.3C8E5127C40F7D1B7F08EBF212F34E1F.d.BA428BA3579C4DE46B2E835E072B5619.e.21043\")>,\n",
       " <selenium.webdriver.remote.webelement.WebElement (session=\"3e544ea5020a50605d5c22a95e5339d7\", element=\"f.3C8E5127C40F7D1B7F08EBF212F34E1F.d.BA428BA3579C4DE46B2E835E072B5619.e.20965\")>,\n",
       " <selenium.webdriver.remote.webelement.WebElement (session=\"3e544ea5020a50605d5c22a95e5339d7\", element=\"f.3C8E5127C40F7D1B7F08EBF212F34E1F.d.BA428BA3579C4DE46B2E835E072B5619.e.20887\")>,\n",
       " <selenium.webdriver.remote.webelement.WebElement (session=\"3e544ea5020a50605d5c22a95e5339d7\", element=\"f.3C8E5127C40F7D1B7F08EBF212F34E1F.d.BA428BA3579C4DE46B2E835E072B5619.e.20800\")>,\n",
       " <selenium.webdriver.remote.webelement.WebElement (session=\"3e544ea5020a50605d5c22a95e5339d7\", element=\"f.3C8E5127C40F7D1B7F08EBF212F34E1F.d.BA428BA3579C4DE46B2E835E072B5619.e.20717\")>,\n",
       " <selenium.webdriver.remote.webelement.WebElement (session=\"3e544ea5020a50605d5c22a95e5339d7\", element=\"f.3C8E5127C40F7D1B7F08EBF212F34E1F.d.BA428BA3579C4DE46B2E835E072B5619.e.20641\")>,\n",
       " <selenium.webdriver.remote.webelement.WebElement (session=\"3e544ea5020a50605d5c22a95e5339d7\", element=\"f.3C8E5127C40F7D1B7F08EBF212F34E1F.d.BA428BA3579C4DE46B2E835E072B5619.e.20563\")>,\n",
       " <selenium.webdriver.remote.webelement.WebElement (session=\"3e544ea5020a50605d5c22a95e5339d7\", element=\"f.3C8E5127C40F7D1B7F08EBF212F34E1F.d.BA428BA3579C4DE46B2E835E072B5619.e.20476\")>,\n",
       " <selenium.webdriver.remote.webelement.WebElement (session=\"3e544ea5020a50605d5c22a95e5339d7\", element=\"f.3C8E5127C40F7D1B7F08EBF212F34E1F.d.BA428BA3579C4DE46B2E835E072B5619.e.20393\")>,\n",
       " <selenium.webdriver.remote.webelement.WebElement (session=\"3e544ea5020a50605d5c22a95e5339d7\", element=\"f.3C8E5127C40F7D1B7F08EBF212F34E1F.d.BA428BA3579C4DE46B2E835E072B5619.e.20306\")>,\n",
       " <selenium.webdriver.remote.webelement.WebElement (session=\"3e544ea5020a50605d5c22a95e5339d7\", element=\"f.3C8E5127C40F7D1B7F08EBF212F34E1F.d.BA428BA3579C4DE46B2E835E072B5619.e.20223\")>,\n",
       " <selenium.webdriver.remote.webelement.WebElement (session=\"3e544ea5020a50605d5c22a95e5339d7\", element=\"f.3C8E5127C40F7D1B7F08EBF212F34E1F.d.BA428BA3579C4DE46B2E835E072B5619.e.20147\")>,\n",
       " <selenium.webdriver.remote.webelement.WebElement (session=\"3e544ea5020a50605d5c22a95e5339d7\", element=\"f.3C8E5127C40F7D1B7F08EBF212F34E1F.d.BA428BA3579C4DE46B2E835E072B5619.e.20064\")>,\n",
       " <selenium.webdriver.remote.webelement.WebElement (session=\"3e544ea5020a50605d5c22a95e5339d7\", element=\"f.3C8E5127C40F7D1B7F08EBF212F34E1F.d.BA428BA3579C4DE46B2E835E072B5619.e.19990\")>,\n",
       " <selenium.webdriver.remote.webelement.WebElement (session=\"3e544ea5020a50605d5c22a95e5339d7\", element=\"f.3C8E5127C40F7D1B7F08EBF212F34E1F.d.BA428BA3579C4DE46B2E835E072B5619.e.23356\")>,\n",
       " <selenium.webdriver.remote.webelement.WebElement (session=\"3e544ea5020a50605d5c22a95e5339d7\", element=\"f.3C8E5127C40F7D1B7F08EBF212F34E1F.d.BA428BA3579C4DE46B2E835E072B5619.e.23282\")>,\n",
       " <selenium.webdriver.remote.webelement.WebElement (session=\"3e544ea5020a50605d5c22a95e5339d7\", element=\"f.3C8E5127C40F7D1B7F08EBF212F34E1F.d.BA428BA3579C4DE46B2E835E072B5619.e.23199\")>,\n",
       " <selenium.webdriver.remote.webelement.WebElement (session=\"3e544ea5020a50605d5c22a95e5339d7\", element=\"f.3C8E5127C40F7D1B7F08EBF212F34E1F.d.BA428BA3579C4DE46B2E835E072B5619.e.23125\")>,\n",
       " <selenium.webdriver.remote.webelement.WebElement (session=\"3e544ea5020a50605d5c22a95e5339d7\", element=\"f.3C8E5127C40F7D1B7F08EBF212F34E1F.d.BA428BA3579C4DE46B2E835E072B5619.e.23049\")>,\n",
       " <selenium.webdriver.remote.webelement.WebElement (session=\"3e544ea5020a50605d5c22a95e5339d7\", element=\"f.3C8E5127C40F7D1B7F08EBF212F34E1F.d.BA428BA3579C4DE46B2E835E072B5619.e.22975\")>,\n",
       " <selenium.webdriver.remote.webelement.WebElement (session=\"3e544ea5020a50605d5c22a95e5339d7\", element=\"f.3C8E5127C40F7D1B7F08EBF212F34E1F.d.BA428BA3579C4DE46B2E835E072B5619.e.22892\")>,\n",
       " <selenium.webdriver.remote.webelement.WebElement (session=\"3e544ea5020a50605d5c22a95e5339d7\", element=\"f.3C8E5127C40F7D1B7F08EBF212F34E1F.d.BA428BA3579C4DE46B2E835E072B5619.e.22809\")>,\n",
       " <selenium.webdriver.remote.webelement.WebElement (session=\"3e544ea5020a50605d5c22a95e5339d7\", element=\"f.3C8E5127C40F7D1B7F08EBF212F34E1F.d.BA428BA3579C4DE46B2E835E072B5619.e.22735\")>,\n",
       " <selenium.webdriver.remote.webelement.WebElement (session=\"3e544ea5020a50605d5c22a95e5339d7\", element=\"f.3C8E5127C40F7D1B7F08EBF212F34E1F.d.BA428BA3579C4DE46B2E835E072B5619.e.22659\")>,\n",
       " <selenium.webdriver.remote.webelement.WebElement (session=\"3e544ea5020a50605d5c22a95e5339d7\", element=\"f.3C8E5127C40F7D1B7F08EBF212F34E1F.d.BA428BA3579C4DE46B2E835E072B5619.e.22576\")>,\n",
       " <selenium.webdriver.remote.webelement.WebElement (session=\"3e544ea5020a50605d5c22a95e5339d7\", element=\"f.3C8E5127C40F7D1B7F08EBF212F34E1F.d.BA428BA3579C4DE46B2E835E072B5619.e.22502\")>,\n",
       " <selenium.webdriver.remote.webelement.WebElement (session=\"3e544ea5020a50605d5c22a95e5339d7\", element=\"f.3C8E5127C40F7D1B7F08EBF212F34E1F.d.BA428BA3579C4DE46B2E835E072B5619.e.22428\")>,\n",
       " <selenium.webdriver.remote.webelement.WebElement (session=\"3e544ea5020a50605d5c22a95e5339d7\", element=\"f.3C8E5127C40F7D1B7F08EBF212F34E1F.d.BA428BA3579C4DE46B2E835E072B5619.e.22350\")>,\n",
       " <selenium.webdriver.remote.webelement.WebElement (session=\"3e544ea5020a50605d5c22a95e5339d7\", element=\"f.3C8E5127C40F7D1B7F08EBF212F34E1F.d.BA428BA3579C4DE46B2E835E072B5619.e.22267\")>,\n",
       " <selenium.webdriver.remote.webelement.WebElement (session=\"3e544ea5020a50605d5c22a95e5339d7\", element=\"f.3C8E5127C40F7D1B7F08EBF212F34E1F.d.BA428BA3579C4DE46B2E835E072B5619.e.22191\")>,\n",
       " <selenium.webdriver.remote.webelement.WebElement (session=\"3e544ea5020a50605d5c22a95e5339d7\", element=\"f.3C8E5127C40F7D1B7F08EBF212F34E1F.d.BA428BA3579C4DE46B2E835E072B5619.e.22115\")>,\n",
       " <selenium.webdriver.remote.webelement.WebElement (session=\"3e544ea5020a50605d5c22a95e5339d7\", element=\"f.3C8E5127C40F7D1B7F08EBF212F34E1F.d.BA428BA3579C4DE46B2E835E072B5619.e.22028\")>,\n",
       " <selenium.webdriver.remote.webelement.WebElement (session=\"3e544ea5020a50605d5c22a95e5339d7\", element=\"f.3C8E5127C40F7D1B7F08EBF212F34E1F.d.BA428BA3579C4DE46B2E835E072B5619.e.21954\")>,\n",
       " <selenium.webdriver.remote.webelement.WebElement (session=\"3e544ea5020a50605d5c22a95e5339d7\", element=\"f.3C8E5127C40F7D1B7F08EBF212F34E1F.d.BA428BA3579C4DE46B2E835E072B5619.e.21867\")>,\n",
       " <selenium.webdriver.remote.webelement.WebElement (session=\"3e544ea5020a50605d5c22a95e5339d7\", element=\"f.3C8E5127C40F7D1B7F08EBF212F34E1F.d.BA428BA3579C4DE46B2E835E072B5619.e.25273\")>,\n",
       " <selenium.webdriver.remote.webelement.WebElement (session=\"3e544ea5020a50605d5c22a95e5339d7\", element=\"f.3C8E5127C40F7D1B7F08EBF212F34E1F.d.BA428BA3579C4DE46B2E835E072B5619.e.25190\")>,\n",
       " <selenium.webdriver.remote.webelement.WebElement (session=\"3e544ea5020a50605d5c22a95e5339d7\", element=\"f.3C8E5127C40F7D1B7F08EBF212F34E1F.d.BA428BA3579C4DE46B2E835E072B5619.e.25107\")>,\n",
       " <selenium.webdriver.remote.webelement.WebElement (session=\"3e544ea5020a50605d5c22a95e5339d7\", element=\"f.3C8E5127C40F7D1B7F08EBF212F34E1F.d.BA428BA3579C4DE46B2E835E072B5619.e.25033\")>,\n",
       " <selenium.webdriver.remote.webelement.WebElement (session=\"3e544ea5020a50605d5c22a95e5339d7\", element=\"f.3C8E5127C40F7D1B7F08EBF212F34E1F.d.BA428BA3579C4DE46B2E835E072B5619.e.24955\")>,\n",
       " <selenium.webdriver.remote.webelement.WebElement (session=\"3e544ea5020a50605d5c22a95e5339d7\", element=\"f.3C8E5127C40F7D1B7F08EBF212F34E1F.d.BA428BA3579C4DE46B2E835E072B5619.e.24870\")>,\n",
       " <selenium.webdriver.remote.webelement.WebElement (session=\"3e544ea5020a50605d5c22a95e5339d7\", element=\"f.3C8E5127C40F7D1B7F08EBF212F34E1F.d.BA428BA3579C4DE46B2E835E072B5619.e.24783\")>,\n",
       " <selenium.webdriver.remote.webelement.WebElement (session=\"3e544ea5020a50605d5c22a95e5339d7\", element=\"f.3C8E5127C40F7D1B7F08EBF212F34E1F.d.BA428BA3579C4DE46B2E835E072B5619.e.24700\")>,\n",
       " <selenium.webdriver.remote.webelement.WebElement (session=\"3e544ea5020a50605d5c22a95e5339d7\", element=\"f.3C8E5127C40F7D1B7F08EBF212F34E1F.d.BA428BA3579C4DE46B2E835E072B5619.e.24622\")>,\n",
       " <selenium.webdriver.remote.webelement.WebElement (session=\"3e544ea5020a50605d5c22a95e5339d7\", element=\"f.3C8E5127C40F7D1B7F08EBF212F34E1F.d.BA428BA3579C4DE46B2E835E072B5619.e.24539\")>,\n",
       " <selenium.webdriver.remote.webelement.WebElement (session=\"3e544ea5020a50605d5c22a95e5339d7\", element=\"f.3C8E5127C40F7D1B7F08EBF212F34E1F.d.BA428BA3579C4DE46B2E835E072B5619.e.24452\")>,\n",
       " <selenium.webdriver.remote.webelement.WebElement (session=\"3e544ea5020a50605d5c22a95e5339d7\", element=\"f.3C8E5127C40F7D1B7F08EBF212F34E1F.d.BA428BA3579C4DE46B2E835E072B5619.e.24367\")>,\n",
       " <selenium.webdriver.remote.webelement.WebElement (session=\"3e544ea5020a50605d5c22a95e5339d7\", element=\"f.3C8E5127C40F7D1B7F08EBF212F34E1F.d.BA428BA3579C4DE46B2E835E072B5619.e.24284\")>,\n",
       " <selenium.webdriver.remote.webelement.WebElement (session=\"3e544ea5020a50605d5c22a95e5339d7\", element=\"f.3C8E5127C40F7D1B7F08EBF212F34E1F.d.BA428BA3579C4DE46B2E835E072B5619.e.24201\")>,\n",
       " <selenium.webdriver.remote.webelement.WebElement (session=\"3e544ea5020a50605d5c22a95e5339d7\", element=\"f.3C8E5127C40F7D1B7F08EBF212F34E1F.d.BA428BA3579C4DE46B2E835E072B5619.e.24123\")>,\n",
       " <selenium.webdriver.remote.webelement.WebElement (session=\"3e544ea5020a50605d5c22a95e5339d7\", element=\"f.3C8E5127C40F7D1B7F08EBF212F34E1F.d.BA428BA3579C4DE46B2E835E072B5619.e.24040\")>,\n",
       " <selenium.webdriver.remote.webelement.WebElement (session=\"3e544ea5020a50605d5c22a95e5339d7\", element=\"f.3C8E5127C40F7D1B7F08EBF212F34E1F.d.BA428BA3579C4DE46B2E835E072B5619.e.23955\")>,\n",
       " <selenium.webdriver.remote.webelement.WebElement (session=\"3e544ea5020a50605d5c22a95e5339d7\", element=\"f.3C8E5127C40F7D1B7F08EBF212F34E1F.d.BA428BA3579C4DE46B2E835E072B5619.e.23872\")>,\n",
       " <selenium.webdriver.remote.webelement.WebElement (session=\"3e544ea5020a50605d5c22a95e5339d7\", element=\"f.3C8E5127C40F7D1B7F08EBF212F34E1F.d.BA428BA3579C4DE46B2E835E072B5619.e.23789\")>,\n",
       " <selenium.webdriver.remote.webelement.WebElement (session=\"3e544ea5020a50605d5c22a95e5339d7\", element=\"f.3C8E5127C40F7D1B7F08EBF212F34E1F.d.BA428BA3579C4DE46B2E835E072B5619.e.23706\")>,\n",
       " <selenium.webdriver.remote.webelement.WebElement (session=\"3e544ea5020a50605d5c22a95e5339d7\", element=\"f.3C8E5127C40F7D1B7F08EBF212F34E1F.d.BA428BA3579C4DE46B2E835E072B5619.e.27134\")>,\n",
       " <selenium.webdriver.remote.webelement.WebElement (session=\"3e544ea5020a50605d5c22a95e5339d7\", element=\"f.3C8E5127C40F7D1B7F08EBF212F34E1F.d.BA428BA3579C4DE46B2E835E072B5619.e.27047\")>,\n",
       " <selenium.webdriver.remote.webelement.WebElement (session=\"3e544ea5020a50605d5c22a95e5339d7\", element=\"f.3C8E5127C40F7D1B7F08EBF212F34E1F.d.BA428BA3579C4DE46B2E835E072B5619.e.26973\")>,\n",
       " <selenium.webdriver.remote.webelement.WebElement (session=\"3e544ea5020a50605d5c22a95e5339d7\", element=\"f.3C8E5127C40F7D1B7F08EBF212F34E1F.d.BA428BA3579C4DE46B2E835E072B5619.e.26899\")>,\n",
       " <selenium.webdriver.remote.webelement.WebElement (session=\"3e544ea5020a50605d5c22a95e5339d7\", element=\"f.3C8E5127C40F7D1B7F08EBF212F34E1F.d.BA428BA3579C4DE46B2E835E072B5619.e.26825\")>,\n",
       " <selenium.webdriver.remote.webelement.WebElement (session=\"3e544ea5020a50605d5c22a95e5339d7\", element=\"f.3C8E5127C40F7D1B7F08EBF212F34E1F.d.BA428BA3579C4DE46B2E835E072B5619.e.26742\")>,\n",
       " <selenium.webdriver.remote.webelement.WebElement (session=\"3e544ea5020a50605d5c22a95e5339d7\", element=\"f.3C8E5127C40F7D1B7F08EBF212F34E1F.d.BA428BA3579C4DE46B2E835E072B5619.e.26664\")>,\n",
       " <selenium.webdriver.remote.webelement.WebElement (session=\"3e544ea5020a50605d5c22a95e5339d7\", element=\"f.3C8E5127C40F7D1B7F08EBF212F34E1F.d.BA428BA3579C4DE46B2E835E072B5619.e.26581\")>,\n",
       " <selenium.webdriver.remote.webelement.WebElement (session=\"3e544ea5020a50605d5c22a95e5339d7\", element=\"f.3C8E5127C40F7D1B7F08EBF212F34E1F.d.BA428BA3579C4DE46B2E835E072B5619.e.26496\")>,\n",
       " <selenium.webdriver.remote.webelement.WebElement (session=\"3e544ea5020a50605d5c22a95e5339d7\", element=\"f.3C8E5127C40F7D1B7F08EBF212F34E1F.d.BA428BA3579C4DE46B2E835E072B5619.e.26413\")>,\n",
       " <selenium.webdriver.remote.webelement.WebElement (session=\"3e544ea5020a50605d5c22a95e5339d7\", element=\"f.3C8E5127C40F7D1B7F08EBF212F34E1F.d.BA428BA3579C4DE46B2E835E072B5619.e.26326\")>,\n",
       " <selenium.webdriver.remote.webelement.WebElement (session=\"3e544ea5020a50605d5c22a95e5339d7\", element=\"f.3C8E5127C40F7D1B7F08EBF212F34E1F.d.BA428BA3579C4DE46B2E835E072B5619.e.26239\")>,\n",
       " <selenium.webdriver.remote.webelement.WebElement (session=\"3e544ea5020a50605d5c22a95e5339d7\", element=\"f.3C8E5127C40F7D1B7F08EBF212F34E1F.d.BA428BA3579C4DE46B2E835E072B5619.e.26156\")>,\n",
       " <selenium.webdriver.remote.webelement.WebElement (session=\"3e544ea5020a50605d5c22a95e5339d7\", element=\"f.3C8E5127C40F7D1B7F08EBF212F34E1F.d.BA428BA3579C4DE46B2E835E072B5619.e.26069\")>,\n",
       " <selenium.webdriver.remote.webelement.WebElement (session=\"3e544ea5020a50605d5c22a95e5339d7\", element=\"f.3C8E5127C40F7D1B7F08EBF212F34E1F.d.BA428BA3579C4DE46B2E835E072B5619.e.25993\")>,\n",
       " <selenium.webdriver.remote.webelement.WebElement (session=\"3e544ea5020a50605d5c22a95e5339d7\", element=\"f.3C8E5127C40F7D1B7F08EBF212F34E1F.d.BA428BA3579C4DE46B2E835E072B5619.e.25915\")>,\n",
       " <selenium.webdriver.remote.webelement.WebElement (session=\"3e544ea5020a50605d5c22a95e5339d7\", element=\"f.3C8E5127C40F7D1B7F08EBF212F34E1F.d.BA428BA3579C4DE46B2E835E072B5619.e.25841\")>,\n",
       " <selenium.webdriver.remote.webelement.WebElement (session=\"3e544ea5020a50605d5c22a95e5339d7\", element=\"f.3C8E5127C40F7D1B7F08EBF212F34E1F.d.BA428BA3579C4DE46B2E835E072B5619.e.25754\")>,\n",
       " <selenium.webdriver.remote.webelement.WebElement (session=\"3e544ea5020a50605d5c22a95e5339d7\", element=\"f.3C8E5127C40F7D1B7F08EBF212F34E1F.d.BA428BA3579C4DE46B2E835E072B5619.e.25680\")>,\n",
       " <selenium.webdriver.remote.webelement.WebElement (session=\"3e544ea5020a50605d5c22a95e5339d7\", element=\"f.3C8E5127C40F7D1B7F08EBF212F34E1F.d.BA428BA3579C4DE46B2E835E072B5619.e.25606\")>,\n",
       " <selenium.webdriver.remote.webelement.WebElement (session=\"3e544ea5020a50605d5c22a95e5339d7\", element=\"f.3C8E5127C40F7D1B7F08EBF212F34E1F.d.BA428BA3579C4DE46B2E835E072B5619.e.28942\")>,\n",
       " <selenium.webdriver.remote.webelement.WebElement (session=\"3e544ea5020a50605d5c22a95e5339d7\", element=\"f.3C8E5127C40F7D1B7F08EBF212F34E1F.d.BA428BA3579C4DE46B2E835E072B5619.e.28868\")>,\n",
       " <selenium.webdriver.remote.webelement.WebElement (session=\"3e544ea5020a50605d5c22a95e5339d7\", element=\"f.3C8E5127C40F7D1B7F08EBF212F34E1F.d.BA428BA3579C4DE46B2E835E072B5619.e.28785\")>,\n",
       " <selenium.webdriver.remote.webelement.WebElement (session=\"3e544ea5020a50605d5c22a95e5339d7\", element=\"f.3C8E5127C40F7D1B7F08EBF212F34E1F.d.BA428BA3579C4DE46B2E835E072B5619.e.28711\")>,\n",
       " <selenium.webdriver.remote.webelement.WebElement (session=\"3e544ea5020a50605d5c22a95e5339d7\", element=\"f.3C8E5127C40F7D1B7F08EBF212F34E1F.d.BA428BA3579C4DE46B2E835E072B5619.e.28626\")>,\n",
       " <selenium.webdriver.remote.webelement.WebElement (session=\"3e544ea5020a50605d5c22a95e5339d7\", element=\"f.3C8E5127C40F7D1B7F08EBF212F34E1F.d.BA428BA3579C4DE46B2E835E072B5619.e.28552\")>,\n",
       " <selenium.webdriver.remote.webelement.WebElement (session=\"3e544ea5020a50605d5c22a95e5339d7\", element=\"f.3C8E5127C40F7D1B7F08EBF212F34E1F.d.BA428BA3579C4DE46B2E835E072B5619.e.28469\")>,\n",
       " <selenium.webdriver.remote.webelement.WebElement (session=\"3e544ea5020a50605d5c22a95e5339d7\", element=\"f.3C8E5127C40F7D1B7F08EBF212F34E1F.d.BA428BA3579C4DE46B2E835E072B5619.e.28395\")>,\n",
       " <selenium.webdriver.remote.webelement.WebElement (session=\"3e544ea5020a50605d5c22a95e5339d7\", element=\"f.3C8E5127C40F7D1B7F08EBF212F34E1F.d.BA428BA3579C4DE46B2E835E072B5619.e.28312\")>,\n",
       " <selenium.webdriver.remote.webelement.WebElement (session=\"3e544ea5020a50605d5c22a95e5339d7\", element=\"f.3C8E5127C40F7D1B7F08EBF212F34E1F.d.BA428BA3579C4DE46B2E835E072B5619.e.28236\")>,\n",
       " <selenium.webdriver.remote.webelement.WebElement (session=\"3e544ea5020a50605d5c22a95e5339d7\", element=\"f.3C8E5127C40F7D1B7F08EBF212F34E1F.d.BA428BA3579C4DE46B2E835E072B5619.e.28158\")>,\n",
       " <selenium.webdriver.remote.webelement.WebElement (session=\"3e544ea5020a50605d5c22a95e5339d7\", element=\"f.3C8E5127C40F7D1B7F08EBF212F34E1F.d.BA428BA3579C4DE46B2E835E072B5619.e.28073\")>,\n",
       " <selenium.webdriver.remote.webelement.WebElement (session=\"3e544ea5020a50605d5c22a95e5339d7\", element=\"f.3C8E5127C40F7D1B7F08EBF212F34E1F.d.BA428BA3579C4DE46B2E835E072B5619.e.27990\")>,\n",
       " <selenium.webdriver.remote.webelement.WebElement (session=\"3e544ea5020a50605d5c22a95e5339d7\", element=\"f.3C8E5127C40F7D1B7F08EBF212F34E1F.d.BA428BA3579C4DE46B2E835E072B5619.e.27907\")>,\n",
       " <selenium.webdriver.remote.webelement.WebElement (session=\"3e544ea5020a50605d5c22a95e5339d7\", element=\"f.3C8E5127C40F7D1B7F08EBF212F34E1F.d.BA428BA3579C4DE46B2E835E072B5619.e.27833\")>,\n",
       " <selenium.webdriver.remote.webelement.WebElement (session=\"3e544ea5020a50605d5c22a95e5339d7\", element=\"f.3C8E5127C40F7D1B7F08EBF212F34E1F.d.BA428BA3579C4DE46B2E835E072B5619.e.27757\")>,\n",
       " <selenium.webdriver.remote.webelement.WebElement (session=\"3e544ea5020a50605d5c22a95e5339d7\", element=\"f.3C8E5127C40F7D1B7F08EBF212F34E1F.d.BA428BA3579C4DE46B2E835E072B5619.e.27674\")>,\n",
       " <selenium.webdriver.remote.webelement.WebElement (session=\"3e544ea5020a50605d5c22a95e5339d7\", element=\"f.3C8E5127C40F7D1B7F08EBF212F34E1F.d.BA428BA3579C4DE46B2E835E072B5619.e.27591\")>,\n",
       " <selenium.webdriver.remote.webelement.WebElement (session=\"3e544ea5020a50605d5c22a95e5339d7\", element=\"f.3C8E5127C40F7D1B7F08EBF212F34E1F.d.BA428BA3579C4DE46B2E835E072B5619.e.27517\")>,\n",
       " <selenium.webdriver.remote.webelement.WebElement (session=\"3e544ea5020a50605d5c22a95e5339d7\", element=\"f.3C8E5127C40F7D1B7F08EBF212F34E1F.d.BA428BA3579C4DE46B2E835E072B5619.e.27443\")>,\n",
       " <selenium.webdriver.remote.webelement.WebElement (session=\"3e544ea5020a50605d5c22a95e5339d7\", element=\"f.3C8E5127C40F7D1B7F08EBF212F34E1F.d.BA428BA3579C4DE46B2E835E072B5619.e.30726\")>,\n",
       " <selenium.webdriver.remote.webelement.WebElement (session=\"3e544ea5020a50605d5c22a95e5339d7\", element=\"f.3C8E5127C40F7D1B7F08EBF212F34E1F.d.BA428BA3579C4DE46B2E835E072B5619.e.30643\")>,\n",
       " <selenium.webdriver.remote.webelement.WebElement (session=\"3e544ea5020a50605d5c22a95e5339d7\", element=\"f.3C8E5127C40F7D1B7F08EBF212F34E1F.d.BA428BA3579C4DE46B2E835E072B5619.e.30569\")>,\n",
       " <selenium.webdriver.remote.webelement.WebElement (session=\"3e544ea5020a50605d5c22a95e5339d7\", element=\"f.3C8E5127C40F7D1B7F08EBF212F34E1F.d.BA428BA3579C4DE46B2E835E072B5619.e.30493\")>,\n",
       " <selenium.webdriver.remote.webelement.WebElement (session=\"3e544ea5020a50605d5c22a95e5339d7\", element=\"f.3C8E5127C40F7D1B7F08EBF212F34E1F.d.BA428BA3579C4DE46B2E835E072B5619.e.30410\")>,\n",
       " <selenium.webdriver.remote.webelement.WebElement (session=\"3e544ea5020a50605d5c22a95e5339d7\", element=\"f.3C8E5127C40F7D1B7F08EBF212F34E1F.d.BA428BA3579C4DE46B2E835E072B5619.e.30327\")>,\n",
       " <selenium.webdriver.remote.webelement.WebElement (session=\"3e544ea5020a50605d5c22a95e5339d7\", element=\"f.3C8E5127C40F7D1B7F08EBF212F34E1F.d.BA428BA3579C4DE46B2E835E072B5619.e.30251\")>,\n",
       " <selenium.webdriver.remote.webelement.WebElement (session=\"3e544ea5020a50605d5c22a95e5339d7\", element=\"f.3C8E5127C40F7D1B7F08EBF212F34E1F.d.BA428BA3579C4DE46B2E835E072B5619.e.30177\")>,\n",
       " <selenium.webdriver.remote.webelement.WebElement (session=\"3e544ea5020a50605d5c22a95e5339d7\", element=\"f.3C8E5127C40F7D1B7F08EBF212F34E1F.d.BA428BA3579C4DE46B2E835E072B5619.e.30090\")>,\n",
       " <selenium.webdriver.remote.webelement.WebElement (session=\"3e544ea5020a50605d5c22a95e5339d7\", element=\"f.3C8E5127C40F7D1B7F08EBF212F34E1F.d.BA428BA3579C4DE46B2E835E072B5619.e.30016\")>,\n",
       " <selenium.webdriver.remote.webelement.WebElement (session=\"3e544ea5020a50605d5c22a95e5339d7\", element=\"f.3C8E5127C40F7D1B7F08EBF212F34E1F.d.BA428BA3579C4DE46B2E835E072B5619.e.29942\")>,\n",
       " <selenium.webdriver.remote.webelement.WebElement (session=\"3e544ea5020a50605d5c22a95e5339d7\", element=\"f.3C8E5127C40F7D1B7F08EBF212F34E1F.d.BA428BA3579C4DE46B2E835E072B5619.e.29868\")>,\n",
       " <selenium.webdriver.remote.webelement.WebElement (session=\"3e544ea5020a50605d5c22a95e5339d7\", element=\"f.3C8E5127C40F7D1B7F08EBF212F34E1F.d.BA428BA3579C4DE46B2E835E072B5619.e.29794\")>,\n",
       " <selenium.webdriver.remote.webelement.WebElement (session=\"3e544ea5020a50605d5c22a95e5339d7\", element=\"f.3C8E5127C40F7D1B7F08EBF212F34E1F.d.BA428BA3579C4DE46B2E835E072B5619.e.29720\")>,\n",
       " <selenium.webdriver.remote.webelement.WebElement (session=\"3e544ea5020a50605d5c22a95e5339d7\", element=\"f.3C8E5127C40F7D1B7F08EBF212F34E1F.d.BA428BA3579C4DE46B2E835E072B5619.e.29646\")>,\n",
       " <selenium.webdriver.remote.webelement.WebElement (session=\"3e544ea5020a50605d5c22a95e5339d7\", element=\"f.3C8E5127C40F7D1B7F08EBF212F34E1F.d.BA428BA3579C4DE46B2E835E072B5619.e.29572\")>,\n",
       " <selenium.webdriver.remote.webelement.WebElement (session=\"3e544ea5020a50605d5c22a95e5339d7\", element=\"f.3C8E5127C40F7D1B7F08EBF212F34E1F.d.BA428BA3579C4DE46B2E835E072B5619.e.29498\")>,\n",
       " <selenium.webdriver.remote.webelement.WebElement (session=\"3e544ea5020a50605d5c22a95e5339d7\", element=\"f.3C8E5127C40F7D1B7F08EBF212F34E1F.d.BA428BA3579C4DE46B2E835E072B5619.e.29415\")>,\n",
       " <selenium.webdriver.remote.webelement.WebElement (session=\"3e544ea5020a50605d5c22a95e5339d7\", element=\"f.3C8E5127C40F7D1B7F08EBF212F34E1F.d.BA428BA3579C4DE46B2E835E072B5619.e.29332\")>,\n",
       " <selenium.webdriver.remote.webelement.WebElement (session=\"3e544ea5020a50605d5c22a95e5339d7\", element=\"f.3C8E5127C40F7D1B7F08EBF212F34E1F.d.BA428BA3579C4DE46B2E835E072B5619.e.29256\")>,\n",
       " <selenium.webdriver.remote.webelement.WebElement (session=\"3e544ea5020a50605d5c22a95e5339d7\", element=\"f.3C8E5127C40F7D1B7F08EBF212F34E1F.d.BA428BA3579C4DE46B2E835E072B5619.e.32554\")>,\n",
       " <selenium.webdriver.remote.webelement.WebElement (session=\"3e544ea5020a50605d5c22a95e5339d7\", element=\"f.3C8E5127C40F7D1B7F08EBF212F34E1F.d.BA428BA3579C4DE46B2E835E072B5619.e.32467\")>,\n",
       " <selenium.webdriver.remote.webelement.WebElement (session=\"3e544ea5020a50605d5c22a95e5339d7\", element=\"f.3C8E5127C40F7D1B7F08EBF212F34E1F.d.BA428BA3579C4DE46B2E835E072B5619.e.32393\")>,\n",
       " <selenium.webdriver.remote.webelement.WebElement (session=\"3e544ea5020a50605d5c22a95e5339d7\", element=\"f.3C8E5127C40F7D1B7F08EBF212F34E1F.d.BA428BA3579C4DE46B2E835E072B5619.e.32319\")>,\n",
       " <selenium.webdriver.remote.webelement.WebElement (session=\"3e544ea5020a50605d5c22a95e5339d7\", element=\"f.3C8E5127C40F7D1B7F08EBF212F34E1F.d.BA428BA3579C4DE46B2E835E072B5619.e.32245\")>,\n",
       " <selenium.webdriver.remote.webelement.WebElement (session=\"3e544ea5020a50605d5c22a95e5339d7\", element=\"f.3C8E5127C40F7D1B7F08EBF212F34E1F.d.BA428BA3579C4DE46B2E835E072B5619.e.32171\")>,\n",
       " <selenium.webdriver.remote.webelement.WebElement (session=\"3e544ea5020a50605d5c22a95e5339d7\", element=\"f.3C8E5127C40F7D1B7F08EBF212F34E1F.d.BA428BA3579C4DE46B2E835E072B5619.e.32088\")>,\n",
       " <selenium.webdriver.remote.webelement.WebElement (session=\"3e544ea5020a50605d5c22a95e5339d7\", element=\"f.3C8E5127C40F7D1B7F08EBF212F34E1F.d.BA428BA3579C4DE46B2E835E072B5619.e.32012\")>,\n",
       " <selenium.webdriver.remote.webelement.WebElement (session=\"3e544ea5020a50605d5c22a95e5339d7\", element=\"f.3C8E5127C40F7D1B7F08EBF212F34E1F.d.BA428BA3579C4DE46B2E835E072B5619.e.31938\")>,\n",
       " <selenium.webdriver.remote.webelement.WebElement (session=\"3e544ea5020a50605d5c22a95e5339d7\", element=\"f.3C8E5127C40F7D1B7F08EBF212F34E1F.d.BA428BA3579C4DE46B2E835E072B5619.e.31864\")>,\n",
       " <selenium.webdriver.remote.webelement.WebElement (session=\"3e544ea5020a50605d5c22a95e5339d7\", element=\"f.3C8E5127C40F7D1B7F08EBF212F34E1F.d.BA428BA3579C4DE46B2E835E072B5619.e.31790\")>,\n",
       " <selenium.webdriver.remote.webelement.WebElement (session=\"3e544ea5020a50605d5c22a95e5339d7\", element=\"f.3C8E5127C40F7D1B7F08EBF212F34E1F.d.BA428BA3579C4DE46B2E835E072B5619.e.31707\")>,\n",
       " <selenium.webdriver.remote.webelement.WebElement (session=\"3e544ea5020a50605d5c22a95e5339d7\", element=\"f.3C8E5127C40F7D1B7F08EBF212F34E1F.d.BA428BA3579C4DE46B2E835E072B5619.e.31624\")>,\n",
       " <selenium.webdriver.remote.webelement.WebElement (session=\"3e544ea5020a50605d5c22a95e5339d7\", element=\"f.3C8E5127C40F7D1B7F08EBF212F34E1F.d.BA428BA3579C4DE46B2E835E072B5619.e.31539\")>,\n",
       " <selenium.webdriver.remote.webelement.WebElement (session=\"3e544ea5020a50605d5c22a95e5339d7\", element=\"f.3C8E5127C40F7D1B7F08EBF212F34E1F.d.BA428BA3579C4DE46B2E835E072B5619.e.31456\")>,\n",
       " <selenium.webdriver.remote.webelement.WebElement (session=\"3e544ea5020a50605d5c22a95e5339d7\", element=\"f.3C8E5127C40F7D1B7F08EBF212F34E1F.d.BA428BA3579C4DE46B2E835E072B5619.e.31382\")>,\n",
       " <selenium.webdriver.remote.webelement.WebElement (session=\"3e544ea5020a50605d5c22a95e5339d7\", element=\"f.3C8E5127C40F7D1B7F08EBF212F34E1F.d.BA428BA3579C4DE46B2E835E072B5619.e.31299\")>,\n",
       " <selenium.webdriver.remote.webelement.WebElement (session=\"3e544ea5020a50605d5c22a95e5339d7\", element=\"f.3C8E5127C40F7D1B7F08EBF212F34E1F.d.BA428BA3579C4DE46B2E835E072B5619.e.31216\")>,\n",
       " <selenium.webdriver.remote.webelement.WebElement (session=\"3e544ea5020a50605d5c22a95e5339d7\", element=\"f.3C8E5127C40F7D1B7F08EBF212F34E1F.d.BA428BA3579C4DE46B2E835E072B5619.e.31142\")>,\n",
       " <selenium.webdriver.remote.webelement.WebElement (session=\"3e544ea5020a50605d5c22a95e5339d7\", element=\"f.3C8E5127C40F7D1B7F08EBF212F34E1F.d.BA428BA3579C4DE46B2E835E072B5619.e.31059\")>,\n",
       " <selenium.webdriver.remote.webelement.WebElement (session=\"3e544ea5020a50605d5c22a95e5339d7\", element=\"f.3C8E5127C40F7D1B7F08EBF212F34E1F.d.BA428BA3579C4DE46B2E835E072B5619.e.34332\")>,\n",
       " <selenium.webdriver.remote.webelement.WebElement (session=\"3e544ea5020a50605d5c22a95e5339d7\", element=\"f.3C8E5127C40F7D1B7F08EBF212F34E1F.d.BA428BA3579C4DE46B2E835E072B5619.e.34258\")>,\n",
       " <selenium.webdriver.remote.webelement.WebElement (session=\"3e544ea5020a50605d5c22a95e5339d7\", element=\"f.3C8E5127C40F7D1B7F08EBF212F34E1F.d.BA428BA3579C4DE46B2E835E072B5619.e.34171\")>,\n",
       " <selenium.webdriver.remote.webelement.WebElement (session=\"3e544ea5020a50605d5c22a95e5339d7\", element=\"f.3C8E5127C40F7D1B7F08EBF212F34E1F.d.BA428BA3579C4DE46B2E835E072B5619.e.34095\")>,\n",
       " <selenium.webdriver.remote.webelement.WebElement (session=\"3e544ea5020a50605d5c22a95e5339d7\", element=\"f.3C8E5127C40F7D1B7F08EBF212F34E1F.d.BA428BA3579C4DE46B2E835E072B5619.e.34021\")>,\n",
       " <selenium.webdriver.remote.webelement.WebElement (session=\"3e544ea5020a50605d5c22a95e5339d7\", element=\"f.3C8E5127C40F7D1B7F08EBF212F34E1F.d.BA428BA3579C4DE46B2E835E072B5619.e.33947\")>,\n",
       " <selenium.webdriver.remote.webelement.WebElement (session=\"3e544ea5020a50605d5c22a95e5339d7\", element=\"f.3C8E5127C40F7D1B7F08EBF212F34E1F.d.BA428BA3579C4DE46B2E835E072B5619.e.33873\")>,\n",
       " <selenium.webdriver.remote.webelement.WebElement (session=\"3e544ea5020a50605d5c22a95e5339d7\", element=\"f.3C8E5127C40F7D1B7F08EBF212F34E1F.d.BA428BA3579C4DE46B2E835E072B5619.e.33790\")>,\n",
       " <selenium.webdriver.remote.webelement.WebElement (session=\"3e544ea5020a50605d5c22a95e5339d7\", element=\"f.3C8E5127C40F7D1B7F08EBF212F34E1F.d.BA428BA3579C4DE46B2E835E072B5619.e.33703\")>,\n",
       " <selenium.webdriver.remote.webelement.WebElement (session=\"3e544ea5020a50605d5c22a95e5339d7\", element=\"f.3C8E5127C40F7D1B7F08EBF212F34E1F.d.BA428BA3579C4DE46B2E835E072B5619.e.33627\")>,\n",
       " <selenium.webdriver.remote.webelement.WebElement (session=\"3e544ea5020a50605d5c22a95e5339d7\", element=\"f.3C8E5127C40F7D1B7F08EBF212F34E1F.d.BA428BA3579C4DE46B2E835E072B5619.e.33553\")>,\n",
       " <selenium.webdriver.remote.webelement.WebElement (session=\"3e544ea5020a50605d5c22a95e5339d7\", element=\"f.3C8E5127C40F7D1B7F08EBF212F34E1F.d.BA428BA3579C4DE46B2E835E072B5619.e.33479\")>,\n",
       " <selenium.webdriver.remote.webelement.WebElement (session=\"3e544ea5020a50605d5c22a95e5339d7\", element=\"f.3C8E5127C40F7D1B7F08EBF212F34E1F.d.BA428BA3579C4DE46B2E835E072B5619.e.33405\")>,\n",
       " <selenium.webdriver.remote.webelement.WebElement (session=\"3e544ea5020a50605d5c22a95e5339d7\", element=\"f.3C8E5127C40F7D1B7F08EBF212F34E1F.d.BA428BA3579C4DE46B2E835E072B5619.e.33331\")>,\n",
       " <selenium.webdriver.remote.webelement.WebElement (session=\"3e544ea5020a50605d5c22a95e5339d7\", element=\"f.3C8E5127C40F7D1B7F08EBF212F34E1F.d.BA428BA3579C4DE46B2E835E072B5619.e.33257\")>,\n",
       " <selenium.webdriver.remote.webelement.WebElement (session=\"3e544ea5020a50605d5c22a95e5339d7\", element=\"f.3C8E5127C40F7D1B7F08EBF212F34E1F.d.BA428BA3579C4DE46B2E835E072B5619.e.33183\")>,\n",
       " <selenium.webdriver.remote.webelement.WebElement (session=\"3e544ea5020a50605d5c22a95e5339d7\", element=\"f.3C8E5127C40F7D1B7F08EBF212F34E1F.d.BA428BA3579C4DE46B2E835E072B5619.e.33100\")>,\n",
       " <selenium.webdriver.remote.webelement.WebElement (session=\"3e544ea5020a50605d5c22a95e5339d7\", element=\"f.3C8E5127C40F7D1B7F08EBF212F34E1F.d.BA428BA3579C4DE46B2E835E072B5619.e.33026\")>,\n",
       " <selenium.webdriver.remote.webelement.WebElement (session=\"3e544ea5020a50605d5c22a95e5339d7\", element=\"f.3C8E5127C40F7D1B7F08EBF212F34E1F.d.BA428BA3579C4DE46B2E835E072B5619.e.32943\")>,\n",
       " <selenium.webdriver.remote.webelement.WebElement (session=\"3e544ea5020a50605d5c22a95e5339d7\", element=\"f.3C8E5127C40F7D1B7F08EBF212F34E1F.d.BA428BA3579C4DE46B2E835E072B5619.e.32860\")>,\n",
       " <selenium.webdriver.remote.webelement.WebElement (session=\"3e544ea5020a50605d5c22a95e5339d7\", element=\"f.3C8E5127C40F7D1B7F08EBF212F34E1F.d.BA428BA3579C4DE46B2E835E072B5619.e.36158\")>,\n",
       " <selenium.webdriver.remote.webelement.WebElement (session=\"3e544ea5020a50605d5c22a95e5339d7\", element=\"f.3C8E5127C40F7D1B7F08EBF212F34E1F.d.BA428BA3579C4DE46B2E835E072B5619.e.36073\")>,\n",
       " <selenium.webdriver.remote.webelement.WebElement (session=\"3e544ea5020a50605d5c22a95e5339d7\", element=\"f.3C8E5127C40F7D1B7F08EBF212F34E1F.d.BA428BA3579C4DE46B2E835E072B5619.e.35999\")>,\n",
       " <selenium.webdriver.remote.webelement.WebElement (session=\"3e544ea5020a50605d5c22a95e5339d7\", element=\"f.3C8E5127C40F7D1B7F08EBF212F34E1F.d.BA428BA3579C4DE46B2E835E072B5619.e.35916\")>,\n",
       " <selenium.webdriver.remote.webelement.WebElement (session=\"3e544ea5020a50605d5c22a95e5339d7\", element=\"f.3C8E5127C40F7D1B7F08EBF212F34E1F.d.BA428BA3579C4DE46B2E835E072B5619.e.35833\")>,\n",
       " <selenium.webdriver.remote.webelement.WebElement (session=\"3e544ea5020a50605d5c22a95e5339d7\", element=\"f.3C8E5127C40F7D1B7F08EBF212F34E1F.d.BA428BA3579C4DE46B2E835E072B5619.e.35750\")>,\n",
       " <selenium.webdriver.remote.webelement.WebElement (session=\"3e544ea5020a50605d5c22a95e5339d7\", element=\"f.3C8E5127C40F7D1B7F08EBF212F34E1F.d.BA428BA3579C4DE46B2E835E072B5619.e.35667\")>,\n",
       " <selenium.webdriver.remote.webelement.WebElement (session=\"3e544ea5020a50605d5c22a95e5339d7\", element=\"f.3C8E5127C40F7D1B7F08EBF212F34E1F.d.BA428BA3579C4DE46B2E835E072B5619.e.35593\")>,\n",
       " <selenium.webdriver.remote.webelement.WebElement (session=\"3e544ea5020a50605d5c22a95e5339d7\", element=\"f.3C8E5127C40F7D1B7F08EBF212F34E1F.d.BA428BA3579C4DE46B2E835E072B5619.e.35517\")>,\n",
       " <selenium.webdriver.remote.webelement.WebElement (session=\"3e544ea5020a50605d5c22a95e5339d7\", element=\"f.3C8E5127C40F7D1B7F08EBF212F34E1F.d.BA428BA3579C4DE46B2E835E072B5619.e.35443\")>,\n",
       " <selenium.webdriver.remote.webelement.WebElement (session=\"3e544ea5020a50605d5c22a95e5339d7\", element=\"f.3C8E5127C40F7D1B7F08EBF212F34E1F.d.BA428BA3579C4DE46B2E835E072B5619.e.35369\")>,\n",
       " <selenium.webdriver.remote.webelement.WebElement (session=\"3e544ea5020a50605d5c22a95e5339d7\", element=\"f.3C8E5127C40F7D1B7F08EBF212F34E1F.d.BA428BA3579C4DE46B2E835E072B5619.e.35295\")>,\n",
       " <selenium.webdriver.remote.webelement.WebElement (session=\"3e544ea5020a50605d5c22a95e5339d7\", element=\"f.3C8E5127C40F7D1B7F08EBF212F34E1F.d.BA428BA3579C4DE46B2E835E072B5619.e.35221\")>,\n",
       " <selenium.webdriver.remote.webelement.WebElement (session=\"3e544ea5020a50605d5c22a95e5339d7\", element=\"f.3C8E5127C40F7D1B7F08EBF212F34E1F.d.BA428BA3579C4DE46B2E835E072B5619.e.35134\")>,\n",
       " <selenium.webdriver.remote.webelement.WebElement (session=\"3e544ea5020a50605d5c22a95e5339d7\", element=\"f.3C8E5127C40F7D1B7F08EBF212F34E1F.d.BA428BA3579C4DE46B2E835E072B5619.e.35047\")>,\n",
       " <selenium.webdriver.remote.webelement.WebElement (session=\"3e544ea5020a50605d5c22a95e5339d7\", element=\"f.3C8E5127C40F7D1B7F08EBF212F34E1F.d.BA428BA3579C4DE46B2E835E072B5619.e.34964\")>,\n",
       " <selenium.webdriver.remote.webelement.WebElement (session=\"3e544ea5020a50605d5c22a95e5339d7\", element=\"f.3C8E5127C40F7D1B7F08EBF212F34E1F.d.BA428BA3579C4DE46B2E835E072B5619.e.34881\")>,\n",
       " <selenium.webdriver.remote.webelement.WebElement (session=\"3e544ea5020a50605d5c22a95e5339d7\", element=\"f.3C8E5127C40F7D1B7F08EBF212F34E1F.d.BA428BA3579C4DE46B2E835E072B5619.e.34798\")>,\n",
       " <selenium.webdriver.remote.webelement.WebElement (session=\"3e544ea5020a50605d5c22a95e5339d7\", element=\"f.3C8E5127C40F7D1B7F08EBF212F34E1F.d.BA428BA3579C4DE46B2E835E072B5619.e.34724\")>,\n",
       " <selenium.webdriver.remote.webelement.WebElement (session=\"3e544ea5020a50605d5c22a95e5339d7\", element=\"f.3C8E5127C40F7D1B7F08EBF212F34E1F.d.BA428BA3579C4DE46B2E835E072B5619.e.34641\")>]"
      ]
     },
     "execution_count": 31,
     "metadata": {},
     "output_type": "execute_result"
    }
   ],
   "source": [
    "reviews = driver.find_elements(By.CSS_SELECTOR, 'div.RHo1pe')\n",
    "reviews"
   ]
  },
  {
   "cell_type": "code",
   "execution_count": 32,
   "id": "dc7fa657-45f1-442e-a9b3-47f312bd4a55",
   "metadata": {},
   "outputs": [
    {
     "data": {
      "text/plain": [
       "320"
      ]
     },
     "execution_count": 32,
     "metadata": {},
     "output_type": "execute_result"
    }
   ],
   "source": [
    "len(reviews)"
   ]
  },
  {
   "cell_type": "code",
   "execution_count": 33,
   "id": "f52ef698-41dc-4140-a3dc-2ceeecf14208",
   "metadata": {},
   "outputs": [],
   "source": [
    "# 요소별 추출\n",
    "def get_content(review):\n",
    "    condic = {}\n",
    "    condic['text'] = review.find_element(By.CSS_SELECTOR, 'div.h3YV2d').text\n",
    "    condic['rat'] = len(review.find_elements(By.CSS_SELECTOR, 'span.Z1Dz7b'))\n",
    "    condic['date'] = review.find_element(By.CSS_SELECTOR, 'span.bp9Aid').text\n",
    "    return condic"
   ]
  },
  {
   "cell_type": "code",
   "execution_count": 34,
   "id": "096d0a88-7556-4010-be49-9e4f3f1da62f",
   "metadata": {},
   "outputs": [],
   "source": [
    "result = [get_content(review) for review in reviews]"
   ]
  },
  {
   "cell_type": "code",
   "execution_count": 35,
   "id": "86f605e8-db11-44c8-82b1-a1f8322450e0",
   "metadata": {},
   "outputs": [
    {
     "data": {
      "text/html": [
       "<div>\n",
       "<style scoped>\n",
       "    .dataframe tbody tr th:only-of-type {\n",
       "        vertical-align: middle;\n",
       "    }\n",
       "\n",
       "    .dataframe tbody tr th {\n",
       "        vertical-align: top;\n",
       "    }\n",
       "\n",
       "    .dataframe thead th {\n",
       "        text-align: right;\n",
       "    }\n",
       "</style>\n",
       "<table border=\"1\" class=\"dataframe\">\n",
       "  <thead>\n",
       "    <tr style=\"text-align: right;\">\n",
       "      <th></th>\n",
       "      <th>text</th>\n",
       "      <th>rat</th>\n",
       "      <th>date</th>\n",
       "    </tr>\n",
       "  </thead>\n",
       "  <tbody>\n",
       "    <tr>\n",
       "      <th>0</th>\n",
       "      <td>많고 많은 필터어플들이 개성은 별로 없는편인데 피크닉은 독보적인 필터들이 많아서 계...</td>\n",
       "      <td>5</td>\n",
       "      <td>2019년 4월 14일</td>\n",
       "    </tr>\n",
       "    <tr>\n",
       "      <th>1</th>\n",
       "      <td>진짜 이 앱은 남이 알까 무서울 정도로 좋은 앱이네요ㅠㅜㅜ 사진이 세상 예쁘게 되고...</td>\n",
       "      <td>4</td>\n",
       "      <td>2019년 6월 1일</td>\n",
       "    </tr>\n",
       "    <tr>\n",
       "      <th>2</th>\n",
       "      <td>일단 정말 잘 사용하고 있구요!감사합니다! 다만 최근 AI기능 on off가 있어서...</td>\n",
       "      <td>4</td>\n",
       "      <td>2019년 2월 26일</td>\n",
       "    </tr>\n",
       "    <tr>\n",
       "      <th>3</th>\n",
       "      <td>사진 화질도 아주좋고 쓸만하네요 하지만 사람들이 더 다양하게 커스텀 할수있는 기능을...</td>\n",
       "      <td>5</td>\n",
       "      <td>2024년 1월 8일</td>\n",
       "    </tr>\n",
       "    <tr>\n",
       "      <th>4</th>\n",
       "      <td>배경이 자연스럽게 들어가 흐린날에도 사진찍기 좋고 필터 하나하나 색감도 너무 마음에...</td>\n",
       "      <td>5</td>\n",
       "      <td>2019년 2월 4일</td>\n",
       "    </tr>\n",
       "    <tr>\n",
       "      <th>...</th>\n",
       "      <td>...</td>\n",
       "      <td>...</td>\n",
       "      <td>...</td>\n",
       "    </tr>\n",
       "    <tr>\n",
       "      <th>315</th>\n",
       "      <td>옛날에 쓰다가 핸드폰 바꿔서 지워진거 까먹고 있었는데 다시 깔아서 사용하니까 너무 ...</td>\n",
       "      <td>5</td>\n",
       "      <td>2021년 3월 30일</td>\n",
       "    </tr>\n",
       "    <tr>\n",
       "      <th>316</th>\n",
       "      <td>밋밋했던 사진을 살려주는 마법같은 앱! 이 앱을 왜 이제 알았을까 싶을 정도로 만족...</td>\n",
       "      <td>5</td>\n",
       "      <td>2021년 6월 12일</td>\n",
       "    </tr>\n",
       "    <tr>\n",
       "      <th>317</th>\n",
       "      <td>이거 너무 좋고 너무 사진과 딱 어울리고 원라는 인생샷을 남길 수 있어서 너무 좋아...</td>\n",
       "      <td>5</td>\n",
       "      <td>2019년 2월 23일</td>\n",
       "    </tr>\n",
       "    <tr>\n",
       "      <th>318</th>\n",
       "      <td>이것만큼 좋은게 없네요, UI도 깔끔하고 잘 먹힙니다. 자연스럽게도 잘 되구요</td>\n",
       "      <td>5</td>\n",
       "      <td>2021년 7월 15일</td>\n",
       "    </tr>\n",
       "    <tr>\n",
       "      <th>319</th>\n",
       "      <td>진짜 하나같이 필터너무 이쁘고ㅠㅠ 구름도 세상 예뻐요 진짜 이쁘단말밖에 안나오는 앱...</td>\n",
       "      <td>5</td>\n",
       "      <td>2019년 3월 23일</td>\n",
       "    </tr>\n",
       "  </tbody>\n",
       "</table>\n",
       "<p>320 rows × 3 columns</p>\n",
       "</div>"
      ],
      "text/plain": [
       "                                                  text  rat          date\n",
       "0    많고 많은 필터어플들이 개성은 별로 없는편인데 피크닉은 독보적인 필터들이 많아서 계...    5  2019년 4월 14일\n",
       "1    진짜 이 앱은 남이 알까 무서울 정도로 좋은 앱이네요ㅠㅜㅜ 사진이 세상 예쁘게 되고...    4   2019년 6월 1일\n",
       "2    일단 정말 잘 사용하고 있구요!감사합니다! 다만 최근 AI기능 on off가 있어서...    4  2019년 2월 26일\n",
       "3    사진 화질도 아주좋고 쓸만하네요 하지만 사람들이 더 다양하게 커스텀 할수있는 기능을...    5   2024년 1월 8일\n",
       "4    배경이 자연스럽게 들어가 흐린날에도 사진찍기 좋고 필터 하나하나 색감도 너무 마음에...    5   2019년 2월 4일\n",
       "..                                                 ...  ...           ...\n",
       "315  옛날에 쓰다가 핸드폰 바꿔서 지워진거 까먹고 있었는데 다시 깔아서 사용하니까 너무 ...    5  2021년 3월 30일\n",
       "316  밋밋했던 사진을 살려주는 마법같은 앱! 이 앱을 왜 이제 알았을까 싶을 정도로 만족...    5  2021년 6월 12일\n",
       "317  이거 너무 좋고 너무 사진과 딱 어울리고 원라는 인생샷을 남길 수 있어서 너무 좋아...    5  2019년 2월 23일\n",
       "318        이것만큼 좋은게 없네요, UI도 깔끔하고 잘 먹힙니다. 자연스럽게도 잘 되구요    5  2021년 7월 15일\n",
       "319  진짜 하나같이 필터너무 이쁘고ㅠㅠ 구름도 세상 예뻐요 진짜 이쁘단말밖에 안나오는 앱...    5  2019년 3월 23일\n",
       "\n",
       "[320 rows x 3 columns]"
      ]
     },
     "execution_count": 35,
     "metadata": {},
     "output_type": "execute_result"
    }
   ],
   "source": [
    "df = pd.DataFrame(result)\n",
    "df"
   ]
  },
  {
   "cell_type": "markdown",
   "id": "aa841275-fcd2-40cc-9e30-26d493c4da71",
   "metadata": {},
   "source": [
    "# 예제) 대한민국 지역 여행기사 수집\n",
    "예제 페이지 URL https://korean.visitkorea.or.kr/search/search_list.do?keyword=%EC%A0%9C%EC%A3%BC%EB%8F%84"
   ]
  },
  {
   "cell_type": "code",
   "execution_count": 71,
   "id": "47e0f708-2a5f-4bdc-b40c-0ce9e1ac00af",
   "metadata": {},
   "outputs": [],
   "source": [
    "from selenium import webdriver\n",
    "from selenium.webdriver.common.by import By\n",
    "from selenium.webdriver.chrome.options import Options\n",
    "import math, time\n",
    "\n",
    "options = Options()\n",
    "options.add_argument('--window-size=974,1047')\n",
    "options.add_argument('--window-position=-7,0')\n",
    "options.add_experimental_option(\"detach\", True)"
   ]
  },
  {
   "cell_type": "code",
   "execution_count": 72,
   "id": "f3f6dd08-2e30-4451-add4-eef1a8e79711",
   "metadata": {},
   "outputs": [
    {
     "name": "stdin",
     "output_type": "stream",
     "text": [
      "검색어를 입력하세요. 제주도\n"
     ]
    }
   ],
   "source": [
    "search = input('검색어를 입력하세요.')"
   ]
  },
  {
   "cell_type": "code",
   "execution_count": 104,
   "id": "4fd08012-92d1-4098-85cb-da81463d8f0e",
   "metadata": {},
   "outputs": [],
   "source": [
    "URL = 'https://korean.visitkorea.or.kr/search/search_list.do?keyword='+search\n",
    "\n",
    "driver = webdriver.Chrome(options=options)\n",
    "driver.get(URL)\n",
    "time.sleep(3)"
   ]
  },
  {
   "cell_type": "code",
   "execution_count": 74,
   "id": "7d9a89d7-67a4-4b76-a44b-72864bcd849a",
   "metadata": {},
   "outputs": [],
   "source": [
    "# 여행기사 더보기 클릭\n",
    "# driver.find_element(By.CSS_SELECTOR, \".more_view > a\").click()\n",
    "driver.find_element(By.CSS_SELECTOR, \"#s_recommend > .more_view > a\").click()"
   ]
  },
  {
   "cell_type": "code",
   "execution_count": 75,
   "id": "652c997f-5060-4528-b8f2-73441a1f26a8",
   "metadata": {},
   "outputs": [
    {
     "data": {
      "text/plain": [
       "''"
      ]
     },
     "execution_count": 75,
     "metadata": {},
     "output_type": "execute_result"
    }
   ],
   "source": [
    "result = driver.find_elements(By.CSS_SELECTOR, '.tit a')\n",
    "result[0].text"
   ]
  },
  {
   "cell_type": "code",
   "execution_count": 76,
   "id": "e1a0b88e-63a2-4ec3-bf8d-4fcdc2dfee39",
   "metadata": {},
   "outputs": [
    {
     "name": "stdout",
     "output_type": "stream",
     "text": [
      "\n",
      "\n",
      "\n",
      "\n",
      "\n",
      "\n",
      "\n",
      "\n",
      "\n",
      "\n",
      "\n",
      "\n",
      "\n",
      "\n",
      "\n",
      "\n",
      "\n",
      "\n",
      "\n",
      "\n",
      "\n",
      "\n",
      "\n",
      "\n",
      "해변산책부터 레이싱까지, 제주 반려동물 동반여행 추천 코스\n",
      "제주도가 품은 신비의 화산 숲, 환상숲곶자왈공원\n",
      "한국관광공사 추천 2월 걷기여행길, 이른 봄을 맞이하는 제주도 걷기길\n",
      "제주도의 숨겨진 재미를 찾는\n",
      "<놀멍, 배우멍 제주마을체험 - 1일형 체험학습>\n",
      "제주도 조천읍 버킷리스트 여행지 작성하기\n",
      "김창열의 회귀 철학을 건축으로 표현한 미술관, 제주도립김창열미술관\n",
      "[국내 트레킹 추천]\n",
      "제주 올레길 걷기 여행,\n",
      "준비부터 코스 선택까지 꿀팁 총정리!\n",
      "4월 제주도 가볼 만한, 가파도 청보리 축제\n",
      "제주도 유채꽃 명소 추천, 봄에 떠나는 인생샷 여행\n",
      "소소한 '제주여행' 꿀팁! 〈겨울편〉\n"
     ]
    }
   ],
   "source": [
    "result = driver.find_elements(By.CSS_SELECTOR, '.tit a')\n",
    "for i in range(len(result)):\n",
    "    print(result[i].text)"
   ]
  },
  {
   "cell_type": "code",
   "execution_count": 77,
   "id": "ab3754b9-b7bc-4c2d-a9ab-4a9c379473df",
   "metadata": {},
   "outputs": [
    {
     "data": {
      "text/plain": [
       "'해변산책부터 레이싱까지, 제주 반려동물 동반여행 추천 코스'"
      ]
     },
     "execution_count": 77,
     "metadata": {},
     "output_type": "execute_result"
    }
   ],
   "source": [
    "a = driver.find_element(By.XPATH, '//*[@id=\"search_result\"]/ul/li[1]/div[1]/div[1]/a')\n",
    "a.text"
   ]
  },
  {
   "cell_type": "code",
   "execution_count": 78,
   "id": "4fd7c1cc-1c4d-49f6-8ae3-334ec2cd35b1",
   "metadata": {},
   "outputs": [
    {
     "data": {
      "text/plain": [
       "(10, '해변산책부터 레이싱까지, 제주 반려동물 동반여행 추천 코스', '제주도가 품은 신비의 화산 숲, 환상숲곶자왈공원')"
      ]
     },
     "execution_count": 78,
     "metadata": {},
     "output_type": "execute_result"
    }
   ],
   "source": [
    "# tit_xpath = '//*[@id=\"search_result\"]/ul/li/div/div/a' # 해당 요소가 하나씩일 때\n",
    "# 전체 경로\n",
    "tit_xpath = '//*[@id=\"search_result\"]/ul/li[*]/div[1]/div[1]/a'\n",
    "result = driver.find_elements(By.XPATH, tit_xpath)\n",
    "len(result), result[0].text, result[1].text"
   ]
  },
  {
   "cell_type": "code",
   "execution_count": 79,
   "id": "f3850a8e-3eb5-4a79-a5ad-805b50d8c06f",
   "metadata": {},
   "outputs": [
    {
     "name": "stdout",
     "output_type": "stream",
     "text": [
      "1 해변산책부터 레이싱까지, 제주 반려동물 동반여행 추천 코스\n",
      "2 제주도가 품은 신비의 화산 숲, 환상숲곶자왈공원\n",
      "3 한국관광공사 추천 2월 걷기여행길, 이른 봄을 맞이하는 제주도 걷기길\n",
      "4 제주도의 숨겨진 재미를 찾는\n",
      "<놀멍, 배우멍 제주마을체험 - 1일형 체험학습>\n",
      "5 제주도 조천읍 버킷리스트 여행지 작성하기\n",
      "6 김창열의 회귀 철학을 건축으로 표현한 미술관, 제주도립김창열미술관\n",
      "7 [국내 트레킹 추천]\n",
      "제주 올레길 걷기 여행,\n",
      "준비부터 코스 선택까지 꿀팁 총정리!\n",
      "8 4월 제주도 가볼 만한, 가파도 청보리 축제\n",
      "9 제주도 유채꽃 명소 추천, 봄에 떠나는 인생샷 여행\n",
      "10 소소한 '제주여행' 꿀팁! 〈겨울편〉\n"
     ]
    }
   ],
   "source": [
    "for i, title in enumerate(result, 1):\n",
    "#     print(i, title.text)\n",
    "    print(i, title.text)"
   ]
  },
  {
   "cell_type": "markdown",
   "id": "58cab31b-bbcc-4288-97cf-0695a1036e2b",
   "metadata": {},
   "source": [
    "## 페이지 이동\n",
    "1 : 수집 갯수를 입력받는다.   \r\n",
    "2 : 수집 갯수에 따라 페이지를 이동한다         .\r\n",
    "3 : 각 페이지별 데이터를 수집한다. (타이틀 텍스      트)\r\n",
    "4 : 출력"
   ]
  },
  {
   "cell_type": "code",
   "execution_count": 80,
   "id": "c8e4921e-ee35-498b-9d65-f10b8e5effae",
   "metadata": {},
   "outputs": [],
   "source": [
    "# 페이지 버튼 클릭\n",
    "driver.find_element(By.XPATH, '/html/body/div[3]/div/div[1]/div[14]/a[2]').click()"
   ]
  },
  {
   "cell_type": "code",
   "execution_count": 81,
   "id": "d35227bb-f4d5-4af8-8a5c-1e1733440e0f",
   "metadata": {},
   "outputs": [
    {
     "name": "stdin",
     "output_type": "stream",
     "text": [
      "크롤링 할 건수는 몇건입니까?:  15\n"
     ]
    },
    {
     "data": {
      "text/plain": [
       "15"
      ]
     },
     "execution_count": 81,
     "metadata": {},
     "output_type": "execute_result"
    }
   ],
   "source": [
    "cnt = int(input('크롤링 할 건수는 몇건입니까?: '))\n",
    "cnt"
   ]
  },
  {
   "cell_type": "code",
   "execution_count": 82,
   "id": "9701e648-0c15-45fe-8b09-fc06f5d20ffc",
   "metadata": {},
   "outputs": [
    {
     "name": "stdout",
     "output_type": "stream",
     "text": [
      "2\n"
     ]
    }
   ],
   "source": [
    "page_cnt = math.ceil(cnt/10) # 크롤링 할 전체 페이지 수 (올림)\n",
    "print(page_cnt)"
   ]
  },
  {
   "cell_type": "code",
   "execution_count": 83,
   "id": "95d1afc0-2219-4726-acd5-7a25f44ec802",
   "metadata": {},
   "outputs": [
    {
     "name": "stdout",
     "output_type": "stream",
     "text": [
      "========= 1 페이지 작업 =========\n",
      "1 연말연시 제주도 여행 추천 코스,\n",
      "가족여행 가볼 만한 곳\n",
      "2 새하얀 눈으로 덮인 제주도 설경 명소 4\n",
      "3 제주 6월 걷기 좋은 길, 성안올레 1코스 원도심 투어\n",
      "4 사계절 자연의 아름다움을 간직한 제주시 댕댕이 추천코스\n",
      "5 제주도 '한정'여행지,\n",
      "제주도의 이색 공간을 찾아서\n",
      "6 멈춤과 완보로 만나는 제주 생각하는정원\n",
      "7 2월 놓치지 말아야 할 제주 관광 10선\n",
      "<2월 제주, 먼저 온 봄기운에 마음 돌랑돌랑>\n",
      "8 제주의 아크로폴리스를 아시나요? - 제주 원도심 (제주목관아 중심)\n",
      "9 맛있는 음식에 여행의 기쁨은 두 배! <제주 식도락 여행>\n",
      "10 제주 여행, 은빛 물결이 일렁이는 제주도 억새 명소 모음\n",
      "========= 2 페이지 작업 =========\n",
      "11 연말연시 제주도 여행 추천 코스,\n",
      "가족여행 가볼 만한 곳\n",
      "12 새하얀 눈으로 덮인 제주도 설경 명소 4\n",
      "13 제주 6월 걷기 좋은 길, 성안올레 1코스 원도심 투어\n",
      "14 사계절 자연의 아름다움을 간직한 제주시 댕댕이 추천코스\n",
      "15 제주도 '한정'여행지,\n",
      "제주도의 이색 공간을 찾아서\n",
      "========= 작업 완료 =========\n"
     ]
    }
   ],
   "source": [
    "tit_xpath = '//*[@id=\"search_result\"]/ul/li[*]/div[1]/div[1]/a'\n",
    "no = 0\n",
    "\n",
    "for x in range(1, page_cnt+1):\n",
    "    print(f'========= {x} 페이지 작업 =========')\n",
    "    mylist = driver.find_elements(By.XPATH, tit_xpath)\n",
    "    \n",
    "    for item in mylist:\n",
    "        no += 1\n",
    "        if no > cnt:\n",
    "            break\n",
    "        print(no, item.text)\n",
    "    \n",
    "    if no <= cnt:\n",
    "        a = f'/html/body/div[3]/div/div[1]/div[14]/a[{x+1}]'\n",
    "        driver.find_element(By.XPATH, a).click()\n",
    "#         next_button = driver.find_element(By.CSS_SELECTOR, f\"a[id='{x+1}']\")\n",
    "#         driver.execute_script(\"arguments[0].click();\", next_button)\n",
    "        time.sleep(2)\n",
    "    \n",
    "print('========= 작업 완료 =========')\n",
    "# driver.close()"
   ]
  },
  {
   "cell_type": "code",
   "execution_count": 84,
   "id": "e44127a6-a8fb-40f7-a5f1-3c506b3d364d",
   "metadata": {},
   "outputs": [
    {
     "name": "stdout",
     "output_type": "stream",
     "text": [
      "========= 1 페이지 작업 =========\n",
      "1 연말연시 제주도 여행 추천 코스,\n",
      "가족여행 가볼 만한 곳\n",
      "2 새하얀 눈으로 덮인 제주도 설경 명소 4\n",
      "3 제주 6월 걷기 좋은 길, 성안올레 1코스 원도심 투어\n",
      "4 사계절 자연의 아름다움을 간직한 제주시 댕댕이 추천코스\n",
      "5 제주도 '한정'여행지,\n",
      "제주도의 이색 공간을 찾아서\n",
      "6 멈춤과 완보로 만나는 제주 생각하는정원\n",
      "7 2월 놓치지 말아야 할 제주 관광 10선\n",
      "<2월 제주, 먼저 온 봄기운에 마음 돌랑돌랑>\n",
      "8 제주의 아크로폴리스를 아시나요? - 제주 원도심 (제주목관아 중심)\n",
      "9 맛있는 음식에 여행의 기쁨은 두 배! <제주 식도락 여행>\n",
      "10 제주 여행, 은빛 물결이 일렁이는 제주도 억새 명소 모음\n",
      "========= 2 페이지 작업 =========\n",
      "11 연말연시 제주도 여행 추천 코스,\n",
      "가족여행 가볼 만한 곳\n",
      "12 새하얀 눈으로 덮인 제주도 설경 명소 4\n",
      "13 제주 6월 걷기 좋은 길, 성안올레 1코스 원도심 투어\n",
      "14 사계절 자연의 아름다움을 간직한 제주시 댕댕이 추천코스\n",
      "15 제주도 '한정'여행지,\n",
      "제주도의 이색 공간을 찾아서\n",
      "========= 작업 완료 =========\n"
     ]
    }
   ],
   "source": [
    "# xpath대신 execute_script함수 사용\n",
    "tit_xpath = '//*[@id=\"search_result\"]/ul/li[*]/div[1]/div[1]/a'\n",
    "no = 0\n",
    "\n",
    "for x in range(1, page_cnt+1):\n",
    "    print(f'========= {x} 페이지 작업 =========')\n",
    "    mylist = driver.find_elements(By.XPATH, tit_xpath)\n",
    "    \n",
    "    for item in mylist:\n",
    "        no += 1\n",
    "        if no > cnt:\n",
    "            break\n",
    "        print(no, item.text)\n",
    "    \n",
    "    if no <= cnt:\n",
    "        next_button = driver.find_element(By.CSS_SELECTOR, f\"a[id='{x+1}']\")\n",
    "        driver.execute_script(\"arguments[0].click();\", next_button)\n",
    "        time.sleep(2)\n",
    "        \n",
    "print('========= 작업 완료 =========')\n",
    "driver.close()"
   ]
  },
  {
   "cell_type": "code",
   "execution_count": 110,
   "id": "9d1418bb-daa1-4f13-b4b4-4299527ef506",
   "metadata": {},
   "outputs": [
    {
     "name": "stdout",
     "output_type": "stream",
     "text": [
      "========= 1 페이지 작업 =========\n",
      "1 제주문학관\n",
      "2 제주고산리유적안내센터\n",
      "3 제주테지움\n",
      "4 제주 교래자연휴양림\n",
      "5 누웨마루거리\n",
      "6 보통청춘기록실 청춘사진관\n",
      "7 제주 무지개해안도로\n",
      "8 아르떼뮤지엄 제주\n",
      "9 선흘 동백동산/곶자왈 (제주도 국가지질공원)\n",
      "10 제주특별자치도농업기술원서부농업기술센터\n",
      "========= 2 페이지 작업 =========\n",
      "11 제주송정농원\n",
      "12 제주 명도암참살이마을\n",
      "13 제주항\n",
      "14 제주해녀항일운동기념탑\n",
      "15 제주바다체험장\n",
      "16 제주 센트럴파크\n",
      "17 제주성지\n",
      "18 제주 유수암마을\n",
      "19 제주이호랜드\n",
      "20 제주 우도 천진항 대합실\n",
      "========= 3 페이지 작업 =========\n",
      "21 제주교육박물관\n",
      "22 제주문화원\n",
      "23 제주라프\n",
      "24 제주 스위스마을\n",
      "25 제주드림타워복합리조트\n",
      "26 제주양떼목장\n",
      "27 보덕사(제주)\n",
      "28 제주 삼양동 유적\n",
      "29 만장굴 (제주도 국가지질공원)\n",
      "30 제주향교\n",
      "========= 4 페이지 작업 =========\n",
      "31 제주도립미술관\n",
      "32 천왕사(제주)\n",
      "33 제주 선흘리 벵뒤굴 [유네스코 세계자연유산]\n",
      "34 방사탑(제주)\n",
      "35 제주별빛누리공원\n",
      "36 제주신흥해수욕장\n",
      "37 제주 항파두리 항몽 유적\n",
      "38 송당 제주살롱\n",
      "39 제주러브랜드\n",
      "40 제주아트센터\n",
      "========= 5 페이지 작업 =========\n",
      "41 제주문학관\n",
      "42 제주고산리유적안내센터\n",
      "43 제주테지움\n",
      "44 제주 교래자연휴양림\n",
      "45 누웨마루거리\n",
      "46 보통청춘기록실 청춘사진관\n",
      "47 제주 무지개해안도로\n",
      "48 아르떼뮤지엄 제주\n",
      "49 선흘 동백동산/곶자왈 (제주도 국가지질공원)\n",
      "50 제주특별자치도농업기술원서부농업기술센터\n",
      "========= 작업 완료 =========\n"
     ]
    }
   ],
   "source": [
    "cnt = 50  # 추출할 항목 개수\n",
    "no = 0   # 추출된 항목 수\n",
    "page_cnt = 5  # 추출할 페이지 수 (1부터 5페이지까지)\n",
    "\n",
    "for x in range(1, page_cnt + 1):\n",
    "    print(f'========= {x} 페이지 작업 =========')\n",
    "    mylist = driver.find_elements(By.XPATH, tit_xpath)\n",
    "    \n",
    "    for item in mylist:\n",
    "        no += 1\n",
    "        if no > cnt:\n",
    "            break\n",
    "        print(no, item.text)\n",
    "    \n",
    "    if no >= cnt:\n",
    "        break\n",
    "    \n",
    "    # 다음 페이지로 이동\n",
    "    next_page_xpath = f'/html/body/div[3]/div/div[1]/div[14]/a[{x+1}]'\n",
    "    try:\n",
    "        next_button = driver.find_element(By.XPATH, next_page_xpath)\n",
    "        next_button.click()\n",
    "        time.sleep(2)  # 페이지 이동 후 잠시 기다림\n",
    "    except Exception as e:\n",
    "        print(f'다음 페이지로 이동할 수 없습니다: {e}')\n",
    "        break\n",
    "\n",
    "print('========= 작업 완료 =========')\n",
    "# driver.close()"
   ]
  },
  {
   "cell_type": "code",
   "execution_count": null,
   "id": "237b2667-d433-4c9c-84f1-c783365743e8",
   "metadata": {},
   "outputs": [],
   "source": []
  }
 ],
 "metadata": {
  "kernelspec": {
   "display_name": "Python 3 (ipykernel)",
   "language": "python",
   "name": "python3"
  },
  "language_info": {
   "codemirror_mode": {
    "name": "ipython",
    "version": 3
   },
   "file_extension": ".py",
   "mimetype": "text/x-python",
   "name": "python",
   "nbconvert_exporter": "python",
   "pygments_lexer": "ipython3",
   "version": "3.11.7"
  }
 },
 "nbformat": 4,
 "nbformat_minor": 5
}
