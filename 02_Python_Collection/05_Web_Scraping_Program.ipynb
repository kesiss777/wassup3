{
 "cells": [
  {
   "cell_type": "markdown",
   "id": "2f19c552-de08-43d7-8693-f1f316429cfe",
   "metadata": {},
   "source": [
    "# 웹 스크래핑 프로그램을 만들어보자\n",
    "1.예제 페이지에서 여행기사를 추출한다.    \r\n",
    "https://korean.visitkorea.or.kr/main/main.d     o2.\r\n",
    "검색어와 스크래핑 건수를 입력받는         다3..\r\n",
    "페이지를 이동           한4.다.\r\n",
    "상세 페이지별로 여행기사 정보를 수      집5.한다.\r\n",
    "이미지와 텍스트를 추출해서 파일로 저장까지"
   ]
  },
  {
   "cell_type": "code",
   "execution_count": 1,
   "id": "7990eec5-de74-46dc-8740-ce627922cb68",
   "metadata": {},
   "outputs": [],
   "source": [
    "from selenium import webdriver\n",
    "from selenium.webdriver.common.by import By\n",
    "from selenium.webdriver.chrome.options import Options\n",
    "import math, time\n",
    "\n",
    "options = Options()\n",
    "options.add_argument('--window-size=974,1047')\n",
    "options.add_argument('--window-position=-7,0')\n",
    "options.add_experimental_option(\"detach\", True)"
   ]
  },
  {
   "cell_type": "code",
   "execution_count": 2,
   "id": "22f48d21-fd8e-430b-b27d-00ea7e86ad9f",
   "metadata": {},
   "outputs": [
    {
     "name": "stdin",
     "output_type": "stream",
     "text": [
      "검색어: 제주도\n",
      "크롤링 할 건수는 몇건입니까?:  10\n"
     ]
    }
   ],
   "source": [
    "search = input('검색어:')\n",
    "cnt = int(input('크롤링 할 건수는 몇건입니까?: '))\n",
    "page_cnt = math.ceil(cnt / 10)  # 크롤링 할 전체 페이지 수 "
   ]
  },
  {
   "cell_type": "code",
   "execution_count": 3,
   "id": "cde75903-46aa-4d64-9461-0909782393e9",
   "metadata": {},
   "outputs": [],
   "source": [
    "URL = 'https://korean.visitkorea.or.kr/search/search_list.do?keyword='+search\n",
    "driver = webdriver.Chrome(options=options)\n",
    "driver.get(URL)\n",
    "time.sleep(3)"
   ]
  },
  {
   "cell_type": "code",
   "execution_count": 4,
   "id": "1535f8a1-c177-4f56-8a0c-1f577ae64586",
   "metadata": {},
   "outputs": [],
   "source": [
    "# 여행기사 더보기 클릭\n",
    "# driver.find_element(By.CSS_SELECTOR, \".more_view\").click() 중복주의\n",
    "driver.find_element(By.CSS_SELECTOR, \"#s_recommend > .more_view > a\").click()"
   ]
  },
  {
   "cell_type": "code",
   "execution_count": 5,
   "id": "f4813cde-5124-455f-9370-8c5293bf56f0",
   "metadata": {},
   "outputs": [
    {
     "data": {
      "text/plain": [
       "34"
      ]
     },
     "execution_count": 5,
     "metadata": {},
     "output_type": "execute_result"
    }
   ],
   "source": [
    "# 제목 추출\n",
    "# 왜 길이가 34일까?\n",
    "result = driver.find_elements(By.CSS_SELECTOR,'.tit a')\n",
    "len(result)"
   ]
  },
  {
   "cell_type": "code",
   "execution_count": 6,
   "id": "45df01c9-cb35-4cbf-a2ae-f702333ed0de",
   "metadata": {},
   "outputs": [
    {
     "name": "stdout",
     "output_type": "stream",
     "text": [
      "\n",
      "\n",
      "\n",
      "\n",
      "\n",
      "\n",
      "\n",
      "\n",
      "\n",
      "\n",
      "\n",
      "\n",
      "\n",
      "\n",
      "\n",
      "\n",
      "\n",
      "\n",
      "\n",
      "\n",
      "\n",
      "\n",
      "\n",
      "\n",
      "해변산책부터 레이싱까지, 제주 반려동물 동반여행 추천 코스\n",
      "제주도가 품은 신비의 화산 숲, 환상숲곶자왈공원\n",
      "한국관광공사 추천 2월 걷기여행길, 이른 봄을 맞이하는 제주도 걷기길\n",
      "제주도의 숨겨진 재미를 찾는\n",
      "<놀멍, 배우멍 제주마을체험 - 1일형 체험학습>\n",
      "제주도 조천읍 버킷리스트 여행지 작성하기\n",
      "김창열의 회귀 철학을 건축으로 표현한 미술관, 제주도립김창열미술관\n",
      "[국내 트레킹 추천]\n",
      "제주 올레길 걷기 여행,\n",
      "준비부터 코스 선택까지 꿀팁 총정리!\n",
      "4월 제주도 가볼 만한, 가파도 청보리 축제\n",
      "제주도 유채꽃 명소 추천, 봄에 떠나는 인생샷 여행\n",
      "소소한 '제주여행' 꿀팁! 〈겨울편〉\n"
     ]
    }
   ],
   "source": [
    "for i in result:\n",
    "    print(i.text)"
   ]
  },
  {
   "cell_type": "code",
   "execution_count": 7,
   "id": "43b8ac6f-4852-49ef-b2eb-e53299ac715b",
   "metadata": {},
   "outputs": [
    {
     "data": {
      "text/plain": [
       "10"
      ]
     },
     "execution_count": 7,
     "metadata": {},
     "output_type": "execute_result"
    }
   ],
   "source": [
    "# 더 정확하게 찾아주자\n",
    "result = driver.find_elements(By.CSS_SELECTOR,'#search_result .tit>a')\n",
    "len(result)"
   ]
  },
  {
   "cell_type": "code",
   "execution_count": 8,
   "id": "ae361c61-acc5-4729-bf23-46b78d2e4789",
   "metadata": {},
   "outputs": [
    {
     "name": "stdout",
     "output_type": "stream",
     "text": [
      "======= [ 1 ]  =======\n",
      "해변산책부터 레이싱까지, 제주 반려동물 동반여행 추천 코스\n"
     ]
    },
    {
     "ename": "StaleElementReferenceException",
     "evalue": "Message: stale element reference: stale element not found\n  (Session info: chrome=126.0.6478.115); For documentation on this error, please visit: https://www.selenium.dev/documentation/webdriver/troubleshooting/errors#stale-element-reference-exception\nStacktrace:\n\tGetHandleVerifier [0x00007FF62CABEEA2+31554]\n\t(No symbol) [0x00007FF62CA37ED9]\n\t(No symbol) [0x00007FF62C8F872A]\n\t(No symbol) [0x00007FF62C90ADBD]\n\t(No symbol) [0x00007FF62C90B84A]\n\t(No symbol) [0x00007FF62C8FF5BB]\n\t(No symbol) [0x00007FF62C8FD326]\n\t(No symbol) [0x00007FF62C900EB1]\n\t(No symbol) [0x00007FF62C900F50]\n\t(No symbol) [0x00007FF62C94A48C]\n\t(No symbol) [0x00007FF62C93C006]\n\t(No symbol) [0x00007FF62C96D02A]\n\t(No symbol) [0x00007FF62C93BA76]\n\t(No symbol) [0x00007FF62C96D240]\n\t(No symbol) [0x00007FF62C98C977]\n\t(No symbol) [0x00007FF62C96CDD3]\n\t(No symbol) [0x00007FF62C93A33B]\n\t(No symbol) [0x00007FF62C93AED1]\n\tGetHandleVerifier [0x00007FF62CDC8B1D+3217341]\n\tGetHandleVerifier [0x00007FF62CE15AE3+3532675]\n\tGetHandleVerifier [0x00007FF62CE0B0E0+3489152]\n\tGetHandleVerifier [0x00007FF62CB6E776+750614]\n\t(No symbol) [0x00007FF62CA4375F]\n\t(No symbol) [0x00007FF62CA3EB14]\n\t(No symbol) [0x00007FF62CA3ECA2]\n\t(No symbol) [0x00007FF62CA2E16F]\n\tBaseThreadInitThunk [0x00007FFBAD4B257D+29]\n\tRtlUserThreadStart [0x00007FFBAEDAAF28+40]\n",
     "output_type": "error",
     "traceback": [
      "\u001b[1;31m---------------------------------------------------------------------------\u001b[0m",
      "\u001b[1;31mStaleElementReferenceException\u001b[0m            Traceback (most recent call last)",
      "Cell \u001b[1;32mIn[8], line 8\u001b[0m\n\u001b[0;32m      6\u001b[0m \u001b[38;5;28;01mfor\u001b[39;00m item \u001b[38;5;129;01min\u001b[39;00m result:\n\u001b[0;32m      7\u001b[0m     contents_no \u001b[38;5;241m+\u001b[39m\u001b[38;5;241m=\u001b[39m \u001b[38;5;241m1\u001b[39m\n\u001b[1;32m----> 8\u001b[0m     item\u001b[38;5;241m.\u001b[39mclick()\n\u001b[0;32m      9\u001b[0m     time\u001b[38;5;241m.\u001b[39msleep(\u001b[38;5;241m3\u001b[39m)  \n\u001b[0;32m     11\u001b[0m     \u001b[38;5;28mprint\u001b[39m(\u001b[38;5;124mf\u001b[39m\u001b[38;5;124m'\u001b[39m\u001b[38;5;124m======= [ \u001b[39m\u001b[38;5;132;01m{\u001b[39;00mcontents_no\u001b[38;5;132;01m}\u001b[39;00m\u001b[38;5;124m ]  =======\u001b[39m\u001b[38;5;124m'\u001b[39m)\n",
      "File \u001b[1;32m~\\anaconda3\\Lib\\site-packages\\selenium\\webdriver\\remote\\webelement.py:94\u001b[0m, in \u001b[0;36mWebElement.click\u001b[1;34m(self)\u001b[0m\n\u001b[0;32m     92\u001b[0m \u001b[38;5;28;01mdef\u001b[39;00m \u001b[38;5;21mclick\u001b[39m(\u001b[38;5;28mself\u001b[39m) \u001b[38;5;241m-\u001b[39m\u001b[38;5;241m>\u001b[39m \u001b[38;5;28;01mNone\u001b[39;00m:\n\u001b[0;32m     93\u001b[0m \u001b[38;5;250m    \u001b[39m\u001b[38;5;124;03m\"\"\"Clicks the element.\"\"\"\u001b[39;00m\n\u001b[1;32m---> 94\u001b[0m     \u001b[38;5;28mself\u001b[39m\u001b[38;5;241m.\u001b[39m_execute(Command\u001b[38;5;241m.\u001b[39mCLICK_ELEMENT)\n",
      "File \u001b[1;32m~\\anaconda3\\Lib\\site-packages\\selenium\\webdriver\\remote\\webelement.py:395\u001b[0m, in \u001b[0;36mWebElement._execute\u001b[1;34m(self, command, params)\u001b[0m\n\u001b[0;32m    393\u001b[0m     params \u001b[38;5;241m=\u001b[39m {}\n\u001b[0;32m    394\u001b[0m params[\u001b[38;5;124m\"\u001b[39m\u001b[38;5;124mid\u001b[39m\u001b[38;5;124m\"\u001b[39m] \u001b[38;5;241m=\u001b[39m \u001b[38;5;28mself\u001b[39m\u001b[38;5;241m.\u001b[39m_id\n\u001b[1;32m--> 395\u001b[0m \u001b[38;5;28;01mreturn\u001b[39;00m \u001b[38;5;28mself\u001b[39m\u001b[38;5;241m.\u001b[39m_parent\u001b[38;5;241m.\u001b[39mexecute(command, params)\n",
      "File \u001b[1;32m~\\anaconda3\\Lib\\site-packages\\selenium\\webdriver\\remote\\webdriver.py:354\u001b[0m, in \u001b[0;36mWebDriver.execute\u001b[1;34m(self, driver_command, params)\u001b[0m\n\u001b[0;32m    352\u001b[0m response \u001b[38;5;241m=\u001b[39m \u001b[38;5;28mself\u001b[39m\u001b[38;5;241m.\u001b[39mcommand_executor\u001b[38;5;241m.\u001b[39mexecute(driver_command, params)\n\u001b[0;32m    353\u001b[0m \u001b[38;5;28;01mif\u001b[39;00m response:\n\u001b[1;32m--> 354\u001b[0m     \u001b[38;5;28mself\u001b[39m\u001b[38;5;241m.\u001b[39merror_handler\u001b[38;5;241m.\u001b[39mcheck_response(response)\n\u001b[0;32m    355\u001b[0m     response[\u001b[38;5;124m\"\u001b[39m\u001b[38;5;124mvalue\u001b[39m\u001b[38;5;124m\"\u001b[39m] \u001b[38;5;241m=\u001b[39m \u001b[38;5;28mself\u001b[39m\u001b[38;5;241m.\u001b[39m_unwrap_value(response\u001b[38;5;241m.\u001b[39mget(\u001b[38;5;124m\"\u001b[39m\u001b[38;5;124mvalue\u001b[39m\u001b[38;5;124m\"\u001b[39m, \u001b[38;5;28;01mNone\u001b[39;00m))\n\u001b[0;32m    356\u001b[0m     \u001b[38;5;28;01mreturn\u001b[39;00m response\n",
      "File \u001b[1;32m~\\anaconda3\\Lib\\site-packages\\selenium\\webdriver\\remote\\errorhandler.py:229\u001b[0m, in \u001b[0;36mErrorHandler.check_response\u001b[1;34m(self, response)\u001b[0m\n\u001b[0;32m    227\u001b[0m         alert_text \u001b[38;5;241m=\u001b[39m value[\u001b[38;5;124m\"\u001b[39m\u001b[38;5;124malert\u001b[39m\u001b[38;5;124m\"\u001b[39m]\u001b[38;5;241m.\u001b[39mget(\u001b[38;5;124m\"\u001b[39m\u001b[38;5;124mtext\u001b[39m\u001b[38;5;124m\"\u001b[39m)\n\u001b[0;32m    228\u001b[0m     \u001b[38;5;28;01mraise\u001b[39;00m exception_class(message, screen, stacktrace, alert_text)  \u001b[38;5;66;03m# type: ignore[call-arg]  # mypy is not smart enough here\u001b[39;00m\n\u001b[1;32m--> 229\u001b[0m \u001b[38;5;28;01mraise\u001b[39;00m exception_class(message, screen, stacktrace)\n",
      "\u001b[1;31mStaleElementReferenceException\u001b[0m: Message: stale element reference: stale element not found\n  (Session info: chrome=126.0.6478.115); For documentation on this error, please visit: https://www.selenium.dev/documentation/webdriver/troubleshooting/errors#stale-element-reference-exception\nStacktrace:\n\tGetHandleVerifier [0x00007FF62CABEEA2+31554]\n\t(No symbol) [0x00007FF62CA37ED9]\n\t(No symbol) [0x00007FF62C8F872A]\n\t(No symbol) [0x00007FF62C90ADBD]\n\t(No symbol) [0x00007FF62C90B84A]\n\t(No symbol) [0x00007FF62C8FF5BB]\n\t(No symbol) [0x00007FF62C8FD326]\n\t(No symbol) [0x00007FF62C900EB1]\n\t(No symbol) [0x00007FF62C900F50]\n\t(No symbol) [0x00007FF62C94A48C]\n\t(No symbol) [0x00007FF62C93C006]\n\t(No symbol) [0x00007FF62C96D02A]\n\t(No symbol) [0x00007FF62C93BA76]\n\t(No symbol) [0x00007FF62C96D240]\n\t(No symbol) [0x00007FF62C98C977]\n\t(No symbol) [0x00007FF62C96CDD3]\n\t(No symbol) [0x00007FF62C93A33B]\n\t(No symbol) [0x00007FF62C93AED1]\n\tGetHandleVerifier [0x00007FF62CDC8B1D+3217341]\n\tGetHandleVerifier [0x00007FF62CE15AE3+3532675]\n\tGetHandleVerifier [0x00007FF62CE0B0E0+3489152]\n\tGetHandleVerifier [0x00007FF62CB6E776+750614]\n\t(No symbol) [0x00007FF62CA4375F]\n\t(No symbol) [0x00007FF62CA3EB14]\n\t(No symbol) [0x00007FF62CA3ECA2]\n\t(No symbol) [0x00007FF62CA2E16F]\n\tBaseThreadInitThunk [0x00007FFBAD4B257D+29]\n\tRtlUserThreadStart [0x00007FFBAEDAAF28+40]\n"
     ]
    }
   ],
   "source": [
    "# 한페이지내 콘텐츠별 상세페이지 정보를 추출해보자\n",
    "# 페이지 로딩시간 고려해서 넉넉히 2~3초 간격을 주자\n",
    "from bs4 import BeautifulSoup\n",
    "contents_no = 0\n",
    "\n",
    "for item in result:\n",
    "    contents_no += 1\n",
    "    item.click()\n",
    "    time.sleep(3)  \n",
    "    \n",
    "    print(f'======= [ {contents_no} ]  =======')\n",
    "    html = driver.page_source\n",
    "\n",
    "    soup = BeautifulSoup(html, 'lxml')\n",
    "    title = soup.find(id='topTitle')\n",
    "    print(title.text)\n",
    "\n",
    "    driver.back()\n",
    "    time.sleep(3)\n",
    "\n",
    "print('==== 완료 ====')"
   ]
  },
  {
   "cell_type": "markdown",
   "id": "85e2f799-7f21-44bf-aec1-8f1e5b60a467",
   "metadata": {},
   "source": [
    "# 페이지 이동 스크래핑"
   ]
  },
  {
   "cell_type": "code",
   "execution_count": 9,
   "id": "b27852fa-044c-402a-a410-55efbc18d41f",
   "metadata": {},
   "outputs": [
    {
     "name": "stdout",
     "output_type": "stream",
     "text": [
      "스크래핑 프로그램 실행\n",
      "====== 1 페이지 스크래핑 시작 ======\n"
     ]
    },
    {
     "ename": "NameError",
     "evalue": "name 'page_work' is not defined",
     "output_type": "error",
     "traceback": [
      "\u001b[1;31m---------------------------------------------------------------------------\u001b[0m",
      "\u001b[1;31mNameError\u001b[0m                                 Traceback (most recent call last)",
      "Cell \u001b[1;32mIn[9], line 6\u001b[0m\n\u001b[0;32m      4\u001b[0m \u001b[38;5;28;01mfor\u001b[39;00m page_no \u001b[38;5;129;01min\u001b[39;00m \u001b[38;5;28mrange\u001b[39m(\u001b[38;5;241m1\u001b[39m, page_cnt\u001b[38;5;241m+\u001b[39m\u001b[38;5;241m1\u001b[39m):    \n\u001b[0;32m      5\u001b[0m     \u001b[38;5;28mprint\u001b[39m(\u001b[38;5;124mf\u001b[39m\u001b[38;5;124m'\u001b[39m\u001b[38;5;124m====== \u001b[39m\u001b[38;5;132;01m{\u001b[39;00mpage_no\u001b[38;5;132;01m}\u001b[39;00m\u001b[38;5;124m 페이지 스크래핑 시작 ======\u001b[39m\u001b[38;5;124m'\u001b[39m)\n\u001b[1;32m----> 6\u001b[0m     page_work()\n\u001b[0;32m      7\u001b[0m     \u001b[38;5;28mprint\u001b[39m(\u001b[38;5;124mf\u001b[39m\u001b[38;5;124m'\u001b[39m\u001b[38;5;124m====== \u001b[39m\u001b[38;5;132;01m{\u001b[39;00mpage_no\u001b[38;5;132;01m}\u001b[39;00m\u001b[38;5;124m 페이지 스크래핑 완료 ======\u001b[39m\u001b[38;5;124m'\u001b[39m)\n\u001b[0;32m      8\u001b[0m     \u001b[38;5;28;01mif\u001b[39;00m page_no \u001b[38;5;241m<\u001b[39m page_cnt:\n",
      "\u001b[1;31mNameError\u001b[0m: name 'page_work' is not defined"
     ]
    }
   ],
   "source": [
    "contents_no = 0\n",
    "print('스크래핑 프로그램 실행')\n",
    "\n",
    "for page_no in range(1, page_cnt+1):    \n",
    "    print(f'====== {page_no} 페이지 스크래핑 시작 ======')\n",
    "    page_work()\n",
    "    print(f'====== {page_no} 페이지 스크래핑 완료 ======')\n",
    "    if page_no < page_cnt:\n",
    "        driver.find_element(By.XPATH, f'/html/body/div[3]/div/div[1]/div[14]/a[{page_no+1}]').click()\n",
    "        time.sleep(2)\n",
    "print('스크래핑 프로그램 종료')\n",
    "\n",
    "driver.close()"
   ]
  },
  {
   "cell_type": "code",
   "execution_count": null,
   "id": "b4522c70-07e0-47ff-9807-fd46f0669375",
   "metadata": {},
   "outputs": [],
   "source": []
  },
  {
   "cell_type": "code",
   "execution_count": null,
   "id": "290d8394-4727-4737-a8ff-13fbde0f7668",
   "metadata": {},
   "outputs": [],
   "source": []
  },
  {
   "cell_type": "code",
   "execution_count": null,
   "id": "5ba357f4-5476-41bf-8f3c-4ba2cd243b1b",
   "metadata": {},
   "outputs": [],
   "source": []
  }
 ],
 "metadata": {
  "kernelspec": {
   "display_name": "Python 3 (ipykernel)",
   "language": "python",
   "name": "python3"
  },
  "language_info": {
   "codemirror_mode": {
    "name": "ipython",
    "version": 3
   },
   "file_extension": ".py",
   "mimetype": "text/x-python",
   "name": "python",
   "nbconvert_exporter": "python",
   "pygments_lexer": "ipython3",
   "version": "3.11.7"
  }
 },
 "nbformat": 4,
 "nbformat_minor": 5
}
