{
 "cells": [
  {
   "cell_type": "markdown",
   "id": "68307ab1-2f7b-4c4c-a25d-c419f84ab236",
   "metadata": {},
   "source": [
    "## hello, word!"
   ]
  },
  {
   "cell_type": "code",
   "execution_count": 2,
   "id": "1b8f5399-677a-4491-bb01-cd837395f6ab",
   "metadata": {},
   "outputs": [
    {
     "name": "stdout",
     "output_type": "stream",
     "text": [
      "hello\n"
     ]
    }
   ],
   "source": [
    "print('hello')"
   ]
  }
 ],
 "metadata": {
  "kernelspec": {
   "display_name": "Python 3 (ipykernel)",
   "language": "python",
   "name": "python3"
  },
  "language_info": {
   "codemirror_mode": {
    "name": "ipython",
    "version": 3
   },
   "file_extension": ".py",
   "mimetype": "text/x-python",
   "name": "python",
   "nbconvert_exporter": "python",
   "pygments_lexer": "ipython3",
   "version": "3.11.7"
  }
 },
 "nbformat": 4,
 "nbformat_minor": 5
}
