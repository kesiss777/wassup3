{
 "cells": [
  {
   "cell_type": "markdown",
   "id": "b49837da-0b94-4ec2-9697-2db5f986fbf5",
   "metadata": {},
   "source": [
    "# 내장함수"
   ]
  },
  {
   "cell_type": "markdown",
   "id": "86a8f0e9-b0f1-4660-8485-65560952b151",
   "metadata": {},
   "source": [
    "## abs"
   ]
  },
  {
   "cell_type": "code",
   "execution_count": 1,
   "id": "96ca1561-edb6-469e-8951-b9e91c64c502",
   "metadata": {},
   "outputs": [
    {
     "data": {
      "text/plain": [
       "3"
      ]
     },
     "execution_count": 1,
     "metadata": {},
     "output_type": "execute_result"
    }
   ],
   "source": [
    "abs(3)"
   ]
  },
  {
   "cell_type": "code",
   "execution_count": 2,
   "id": "ad8c1a78-bffa-4649-9374-393210e28f8e",
   "metadata": {},
   "outputs": [
    {
     "data": {
      "text/plain": [
       "3"
      ]
     },
     "execution_count": 2,
     "metadata": {},
     "output_type": "execute_result"
    }
   ],
   "source": [
    "abs(-3)"
   ]
  },
  {
   "cell_type": "code",
   "execution_count": 4,
   "id": "2b98ab19-8157-49b0-9774-64bf3ac1b071",
   "metadata": {},
   "outputs": [
    {
     "data": {
      "text/plain": [
       "1.2"
      ]
     },
     "execution_count": 4,
     "metadata": {},
     "output_type": "execute_result"
    }
   ],
   "source": [
    "abs(-1.2)"
   ]
  },
  {
   "cell_type": "markdown",
   "id": "bbe05222-8a13-4eef-ad27-b87c5cf7951a",
   "metadata": {},
   "source": [
    "## all"
   ]
  },
  {
   "cell_type": "code",
   "execution_count": 5,
   "id": "325cb1e9-4323-4c1a-a3ff-c07c64c76db2",
   "metadata": {},
   "outputs": [
    {
     "data": {
      "text/plain": [
       "True"
      ]
     },
     "execution_count": 5,
     "metadata": {},
     "output_type": "execute_result"
    }
   ],
   "source": [
    "all([1, 2, 3])"
   ]
  },
  {
   "cell_type": "code",
   "execution_count": 6,
   "id": "34f67bf6-dbb8-4b42-8e51-50008cb9b4dc",
   "metadata": {},
   "outputs": [
    {
     "data": {
      "text/plain": [
       "False"
      ]
     },
     "execution_count": 6,
     "metadata": {},
     "output_type": "execute_result"
    }
   ],
   "source": [
    "all([1, 2, 3, 0])"
   ]
  },
  {
   "cell_type": "code",
   "execution_count": 7,
   "id": "846d36ed-bdda-4a4d-a962-9a0f912f2e0d",
   "metadata": {},
   "outputs": [
    {
     "data": {
      "text/plain": [
       "True"
      ]
     },
     "execution_count": 7,
     "metadata": {},
     "output_type": "execute_result"
    }
   ],
   "source": [
    "all([])"
   ]
  },
  {
   "cell_type": "markdown",
   "id": "568b6d2e-5463-46b7-b3ca-fc44aacce9cc",
   "metadata": {},
   "source": [
    "## any"
   ]
  },
  {
   "cell_type": "code",
   "execution_count": 8,
   "id": "702b178b-408e-4661-a610-37076c543ccb",
   "metadata": {},
   "outputs": [
    {
     "data": {
      "text/plain": [
       "True"
      ]
     },
     "execution_count": 8,
     "metadata": {},
     "output_type": "execute_result"
    }
   ],
   "source": [
    "any([1, 2, 3, 0])"
   ]
  },
  {
   "cell_type": "code",
   "execution_count": 11,
   "id": "69fd4b9c-faca-443d-bfd6-f6330cd22536",
   "metadata": {},
   "outputs": [
    {
     "data": {
      "text/plain": [
       "False"
      ]
     },
     "execution_count": 11,
     "metadata": {},
     "output_type": "execute_result"
    }
   ],
   "source": [
    "any([0, \"\"])"
   ]
  },
  {
   "cell_type": "code",
   "execution_count": 12,
   "id": "e5934412-d9fd-4628-9ece-956d2f83c21a",
   "metadata": {},
   "outputs": [
    {
     "data": {
      "text/plain": [
       "False"
      ]
     },
     "execution_count": 12,
     "metadata": {},
     "output_type": "execute_result"
    }
   ],
   "source": [
    "any([])"
   ]
  },
  {
   "cell_type": "markdown",
   "id": "e9f05709-125b-4733-b27b-dcf2e8df6409",
   "metadata": {},
   "source": [
    "## chr"
   ]
  },
  {
   "cell_type": "code",
   "execution_count": 13,
   "id": "ad99a201-ec09-4ede-92ca-46b6bad1724c",
   "metadata": {},
   "outputs": [
    {
     "data": {
      "text/plain": [
       "'a'"
      ]
     },
     "execution_count": 13,
     "metadata": {},
     "output_type": "execute_result"
    }
   ],
   "source": [
    "chr(97)"
   ]
  },
  {
   "cell_type": "code",
   "execution_count": 14,
   "id": "c9a69ec2-85da-4d87-8c97-8f496514e550",
   "metadata": {},
   "outputs": [
    {
     "data": {
      "text/plain": [
       "'가'"
      ]
     },
     "execution_count": 14,
     "metadata": {},
     "output_type": "execute_result"
    }
   ],
   "source": [
    "chr(44032)"
   ]
  },
  {
   "cell_type": "markdown",
   "id": "adc24591-130b-4287-aa98-fc5cb0885e7a",
   "metadata": {},
   "source": [
    "## dir"
   ]
  },
  {
   "cell_type": "code",
   "execution_count": 15,
   "id": "288c255a-8bec-4964-9e41-071103fc8559",
   "metadata": {},
   "outputs": [
    {
     "data": {
      "text/plain": [
       "['__add__',\n",
       " '__class__',\n",
       " '__class_getitem__',\n",
       " '__contains__',\n",
       " '__delattr__',\n",
       " '__delitem__',\n",
       " '__dir__',\n",
       " '__doc__',\n",
       " '__eq__',\n",
       " '__format__',\n",
       " '__ge__',\n",
       " '__getattribute__',\n",
       " '__getitem__',\n",
       " '__getstate__',\n",
       " '__gt__',\n",
       " '__hash__',\n",
       " '__iadd__',\n",
       " '__imul__',\n",
       " '__init__',\n",
       " '__init_subclass__',\n",
       " '__iter__',\n",
       " '__le__',\n",
       " '__len__',\n",
       " '__lt__',\n",
       " '__mul__',\n",
       " '__ne__',\n",
       " '__new__',\n",
       " '__reduce__',\n",
       " '__reduce_ex__',\n",
       " '__repr__',\n",
       " '__reversed__',\n",
       " '__rmul__',\n",
       " '__setattr__',\n",
       " '__setitem__',\n",
       " '__sizeof__',\n",
       " '__str__',\n",
       " '__subclasshook__',\n",
       " 'append',\n",
       " 'clear',\n",
       " 'copy',\n",
       " 'count',\n",
       " 'extend',\n",
       " 'index',\n",
       " 'insert',\n",
       " 'pop',\n",
       " 'remove',\n",
       " 'reverse',\n",
       " 'sort']"
      ]
     },
     "execution_count": 15,
     "metadata": {},
     "output_type": "execute_result"
    }
   ],
   "source": [
    "dir([1, 2, 3])"
   ]
  },
  {
   "cell_type": "code",
   "execution_count": null,
   "id": "aa41f921-cebb-4c70-9dfa-ac19a2269d36",
   "metadata": {},
   "outputs": [],
   "source": [
    "[1, 2, 3]."
   ]
  },
  {
   "cell_type": "markdown",
   "id": "4137f204-fe6f-449a-b94f-f36c87f666ef",
   "metadata": {},
   "source": [
    "## divmod"
   ]
  },
  {
   "cell_type": "code",
   "execution_count": 16,
   "id": "92535e45-f1a5-4758-adf3-7323e43aa68b",
   "metadata": {},
   "outputs": [
    {
     "data": {
      "text/plain": [
       "(2, 1)"
      ]
     },
     "execution_count": 16,
     "metadata": {},
     "output_type": "execute_result"
    }
   ],
   "source": [
    "divmod(7, 3)"
   ]
  },
  {
   "cell_type": "code",
   "execution_count": 17,
   "id": "67d84001-de36-4d5a-8cfb-36b1be17a1bb",
   "metadata": {},
   "outputs": [
    {
     "data": {
      "text/plain": [
       "(2, 1)"
      ]
     },
     "execution_count": 17,
     "metadata": {},
     "output_type": "execute_result"
    }
   ],
   "source": [
    "7//3, 7%3"
   ]
  },
  {
   "cell_type": "markdown",
   "id": "6086da16-3ba1-4ab9-86ef-d13c6e724fe1",
   "metadata": {},
   "source": [
    "## enumerate"
   ]
  },
  {
   "cell_type": "code",
   "execution_count": 18,
   "id": "42de07bd-f722-421a-b504-928173397cc5",
   "metadata": {},
   "outputs": [
    {
     "name": "stdout",
     "output_type": "stream",
     "text": [
      "<enumerate object at 0x000002E8BD9729D0>\n",
      "0 body\n",
      "<enumerate object at 0x000002E8BD9729D0>\n",
      "1 boo\n",
      "<enumerate object at 0x000002E8BD9729D0>\n",
      "2 bar\n"
     ]
    }
   ],
   "source": [
    "# 열거하다라는 뜻(시퀀스 객체)\n",
    "for i, name in enumerate(['body', 'boo', 'bar']):\n",
    "    print(enumerate(['body', 'boo', 'bar']))\n",
    "    print(i, name)"
   ]
  },
  {
   "cell_type": "markdown",
   "id": "d20a0a2e-d40d-4b2f-9ba1-fe269c77185a",
   "metadata": {},
   "source": [
    "# eval"
   ]
  },
  {
   "cell_type": "code",
   "execution_count": 19,
   "id": "8e792553-f7d4-403e-b686-47fdd11e2793",
   "metadata": {},
   "outputs": [
    {
     "data": {
      "text/plain": [
       "3"
      ]
     },
     "execution_count": 19,
     "metadata": {},
     "output_type": "execute_result"
    }
   ],
   "source": [
    "eval('1+2')"
   ]
  },
  {
   "cell_type": "code",
   "execution_count": 20,
   "id": "92b2c1d8-faed-4873-8b2d-eccff9563a3b",
   "metadata": {},
   "outputs": [
    {
     "data": {
      "text/plain": [
       "'a'"
      ]
     },
     "execution_count": 20,
     "metadata": {},
     "output_type": "execute_result"
    }
   ],
   "source": [
    "eval(\"''+'a'\")"
   ]
  },
  {
   "cell_type": "code",
   "execution_count": 21,
   "id": "9bdc9603-0f98-4307-87f5-397e531978f7",
   "metadata": {},
   "outputs": [
    {
     "data": {
      "text/plain": [
       "'hia'"
      ]
     },
     "execution_count": 21,
     "metadata": {},
     "output_type": "execute_result"
    }
   ],
   "source": [
    "eval(\"'hi'+'a'\")"
   ]
  },
  {
   "cell_type": "code",
   "execution_count": 22,
   "id": "bcdba628-7e3f-4de9-96c8-54e42c55aaca",
   "metadata": {},
   "outputs": [
    {
     "data": {
      "text/plain": [
       "(1, 1)"
      ]
     },
     "execution_count": 22,
     "metadata": {},
     "output_type": "execute_result"
    }
   ],
   "source": [
    "eval(\"divmod(4,3)\")"
   ]
  },
  {
   "cell_type": "markdown",
   "id": "3a6640ac-333c-4301-8f97-27d4f640924f",
   "metadata": {},
   "source": [
    "# filter"
   ]
  },
  {
   "cell_type": "code",
   "execution_count": 23,
   "id": "9831d591-18df-4e8a-95d4-9515491c92e3",
   "metadata": {},
   "outputs": [
    {
     "name": "stdout",
     "output_type": "stream",
     "text": [
      "[1, 2, 6]\n"
     ]
    }
   ],
   "source": [
    "# 중요!! 무엇인가를 불러낸다 라는 뜻\n",
    "# positive.py \n",
    "def positive(l): \n",
    "    result = [] \n",
    "    for i in l: \n",
    "        if i > 0: \n",
    "            result.append(i) \n",
    "    return result\n",
    "\n",
    "print(positive([1,-3,2,0,-5,6]))"
   ]
  },
  {
   "cell_type": "code",
   "execution_count": 25,
   "id": "2e46c148-04d8-4af9-8c4a-a4aa33748275",
   "metadata": {},
   "outputs": [],
   "source": [
    "def positive(x):\n",
    "    return x > 0"
   ]
  },
  {
   "cell_type": "code",
   "execution_count": 26,
   "id": "f702e7d2-13e5-4e8b-9971-1d3e307c1481",
   "metadata": {},
   "outputs": [
    {
     "data": {
      "text/plain": [
       "<filter at 0x2e8bdf598d0>"
      ]
     },
     "execution_count": 26,
     "metadata": {},
     "output_type": "execute_result"
    }
   ],
   "source": [
    "filter(positive, [1, -3, 2, 0, -5, 6])"
   ]
  },
  {
   "cell_type": "code",
   "execution_count": 27,
   "id": "9c6ba320-eeaf-4c6c-b904-a5b050bc4c2c",
   "metadata": {},
   "outputs": [
    {
     "data": {
      "text/plain": [
       "[1, 2, 6]"
      ]
     },
     "execution_count": 27,
     "metadata": {},
     "output_type": "execute_result"
    }
   ],
   "source": [
    "list(filter(positive, [1, -3, 2, 0, -5, 6]))"
   ]
  },
  {
   "cell_type": "code",
   "execution_count": 30,
   "id": "dd901fc2-8b2a-4e03-9b98-9a8473d33ce3",
   "metadata": {
    "scrolled": true
   },
   "outputs": [
    {
     "data": {
      "text/plain": [
       "[1, 2, 6]"
      ]
     },
     "execution_count": 30,
     "metadata": {},
     "output_type": "execute_result"
    }
   ],
   "source": [
    "# lamda식\n",
    "list(filter(lambda x: x > 0 , [1, -3, 2, 0, -5, 6]))"
   ]
  },
  {
   "cell_type": "markdown",
   "id": "f80f53e8-a325-419f-b1ef-c6ac47bbdba7",
   "metadata": {},
   "source": [
    "## int"
   ]
  },
  {
   "cell_type": "code",
   "execution_count": 31,
   "id": "30483292-a859-41c1-9304-820a350dc804",
   "metadata": {},
   "outputs": [
    {
     "data": {
      "text/plain": [
       "3"
      ]
     },
     "execution_count": 31,
     "metadata": {},
     "output_type": "execute_result"
    }
   ],
   "source": [
    "int('3')"
   ]
  },
  {
   "cell_type": "code",
   "execution_count": 32,
   "id": "5d987f7a-1657-4557-acf7-5b7a50992b8b",
   "metadata": {},
   "outputs": [
    {
     "data": {
      "text/plain": [
       "\u001b[1;31mInit signature:\u001b[0m \u001b[0mint\u001b[0m\u001b[1;33m(\u001b[0m\u001b[0mself\u001b[0m\u001b[1;33m,\u001b[0m \u001b[1;33m/\u001b[0m\u001b[1;33m,\u001b[0m \u001b[1;33m*\u001b[0m\u001b[0margs\u001b[0m\u001b[1;33m,\u001b[0m \u001b[1;33m**\u001b[0m\u001b[0mkwargs\u001b[0m\u001b[1;33m)\u001b[0m\u001b[1;33m\u001b[0m\u001b[1;33m\u001b[0m\u001b[0m\n",
       "\u001b[1;31mDocstring:\u001b[0m     \n",
       "int([x]) -> integer\n",
       "int(x, base=10) -> integer\n",
       "\n",
       "Convert a number or string to an integer, or return 0 if no arguments\n",
       "are given.  If x is a number, return x.__int__().  For floating point\n",
       "numbers, this truncates towards zero.\n",
       "\n",
       "If x is not a number or if base is given, then x must be a string,\n",
       "bytes, or bytearray instance representing an integer literal in the\n",
       "given base.  The literal can be preceded by '+' or '-' and be surrounded\n",
       "by whitespace.  The base defaults to 10.  Valid bases are 0 and 2-36.\n",
       "Base 0 means to interpret the base from the string as an integer literal.\n",
       ">>> int('0b100', base=0)\n",
       "4\n",
       "\u001b[1;31mType:\u001b[0m           type\n",
       "\u001b[1;31mSubclasses:\u001b[0m     bool, IntEnum, IntFlag, _NamedIntConstant, Handle"
      ]
     },
     "metadata": {},
     "output_type": "display_data"
    }
   ],
   "source": [
    "int?"
   ]
  },
  {
   "cell_type": "code",
   "execution_count": 33,
   "id": "8cbabd88-f611-44ca-a070-8bfdf72909f3",
   "metadata": {},
   "outputs": [
    {
     "data": {
      "text/plain": [
       "3"
      ]
     },
     "execution_count": 33,
     "metadata": {},
     "output_type": "execute_result"
    }
   ],
   "source": [
    "int('11', 2)"
   ]
  },
  {
   "cell_type": "code",
   "execution_count": 34,
   "id": "0a53053b-82fd-4902-aafb-687a8cee7ca0",
   "metadata": {},
   "outputs": [
    {
     "data": {
      "text/plain": [
       "26"
      ]
     },
     "execution_count": 34,
     "metadata": {},
     "output_type": "execute_result"
    }
   ],
   "source": [
    "int('1A', 16)"
   ]
  },
  {
   "cell_type": "markdown",
   "id": "980167e7-7eb1-41a6-9767-c0b81ab2ce84",
   "metadata": {},
   "source": [
    "## isinstance"
   ]
  },
  {
   "cell_type": "code",
   "execution_count": 35,
   "id": "7bfcf3cd-3beb-4950-b71e-c2c57207f4fb",
   "metadata": {},
   "outputs": [],
   "source": [
    "class Person:pass"
   ]
  },
  {
   "cell_type": "code",
   "execution_count": 36,
   "id": "e45ff6af-0a38-45c7-8430-ce8092488e84",
   "metadata": {},
   "outputs": [
    {
     "data": {
      "text/plain": [
       "<__main__.Person at 0x2e8bd2ce610>"
      ]
     },
     "execution_count": 36,
     "metadata": {},
     "output_type": "execute_result"
    }
   ],
   "source": [
    "a=Person()\n",
    "a"
   ]
  },
  {
   "cell_type": "code",
   "execution_count": 37,
   "id": "122ca8e3-4647-4f57-a3aa-70d06c73e2cd",
   "metadata": {},
   "outputs": [
    {
     "data": {
      "text/plain": [
       "True"
      ]
     },
     "execution_count": 37,
     "metadata": {},
     "output_type": "execute_result"
    }
   ],
   "source": [
    "isinstance(a, Person)"
   ]
  },
  {
   "cell_type": "code",
   "execution_count": 39,
   "id": "f69a5eb9-c1af-49dc-8476-49aa66501b6f",
   "metadata": {},
   "outputs": [
    {
     "data": {
      "text/plain": [
       "False"
      ]
     },
     "execution_count": 39,
     "metadata": {},
     "output_type": "execute_result"
    }
   ],
   "source": [
    "b=3\n",
    "isinstance(b, Person)"
   ]
  },
  {
   "cell_type": "markdown",
   "id": "54c7b199-e509-493f-94a6-016f49d3b8ce",
   "metadata": {},
   "source": [
    "## list"
   ]
  },
  {
   "cell_type": "code",
   "execution_count": 40,
   "id": "a85ba2b3-e0c3-40b2-9de0-e4699de98236",
   "metadata": {},
   "outputs": [
    {
     "data": {
      "text/plain": [
       "['p', 'y', 't', 'h', 'o', 'n']"
      ]
     },
     "execution_count": 40,
     "metadata": {},
     "output_type": "execute_result"
    }
   ],
   "source": [
    "list('python')"
   ]
  },
  {
   "cell_type": "code",
   "execution_count": 41,
   "id": "7a10a851-b523-46c3-b43c-fb912c319dfc",
   "metadata": {},
   "outputs": [
    {
     "data": {
      "text/plain": [
       "[1, 2, 3]"
      ]
     },
     "execution_count": 41,
     "metadata": {},
     "output_type": "execute_result"
    }
   ],
   "source": [
    "list((1, 2, 3))"
   ]
  },
  {
   "cell_type": "markdown",
   "id": "634cfea6-e262-40e7-abf9-b52a8922ade6",
   "metadata": {},
   "source": [
    "## map"
   ]
  },
  {
   "cell_type": "code",
   "execution_count": 42,
   "id": "424201bf-2a69-453b-893e-a100e22fbac1",
   "metadata": {},
   "outputs": [
    {
     "name": "stdout",
     "output_type": "stream",
     "text": [
      "[2, 4, 6, 8]\n"
     ]
    }
   ],
   "source": [
    "# two_times.py\n",
    "def two_times(numberList):\n",
    "    result = []\n",
    "    for number in numberList:\n",
    "        result.append(number*2)\n",
    "    return result\n",
    "\n",
    "result = two_times([1, 2, 3, 4])\n",
    "print(result)"
   ]
  },
  {
   "cell_type": "code",
   "execution_count": 43,
   "id": "2e913282-3a29-45ee-80ce-7915627a0cdd",
   "metadata": {},
   "outputs": [],
   "source": [
    ">>> def two_times(x): \n",
    "...     return x*2"
   ]
  },
  {
   "cell_type": "code",
   "execution_count": 44,
   "id": "50d8f9ed-27d3-47ac-99c6-77baa77ed32a",
   "metadata": {},
   "outputs": [
    {
     "data": {
      "text/plain": [
       "[2, 4, 6, 8]"
      ]
     },
     "execution_count": 44,
     "metadata": {},
     "output_type": "execute_result"
    }
   ],
   "source": [
    "list(map(two_times, [1, 2, 3, 4]))"
   ]
  },
  {
   "cell_type": "markdown",
   "id": "27fd17b4-144b-469b-8dc9-737b98d675e7",
   "metadata": {},
   "source": [
    "## 람다식으로 간결하게 바꿔보자"
   ]
  },
  {
   "cell_type": "code",
   "execution_count": 45,
   "id": "e5951121-e32d-438f-9de5-61129b868fe4",
   "metadata": {},
   "outputs": [
    {
     "data": {
      "text/plain": [
       "[2, 4, 6, 8]"
      ]
     },
     "execution_count": 45,
     "metadata": {},
     "output_type": "execute_result"
    }
   ],
   "source": [
    "list(map(lambda a:a*2, [1, 2, 3, 4]))"
   ]
  },
  {
   "cell_type": "markdown",
   "id": "e130a6db-73c2-428d-80c0-c96db0ccdd7a",
   "metadata": {},
   "source": [
    "# max"
   ]
  },
  {
   "cell_type": "code",
   "execution_count": 46,
   "id": "a550577b-ce2c-4289-b421-cf6a0b6118e7",
   "metadata": {},
   "outputs": [
    {
     "data": {
      "text/plain": [
       "3"
      ]
     },
     "execution_count": 46,
     "metadata": {},
     "output_type": "execute_result"
    }
   ],
   "source": [
    "max([1, 2, 3])"
   ]
  },
  {
   "cell_type": "code",
   "execution_count": 47,
   "id": "3c799b11-6d41-4c40-bbe3-7d61395d171f",
   "metadata": {},
   "outputs": [
    {
     "data": {
      "text/plain": [
       "1"
      ]
     },
     "execution_count": 47,
     "metadata": {},
     "output_type": "execute_result"
    }
   ],
   "source": [
    "min([1, 2, 3])"
   ]
  },
  {
   "cell_type": "markdown",
   "id": "2b8b0d42-db12-432c-9041-0adcbf06ce00",
   "metadata": {},
   "source": [
    "## ord"
   ]
  },
  {
   "cell_type": "code",
   "execution_count": 48,
   "id": "198a648b-2823-4665-a59b-21559b1537e2",
   "metadata": {},
   "outputs": [
    {
     "data": {
      "text/plain": [
       "97"
      ]
     },
     "execution_count": 48,
     "metadata": {},
     "output_type": "execute_result"
    }
   ],
   "source": [
    "ord('a')"
   ]
  },
  {
   "cell_type": "code",
   "execution_count": 49,
   "id": "0bd7d06e-7ed7-4bd7-bd8e-3aa5ce1b9e48",
   "metadata": {},
   "outputs": [
    {
     "data": {
      "text/plain": [
       "44032"
      ]
     },
     "execution_count": 49,
     "metadata": {},
     "output_type": "execute_result"
    }
   ],
   "source": [
    "ord('가')"
   ]
  },
  {
   "cell_type": "markdown",
   "id": "c8a5ce06-ee67-4f09-bb68-be06ad11c390",
   "metadata": {},
   "source": [
    "# pow"
   ]
  },
  {
   "cell_type": "code",
   "execution_count": 50,
   "id": "be9e8e1f-b9a5-4af6-9668-5d491009a8d0",
   "metadata": {},
   "outputs": [
    {
     "data": {
      "text/plain": [
       "16"
      ]
     },
     "execution_count": 50,
     "metadata": {},
     "output_type": "execute_result"
    }
   ],
   "source": [
    "pow(2, 4)"
   ]
  },
  {
   "cell_type": "code",
   "execution_count": 51,
   "id": "0b197a45-e412-4dbd-a046-2ad6e2c76ec8",
   "metadata": {},
   "outputs": [
    {
     "data": {
      "text/plain": [
       "27"
      ]
     },
     "execution_count": 51,
     "metadata": {},
     "output_type": "execute_result"
    }
   ],
   "source": [
    "pow(3,3)"
   ]
  },
  {
   "cell_type": "markdown",
   "id": "7fb53222-9a2d-45b9-80d7-0e1592cc9890",
   "metadata": {},
   "source": [
    "# range"
   ]
  },
  {
   "cell_type": "code",
   "execution_count": 52,
   "id": "113ab368-bc4a-46b4-80e1-aa048f087b20",
   "metadata": {},
   "outputs": [
    {
     "data": {
      "text/plain": [
       "range(0, 5)"
      ]
     },
     "execution_count": 52,
     "metadata": {},
     "output_type": "execute_result"
    }
   ],
   "source": [
    "range(5)"
   ]
  },
  {
   "cell_type": "code",
   "execution_count": 53,
   "id": "14128237-7f47-4a01-b6ea-8304c39d9f49",
   "metadata": {},
   "outputs": [
    {
     "data": {
      "text/plain": [
       "\u001b[1;31mInit signature:\u001b[0m \u001b[0mrange\u001b[0m\u001b[1;33m(\u001b[0m\u001b[0mself\u001b[0m\u001b[1;33m,\u001b[0m \u001b[1;33m/\u001b[0m\u001b[1;33m,\u001b[0m \u001b[1;33m*\u001b[0m\u001b[0margs\u001b[0m\u001b[1;33m,\u001b[0m \u001b[1;33m**\u001b[0m\u001b[0mkwargs\u001b[0m\u001b[1;33m)\u001b[0m\u001b[1;33m\u001b[0m\u001b[1;33m\u001b[0m\u001b[0m\n",
       "\u001b[1;31mDocstring:\u001b[0m     \n",
       "range(stop) -> range object\n",
       "range(start, stop[, step]) -> range object\n",
       "\n",
       "Return an object that produces a sequence of integers from start (inclusive)\n",
       "to stop (exclusive) by step.  range(i, j) produces i, i+1, i+2, ..., j-1.\n",
       "start defaults to 0, and stop is omitted!  range(4) produces 0, 1, 2, 3.\n",
       "These are exactly the valid indices for a list of 4 elements.\n",
       "When step is given, it specifies the increment (or decrement).\n",
       "\u001b[1;31mType:\u001b[0m           type\n",
       "\u001b[1;31mSubclasses:\u001b[0m     "
      ]
     },
     "metadata": {},
     "output_type": "display_data"
    }
   ],
   "source": [
    "range?"
   ]
  },
  {
   "cell_type": "code",
   "execution_count": 54,
   "id": "8f805ebc-21ec-4105-a912-bb9d77c586ad",
   "metadata": {},
   "outputs": [
    {
     "data": {
      "text/plain": [
       "[0, 1, 2, 3, 4]"
      ]
     },
     "execution_count": 54,
     "metadata": {},
     "output_type": "execute_result"
    }
   ],
   "source": [
    "list(range(5))"
   ]
  },
  {
   "cell_type": "code",
   "execution_count": 55,
   "id": "3ec0bf83-77b3-4a21-8110-36172cfb09e8",
   "metadata": {},
   "outputs": [
    {
     "data": {
      "text/plain": [
       "[5, 6, 7, 8, 9]"
      ]
     },
     "execution_count": 55,
     "metadata": {},
     "output_type": "execute_result"
    }
   ],
   "source": [
    "list(range(5,10))"
   ]
  },
  {
   "cell_type": "code",
   "execution_count": 56,
   "id": "a9c0269e-8253-462d-9816-77ed5a78b76e",
   "metadata": {},
   "outputs": [
    {
     "data": {
      "text/plain": [
       "[5, 7, 9]"
      ]
     },
     "execution_count": 56,
     "metadata": {},
     "output_type": "execute_result"
    }
   ],
   "source": [
    "list(range(5,10, 2))"
   ]
  },
  {
   "cell_type": "markdown",
   "id": "17f21189-3264-453f-a14f-0331970aebdf",
   "metadata": {},
   "source": [
    "# round"
   ]
  },
  {
   "cell_type": "code",
   "execution_count": 57,
   "id": "52e5dc3d-3997-4d9c-9eae-40c316b88309",
   "metadata": {},
   "outputs": [
    {
     "data": {
      "text/plain": [
       "4"
      ]
     },
     "execution_count": 57,
     "metadata": {},
     "output_type": "execute_result"
    }
   ],
   "source": [
    "round(4,6)"
   ]
  },
  {
   "cell_type": "code",
   "execution_count": 58,
   "id": "592833a6-2c53-4603-85dc-50da6d32742e",
   "metadata": {},
   "outputs": [
    {
     "data": {
      "text/plain": [
       "5.68"
      ]
     },
     "execution_count": 58,
     "metadata": {},
     "output_type": "execute_result"
    }
   ],
   "source": [
    "round(5.678, 2)"
   ]
  },
  {
   "cell_type": "markdown",
   "id": "36a1600b-a97c-4011-8e85-7e2a2ac5ca97",
   "metadata": {},
   "source": [
    "# sorted"
   ]
  },
  {
   "cell_type": "code",
   "execution_count": 61,
   "id": "ab96dfba-b2bf-4221-a044-32ae3c4ff47d",
   "metadata": {},
   "outputs": [
    {
     "data": {
      "text/plain": [
       "[1, 2, 3]"
      ]
     },
     "execution_count": 61,
     "metadata": {},
     "output_type": "execute_result"
    }
   ],
   "source": [
    "sorted([3, 1, 2])"
   ]
  },
  {
   "cell_type": "code",
   "execution_count": 62,
   "id": "fd561122-8dc4-4f90-b178-663368200d1d",
   "metadata": {},
   "outputs": [
    {
     "data": {
      "text/plain": [
       "['a', 'b', 'c']"
      ]
     },
     "execution_count": 62,
     "metadata": {},
     "output_type": "execute_result"
    }
   ],
   "source": [
    "sorted(['a', 'b', 'c'])"
   ]
  },
  {
   "cell_type": "code",
   "execution_count": 64,
   "id": "a494f04f-65af-47f8-82f6-a1b62ae96b74",
   "metadata": {},
   "outputs": [
    {
     "data": {
      "text/plain": [
       "['e', 'o', 'r', 'z']"
      ]
     },
     "execution_count": 64,
     "metadata": {},
     "output_type": "execute_result"
    }
   ],
   "source": [
    "sorted('zero')"
   ]
  },
  {
   "cell_type": "markdown",
   "id": "8765411f-bfc5-400b-8675-bfd0fa058577",
   "metadata": {},
   "source": [
    "# zip"
   ]
  },
  {
   "cell_type": "code",
   "execution_count": 65,
   "id": "06094cf7-cc08-4835-9dd8-09abcc47ccd8",
   "metadata": {},
   "outputs": [
    {
     "data": {
      "text/plain": [
       "<zip at 0x2e8bd6fdb80>"
      ]
     },
     "execution_count": 65,
     "metadata": {},
     "output_type": "execute_result"
    }
   ],
   "source": [
    "zip([1, 2, 3], [4, 5, 6])"
   ]
  },
  {
   "cell_type": "code",
   "execution_count": 66,
   "id": "89d6da64-09c3-4000-b264-32131ab3da53",
   "metadata": {},
   "outputs": [
    {
     "data": {
      "text/plain": [
       "[(1, 4), (2, 5), (3, 6)]"
      ]
     },
     "execution_count": 66,
     "metadata": {},
     "output_type": "execute_result"
    }
   ],
   "source": [
    "list(zip([1, 2, 3], [4, 5, 6]))"
   ]
  },
  {
   "cell_type": "code",
   "execution_count": 67,
   "id": "b2129ac3-7d7c-4997-8db9-d2ef97ba12e9",
   "metadata": {},
   "outputs": [
    {
     "data": {
      "text/plain": [
       "[(1, 4, 7), (2, 5, 8), (3, 6, 9)]"
      ]
     },
     "execution_count": 67,
     "metadata": {},
     "output_type": "execute_result"
    }
   ],
   "source": [
    "list(zip([1, 2, 3], [4, 5, 6], [7, 8, 9]))"
   ]
  },
  {
   "cell_type": "code",
   "execution_count": 68,
   "id": "a4e0a754-41d0-4e24-bca3-1fb6b9602fbf",
   "metadata": {},
   "outputs": [
    {
     "data": {
      "text/plain": [
       "[('a', 'd'), ('b', 'e'), ('c', 'f')]"
      ]
     },
     "execution_count": 68,
     "metadata": {},
     "output_type": "execute_result"
    }
   ],
   "source": [
    "list(zip(\"abc\", \"def\"))"
   ]
  },
  {
   "cell_type": "markdown",
   "id": "1afe055d-d254-4d8f-b07d-1d6951a679be",
   "metadata": {},
   "source": [
    "# 표준 라이브러리"
   ]
  },
  {
   "cell_type": "markdown",
   "id": "8c01ddac-b2d0-4ac7-a309-8db66bb9fa52",
   "metadata": {},
   "source": [
    "## datetime.date"
   ]
  },
  {
   "cell_type": "code",
   "execution_count": 73,
   "id": "f581502e-87f6-45bc-86f0-82132e28a5d1",
   "metadata": {},
   "outputs": [],
   "source": [
    "import datetime\n",
    "day1 = datetime.date(2024, 5, 2)\n",
    "day2 = datetime.date(2024, 6, 18)"
   ]
  },
  {
   "cell_type": "code",
   "execution_count": 74,
   "id": "df68de10-79c4-4250-952c-fd78d691e499",
   "metadata": {},
   "outputs": [
    {
     "data": {
      "text/plain": [
       "(datetime.date(2024, 5, 2), datetime.date(2024, 6, 18))"
      ]
     },
     "execution_count": 74,
     "metadata": {},
     "output_type": "execute_result"
    }
   ],
   "source": [
    "day1, day2"
   ]
  },
  {
   "cell_type": "code",
   "execution_count": 75,
   "id": "608619ea-ddda-45d9-aa47-2ef7b1a9a2d1",
   "metadata": {},
   "outputs": [
    {
     "data": {
      "text/plain": [
       "47"
      ]
     },
     "execution_count": 75,
     "metadata": {},
     "output_type": "execute_result"
    }
   ],
   "source": [
    "diff=day2-day1\n",
    "diff.days"
   ]
  },
  {
   "cell_type": "code",
   "execution_count": 76,
   "id": "707533f6-4d52-489e-9f8f-1fa31afd388c",
   "metadata": {},
   "outputs": [
    {
     "data": {
      "text/plain": [
       "1"
      ]
     },
     "execution_count": 76,
     "metadata": {},
     "output_type": "execute_result"
    }
   ],
   "source": [
    "day = datetime.date(2024, 6, 18)\n",
    "day.weekday()"
   ]
  },
  {
   "cell_type": "code",
   "execution_count": 77,
   "id": "95f9f530-d236-4c0d-a812-76221fa254b8",
   "metadata": {},
   "outputs": [
    {
     "data": {
      "text/plain": [
       "2"
      ]
     },
     "execution_count": 77,
     "metadata": {},
     "output_type": "execute_result"
    }
   ],
   "source": [
    "day.isoweekday()"
   ]
  },
  {
   "cell_type": "markdown",
   "id": "dbc7f16c-a22c-4d95-84b9-7fe25ad379d7",
   "metadata": {},
   "source": [
    "## time"
   ]
  },
  {
   "cell_type": "code",
   "execution_count": 78,
   "id": "219c4387-e793-4f39-b489-50916fe19e30",
   "metadata": {},
   "outputs": [
    {
     "data": {
      "text/plain": [
       "1718691027.9045355"
      ]
     },
     "execution_count": 78,
     "metadata": {},
     "output_type": "execute_result"
    }
   ],
   "source": [
    "import time\n",
    "time.time()"
   ]
  },
  {
   "cell_type": "code",
   "execution_count": 79,
   "id": "cde08044-d89a-4f9f-9cc1-733ee86bab7f",
   "metadata": {},
   "outputs": [
    {
     "data": {
      "text/plain": [
       "time.struct_time(tm_year=2024, tm_mon=6, tm_mday=18, tm_hour=15, tm_min=12, tm_sec=51, tm_wday=1, tm_yday=170, tm_isdst=0)"
      ]
     },
     "execution_count": 79,
     "metadata": {},
     "output_type": "execute_result"
    }
   ],
   "source": [
    "time.localtime(time.time())"
   ]
  },
  {
   "cell_type": "code",
   "execution_count": 80,
   "id": "88efa99a-2b1b-4797-9121-e3d6b439c96e",
   "metadata": {},
   "outputs": [
    {
     "data": {
      "text/plain": [
       "'Tue Jun 18 15:13:20 2024'"
      ]
     },
     "execution_count": 80,
     "metadata": {},
     "output_type": "execute_result"
    }
   ],
   "source": [
    "time.asctime(time.localtime(time.time()))"
   ]
  },
  {
   "cell_type": "code",
   "execution_count": 81,
   "id": "d6aa56a2-aece-4f6f-a5a6-a6679499f306",
   "metadata": {},
   "outputs": [
    {
     "data": {
      "text/plain": [
       "'Tue Jun 18 15:13:32 2024'"
      ]
     },
     "execution_count": 81,
     "metadata": {},
     "output_type": "execute_result"
    }
   ],
   "source": [
    "time.ctime()"
   ]
  },
  {
   "cell_type": "code",
   "execution_count": 85,
   "id": "0b37cb80-55d7-48d3-8574-0fff26a293ac",
   "metadata": {},
   "outputs": [
    {
     "data": {
      "text/plain": [
       "'06/18/24'"
      ]
     },
     "execution_count": 85,
     "metadata": {},
     "output_type": "execute_result"
    }
   ],
   "source": [
    "time.strftime(  '%x' , time.localtime(time.time()) )"
   ]
  },
  {
   "cell_type": "code",
   "execution_count": 86,
   "id": "21458c16-48f2-4f8b-9623-0ff3ee049998",
   "metadata": {},
   "outputs": [
    {
     "data": {
      "text/plain": [
       "'Tue Jun 18 15:16:02 2024'"
      ]
     },
     "execution_count": 86,
     "metadata": {},
     "output_type": "execute_result"
    }
   ],
   "source": [
    "time.strftime(  '%c' , time.localtime(time.time()) )"
   ]
  },
  {
   "cell_type": "code",
   "execution_count": 87,
   "id": "7f25453f-35fc-4ea7-8f47-404633b966b4",
   "metadata": {},
   "outputs": [
    {
     "data": {
      "text/plain": [
       "time.struct_time(tm_year=2024, tm_mon=6, tm_mday=18, tm_hour=15, tm_min=16, tm_sec=22, tm_wday=1, tm_yday=170, tm_isdst=0)"
      ]
     },
     "execution_count": 87,
     "metadata": {},
     "output_type": "execute_result"
    }
   ],
   "source": [
    "time.localtime()"
   ]
  },
  {
   "cell_type": "code",
   "execution_count": 90,
   "id": "cd8ea1fa-50d0-489f-ad8e-c85f156bd959",
   "metadata": {},
   "outputs": [
    {
     "data": {
      "text/plain": [
       "'Tue Jun 18 15:16:55 2024'"
      ]
     },
     "execution_count": 90,
     "metadata": {},
     "output_type": "execute_result"
    }
   ],
   "source": [
    "time.strftime('%c')"
   ]
  },
  {
   "cell_type": "markdown",
   "id": "4f869032-ea34-459a-a15b-3df9aa420c49",
   "metadata": {},
   "source": [
    "# random"
   ]
  },
  {
   "cell_type": "code",
   "execution_count": 91,
   "id": "73391bcf-a734-4377-9f1d-501016bb5b96",
   "metadata": {},
   "outputs": [
    {
     "data": {
      "text/plain": [
       "0.5468568880579837"
      ]
     },
     "execution_count": 91,
     "metadata": {},
     "output_type": "execute_result"
    }
   ],
   "source": [
    "import random\n",
    "random.random()"
   ]
  },
  {
   "cell_type": "code",
   "execution_count": 93,
   "id": "bcca7918-9443-47a2-a4bb-0963f6d24969",
   "metadata": {},
   "outputs": [
    {
     "data": {
      "text/plain": [
       "0.539360173317661"
      ]
     },
     "execution_count": 93,
     "metadata": {},
     "output_type": "execute_result"
    }
   ],
   "source": [
    "random.random()"
   ]
  },
  {
   "cell_type": "raw",
   "id": "4abe31af-d47d-4931-a6f9-6b16aca9629b",
   "metadata": {},
   "source": [
    "random.randint(1, 10)"
   ]
  },
  {
   "cell_type": "code",
   "execution_count": 94,
   "id": "7119b6a8-b15b-4d64-851a-01d26007f287",
   "metadata": {},
   "outputs": [
    {
     "data": {
      "text/plain": [
       "\u001b[1;31mSignature:\u001b[0m \u001b[0mrandom\u001b[0m\u001b[1;33m.\u001b[0m\u001b[0mrandint\u001b[0m\u001b[1;33m(\u001b[0m\u001b[0ma\u001b[0m\u001b[1;33m,\u001b[0m \u001b[0mb\u001b[0m\u001b[1;33m)\u001b[0m\u001b[1;33m\u001b[0m\u001b[1;33m\u001b[0m\u001b[0m\n",
       "\u001b[1;31mDocstring:\u001b[0m\n",
       "Return random integer in range [a, b], including both end points.\n",
       "        \n",
       "\u001b[1;31mFile:\u001b[0m      c:\\users\\samsung\\anaconda3\\lib\\random.py\n",
       "\u001b[1;31mType:\u001b[0m      method"
      ]
     },
     "metadata": {},
     "output_type": "display_data"
    }
   ],
   "source": [
    "random.randint?"
   ]
  },
  {
   "cell_type": "code",
   "execution_count": 96,
   "id": "b80f5112-0d95-40cc-ae47-a289604bda07",
   "metadata": {},
   "outputs": [
    {
     "data": {
      "text/plain": [
       "3"
      ]
     },
     "execution_count": 96,
     "metadata": {},
     "output_type": "execute_result"
    }
   ],
   "source": [
    "random.randint(1, 55)"
   ]
  },
  {
   "cell_type": "markdown",
   "id": "a527981b-623a-4ca7-b79b-b6525ddb0b60",
   "metadata": {},
   "source": [
    "# 로또 번호 추출 프로그램 만들기"
   ]
  },
  {
   "cell_type": "code",
   "execution_count": 101,
   "id": "88eb207d-4368-4659-86c8-b4027debc8b0",
   "metadata": {},
   "outputs": [
    {
     "data": {
      "text/plain": [
       "[29, 43, 23, 19, 14, 38]"
      ]
     },
     "execution_count": 101,
     "metadata": {},
     "output_type": "execute_result"
    }
   ],
   "source": [
    "import random\n",
    "로또번호 = []\n",
    "while len(로또번호) < 6:\n",
    "    번호 = random.randint(1, 45)\n",
    "    if 번호 not in 로또번호:\n",
    "        로또번호.append(번호)\n",
    "로또번호"
   ]
  },
  {
   "cell_type": "code",
   "execution_count": 98,
   "id": "1dcf5d1c-5b5b-4f09-afb3-9133a4bc5bbc",
   "metadata": {},
   "outputs": [],
   "source": [
    "random.randint(1, 45)\n",
    "lotto = []\n",
    "for i in range(6) :\n",
    "    lotto.append(random.randint(1, 45))"
   ]
  },
  {
   "cell_type": "code",
   "execution_count": 102,
   "id": "02220bcd-21e6-41a1-9a4f-4a415d7f2c1f",
   "metadata": {},
   "outputs": [
    {
     "name": "stdout",
     "output_type": "stream",
     "text": [
      "3\n",
      "1\n",
      "2\n",
      "4\n",
      "5\n"
     ]
    }
   ],
   "source": [
    "# random_pop.py\n",
    "import random\n",
    "def random_pop(data):\n",
    "    number = random.randint(0, len(data)-1)\n",
    "    return data.pop(number)\n",
    "\n",
    "if __name__ == \"__main__\":\n",
    "    data = [1, 2, 3, 4, 5]\n",
    "    while data: \n",
    "        print(random_pop(data))"
   ]
  },
  {
   "cell_type": "code",
   "execution_count": 111,
   "id": "64af22d0-8739-498a-bd1a-51c948591784",
   "metadata": {},
   "outputs": [],
   "source": [
    "def random_pop(data):\n",
    "    number = random.choice(data)\n",
    "    data.remove(number)\n",
    "    return number"
   ]
  },
  {
   "cell_type": "code",
   "execution_count": 112,
   "id": "1fe0ab7f-05f4-4fc6-9784-1d500e5a4e76",
   "metadata": {},
   "outputs": [
    {
     "data": {
      "text/plain": [
       "[4, 3, 1, 5, 2]"
      ]
     },
     "execution_count": 112,
     "metadata": {},
     "output_type": "execute_result"
    }
   ],
   "source": [
    ">>> import random\n",
    ">>> data = [1, 2, 3, 4, 5]\n",
    ">>> random.sample(data, len(data))"
   ]
  },
  {
   "cell_type": "code",
   "execution_count": 114,
   "id": "6780bef5-b6cb-42c4-a490-80f2449e27dc",
   "metadata": {},
   "outputs": [
    {
     "data": {
      "text/plain": [
       "[1, 5, 3, 2, 4]"
      ]
     },
     "execution_count": 114,
     "metadata": {},
     "output_type": "execute_result"
    }
   ],
   "source": [
    ">>> import random\n",
    ">>> data = [1, 2, 3, 4, 5]\n",
    ">>> random.sample(data, 5)"
   ]
  },
  {
   "cell_type": "code",
   "execution_count": 115,
   "id": "30bcd93e-3664-4917-9454-0268c1f0cd93",
   "metadata": {},
   "outputs": [
    {
     "name": "stdout",
     "output_type": "stream",
     "text": [
      "Object `np.random.choice` not found.\n"
     ]
    }
   ],
   "source": [
    "np.random.choice?"
   ]
  },
  {
   "cell_type": "code",
   "execution_count": 118,
   "id": "090af818-8303-4d28-ba16-2a579dedb1c3",
   "metadata": {},
   "outputs": [
    {
     "ename": "NameError",
     "evalue": "name 'np' is not defined",
     "output_type": "error",
     "traceback": [
      "\u001b[1;31m---------------------------------------------------------------------------\u001b[0m",
      "\u001b[1;31mNameError\u001b[0m                                 Traceback (most recent call last)",
      "Cell \u001b[1;32mIn[118], line 1\u001b[0m\n\u001b[1;32m----> 1\u001b[0m np\u001b[38;5;241m.\u001b[39mrandom\u001b[38;5;241m.\u001b[39mchoice(data,\u001b[38;5;241m5\u001b[39m, replace \u001b[38;5;241m=\u001b[39m \u001b[38;5;28;01mFalse\u001b[39;00m)\n",
      "\u001b[1;31mNameError\u001b[0m: name 'np' is not defined"
     ]
    }
   ],
   "source": [
    "np.random.choice(data,5, replace = False)\n",
    "#??"
   ]
  },
  {
   "cell_type": "markdown",
   "id": "ec985fc4-57b2-4156-aa5b-859e90b1d1a8",
   "metadata": {},
   "source": [
    "## glob"
   ]
  },
  {
   "cell_type": "code",
   "execution_count": 119,
   "id": "d42a2339-1a86-49fc-a3e9-0ee334b255bd",
   "metadata": {},
   "outputs": [
    {
     "data": {
      "text/plain": [
       "'C:\\\\workspace\\\\wassup3\\\\01_Python_grammar'"
      ]
     },
     "execution_count": 119,
     "metadata": {},
     "output_type": "execute_result"
    }
   ],
   "source": [
    "pwd"
   ]
  },
  {
   "cell_type": "code",
   "execution_count": 123,
   "id": "05e327fb-eb3d-457a-9c31-819c0dcb8079",
   "metadata": {},
   "outputs": [
    {
     "data": {
      "text/plain": [
       "['C:\\\\workspace\\\\wassup3\\\\01_Python_grammar\\\\01_DatatypeVariable_practice.ipynb',\n",
       " 'C:\\\\workspace\\\\wassup3\\\\01_Python_grammar\\\\01_자료형과 변수.ipynb',\n",
       " 'C:\\\\workspace\\\\wassup3\\\\01_Python_grammar\\\\02_Control_Statement_Practice.ipynb',\n",
       " 'C:\\\\workspace\\\\wassup3\\\\01_Python_grammar\\\\02_제어문.ipynb',\n",
       " 'C:\\\\workspace\\\\wassup3\\\\01_Python_grammar\\\\03_Coding_Practice_PhoneBookProgram.ipynb',\n",
       " 'C:\\\\workspace\\\\wassup3\\\\01_Python_grammar\\\\04_Function__IO_Practice.ipynb',\n",
       " 'C:\\\\workspace\\\\wassup3\\\\01_Python_grammar\\\\04_함수와 입출력.ipynb',\n",
       " 'C:\\\\workspace\\\\wassup3\\\\01_Python_grammar\\\\05_Class_Module_Practice.ipynb',\n",
       " 'C:\\\\workspace\\\\wassup3\\\\01_Python_grammar\\\\05_Class_Module_Practice_Answer.ipynb',\n",
       " 'C:\\\\workspace\\\\wassup3\\\\01_Python_grammar\\\\05_클래스와예외처리.ipynb',\n",
       " 'C:\\\\workspace\\\\wassup3\\\\01_Python_grammar\\\\06_내장함수.ipynb',\n",
       " 'C:\\\\workspace\\\\wassup3\\\\01_Python_grammar\\\\300제_연습문제.ipynb']"
      ]
     },
     "execution_count": 123,
     "metadata": {},
     "output_type": "execute_result"
    }
   ],
   "source": [
    "import glob\n",
    "glob.glob('C:\\\\workspace\\\\wassup3\\\\01_Python_grammar/*.ipynb')"
   ]
  },
  {
   "cell_type": "markdown",
   "id": "05195dc1-3c2d-418e-a67b-1adf97ff35dd",
   "metadata": {},
   "source": [
    "## 해당경로에서 노트북 파일의 \"이름\"만 추출해보기."
   ]
  },
  {
   "cell_type": "code",
   "execution_count": null,
   "id": "8f04fe3d-c084-452e-8bb0-ac5372a506af",
   "metadata": {},
   "outputs": [],
   "source": [
    "import os\n",
    "filepath = glob.glob(os.getcwd()+'/*.ipynb')\n",
    "for file in filpath:\n",
    "    # print(file.split('\\\\')[-1][-6])\n",
    "    print(file.split('\\\\')[-1].split('-')[0])"
   ]
  },
  {
   "cell_type": "code",
   "execution_count": 128,
   "id": "bb4088f5-cdf3-4079-a49f-0b7cf9166747",
   "metadata": {},
   "outputs": [
    {
     "data": {
      "text/plain": [
       "'C:\\\\workspace\\\\wassup3\\\\01_Python_grammar'"
      ]
     },
     "execution_count": 128,
     "metadata": {},
     "output_type": "execute_result"
    }
   ],
   "source": [
    "os.getcwd()"
   ]
  },
  {
   "cell_type": "code",
   "execution_count": 130,
   "id": "aefece27-3a93-48a6-a8a9-bb8d71987c9c",
   "metadata": {},
   "outputs": [],
   "source": [
    "os.chdir('C:\\windows')"
   ]
  },
  {
   "cell_type": "code",
   "execution_count": 131,
   "id": "f201eaa2-851b-4240-b6f1-31b3c14e3619",
   "metadata": {},
   "outputs": [
    {
     "data": {
      "text/plain": [
       "'C:\\\\windows'"
      ]
     },
     "execution_count": 131,
     "metadata": {},
     "output_type": "execute_result"
    }
   ],
   "source": [
    "os.getcwd()"
   ]
  },
  {
   "cell_type": "code",
   "execution_count": 132,
   "id": "4ed5255e-8381-4bef-bed8-759bbe97f66f",
   "metadata": {},
   "outputs": [
    {
     "data": {
      "text/plain": [
       "0"
      ]
     },
     "execution_count": 132,
     "metadata": {},
     "output_type": "execute_result"
    }
   ],
   "source": [
    "os.system('dir')"
   ]
  },
  {
   "cell_type": "markdown",
   "id": "812877a1-50ff-4439-9ac1-2b11e662d270",
   "metadata": {},
   "source": [
    "# json"
   ]
  },
  {
   "cell_type": "code",
   "execution_count": null,
   "id": "b28842a4-9d24-4694-8fc6-a4b14e9c7e39",
   "metadata": {},
   "outputs": [],
   "source": [
    "{\n",
    "    \"name\": \"홍길동\",\n",
    "    \"birth\": \"0525\",\n",
    "    \"age\": 30\n",
    "}"
   ]
  },
  {
   "cell_type": "code",
   "execution_count": null,
   "id": "f2489c5d-4dd6-47aa-91c2-752985e7d318",
   "metadata": {},
   "outputs": [],
   "source": [
    ">>> import json\n",
    ">>> data = {'name': '홍길동', 'birth': '0525', 'age': 30}\n",
    ">>> with open('output/myinfo.json', 'w') as f:\n",
    "...     json.dump(data, f)"
   ]
  },
  {
   "cell_type": "code",
   "execution_count": null,
   "id": "50280058-bb99-4193-8ee1-29ca863d829b",
   "metadata": {},
   "outputs": [],
   "source": [
    ">>> d = {\"name\":\"홍길동\", \"birth\":\"0525\", \"age\": 30}\n",
    ">>> print(json.dumps(d, indent=2, ensure_ascii=False))\n",
    "{\n",
    "  \"name\": \"홍길동\",\n",
    "  \"birth\": \"0525\",\n",
    "  \"age\": 30\n",
    "}"
   ]
  },
  {
   "cell_type": "markdown",
   "id": "fe991b80-17c5-4c98-a172-9582be881620",
   "metadata": {},
   "source": [
    "# urllib"
   ]
  },
  {
   "cell_type": "code",
   "execution_count": 137,
   "id": "cc20a8ea-4a0f-4a4a-a86a-5a3dbe2fd81d",
   "metadata": {},
   "outputs": [],
   "source": [
    "import urllib.request"
   ]
  },
  {
   "cell_type": "code",
   "execution_count": 138,
   "id": "59d59028-8356-4cf6-99eb-ff42f5320ff1",
   "metadata": {},
   "outputs": [],
   "source": [
    "def get_wikidocs(page):\n",
    "    resource = 'https://wikidocs.net/{}'.format(page)\n",
    "    with urllib.request.urlopen(resource) as s:\n",
    "        with open('wikidocs_%s.html' % page, 'wb') as f:\n",
    "            f.write(s.read())"
   ]
  },
  {
   "cell_type": "code",
   "execution_count": null,
   "id": "9cbedd9f-470f-4c5a-adae-8023a731c1a0",
   "metadata": {},
   "outputs": [],
   "source": [
    "get_wikidocs(33)"
   ]
  },
  {
   "cell_type": "markdown",
   "id": "49c26519-8ab8-4961-a842-584659e20c2d",
   "metadata": {},
   "source": [
    "## webbrwser"
   ]
  },
  {
   "cell_type": "code",
   "execution_count": 140,
   "id": "e312a519-24e5-4326-8a17-339b3054b0f5",
   "metadata": {},
   "outputs": [
    {
     "data": {
      "text/plain": [
       "True"
      ]
     },
     "execution_count": 140,
     "metadata": {},
     "output_type": "execute_result"
    }
   ],
   "source": [
    "# webbrowser_test.py\n",
    "import webbrowser\n",
    "webbrowser.open_new('http://python.org')"
   ]
  },
  {
   "cell_type": "markdown",
   "id": "3f02376b-8d38-4828-9266-4e827289f57d",
   "metadata": {},
   "source": [
    "# 외부 라이브러리"
   ]
  },
  {
   "cell_type": "code",
   "execution_count": 141,
   "id": "6a0b3276-3bae-49e0-9487-9c9c09269f5d",
   "metadata": {},
   "outputs": [
    {
     "name": "stdout",
     "output_type": "stream",
     "text": [
      "Package                       VersionNote: you may need to restart the kernel to use updated packages.\n",
      "\n",
      "----------------------------- ------------\n",
      "aiohttp                       3.9.3\n",
      "aiosignal                     1.2.0\n",
      "anaconda-anon-usage           0.4.3\n",
      "anaconda-catalogs             0.2.0\n",
      "anaconda-client               1.12.3\n",
      "anaconda-cloud-auth           0.1.4\n",
      "anaconda-navigator            2.5.2\n",
      "anaconda-project              0.11.1\n",
      "anyio                         4.2.0\n",
      "appdirs                       1.4.4\n",
      "archspec                      0.2.3\n",
      "argon2-cffi                   21.3.0\n",
      "argon2-cffi-bindings          21.2.0\n",
      "astroid                       2.14.2\n",
      "asttokens                     2.0.5\n",
      "async-lru                     2.0.4\n",
      "attrs                         23.1.0\n",
      "Babel                         2.11.0\n",
      "backports.functools-lru-cache 1.6.4\n",
      "backports.tempfile            1.0\n",
      "backports.weakref             1.0.post1\n",
      "beautifulsoup4                4.12.2\n",
      "bleach                        4.1.0\n",
      "blinker                       1.6.2\n",
      "bokeh                         3.3.4\n",
      "boltons                       23.0.0\n",
      "Bottleneck                    1.3.7\n",
      "Brotli                        1.0.9\n",
      "certifi                       2024.2.2\n",
      "cffi                          1.16.0\n",
      "chardet                       4.0.0\n",
      "charset-normalizer            2.0.4\n",
      "click                         8.1.7\n",
      "cloudpickle                   2.2.1\n",
      "clyent                        1.2.2\n",
      "colorama                      0.4.6\n",
      "comm                          0.1.2\n",
      "conda                         24.5.0\n",
      "conda-build                   24.1.2\n",
      "conda-content-trust           0.2.0\n",
      "conda_index                   0.4.0\n",
      "conda-libmamba-solver         24.1.0\n",
      "conda-pack                    0.6.0\n",
      "conda-package-handling        2.2.0\n",
      "conda_package_streaming       0.9.0\n",
      "conda-repo-cli                1.0.75\n",
      "conda-token                   0.4.0\n",
      "conda-verify                  3.4.2\n",
      "constantly                    23.10.4\n",
      "contourpy                     1.2.0\n",
      "cryptography                  42.0.2\n",
      "cssselect                     1.2.0\n",
      "cytoolz                       0.12.2\n",
      "dask                          2023.11.0\n",
      "debugpy                       1.6.7\n",
      "decorator                     5.1.1\n",
      "defusedxml                    0.7.1\n",
      "dill                          0.3.7\n",
      "distributed                   2023.11.0\n",
      "distro                        1.8.0\n",
      "docstring-to-markdown         0.11\n",
      "docutils                      0.18.1\n",
      "entrypoints                   0.4\n",
      "et-xmlfile                    1.1.0\n",
      "executing                     0.8.3\n",
      "fastjsonschema                2.16.2\n",
      "filelock                      3.13.1\n",
      "frozendict                    2.4.2\n",
      "frozenlist                    1.4.0\n",
      "fsspec                        2023.10.0\n",
      "future                        0.18.3\n",
      "gmpy2                         2.1.2\n",
      "greenlet                      3.0.1\n",
      "HeapDict                      1.0.1\n",
      "idna                          3.4\n",
      "imagesize                     1.4.1\n",
      "importlib-metadata            7.0.1\n",
      "inflection                    0.5.1\n",
      "intake                        0.6.8\n",
      "ipykernel                     6.28.0\n",
      "ipython                       8.20.0\n",
      "jaraco.classes                3.2.1\n",
      "jedi                          0.18.1\n",
      "jellyfish                     1.0.1\n",
      "Jinja2                        3.1.3\n",
      "jmespath                      1.0.1\n",
      "joblib                        1.2.0\n",
      "json5                         0.9.6\n",
      "jsonpatch                     1.32\n",
      "jsonpointer                   2.1\n",
      "jsonschema                    4.19.2\n",
      "jsonschema-specifications     2023.7.1\n",
      "jupyter_client                8.6.0\n",
      "jupyter_core                  5.5.0\n",
      "jupyter-events                0.8.0\n",
      "jupyter-lsp                   2.2.0\n",
      "jupyter_server                2.10.0\n",
      "jupyter_server_terminals      0.4.4\n",
      "jupyterlab                    4.0.11\n",
      "jupyterlab-pygments           0.1.2\n",
      "jupyterlab_server             2.25.1\n",
      "jupyterlab-widgets            3.0.9\n",
      "keyring                       23.13.1\n",
      "kiwisolver                    1.4.4\n",
      "lazy_loader                   0.3\n",
      "lazy-object-proxy             1.6.0\n",
      "libarchive-c                  2.9\n",
      "libmambapy                    1.5.6\n",
      "linkify-it-py                 2.0.0\n",
      "llvmlite                      0.42.0\n",
      "lmdb                          1.4.1\n",
      "locket                        1.0.0\n",
      "lxml                          4.9.3\n",
      "lz4                           4.3.2\n",
      "Markdown                      3.4.1\n",
      "markdown-it-py                2.2.0\n",
      "MarkupSafe                    2.1.3\n",
      "matplotlib-inline             0.1.6\n",
      "mdurl                         0.1.0\n",
      "menuinst                      2.0.2\n",
      "mistune                       2.0.4\n",
      "mkl-fft                       1.3.8\n",
      "mkl-random                    1.2.4\n",
      "mkl-service                   2.4.0\n",
      "more-itertools                10.1.0\n",
      "mpmath                        1.3.0\n",
      "msgpack                       1.0.3\n",
      "multidict                     6.0.4\n",
      "mypy-extensions               1.0.0\n",
      "navigator-updater             0.4.0\n",
      "nbclient                      0.8.0\n",
      "nbconvert                     7.10.0\n",
      "nbformat                      5.9.2\n",
      "nest-asyncio                  1.6.0\n",
      "networkx                      3.1\n",
      "notebook                      7.0.8\n",
      "notebook_shim                 0.2.3\n",
      "numexpr                       2.8.7\n",
      "numpy                         1.26.4\n",
      "openpyxl                      3.0.10\n",
      "overrides                     7.4.0\n",
      "packaging                     23.1\n",
      "pandas                        2.1.4\n",
      "pandocfilters                 1.5.0\n",
      "param                         2.0.2\n",
      "parsel                        1.8.1\n",
      "parso                         0.8.3\n",
      "partd                         1.4.1\n",
      "pathlib                       1.0.1\n",
      "pathspec                      0.10.3\n",
      "pillow                        10.2.0\n",
      "pip                           23.3.1\n",
      "pkce                          1.0.3\n",
      "pkginfo                       1.9.6\n",
      "platformdirs                  3.10.0\n",
      "pluggy                        1.0.0\n",
      "ply                           3.11\n",
      "prometheus-client             0.14.1\n",
      "prompt-toolkit                3.0.43\n",
      "protobuf                      3.20.3\n",
      "psutil                        5.9.0\n",
      "pure-eval                     0.2.2\n",
      "py-cpuinfo                    9.0.0\n",
      "pyarrow                       14.0.2\n",
      "pycodestyle                   2.10.0\n",
      "pycosat                       0.6.6\n",
      "pycparser                     2.21\n",
      "pycurl                        7.45.2\n",
      "pydantic                      1.10.12\n",
      "PyDispatcher                  2.0.5\n",
      "pyflakes                      3.0.1\n",
      "Pygments                      2.15.1\n",
      "PyJWT                         2.4.0\n",
      "pylint-venv                   2.3.0\n",
      "pyodbc                        5.0.1\n",
      "pyparsing                     3.0.9\n",
      "PyQt5                         5.15.10\n",
      "PyQt5-sip                     12.13.0\n",
      "PySocks                       1.7.1\n",
      "python-dateutil               2.8.2\n",
      "python-dotenv                 0.21.0\n",
      "python-json-logger            2.0.7\n",
      "python-snappy                 0.6.1\n",
      "pytz                          2023.3.post1\n",
      "pywin32                       305.1\n",
      "pywin32-ctypes                0.2.0\n",
      "pywinpty                      2.0.10\n",
      "PyYAML                        6.0.1\n",
      "pyzmq                         25.1.2\n",
      "QtPy                          2.4.1\n",
      "queuelib                      1.6.2\n",
      "referencing                   0.30.2\n",
      "regex                         2023.10.3\n",
      "requests                      2.31.0\n",
      "requests-toolbelt             1.0.0\n",
      "rfc3339-validator             0.1.4\n",
      "rfc3986-validator             0.1.1\n",
      "rpds-py                       0.10.6\n",
      "Rtree                         1.0.1\n",
      "ruamel.yaml                   0.17.21\n",
      "ruamel-yaml-conda             0.17.21\n",
      "semver                        2.13.0\n",
      "Send2Trash                    1.8.2\n",
      "setuptools                    68.2.2\n",
      "sip                           6.7.12\n",
      "six                           1.16.0\n",
      "smart-open                    5.2.1\n",
      "sniffio                       1.3.0\n",
      "sortedcontainers              2.4.0\n",
      "soupsieve                     2.5\n",
      "stack-data                    0.2.0\n",
      "tabulate                      0.9.0\n",
      "tblib                         1.7.0\n",
      "tenacity                      8.2.2\n",
      "terminado                     0.17.1\n",
      "tinycss2                      1.2.1\n",
      "tomlkit                       0.11.1\n",
      "toolz                         0.12.0\n",
      "tornado                       6.3.3\n",
      "tqdm                          4.65.0\n",
      "traitlets                     5.7.1\n",
      "truststore                    0.8.0\n",
      "twisted-iocpsupport           1.0.2\n",
      "typing_extensions             4.9.0\n",
      "tzdata                        2023.3\n",
      "uc-micro-py                   1.0.1\n",
      "ujson                         5.4.0\n",
      "urllib3                       2.0.7\n",
      "w3lib                         2.1.2\n",
      "wcwidth                       0.2.5\n",
      "webencodings                  0.5.1\n",
      "websocket-client              1.8.0\n",
      "whatthepatch                  1.0.2\n",
      "wheel                         0.41.2\n",
      "win-inet-pton                 1.1.0\n",
      "wrapt                         1.14.1\n",
      "xyzservices                   2022.9.0\n",
      "yarl                          1.9.3\n",
      "zict                          3.0.0\n",
      "zipp                          3.17.0\n",
      "zstandard                     0.19.0\n"
     ]
    }
   ],
   "source": [
    "pip list"
   ]
  },
  {
   "cell_type": "markdown",
   "id": "6a8c3f2c-c773-4edb-b12e-11e2bce6186c",
   "metadata": {},
   "source": [
    "## faker"
   ]
  },
  {
   "cell_type": "code",
   "execution_count": 143,
   "id": "a356a38f-3ae0-47dc-a075-52b93e3b8545",
   "metadata": {},
   "outputs": [
    {
     "name": "stdout",
     "output_type": "stream",
     "text": [
      "Collecting FakerNote: you may need to restart the kernel to use updated packages.\n",
      "\n",
      "  Downloading Faker-25.8.0-py3-none-any.whl.metadata (15 kB)\n",
      "Requirement already satisfied: python-dateutil>=2.4 in c:\\users\\samsung\\anaconda3\\lib\\site-packages (from Faker) (2.8.2)\n",
      "Requirement already satisfied: six>=1.5 in c:\\users\\samsung\\anaconda3\\lib\\site-packages (from python-dateutil>=2.4->Faker) (1.16.0)\n",
      "Downloading Faker-25.8.0-py3-none-any.whl (1.8 MB)\n",
      "   ---------------------------------------- 0.0/1.8 MB ? eta -:--:--\n",
      "   ---------------------------------------- 0.0/1.8 MB ? eta -:--:--\n",
      "   ---------------------------------------- 0.0/1.8 MB ? eta -:--:--\n",
      "    --------------------------------------- 0.0/1.8 MB 495.5 kB/s eta 0:00:04\n",
      "   ---- ----------------------------------- 0.2/1.8 MB 1.7 MB/s eta 0:00:01\n",
      "   --------- ------------------------------ 0.4/1.8 MB 2.6 MB/s eta 0:00:01\n",
      "   ------------- -------------------------- 0.6/1.8 MB 2.9 MB/s eta 0:00:01\n",
      "   -------------------- ------------------- 0.9/1.8 MB 3.6 MB/s eta 0:00:01\n",
      "   -------------------------- ------------- 1.2/1.8 MB 4.0 MB/s eta 0:00:01\n",
      "   -------------------------------- ------- 1.5/1.8 MB 4.3 MB/s eta 0:00:01\n",
      "   ---------------------------------------  1.8/1.8 MB 4.5 MB/s eta 0:00:01\n",
      "   ---------------------------------------- 1.8/1.8 MB 4.2 MB/s eta 0:00:00\n",
      "Installing collected packages: Faker\n",
      "Successfully installed Faker-25.8.0\n"
     ]
    }
   ],
   "source": [
    "pip install Faker"
   ]
  },
  {
   "cell_type": "markdown",
   "id": "31873cb4-0d0b-4ad7-9da5-f2724e5d3106",
   "metadata": {},
   "source": [
    "from faker import Faker\n",
    "Faker = Faker()\n",
    "type(fake), fake"
   ]
  },
  {
   "cell_type": "code",
   "execution_count": 145,
   "id": "8ac1a66b-7330-4e65-9990-17192f0b2765",
   "metadata": {},
   "outputs": [
    {
     "data": {
      "text/plain": [
       "'Matthew Estrada'"
      ]
     },
     "execution_count": 145,
     "metadata": {},
     "output_type": "execute_result"
    }
   ],
   "source": [
    ">>> from faker import Faker\n",
    ">>> fake = Faker()\n",
    ">>> fake.name()\n",
    "'Matthew Estrada'"
   ]
  },
  {
   "cell_type": "code",
   "execution_count": 146,
   "id": "d4e873c1-1dea-41da-b4f8-70943a1b9618",
   "metadata": {},
   "outputs": [
    {
     "data": {
      "text/plain": [
       "'최서연'"
      ]
     },
     "execution_count": 146,
     "metadata": {},
     "output_type": "execute_result"
    }
   ],
   "source": [
    ">>> fake = Faker('ko-KR')\n",
    ">>> fake.name()"
   ]
  },
  {
   "cell_type": "code",
   "execution_count": 147,
   "id": "2a1ab420-023c-4d16-8550-6388bb29b1e3",
   "metadata": {},
   "outputs": [
    {
     "data": {
      "text/plain": [
       "'대전광역시 도봉구 반포대3길'"
      ]
     },
     "execution_count": 147,
     "metadata": {},
     "output_type": "execute_result"
    }
   ],
   "source": [
    ">>> fake.address()"
   ]
  },
  {
   "cell_type": "code",
   "execution_count": 148,
   "id": "2ac8dc10-79f8-46c5-a63e-eefe1cfd936d",
   "metadata": {},
   "outputs": [],
   "source": [
    ">>> test_data = [(fake.name(), fake.address()) for i in range(30)]"
   ]
  },
  {
   "cell_type": "code",
   "execution_count": 149,
   "id": "32e5438d-99d5-40be-b86b-b3c60e775b4c",
   "metadata": {},
   "outputs": [
    {
     "data": {
      "text/plain": [
       "'Lime'"
      ]
     },
     "execution_count": 149,
     "metadata": {},
     "output_type": "execute_result"
    }
   ],
   "source": [
    "fake.color_name()"
   ]
  },
  {
   "cell_type": "code",
   "execution_count": null,
   "id": "fe2077a5-c4d1-4b8a-b262-416794b3ca93",
   "metadata": {},
   "outputs": [],
   "source": []
  }
 ],
 "metadata": {
  "kernelspec": {
   "display_name": "Python 3 (ipykernel)",
   "language": "python",
   "name": "python3"
  },
  "language_info": {
   "codemirror_mode": {
    "name": "ipython",
    "version": 3
   },
   "file_extension": ".py",
   "mimetype": "text/x-python",
   "name": "python",
   "nbconvert_exporter": "python",
   "pygments_lexer": "ipython3",
   "version": "3.11.7"
  }
 },
 "nbformat": 4,
 "nbformat_minor": 5
}
