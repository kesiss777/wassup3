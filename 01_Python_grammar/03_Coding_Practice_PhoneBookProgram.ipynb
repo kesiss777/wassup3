{
 "cells": [
  {
   "cell_type": "markdown",
   "metadata": {},
   "source": [
    "# 전화번호 프로그램 만들기\n",
    "\n",
    "* 홍길동 010-123-4567\n",
    "* 기능1 : 연락처 추가\n",
    "* 기능2 : 연락처 전체 보기\n",
    "* 기능3 : 검색, 이름을 입력받아서 전화번호 조회\n",
    "* 기능4 : 수정, 이름을 입력받아서 전화번호 입력수정\n",
    "* 기능5 : 삭제, 이름 입력받아서 삭제\n",
    "* 기능6 : 프로그램 종료"
   ]
  },
  {
   "cell_type": "markdown",
   "metadata": {},
   "source": [
    "## 요구사항 분석 및 설계\n",
    "1. i/o, 데이터 타입 : 문자열, 딕셔너리 k:v\n",
    "2. 데이터 : 사용자 입력 input()\n",
    "3. 구조: 프로그램: while 반복문, 기능: if 분기문\n",
    "4. 기능 + 인터페이스 정책\n",
    "- 1번 연락처 추가: dict[key] = value\n",
    "- 2번 연락처 전체 보기: print(dict)\n",
    "- 3번 검색: get메서드, dict[key] + 편의기능(사전에 사용자가 존재하는지 확인 if user in dict)\n",
    "- 4번 수정: update 메서드, dict[key] = value\n",
    "- 5번 삭제: del\n",
    "- 6번 종료: break   \n",
    "+예외처리"
   ]
  },
  {
   "cell_type": "code",
   "execution_count": 15,
   "metadata": {},
   "outputs": [
    {
     "name": "stdout",
     "output_type": "stream",
     "text": [
      "-----전화번호부 프로그램-----\n",
      "1.추가   2.보기   3.검색   4.수정   5.삭제   9.종료\n"
     ]
    },
    {
     "name": "stdin",
     "output_type": "stream",
     "text": [
      "메뉴를 선택해주세요.(숫자only):  9\n"
     ]
    },
    {
     "name": "stdout",
     "output_type": "stream",
     "text": [
      "연락처를 종료합니다.\n"
     ]
    }
   ],
   "source": [
    "contact = {}\n",
    "\n",
    "while True:\n",
    "    print('-----전화번호부 프로그램-----')\n",
    "    print('1.추가   2.보기   3.검색   4.수정   5.삭제   9.종료')\n",
    "    menu = int(input('메뉴를 선택해주세요.(숫자only): ' ))\n",
    "\n",
    "    if menu == 1:\n",
    "        print('연락처를 추가합니다.')\n",
    "        new_name = input('이름: ')\n",
    "        new_tel = input('전화번호: ')\n",
    "        print(new_name, new_tel)\n",
    "        # contact[new_name] = new_tel\n",
    "        contact.setdefault(new_name, new_tel)\n",
    "\n",
    "    elif menu == 2: #완성\n",
    "        print('연락처를 조회합니다.')\n",
    "        # print(contact)\n",
    "        for name, tel in contact.items():\n",
    "            print(name, '=', tel )\n",
    "\n",
    "    elif menu == 3: # 완성\n",
    "        print('연락처를 검색합니다.')\n",
    "        search_name = input('검색 이름: ')\n",
    "        # print(contact[search_name])\n",
    "        print(contact.get(search_name, '없는 이름입니다.'))\n",
    "\n",
    "\n",
    "    elif menu == 4: # 완성\n",
    "        print('연락처를 수정합니다.')\n",
    "        mod_name = input('수정 이름 : ')\n",
    "\n",
    "        if mod_name in contact:\n",
    "            mod_tel = input('새 전화번호 : ')\n",
    "            contact[mod_name] = mod_tel\n",
    "        else :\n",
    "            print('등록되지 않은 이름입니다.')\n",
    "\n",
    "    elif menu == 5: # 완성\n",
    "        print('연락처를 삭제합니다.')\n",
    "        del_name = input('삭제 이름: ')\n",
    "\n",
    "        if del_name in contact:\n",
    "            del contact[del_name]\n",
    "        else :\n",
    "            print('등록되지 않은 이름입니다.')\n",
    "\n",
    "\n",
    "    elif menu == 9: # 완성\n",
    "        print('연락처를 종료합니다.')\n",
    "        break\n",
    "\n",
    "    else :\n",
    "        print('잘못된 입력입니다.')"
   ]
  },
  {
   "cell_type": "code",
   "execution_count": 14,
   "metadata": {},
   "outputs": [
    {
     "name": "stdout",
     "output_type": "stream",
     "text": [
      "\n",
      "===== 전화번호 관리 프로그램 =====\n",
      "1. 연락처 추가\n",
      "2. 연락처 전체 보기\n",
      "3. 검색\n",
      "4. 수정\n",
      "5. 삭제\n",
      "6. 프로그램 종료\n"
     ]
    },
    {
     "name": "stdin",
     "output_type": "stream",
     "text": [
      "원하는 기능의 번호를 입력하세요:  6\n"
     ]
    },
    {
     "name": "stdout",
     "output_type": "stream",
     "text": [
      "프로그램을 종료합니다.\n"
     ]
    }
   ],
   "source": [
    "\n",
    "contacts = {}\n",
    "\n",
    "def add_contact():\n",
    "    name = input(\"이름을 입력하세요: \")\n",
    "    number = input(\"전화번호를 입력하세요: \")\n",
    "    contacts[name] = number\n",
    "    print(f\"{name}님의 전화번호 ({number})가 추가되었습니다.\")\n",
    "\n",
    "def view_all_contacts():\n",
    "    if contacts:\n",
    "        print(\"===== 전체 연락처 =====\")\n",
    "        for name, number in contacts.items():\n",
    "            print(f\"{name}: {number}\")\n",
    "        print(\"=====================\")\n",
    "    else:\n",
    "        print(\"저장된 연락처가 없습니다.\")\n",
    "\n",
    "def search_contact():\n",
    "    name = input(\"검색할 이름을 입력하세요: \")\n",
    "    if name in contacts:\n",
    "        print(f\"{name}의 전화번호는 {contacts[name]}입니다.\")\n",
    "    else:\n",
    "        print(f\"{name}은(는) 연락처에 없습니다.\")\n",
    "\n",
    "def update_contact():\n",
    "    name = input(\"수정할 이름을 입력하세요: \")\n",
    "    if name in contacts:\n",
    "        new_number = input(\"새로운 전화번호를 입력하세요: \")\n",
    "        contacts[name] = new_number\n",
    "        print(f\"{name}의 전화번호가 {new_number}로 수정되었습니다.\")\n",
    "    else:\n",
    "        print(f\"{name}은(는) 연락처에 없습니다.\")\n",
    "\n",
    "def delete_contact():\n",
    "    name = input(\"삭제할 이름을 입력하세요: \")\n",
    "    if name in contacts:\n",
    "        del contacts[name]\n",
    "        print(f\"{name}의 연락처가 삭제되었습니다.\")\n",
    "    else:\n",
    "        print(f\"{name}은(는) 연락처에 없습니다.\")\n",
    "\n",
    "def main():\n",
    "    while True:\n",
    "        print(\"\\n===== 전화번호 관리 프로그램 =====\")\n",
    "        print(\"1. 연락처 추가\")\n",
    "        print(\"2. 연락처 전체 보기\")\n",
    "        print(\"3. 검색\")\n",
    "        print(\"4. 수정\")\n",
    "        print(\"5. 삭제\")\n",
    "        print(\"6. 프로그램 종료\")\n",
    "        choice = input(\"원하는 기능의 번호를 입력하세요: \")\n",
    "\n",
    "        if choice == '1':\n",
    "            add_contact()\n",
    "        elif choice == '2':\n",
    "            view_all_contacts()\n",
    "        elif choice == '3':\n",
    "            search_contact()\n",
    "        elif choice == '4':\n",
    "            update_contact()\n",
    "        elif choice == '5':\n",
    "            delete_contact()\n",
    "        elif choice == '6':\n",
    "            print(\"프로그램을 종료합니다.\")\n",
    "            break\n",
    "        else:\n",
    "            print(\"잘못된 입력입니다. 다시 입력해 주세요.\")\n",
    "\n",
    "if __name__ == \"__main__\":\n",
    "    main()\n"
   ]
  },
  {
   "cell_type": "code",
   "execution_count": null,
   "metadata": {},
   "outputs": [],
   "source": []
  },
  {
   "cell_type": "code",
   "execution_count": null,
   "metadata": {},
   "outputs": [],
   "source": []
  }
 ],
 "metadata": {
  "kernelspec": {
   "display_name": "Python 3 (ipykernel)",
   "language": "python",
   "name": "python3"
  },
  "language_info": {
   "codemirror_mode": {
    "name": "ipython",
    "version": 3
   },
   "file_extension": ".py",
   "mimetype": "text/x-python",
   "name": "python",
   "nbconvert_exporter": "python",
   "pygments_lexer": "ipython3",
   "version": "3.11.7"
  },
  "toc": {
   "base_numbering": 1,
   "nav_menu": {},
   "number_sections": true,
   "sideBar": true,
   "skip_h1_title": false,
   "title_cell": "Table of Contents",
   "title_sidebar": "Contents",
   "toc_cell": false,
   "toc_position": {},
   "toc_section_display": true,
   "toc_window_display": false
  },
  "varInspector": {
   "cols": {
    "lenName": 16,
    "lenType": 16,
    "lenVar": 40
   },
   "kernels_config": {
    "python": {
     "delete_cmd_postfix": "",
     "delete_cmd_prefix": "del ",
     "library": "var_list.py",
     "varRefreshCmd": "print(var_dic_list())"
    },
    "r": {
     "delete_cmd_postfix": ") ",
     "delete_cmd_prefix": "rm(",
     "library": "var_list.r",
     "varRefreshCmd": "cat(var_dic_list()) "
    }
   },
   "types_to_exclude": [
    "module",
    "function",
    "builtin_function_or_method",
    "instance",
    "_Feature"
   ],
   "window_display": false
  }
 },
 "nbformat": 4,
 "nbformat_minor": 4
}
