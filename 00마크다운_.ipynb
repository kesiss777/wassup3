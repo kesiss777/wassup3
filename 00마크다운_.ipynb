{
 "cells": [
  {
   "cell_type": "markdown",
   "id": "6eb3a399",
   "metadata": {
    "id": "6eb3a399"
   },
   "source": [
    "[공통] 마크다운 markdown 작성법\n",
    "======================"
   ]
  },
  {
   "cell_type": "markdown",
   "id": "7418f77b",
   "metadata": {
    "id": "7418f77b"
   },
   "source": [
    "> 영어지만, 조금 더 상세하게 마크다운 사용법을 안내하고 있는    \n",
    "> \"Markdown Guide (https://www.markdownguide.org/)\" 를 보시는 것을 추천합니다. ^^\n",
    "\n",
    "> 아, 그리고 마크다운만으로 표현이 부족하다고 느끼신다면, HTML 태그를 활용하시는 것도 좋습니다."
   ]
  },
  {
   "cell_type": "markdown",
   "id": "b91cc751",
   "metadata": {
    "id": "b91cc751"
   },
   "source": [
    "# 마크다운에 관하여\n",
    "## 마크다운이란?\n",
    "[**Markdown**](https://www.markdownguide.org/getting-started/)은 텍스트 기반의 마크업언어로 2004년 존그루버에 의해 만들어졌으며 쉽게 쓰고 읽을 수 있으며 HTML로 변환이 가능하다. 특수기호와 문자를 이용한 매우 간단한 구조의 문법을 사용하여 웹에서도 보다 빠르게 컨텐츠를 작성하고 보다 직관적으로 인식할 수 있다.\n",
    "마크다운이 최근 각광받기 시작한 이유는 깃헙([https://github.com](https://github.com)) 덕분이다. 깃헙의 저장소Repository에 관한 정보를 기록하는 README.md는 깃헙을 사용하는 사람이라면 누구나 가장 먼저 접하게 되는 마크다운 문서였다. 마크다운을 통해서 설치방법, 소스코드 설명, 이슈 등을 간단하게 기록하고 가독성을 높일 수 있다는 강점이 부각되면서 점점 여러 곳으로 퍼져가게 된다."
   ]
  },
  {
   "cell_type": "markdown",
   "id": "52bee78f",
   "metadata": {
    "id": "52bee78f"
   },
   "source": [
    "## 마크다운의 장-단점\n",
    "### 장점\n",
    "\t1. 간결하다.\n",
    "\t2. 별도의 도구없이 작성가능하다.\n",
    "\t3. 다양한 형태로 변환이 가능하다.\n",
    "\t4. 텍스트(Text)로 저장되기 때문에 용량이 적어 보관이 용이하다.\n",
    "\t5. 텍스트파일이기 때문에 버전관리시스템을 이용하여 변경이력을 관리할 수 있다.\n",
    "\t6. 지원하는 프로그램과 플랫폼이 다양하다."
   ]
  },
  {
   "cell_type": "markdown",
   "id": "c5f463bf-be74-4bcd-a42a-efc383b1112a",
   "metadata": {
    "id": "df062fba"
   },
   "source": [
    "### 단점\n",
    "\t1. 표준이 없다.\n",
    "\t2. 표준이 없기 때문에 도구에 따라서 변환방식이나 생성물이 다르다.\n",
    "\t3. 모든 HTML 마크업을 대신하지 못한다."
   ]
  },
  {
   "cell_type": "markdown",
   "id": "f529052c",
   "metadata": {
    "id": "f529052c"
   },
   "source": [
    "****\n",
    "# 마크다운 사용법(문법)"
   ]
  },
  {
   "cell_type": "markdown",
   "id": "0f2a2101",
   "metadata": {
    "id": "0f2a2101"
   },
   "source": [
    "## 헤더Headers\n",
    "* 큰제목: 문서 제목\n",
    "    ```\n",
    "    This is an H1\n",
    "    =============\n",
    "    ```    "
   ]
  },
  {
   "cell_type": "code",
   "execution_count": null,
   "id": "9e17c2ce",
   "metadata": {
    "id": "9e17c2ce"
   },
   "outputs": [],
   "source": []
  },
  {
   "cell_type": "code",
   "execution_count": 4,
   "id": "02067c8b-29de-44ee-ada8-940dcee07fa0",
   "metadata": {
    "id": "e1508f8b"
   },
   "outputs": [
    {
     "ename": "SyntaxError",
     "evalue": "invalid syntax (1933815000.py, line 1)",
     "output_type": "error",
     "traceback": [
      "\u001b[1;36m  Cell \u001b[1;32mIn[4], line 1\u001b[1;36m\u001b[0m\n\u001b[1;33m    * 작은제목: 문서 부제목\u001b[0m\n\u001b[1;37m          ^\u001b[0m\n\u001b[1;31mSyntaxError\u001b[0m\u001b[1;31m:\u001b[0m invalid syntax\n"
     ]
    }
   ],
   "source": [
    "* 작은제목: 문서 부제목\n",
    "    ```\n",
    "    This is an H2\n",
    "    ========="
   ]
  },
  {
   "cell_type": "code",
   "execution_count": null,
   "id": "c0896897",
   "metadata": {
    "id": "c0896897"
   },
   "outputs": [],
   "source": []
  },
  {
   "cell_type": "markdown",
   "id": "82ccde72",
   "metadata": {
    "id": "82ccde72"
   },
   "source": [
    "* 글머리: 1~6까지만 지원\n",
    "```\n",
    "# This is a H1\n",
    "## This is a H2\n",
    "### This is a H3\n",
    "#### This is a H4\n",
    "##### This is a H5\n",
    "###### This is a H6\n",
    "```"
   ]
  },
  {
   "cell_type": "markdown",
   "id": "66c6b205-0913-44e5-ab2e-3772fe3868f6",
   "metadata": {
    "id": "8ce8c928"
   },
   "source": [
    "# This is a H1\n",
    "## This is a H2\n",
    "### This is a H3\n",
    "#### This is a H4\n",
    "##### This is a H5\n",
    "###### This is a H6"
   ]
  },
  {
   "cell_type": "markdown",
   "id": "32662848",
   "metadata": {
    "id": "32662848"
   },
   "source": [
    "## BlockQuote\n",
    "이메일에서 사용하는 ```>``` 블럭인용문자를 이용한다.\n",
    "```\n",
    "> This is a first blockqute.\n",
    ">\t> This is a second blockqute.\n",
    ">\t>\t> This is a third blockqute.\n",
    "```"
   ]
  },
  {
   "cell_type": "markdown",
   "id": "8078240c-1001-4aa3-8fd1-af4537fb584b",
   "metadata": {
    "id": "4facc1d7"
   },
   "source": [
    "> This is a first blockqute.\n",
    ">\t> This is a second blockqute.\n",
    ">\t>\t> This is a third blockqute.\n",
    "```"
   ]
  },
  {
   "cell_type": "markdown",
   "id": "8ba88720",
   "metadata": {
    "id": "8ba88720"
   },
   "source": [
    "이 안에서는 다른 마크다운 요소를 포함할 수 있다.\n",
    "> ### This is a H3\n",
    "> * List\n",
    ">\t```\n",
    ">\tcode\n",
    ">\t```"
   ]
  },
  {
   "cell_type": "markdown",
   "id": "ef1788dd-7c4d-4553-a815-40a59220055b",
   "metadata": {
    "id": "5b6bdf82"
   },
   "source": [
    "> ### This is a H3\n",
    "> * List\n",
    ">\t```\n",
    ">\tcode\n",
    ">\t```"
   ]
  },
  {
   "cell_type": "markdown",
   "id": "324b0d35",
   "metadata": {
    "id": "324b0d35"
   },
   "source": [
    "## 목록\n",
    "### ● 순서있는 목록(번호)\n",
    "순서있는 목록은 숫자와 점을 사용한다.\n",
    "```\n",
    "1. 첫번째\n",
    "2. 두번째\n",
    "3. 세번째\n",
    "```"
   ]
  },
  {
   "cell_type": "markdown",
   "id": "104f9ab4-551e-49c6-a3cd-df11180f8712",
   "metadata": {
    "id": "94159d31"
   },
   "source": [
    "```\n",
    "1. 첫번째\n",
    "2. 두번째\n",
    "3. 세번째\n",
    "```"
   ]
  },
  {
   "cell_type": "markdown",
   "id": "8aa4ea17",
   "metadata": {
    "id": "8aa4ea17"
   },
   "source": [
    "**현재까지는 어떤 번호를 입력해도 순서는 내림차순으로 정의된다.**\n",
    "```\n",
    "1. 첫번째\n",
    "3. 세번째\n",
    "2. 두번째\n",
    "```\n",
    "딱히 개선될 것 같지는 않다. 존 그루버가 신경안쓰고 있다고..."
   ]
  },
  {
   "cell_type": "markdown",
   "id": "b10827ce-8326-4645-b26b-499860994c1f",
   "metadata": {
    "id": "4df5ea36"
   },
   "source": [
    "```\n",
    "1. 첫번째\n",
    "3. 세번째\n",
    "2. 두번째\n",
    "```"
   ]
  },
  {
   "cell_type": "markdown",
   "id": "f13ae310",
   "metadata": {
    "id": "f13ae310"
   },
   "source": [
    "### ● 순서없는 목록(글머리 기호: `*`, `+`, `-` 지원)\n",
    "```\n",
    "* 빨강\n",
    "  * 녹색\n",
    "    * 파랑\n",
    "\n",
    "+ 빨강\n",
    "  + 녹색\n",
    "    + 파랑\n",
    "\n",
    "- 빨강\n",
    "  - 녹색\n",
    "    - 파랑\n",
    "```"
   ]
  },
  {
   "cell_type": "markdown",
   "id": "2e8cea9d-165b-48b0-973e-7b457db4e12d",
   "metadata": {
    "id": "366e5292"
   },
   "source": [
    "```\n",
    "* 빨강\n",
    "  * 녹색\n",
    "    * 파랑\n",
    "\n",
    "+ 빨강\n",
    "  + 녹색\n",
    "    + 파랑\n",
    "\n",
    "- 빨강\n",
    "  - 녹색\n",
    "    - 파랑\n",
    "```"
   ]
  },
  {
   "cell_type": "markdown",
   "id": "4d4d8af3",
   "metadata": {
    "id": "4d4d8af3"
   },
   "source": [
    "혼합해서 사용하는 것도 가능하다(내가 선호하는 방식)\n",
    "```\n",
    "* 1단계\n",
    "  - 2단계\n",
    "    + 3단계\n",
    "      + 4단계\n",
    "```"
   ]
  },
  {
   "cell_type": "markdown",
   "id": "d8f53ba5-2908-45a0-a70c-685a2ef20dcf",
   "metadata": {
    "id": "2d2cce2f"
   },
   "source": [
    "```\n",
    "* 1단계\n",
    "  - 2단계\n",
    "    + 3단계\n",
    "      + 4단계\n",
    "```"
   ]
  },
  {
   "cell_type": "markdown",
   "id": "8b9f2b4c",
   "metadata": {
    "id": "8b9f2b4c"
   },
   "source": [
    "## 코드\n",
    "4개의 공백 또는 하나의 탭으로 들여쓰기를 만나면 변환되기 시작하여 들여쓰지 않은 행을 만날때까지 변환이 계속된다.\n",
    "\n",
    "### 들여쓰기\n",
    "```\n",
    "This is a normal paragraph:\n",
    "\n",
    "    This is a code block.\n",
    "    \n",
    "end code block.\n",
    "```"
   ]
  },
  {
   "cell_type": "markdown",
   "id": "2c876f2c",
   "metadata": {
    "id": "2c876f2c"
   },
   "source": [
    "실제로 적용해보면,\n",
    "\n",
    "적용예:\n",
    "\n",
    "*****\n",
    "This is a normal paragraph:\n",
    "\n",
    "    This is a code block.\n",
    "\n",
    "end code block.\n",
    "*****"
   ]
  },
  {
   "cell_type": "markdown",
   "id": "89085d5b",
   "metadata": {
    "id": "89085d5b"
   },
   "source": [
    "> 한줄 띄어쓰지 않으면 인식이 제대로 안되는 문제가 발생합니다.\n",
    "\n",
    "```\n",
    "This is a normal paragraph:\n",
    "    This is a code block.\n",
    "end code block.\n",
    "```\n",
    "\n",
    "적용예:\n",
    "\n",
    "*****\n",
    "This is a normal paragraph:\n",
    "    This is a code block.\n",
    "end code block.\n",
    "*****"
   ]
  },
  {
   "cell_type": "code",
   "execution_count": null,
   "id": "c59b22fe",
   "metadata": {
    "id": "c59b22fe"
   },
   "outputs": [],
   "source": []
  },
  {
   "cell_type": "markdown",
   "id": "a802ec0d",
   "metadata": {
    "id": "a802ec0d"
   },
   "source": [
    "### 코드블럭\n",
    "코드블럭은 다음과 같이 2가지 방식을 사용할 수 있습니다:\n",
    "\n",
    "* `<pre><code>{code}</code></pre>` 이용방식\n",
    "\n",
    "```\n",
    "<pre>\n",
    "<code>\n",
    "public class BootSpringBootApplication {\n",
    "  public static void main(String[] args) {\n",
    "    System.out.println(\"Hello, Honeymon\");\n",
    "  }\n",
    "\n",
    "}\n",
    "</code>\n",
    "</pre>\n",
    "```"
   ]
  },
  {
   "cell_type": "markdown",
   "id": "8c0da516-a3db-48cc-b644-304309415899",
   "metadata": {
    "id": "847a8c05"
   },
   "source": [
    "```\n",
    "<pre>\n",
    "<code>\n",
    "public class BootSpringBootApplication {\n",
    "  public static void main(String[] args) {\n",
    "    System.out.println(\"Hello, Honeymon\");\n",
    "  }\n",
    "\n",
    "}\n",
    "</code>\n",
    "</pre>\n",
    "\n",
    "```"
   ]
  },
  {
   "cell_type": "markdown",
   "id": "b2335af2",
   "metadata": {
    "id": "b2335af2"
   },
   "source": [
    "* 코드블럭코드(\"\\```\") 을 이용하는 방법\n",
    "\n",
    "```\n",
    "public class BootSpringBootApplication {\n",
    "  public static void main(String[] args) {\n",
    "    System.out.println(\"Hello, Honeymon\");\n",
    "  }\n",
    "}\n",
    "```\n"
   ]
  },
  {
   "cell_type": "code",
   "execution_count": null,
   "id": "03f7529e",
   "metadata": {
    "id": "03f7529e"
   },
   "outputs": [],
   "source": []
  },
  {
   "cell_type": "markdown",
   "id": "2b7ac88a",
   "metadata": {
    "id": "2b7ac88a"
   },
   "source": [
    "**깃헙**에서는 코드블럭코드(\"\\```\") 시작점에 사용하는 언어를 선언하여 [문법강조(Syntax highlighting)](https://docs.github.com/en/github/writing-on-github/creating-and-highlighting-code-blocks#syntax-highlighting)이 가능하다.\n",
    "```java\n",
    "public class BootSpringBootApplication {\n",
    "  public static void main(String[] args) {\n",
    "    System.out.println(\"Hello, Honeymon\");\n",
    "  }\n",
    "}\n",
    "```"
   ]
  },
  {
   "cell_type": "markdown",
   "id": "81626133-b883-473f-9cc3-ef06ff0bb46f",
   "metadata": {
    "id": "54b3b026"
   },
   "source": [
    "```java\n",
    "public class BootSpringBootApplication {\n",
    "  public static void main(String[] args) {\n",
    "    System.out.println(\"Hello, Honeymon\");\n",
    "  }\n",
    "}\n",
    "```"
   ]
  },
  {
   "cell_type": "markdown",
   "id": "383ba082",
   "metadata": {
    "id": "383ba082"
   },
   "source": [
    "## 수평선\n",
    "아래 줄은 모두 수평선을 만든다. 마크다운 문서를 미리보기로 출력할 때 *페이지 나누기* 용도로 많이 사용한다.\n",
    "\n",
    "```\n",
    "* * *\n",
    "\n",
    "***\n",
    "\n",
    "*****\n",
    "\n",
    "- - -\n",
    "\n",
    "---------------------------------------\n",
    "```"
   ]
  },
  {
   "cell_type": "markdown",
   "id": "8ee51b68-cfd1-4f8b-98b6-530042868d68",
   "metadata": {
    "id": "595b4ec3"
   },
   "source": [
    "---\n",
    "bbb"
   ]
  },
  {
   "cell_type": "markdown",
   "id": "2b68ac1a",
   "metadata": {
    "id": "2b68ac1a"
   },
   "source": [
    "## 링크\n",
    "* 참조링크\n",
    "\n",
    "```\n",
    "[link keyword][id]\n",
    "\n",
    "[id]: URL \"Optional Title here\"\n",
    "\n",
    "// code\n",
    "Link: [Google][googlelink]\n",
    "\n",
    "[googlelink]: https://google.com \"Go google\"\n",
    "```"
   ]
  },
  {
   "cell_type": "markdown",
   "id": "0cfa996d-b495-4ec5-bc37-ff14171b9ef8",
   "metadata": {
    "id": "799de18d"
   },
   "source": [
    "\n",
    "Link: [Google][googlelink]\n",
    "\n",
    "[googlelink]: https://google.com \"Go google\""
   ]
  },
  {
   "cell_type": "markdown",
   "id": "ea1479f2-97ea-474e-9629-de9ce684ae18",
   "metadata": {
    "id": "954b6e5e"
   },
   "source": [
    "Link: [naver][naverlonk]\n",
    "\n",
    "[naverlink]: http://naver.com \"Naver link\""
   ]
  },
  {
   "cell_type": "markdown",
   "id": "477f50c0",
   "metadata": {
    "id": "477f50c0"
   },
   "source": [
    "* 외부링크\n",
    "```\n",
    "사용문법: [Title](link)\n",
    "적용예: [Google](https://google.com \"google link\") # 쉼표를 주소로 인식하는 오류 주의\n",
    "```"
   ]
  },
  {
   "cell_type": "markdown",
   "id": "aec4030a-5fc6-4610-a748-db669f5aac14",
   "metadata": {},
   "source": [
    "\n",
    "[Google](https://google.com \"google link\")"
   ]
  },
  {
   "cell_type": "markdown",
   "id": "72d3745b",
   "metadata": {
    "id": "72d3745b"
   },
   "source": [
    "* 자동연결\n",
    "```\n",
    "일반적인 URL 혹은 이메일주소인 경우 적절한 형식으로 링크를 형성한다.\n",
    "\n",
    "* 외부링크: <http://example.com/>\n",
    "* 이메일링크: <address@example.com>\n",
    "```"
   ]
  },
  {
   "cell_type": "markdown",
   "id": "a3371908-2700-4107-a1b9-6679f3a15eec",
   "metadata": {
    "id": "c8f9352b"
   },
   "source": [
    "\n",
    "<http://example.com/>\n",
    "\n",
    "<address@example.com>"
   ]
  },
  {
   "cell_type": "markdown",
   "id": "9c503991",
   "metadata": {
    "id": "9c503991"
   },
   "source": [
    "## 2.7. 강조\n",
    "```\n",
    "*single asterisks*\n",
    "_single underscores_\n",
    "**double asterisks**\n",
    "__double underscores__\n",
    "~~cancelline~~\n",
    "```"
   ]
  },
  {
   "cell_type": "markdown",
   "id": "82c3617c-4e63-4f96-ac79-1d6ef8444577",
   "metadata": {
    "id": "fa362d24"
   },
   "source": [
    "*single asterisks*   \n",
    "_single underscores_   \n",
    "**double asterisks**   \n",
    "__double underscores__   \n",
    "~~cancelline~~"
   ]
  },
  {
   "cell_type": "markdown",
   "id": "10623985",
   "metadata": {
    "id": "10623985"
   },
   "source": [
    "> ```문장 중간에 사용할 경우에는 **띄어쓰기** 를 사용하는 것이 좋다.```   \n",
    "> 문장 중간에 사용할 경우에는 띄어쓰기를 사용하는 것이 좋다."
   ]
  },
  {
   "cell_type": "markdown",
   "id": "fe2f3ea9-543e-4ef7-8b3e-b8db9c746c72",
   "metadata": {
    "id": "aeb219d6"
   },
   "source": [
    "> 문장 중간에 사용할 경우에는 **띄어쓰기** 를 사용하는 것이 좋다.  \n",
    "> 문장 중간에 사용할 경우에는 띄어쓰기를 사용하는 것이 좋다."
   ]
  },
  {
   "cell_type": "markdown",
   "id": "87ff90be",
   "metadata": {
    "id": "87ff90be"
   },
   "source": [
    "## 이미지\n",
    "```\n",
    "# 마크다운 안에 삽입\n",
    "![Alt text](/path/to/img.jpg)\n",
    "![Alt text](/path/to/img.jpg \"Optional title\")\n",
    "# 코드블럭에 삽입\n",
    "![image.png](attachment:image.png)\n",
    "```\n",
    "\n",
    "![석촌호수 러버덕](http://cfile6.uf.tistory.com/image/2426E646543C9B4532C7B0)\n",
    "![석촌호수 러버덕](http://cfile6.uf.tistory.com/image/2426E646543C9B4532C7B0 \"RubberDuck\")"
   ]
  },
  {
   "cell_type": "markdown",
   "id": "1b89ce36-8db0-435f-bd60-498d76567786",
   "metadata": {
    "id": "40b580d9"
   },
   "source": [
    "\n",
    "[Alt text](/path/to/img.jpg)"
   ]
  },
  {
   "cell_type": "markdown",
   "id": "21bb110d-b9eb-4d54-bf0a-9c221a720569",
   "metadata": {},
   "source": [
    "![hamster](data:image/jpeg;base64,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)"
   ]
  },
  {
   "cell_type": "markdown",
   "id": "f9d46842",
   "metadata": {
    "id": "f9d46842"
   },
   "source": [
    "사이즈 조절 기능은 없기 때문에 ```<img width=\"\" height=\"\"></img>```를 이용한다.\n",
    "\n",
    "예\n",
    "```\n",
    "<img src=\"/path/to/img.jpg\" width=\"450px\" height=\"300px\" title=\"px(픽셀) 크기 설정\" alt=\"RubberDuck\"></img><br/>\n",
    "<img src=\"/path/to/img.jpg\" width=\"40%\" height=\"30%\" title=\"px(픽셀) 크기 설정\" alt=\"RubberDuck\"></img>\n",
    "```\n",
    "\n",
    "<img src=\"http://cfile6.uf.tistory.com/image/2426E646543C9B4532C7B0\" width=\"450px\" height=\"300px\" title=\"px(픽셀) 크기 설정\" alt=\"RubberDuck\"></img><br/>\n",
    "<img src=\"http://cfile6.uf.tistory.com/image/2426E646543C9B4532C7B0\" width=\"40%\" height=\"30%\" title=\"%(비율) 크기 설정\" alt=\"RubberDuck\"></img>"
   ]
  },
  {
   "cell_type": "markdown",
   "id": "1a929d99",
   "metadata": {
    "id": "1a929d99"
   },
   "source": [
    "## 줄바꿈\n",
    "```\n",
    "* 줄 바꿈을 하기 위해서는 문장 마지막에서 3칸이상을 띄어쓰기해야 한다.\n",
    "이렇게\n",
    "\n",
    "* 줄 바꿈을 하기 위해서는 문장 마지막에서 3칸이상을 띄어쓰기해야 한다.___\\\\ 띄어쓰기\n",
    "이렇게\n",
    "```"
   ]
  },
  {
   "cell_type": "code",
   "execution_count": null,
   "id": "a6054667",
   "metadata": {
    "id": "a6054667"
   },
   "outputs": [],
   "source": []
  },
  {
   "cell_type": "markdown",
   "id": "dd6d2afd",
   "metadata": {
    "id": "dd6d2afd"
   },
   "source": [
    "## 테이블"
   ]
  },
  {
   "cell_type": "markdown",
   "id": "016a44ca",
   "metadata": {
    "id": "016a44ca"
   },
   "source": [
    "### 일반적인 표\n",
    "\n",
    "문자와 — 문자로 표를 만들 수 있습니다.\n",
    "```\n",
    "|제목|내용|설명|\n",
    "|------|---|---|\n",
    "|테스트1|테스트2|테스트3|\n",
    "|테스트1|테스트2|테스트3|\n",
    "|테스트1|테스트2|테스트3|\n",
    "```"
   ]
  },
  {
   "cell_type": "markdown",
   "id": "8f05fd7c-5e07-4a11-8102-dc6a4d06b40d",
   "metadata": {
    "executionInfo": {
     "elapsed": 3,
     "status": "ok",
     "timestamp": 1700617950330,
     "user": {
      "displayName": "Seunghye Kim",
      "userId": "03123368174336215832"
     },
     "user_tz": -540
    },
    "id": "a3467ca3"
   },
   "source": [
    "|제목|내용|설명|\n",
    "|------|---|---|\n",
    "|테스트1|테스트2|테스트3|\n",
    "|테스트1|테스트2|테스트3|\n",
    "|테스트1|테스트2|테스트3|"
   ]
  },
  {
   "cell_type": "markdown",
   "id": "08613f3a",
   "metadata": {
    "id": "08613f3a"
   },
   "source": [
    "### 정렬\n",
    ": 문자로 정렬을 정의할 수 있습니다.\n",
    "```\n",
    "|제목|내용|설명|\n",
    "|:---|---:|:---:|\n",
    "|왼쪽정렬|오른쪽정렬|중앙정렬|\n",
    "|왼쪽정렬|오른쪽정렬|중앙정렬|\n",
    "|왼쪽정렬|오른쪽정렬|중앙정렬|\n",
    "```"
   ]
  },
  {
   "cell_type": "markdown",
   "id": "fb9d50a8-1172-4913-bf96-0ed29db7350a",
   "metadata": {
    "id": "96585085"
   },
   "source": [
    "|제목|내용|설명|\n",
    "|:---|---:|:---:|\n",
    "|왼쪽정렬|오른쪽정렬|중앙정렬|\n",
    "|왼쪽정렬|오른쪽정렬|중앙정렬|\n",
    "|왼쪽정렬|오른쪽정렬|중앙정렬|"
   ]
  },
  {
   "cell_type": "markdown",
   "id": "2420807a",
   "metadata": {
    "id": "2420807a"
   },
   "source": [
    "### 셀 확장\n",
    "사이가 비어있으면 자동 확장됩니다.\n",
    "```\n",
    "|제목|내용|설명|\n",
    "|:---|:---:|---:|\n",
    "||중앙에서확장||\n",
    "|||오른쪽에서 확장|\n",
    "|왼쪽에서확장||\n",
    "```"
   ]
  },
  {
   "cell_type": "markdown",
   "id": "a36d1348-8e48-42aa-a3f7-6e297cf8d4a4",
   "metadata": {
    "id": "1e41e289"
   },
   "source": [
    "|제목|내용|설명|\n",
    "|:---|:---:|---:|\n",
    "||중앙에서확장||\n",
    "|||오른쪽에서 확장|\n",
    "|왼쪽에서확장||"
   ]
  },
  {
   "cell_type": "markdown",
   "id": "030c56ab",
   "metadata": {
    "id": "030c56ab"
   },
   "source": [
    "### 셀 강조\n",
    "일반적인 text와 마찬가지로 * 와 ** 를 통해 이탤릭/강조를 표시할 수 있습니다. span tag를 사용하면 컬러도 표시할 수 있습니다.\n",
    "```\n",
    "|제목|내용|설명|\n",
    "|---|---|---|\n",
    "|테스트1|*강조1*|테스트3|\n",
    "|테스트1|**강조2**|테스트3|\n",
    "|테스트1|<span style=\"color:red\">강조3</span>|테스트3|\n",
    "```"
   ]
  },
  {
   "cell_type": "markdown",
   "id": "af862af3-4611-4c93-8c5b-14403065e774",
   "metadata": {
    "id": "623c0509"
   },
   "source": [
    "|제목|내용|설명|\n",
    "|---|---|---|\n",
    "|테스트1|*강조1*|테스트3|\n",
    "|테스트1|**강조2**|테스트3|\n",
    "|테스트1|<span style=\"color:red\">강조3</span>|테스트3|"
   ]
  },
  {
   "cell_type": "markdown",
   "id": "57d175b2",
   "metadata": {
    "id": "57d175b2"
   },
   "source": [
    "#  수학 기호 LaTex표기법\n",
    "사칙연산, 분수, 제곱, 루트, 시그마, 로그, 행렬, 극한 등 수학 기호 및 수식 등 을 표현할 수 있다.\n",
    "[블로그 참고](https://velog.io/@d2h10s/LaTex-Markdown-%EC%88%98%EC%8B%9D-%EC%9E%91%EC%84%B1%EB%B2%95)"
   ]
  },
  {
   "cell_type": "markdown",
   "id": "7a31d93b-db67-41a1-bbe2-2e789f5798af",
   "metadata": {
    "id": "5c7beefd"
   },
   "source": [
    "$x+y=1$\n",
    "$x$는 $y$와의 합이 $1$이다."
   ]
  },
  {
   "cell_type": "code",
   "execution_count": null,
   "id": "a8358a28-e36e-48f2-a98c-cc03de1f92d0",
   "metadata": {},
   "outputs": [],
   "source": []
  }
 ],
 "metadata": {
  "colab": {
   "provenance": []
  },
  "kernelspec": {
   "display_name": "Python 3 (ipykernel)",
   "language": "python",
   "name": "python3"
  },
  "language_info": {
   "codemirror_mode": {
    "name": "ipython",
    "version": 3
   },
   "file_extension": ".py",
   "mimetype": "text/x-python",
   "name": "python",
   "nbconvert_exporter": "python",
   "pygments_lexer": "ipython3",
   "version": "3.11.7"
  },
  "toc": {
   "base_numbering": 1,
   "nav_menu": {},
   "number_sections": true,
   "sideBar": true,
   "skip_h1_title": false,
   "title_cell": "Table of Contents",
   "title_sidebar": "Contents",
   "toc_cell": false,
   "toc_position": {
    "height": "calc(100% - 180px)",
    "left": "10px",
    "top": "150px",
    "width": "307.2px"
   },
   "toc_section_display": true,
   "toc_window_display": false
  },
  "varInspector": {
   "cols": {
    "lenName": 16,
    "lenType": 16,
    "lenVar": 40
   },
   "kernels_config": {
    "python": {
     "delete_cmd_postfix": "",
     "delete_cmd_prefix": "del ",
     "library": "var_list.py",
     "varRefreshCmd": "print(var_dic_list())"
    },
    "r": {
     "delete_cmd_postfix": ") ",
     "delete_cmd_prefix": "rm(",
     "library": "var_list.r",
     "varRefreshCmd": "cat(var_dic_list()) "
    }
   },
   "types_to_exclude": [
    "module",
    "function",
    "builtin_function_or_method",
    "instance",
    "_Feature"
   ],
   "window_display": false
  }
 },
 "nbformat": 4,
 "nbformat_minor": 5
}
